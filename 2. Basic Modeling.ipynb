{
 "cells": [
  {
   "cell_type": "markdown",
   "id": "b25e3fcd-7868-4eb1-8e0b-65d08121122b",
   "metadata": {},
   "source": [
    "# Basic Modeling"
   ]
  },
  {
   "cell_type": "markdown",
   "id": "6bc884ce-5dad-4c79-a2e4-8d0aebc74b6b",
   "metadata": {},
   "source": [
    "# Table of Contents\n",
    "## [Notebook Introduction](#note)\n",
    "## [Data Preprocessing](#data)\n",
    "### [Train/Test Split](#train)\n",
    "### [Vectorization](#vector)\n",
    "## [Logistic Regression](#lr)\n",
    "## [Support Vector Machines](#svm)\n",
    "## [XGBoost](#xgb)\n",
    "## [Next Steps](#next)"
   ]
  },
  {
   "cell_type": "markdown",
   "id": "35de8cdb-c79a-4ff1-a8e6-836fc5da10ee",
   "metadata": {},
   "source": [
    "<a id=\"note\"></a>\n",
    "## Notebook Introduction"
   ]
  },
  {
   "cell_type": "markdown",
   "id": "274c63a7",
   "metadata": {},
   "source": [
    "The purpose of this notebook is the first iteration of classification and modeling. The basic models will be logistic regression, SVM, and XGBoost. Another model will be with Neural Networks using BERT model and fine tuning for this dataset but will be in another notebook by itself."
   ]
  },
  {
   "cell_type": "markdown",
   "id": "6c692937-9190-403a-a5ef-ba8276cbabd3",
   "metadata": {},
   "source": [
    "<a id=\"data\"></a>\n",
    "## Data Preprocessing"
   ]
  },
  {
   "cell_type": "code",
   "execution_count": 2,
   "id": "813e4ce3",
   "metadata": {},
   "outputs": [],
   "source": [
    "import pandas as pd\n",
    "import numpy as np\n",
    "import matplotlib.pyplot as plt\n",
    "import pickle\n",
    "import os\n",
    "from sklearn.model_selection import train_test_split\n",
    "from sklearn.feature_extraction.text import CountVectorizer\n",
    "from nltk.stem import PorterStemmer\n",
    "from nltk.tokenize import word_tokenize\n",
    "import seaborn as sns\n",
    "from sklearn.model_selection import cross_val_score\n",
    "from sklearn.metrics import confusion_matrix, ConfusionMatrixDisplay\n",
    "from sklearn.preprocessing import StandardScaler, MinMaxScaler, MaxAbsScaler\n",
    "from sklearn.linear_model import LogisticRegression\n",
    "from sklearn.metrics import classification_report\n",
    "from sklearn.model_selection import GridSearchCV\n",
    "from sklearn import svm\n",
    "from sklearn.pipeline import Pipeline\n",
    "from xgboost import XGBClassifier\n",
    "import scipy.sparse as sp\n",
    "from sklearn.decomposition import PCA, KernelPCA\n",
    "from nltk.tokenize import word_tokenize\n",
    "import numpy as np\n"
   ]
  },
  {
   "cell_type": "code",
   "execution_count": 3,
   "id": "cc9f3c89",
   "metadata": {},
   "outputs": [
    {
     "data": {
      "text/html": [
       "<div>\n",
       "<style scoped>\n",
       "    .dataframe tbody tr th:only-of-type {\n",
       "        vertical-align: middle;\n",
       "    }\n",
       "\n",
       "    .dataframe tbody tr th {\n",
       "        vertical-align: top;\n",
       "    }\n",
       "\n",
       "    .dataframe thead th {\n",
       "        text-align: right;\n",
       "    }\n",
       "</style>\n",
       "<table border=\"1\" class=\"dataframe\">\n",
       "  <thead>\n",
       "    <tr style=\"text-align: right;\">\n",
       "      <th></th>\n",
       "      <th>product_title</th>\n",
       "      <th>star_rating</th>\n",
       "      <th>helpful_votes</th>\n",
       "      <th>total_votes</th>\n",
       "      <th>verified_purchase</th>\n",
       "      <th>review_headline</th>\n",
       "      <th>review_body</th>\n",
       "      <th>year</th>\n",
       "      <th>month</th>\n",
       "    </tr>\n",
       "  </thead>\n",
       "  <tbody>\n",
       "    <tr>\n",
       "      <th>0</th>\n",
       "      <td>Minnetonka Men's Double Deerskin Softsole Mocc...</td>\n",
       "      <td>1</td>\n",
       "      <td>0</td>\n",
       "      <td>0</td>\n",
       "      <td>1</td>\n",
       "      <td></td>\n",
       "      <td>do not buy  really didn t start to wear them u...</td>\n",
       "      <td>2015.0</td>\n",
       "      <td>8.0</td>\n",
       "    </tr>\n",
       "    <tr>\n",
       "      <th>1</th>\n",
       "      <td>Teva Men's Pajaro Flip-Flop</td>\n",
       "      <td>5</td>\n",
       "      <td>0</td>\n",
       "      <td>0</td>\n",
       "      <td>1</td>\n",
       "      <td>super flip flop</td>\n",
       "      <td>provides great cushion as well as archsupport</td>\n",
       "      <td>2015.0</td>\n",
       "      <td>8.0</td>\n",
       "    </tr>\n",
       "    <tr>\n",
       "      <th>3</th>\n",
       "      <td>adidas Men's 10K Lifestyle Runner Sneaker</td>\n",
       "      <td>5</td>\n",
       "      <td>0</td>\n",
       "      <td>6</td>\n",
       "      <td>1</td>\n",
       "      <td>badass</td>\n",
       "      <td>getting what u see</td>\n",
       "      <td>2015.0</td>\n",
       "      <td>8.0</td>\n",
       "    </tr>\n",
       "    <tr>\n",
       "      <th>4</th>\n",
       "      <td>OverBling Sneakers for Men Casual Men Shoes Ge...</td>\n",
       "      <td>3</td>\n",
       "      <td>0</td>\n",
       "      <td>0</td>\n",
       "      <td>1</td>\n",
       "      <td>three stars</td>\n",
       "      <td>small</td>\n",
       "      <td>2015.0</td>\n",
       "      <td>8.0</td>\n",
       "    </tr>\n",
       "    <tr>\n",
       "      <th>5</th>\n",
       "      <td>MESSI 15.3 FG/AG SOCCER SHOES (8.5)</td>\n",
       "      <td>5</td>\n",
       "      <td>1</td>\n",
       "      <td>1</td>\n",
       "      <td>1</td>\n",
       "      <td>five stars</td>\n",
       "      <td>my 13 year old son loved these shoes excellent...</td>\n",
       "      <td>2015.0</td>\n",
       "      <td>8.0</td>\n",
       "    </tr>\n",
       "    <tr>\n",
       "      <th>...</th>\n",
       "      <td>...</td>\n",
       "      <td>...</td>\n",
       "      <td>...</td>\n",
       "      <td>...</td>\n",
       "      <td>...</td>\n",
       "      <td>...</td>\n",
       "      <td>...</td>\n",
       "      <td>...</td>\n",
       "      <td>...</td>\n",
       "    </tr>\n",
       "    <tr>\n",
       "      <th>4358810</th>\n",
       "      <td>Women's Evette Mid-Shaft Boots</td>\n",
       "      <td>1</td>\n",
       "      <td>0</td>\n",
       "      <td>0</td>\n",
       "      <td>0</td>\n",
       "      <td>what a waste</td>\n",
       "      <td>i purchased this shoe because it looked good  ...</td>\n",
       "      <td>2002.0</td>\n",
       "      <td>10.0</td>\n",
       "    </tr>\n",
       "    <tr>\n",
       "      <th>4358811</th>\n",
       "      <td>Women's Bree Suede Moc Snow Joggers</td>\n",
       "      <td>5</td>\n",
       "      <td>1</td>\n",
       "      <td>1</td>\n",
       "      <td>0</td>\n",
       "      <td>you want it   you need it</td>\n",
       "      <td>this little shoe boot is so great if you re th...</td>\n",
       "      <td>2002.0</td>\n",
       "      <td>10.0</td>\n",
       "    </tr>\n",
       "    <tr>\n",
       "      <th>4358812</th>\n",
       "      <td>Women's CanvasMule Shoes</td>\n",
       "      <td>5</td>\n",
       "      <td>0</td>\n",
       "      <td>0</td>\n",
       "      <td>0</td>\n",
       "      <td>cute</td>\n",
       "      <td>the backless mule is very comfortable   cute  ...</td>\n",
       "      <td>2002.0</td>\n",
       "      <td>9.0</td>\n",
       "    </tr>\n",
       "    <tr>\n",
       "      <th>4358813</th>\n",
       "      <td>Birki's Super Birki Unisex Clog</td>\n",
       "      <td>5</td>\n",
       "      <td>10</td>\n",
       "      <td>11</td>\n",
       "      <td>0</td>\n",
       "      <td>graceless and immense   comfy and cool</td>\n",
       "      <td>my garden clogs make my feet look huge  and ev...</td>\n",
       "      <td>2002.0</td>\n",
       "      <td>3.0</td>\n",
       "    </tr>\n",
       "    <tr>\n",
       "      <th>4358815</th>\n",
       "      <td>Fox Men's Featherlite Shoe Lace-Up</td>\n",
       "      <td>4</td>\n",
       "      <td>1</td>\n",
       "      <td>6</td>\n",
       "      <td>0</td>\n",
       "      <td>get it all</td>\n",
       "      <td>if you are a fan of  quot extreme sports quot ...</td>\n",
       "      <td>2000.0</td>\n",
       "      <td>4.0</td>\n",
       "    </tr>\n",
       "  </tbody>\n",
       "</table>\n",
       "<p>3844537 rows × 9 columns</p>\n",
       "</div>"
      ],
      "text/plain": [
       "                                             product_title  star_rating  \\\n",
       "0        Minnetonka Men's Double Deerskin Softsole Mocc...            1   \n",
       "1                              Teva Men's Pajaro Flip-Flop            5   \n",
       "3                adidas Men's 10K Lifestyle Runner Sneaker            5   \n",
       "4        OverBling Sneakers for Men Casual Men Shoes Ge...            3   \n",
       "5                      MESSI 15.3 FG/AG SOCCER SHOES (8.5)            5   \n",
       "...                                                    ...          ...   \n",
       "4358810                     Women's Evette Mid-Shaft Boots            1   \n",
       "4358811                Women's Bree Suede Moc Snow Joggers            5   \n",
       "4358812                           Women's CanvasMule Shoes            5   \n",
       "4358813                    Birki's Super Birki Unisex Clog            5   \n",
       "4358815                 Fox Men's Featherlite Shoe Lace-Up            4   \n",
       "\n",
       "         helpful_votes  total_votes  verified_purchase  \\\n",
       "0                    0            0                  1   \n",
       "1                    0            0                  1   \n",
       "3                    0            6                  1   \n",
       "4                    0            0                  1   \n",
       "5                    1            1                  1   \n",
       "...                ...          ...                ...   \n",
       "4358810              0            0                  0   \n",
       "4358811              1            1                  0   \n",
       "4358812              0            0                  0   \n",
       "4358813             10           11                  0   \n",
       "4358815              1            6                  0   \n",
       "\n",
       "                                review_headline  \\\n",
       "0                                                 \n",
       "1                               super flip flop   \n",
       "3                                        badass   \n",
       "4                                   three stars   \n",
       "5                                    five stars   \n",
       "...                                         ...   \n",
       "4358810                            what a waste   \n",
       "4358811              you want it   you need it    \n",
       "4358812                                    cute   \n",
       "4358813  graceless and immense   comfy and cool   \n",
       "4358815                              get it all   \n",
       "\n",
       "                                               review_body    year  month  \n",
       "0        do not buy  really didn t start to wear them u...  2015.0    8.0  \n",
       "1            provides great cushion as well as archsupport  2015.0    8.0  \n",
       "3                                       getting what u see  2015.0    8.0  \n",
       "4                                                    small  2015.0    8.0  \n",
       "5        my 13 year old son loved these shoes excellent...  2015.0    8.0  \n",
       "...                                                    ...     ...    ...  \n",
       "4358810  i purchased this shoe because it looked good  ...  2002.0   10.0  \n",
       "4358811  this little shoe boot is so great if you re th...  2002.0   10.0  \n",
       "4358812  the backless mule is very comfortable   cute  ...  2002.0    9.0  \n",
       "4358813  my garden clogs make my feet look huge  and ev...  2002.0    3.0  \n",
       "4358815  if you are a fan of  quot extreme sports quot ...  2000.0    4.0  \n",
       "\n",
       "[3844537 rows x 9 columns]"
      ]
     },
     "execution_count": 3,
     "metadata": {},
     "output_type": "execute_result"
    }
   ],
   "source": [
    "with open('df.pkl', 'rb') as f:\n",
    "    df = pickle.load(f)\n",
    "df"
   ]
  },
  {
   "cell_type": "code",
   "execution_count": 4,
   "id": "edfaa1c6",
   "metadata": {
    "scrolled": true
   },
   "outputs": [
    {
     "data": {
      "text/html": [
       "<div>\n",
       "<style scoped>\n",
       "    .dataframe tbody tr th:only-of-type {\n",
       "        vertical-align: middle;\n",
       "    }\n",
       "\n",
       "    .dataframe tbody tr th {\n",
       "        vertical-align: top;\n",
       "    }\n",
       "\n",
       "    .dataframe thead th {\n",
       "        text-align: right;\n",
       "    }\n",
       "</style>\n",
       "<table border=\"1\" class=\"dataframe\">\n",
       "  <thead>\n",
       "    <tr style=\"text-align: right;\">\n",
       "      <th></th>\n",
       "      <th>product_title</th>\n",
       "      <th>star_rating</th>\n",
       "      <th>helpful_votes</th>\n",
       "      <th>total_votes</th>\n",
       "      <th>verified_purchase</th>\n",
       "      <th>review_headline</th>\n",
       "      <th>review_body</th>\n",
       "      <th>year</th>\n",
       "      <th>month</th>\n",
       "    </tr>\n",
       "  </thead>\n",
       "  <tbody>\n",
       "    <tr>\n",
       "      <th>0</th>\n",
       "      <td>Minnetonka Men's Double Deerskin Softsole Mocc...</td>\n",
       "      <td>0</td>\n",
       "      <td>0</td>\n",
       "      <td>0</td>\n",
       "      <td>1</td>\n",
       "      <td></td>\n",
       "      <td>do not buy  really didn t start to wear them u...</td>\n",
       "      <td>2015.0</td>\n",
       "      <td>8.0</td>\n",
       "    </tr>\n",
       "    <tr>\n",
       "      <th>1</th>\n",
       "      <td>Teva Men's Pajaro Flip-Flop</td>\n",
       "      <td>1</td>\n",
       "      <td>0</td>\n",
       "      <td>0</td>\n",
       "      <td>1</td>\n",
       "      <td>super flip flop</td>\n",
       "      <td>provides great cushion as well as archsupport</td>\n",
       "      <td>2015.0</td>\n",
       "      <td>8.0</td>\n",
       "    </tr>\n",
       "    <tr>\n",
       "      <th>3</th>\n",
       "      <td>adidas Men's 10K Lifestyle Runner Sneaker</td>\n",
       "      <td>1</td>\n",
       "      <td>0</td>\n",
       "      <td>6</td>\n",
       "      <td>1</td>\n",
       "      <td>badass</td>\n",
       "      <td>getting what u see</td>\n",
       "      <td>2015.0</td>\n",
       "      <td>8.0</td>\n",
       "    </tr>\n",
       "    <tr>\n",
       "      <th>4</th>\n",
       "      <td>OverBling Sneakers for Men Casual Men Shoes Ge...</td>\n",
       "      <td>0</td>\n",
       "      <td>0</td>\n",
       "      <td>0</td>\n",
       "      <td>1</td>\n",
       "      <td>three stars</td>\n",
       "      <td>small</td>\n",
       "      <td>2015.0</td>\n",
       "      <td>8.0</td>\n",
       "    </tr>\n",
       "    <tr>\n",
       "      <th>5</th>\n",
       "      <td>MESSI 15.3 FG/AG SOCCER SHOES (8.5)</td>\n",
       "      <td>1</td>\n",
       "      <td>1</td>\n",
       "      <td>1</td>\n",
       "      <td>1</td>\n",
       "      <td>five stars</td>\n",
       "      <td>my 13 year old son loved these shoes excellent...</td>\n",
       "      <td>2015.0</td>\n",
       "      <td>8.0</td>\n",
       "    </tr>\n",
       "    <tr>\n",
       "      <th>...</th>\n",
       "      <td>...</td>\n",
       "      <td>...</td>\n",
       "      <td>...</td>\n",
       "      <td>...</td>\n",
       "      <td>...</td>\n",
       "      <td>...</td>\n",
       "      <td>...</td>\n",
       "      <td>...</td>\n",
       "      <td>...</td>\n",
       "    </tr>\n",
       "    <tr>\n",
       "      <th>4358810</th>\n",
       "      <td>Women's Evette Mid-Shaft Boots</td>\n",
       "      <td>0</td>\n",
       "      <td>0</td>\n",
       "      <td>0</td>\n",
       "      <td>0</td>\n",
       "      <td>what a waste</td>\n",
       "      <td>i purchased this shoe because it looked good  ...</td>\n",
       "      <td>2002.0</td>\n",
       "      <td>10.0</td>\n",
       "    </tr>\n",
       "    <tr>\n",
       "      <th>4358811</th>\n",
       "      <td>Women's Bree Suede Moc Snow Joggers</td>\n",
       "      <td>1</td>\n",
       "      <td>1</td>\n",
       "      <td>1</td>\n",
       "      <td>0</td>\n",
       "      <td>you want it   you need it</td>\n",
       "      <td>this little shoe boot is so great if you re th...</td>\n",
       "      <td>2002.0</td>\n",
       "      <td>10.0</td>\n",
       "    </tr>\n",
       "    <tr>\n",
       "      <th>4358812</th>\n",
       "      <td>Women's CanvasMule Shoes</td>\n",
       "      <td>1</td>\n",
       "      <td>0</td>\n",
       "      <td>0</td>\n",
       "      <td>0</td>\n",
       "      <td>cute</td>\n",
       "      <td>the backless mule is very comfortable   cute  ...</td>\n",
       "      <td>2002.0</td>\n",
       "      <td>9.0</td>\n",
       "    </tr>\n",
       "    <tr>\n",
       "      <th>4358813</th>\n",
       "      <td>Birki's Super Birki Unisex Clog</td>\n",
       "      <td>1</td>\n",
       "      <td>10</td>\n",
       "      <td>11</td>\n",
       "      <td>0</td>\n",
       "      <td>graceless and immense   comfy and cool</td>\n",
       "      <td>my garden clogs make my feet look huge  and ev...</td>\n",
       "      <td>2002.0</td>\n",
       "      <td>3.0</td>\n",
       "    </tr>\n",
       "    <tr>\n",
       "      <th>4358815</th>\n",
       "      <td>Fox Men's Featherlite Shoe Lace-Up</td>\n",
       "      <td>0</td>\n",
       "      <td>1</td>\n",
       "      <td>6</td>\n",
       "      <td>0</td>\n",
       "      <td>get it all</td>\n",
       "      <td>if you are a fan of  quot extreme sports quot ...</td>\n",
       "      <td>2000.0</td>\n",
       "      <td>4.0</td>\n",
       "    </tr>\n",
       "  </tbody>\n",
       "</table>\n",
       "<p>3844537 rows × 9 columns</p>\n",
       "</div>"
      ],
      "text/plain": [
       "                                             product_title  star_rating  \\\n",
       "0        Minnetonka Men's Double Deerskin Softsole Mocc...            0   \n",
       "1                              Teva Men's Pajaro Flip-Flop            1   \n",
       "3                adidas Men's 10K Lifestyle Runner Sneaker            1   \n",
       "4        OverBling Sneakers for Men Casual Men Shoes Ge...            0   \n",
       "5                      MESSI 15.3 FG/AG SOCCER SHOES (8.5)            1   \n",
       "...                                                    ...          ...   \n",
       "4358810                     Women's Evette Mid-Shaft Boots            0   \n",
       "4358811                Women's Bree Suede Moc Snow Joggers            1   \n",
       "4358812                           Women's CanvasMule Shoes            1   \n",
       "4358813                    Birki's Super Birki Unisex Clog            1   \n",
       "4358815                 Fox Men's Featherlite Shoe Lace-Up            0   \n",
       "\n",
       "         helpful_votes  total_votes  verified_purchase  \\\n",
       "0                    0            0                  1   \n",
       "1                    0            0                  1   \n",
       "3                    0            6                  1   \n",
       "4                    0            0                  1   \n",
       "5                    1            1                  1   \n",
       "...                ...          ...                ...   \n",
       "4358810              0            0                  0   \n",
       "4358811              1            1                  0   \n",
       "4358812              0            0                  0   \n",
       "4358813             10           11                  0   \n",
       "4358815              1            6                  0   \n",
       "\n",
       "                                review_headline  \\\n",
       "0                                                 \n",
       "1                               super flip flop   \n",
       "3                                        badass   \n",
       "4                                   three stars   \n",
       "5                                    five stars   \n",
       "...                                         ...   \n",
       "4358810                            what a waste   \n",
       "4358811              you want it   you need it    \n",
       "4358812                                    cute   \n",
       "4358813  graceless and immense   comfy and cool   \n",
       "4358815                              get it all   \n",
       "\n",
       "                                               review_body    year  month  \n",
       "0        do not buy  really didn t start to wear them u...  2015.0    8.0  \n",
       "1            provides great cushion as well as archsupport  2015.0    8.0  \n",
       "3                                       getting what u see  2015.0    8.0  \n",
       "4                                                    small  2015.0    8.0  \n",
       "5        my 13 year old son loved these shoes excellent...  2015.0    8.0  \n",
       "...                                                    ...     ...    ...  \n",
       "4358810  i purchased this shoe because it looked good  ...  2002.0   10.0  \n",
       "4358811  this little shoe boot is so great if you re th...  2002.0   10.0  \n",
       "4358812  the backless mule is very comfortable   cute  ...  2002.0    9.0  \n",
       "4358813  my garden clogs make my feet look huge  and ev...  2002.0    3.0  \n",
       "4358815  if you are a fan of  quot extreme sports quot ...  2000.0    4.0  \n",
       "\n",
       "[3844537 rows x 9 columns]"
      ]
     },
     "execution_count": 4,
     "metadata": {},
     "output_type": "execute_result"
    }
   ],
   "source": [
    "with open('2ClassDf.pkl', 'rb') as f:\n",
    "    df2 = pickle.load(f)\n",
    "df2"
   ]
  },
  {
   "cell_type": "markdown",
   "id": "72cc4162",
   "metadata": {},
   "source": [
    "The first model that is to be performed is a logistic regression so multicollinearity should be checked."
   ]
  },
  {
   "cell_type": "code",
   "execution_count": 5,
   "id": "5524984a",
   "metadata": {},
   "outputs": [
    {
     "name": "stderr",
     "output_type": "stream",
     "text": [
      "/var/tmp/ipykernel_741099/1259888513.py:3: FutureWarning: The default value of numeric_only in DataFrame.corr is deprecated. In a future version, it will default to False. Select only valid columns or specify the value of numeric_only to silence this warning.\n",
      "  matrix = np.triu(df2.corr())\n",
      "/var/tmp/ipykernel_741099/1259888513.py:4: FutureWarning: The default value of numeric_only in DataFrame.corr is deprecated. In a future version, it will default to False. Select only valid columns or specify the value of numeric_only to silence this warning.\n",
      "  sns.heatmap(df2.corr(), annot=True, mask=matrix, cmap='coolwarm')\n"
     ]
    },
    {
     "data": {
      "image/png": "[encoded data removed]",
      "text/plain": [
       "<Figure size 2000x1000 with 2 Axes>"
      ]
     },
     "metadata": {},
     "output_type": "display_data"
    }
   ],
   "source": [
    "# Correlation of the variables in a heatmap\n",
    "plt.figure(figsize=(20, 10))\n",
    "matrix = np.triu(df2.corr())\n",
    "sns.heatmap(df2.corr(), annot=True, mask=matrix, cmap='coolwarm')\n",
    "plt.show()"
   ]
  },
  {
   "cell_type": "markdown",
   "id": "f0fd464c",
   "metadata": {},
   "source": [
    "`total_votes` and `helpful_votes` are highly correlated with each other so one of them will need to be dropped. In this case, it will be `total_votes` since helpful_votes seem more useful as it carries more sentiment than total_votes."
   ]
  },
  {
   "cell_type": "code",
   "execution_count": 6,
   "id": "8eeb933e",
   "metadata": {},
   "outputs": [
    {
     "data": {
      "text/html": [
       "<div>\n",
       "<style scoped>\n",
       "    .dataframe tbody tr th:only-of-type {\n",
       "        vertical-align: middle;\n",
       "    }\n",
       "\n",
       "    .dataframe tbody tr th {\n",
       "        vertical-align: top;\n",
       "    }\n",
       "\n",
       "    .dataframe thead th {\n",
       "        text-align: right;\n",
       "    }\n",
       "</style>\n",
       "<table border=\"1\" class=\"dataframe\">\n",
       "  <thead>\n",
       "    <tr style=\"text-align: right;\">\n",
       "      <th></th>\n",
       "      <th>product_title</th>\n",
       "      <th>star_rating</th>\n",
       "      <th>helpful_votes</th>\n",
       "      <th>total_votes</th>\n",
       "      <th>verified_purchase</th>\n",
       "      <th>review_headline</th>\n",
       "      <th>review_body</th>\n",
       "      <th>year</th>\n",
       "      <th>month</th>\n",
       "    </tr>\n",
       "  </thead>\n",
       "  <tbody>\n",
       "    <tr>\n",
       "      <th>0</th>\n",
       "      <td>Capezio Women's DS11 Fierce Dansneaker</td>\n",
       "      <td>1</td>\n",
       "      <td>0</td>\n",
       "      <td>0</td>\n",
       "      <td>1</td>\n",
       "      <td>size 14 fits as men s 11 5   perfect for stick...</td>\n",
       "      <td>these shoes are awesome  more on the slippery ...</td>\n",
       "      <td>2014.0</td>\n",
       "      <td>5.0</td>\n",
       "    </tr>\n",
       "    <tr>\n",
       "      <th>1</th>\n",
       "      <td>DVS Men's Convict Jordy Skate Shoe</td>\n",
       "      <td>1</td>\n",
       "      <td>0</td>\n",
       "      <td>0</td>\n",
       "      <td>1</td>\n",
       "      <td>true to size</td>\n",
       "      <td>it s a nice shoe     the colors go well with a...</td>\n",
       "      <td>2014.0</td>\n",
       "      <td>1.0</td>\n",
       "    </tr>\n",
       "    <tr>\n",
       "      <th>2</th>\n",
       "      <td>Matte Shine Eyeglasses Case for Medium to Larg...</td>\n",
       "      <td>0</td>\n",
       "      <td>0</td>\n",
       "      <td>0</td>\n",
       "      <td>1</td>\n",
       "      <td>small</td>\n",
       "      <td>this product is really small  i did not expect...</td>\n",
       "      <td>2013.0</td>\n",
       "      <td>4.0</td>\n",
       "    </tr>\n",
       "    <tr>\n",
       "      <th>3</th>\n",
       "      <td>Jambu Women's Blossom Mary Jane Flat</td>\n",
       "      <td>0</td>\n",
       "      <td>0</td>\n",
       "      <td>0</td>\n",
       "      <td>1</td>\n",
       "      <td>i would usually put orthotics in shoes like th...</td>\n",
       "      <td>these are cute shoes but they gave me blisters...</td>\n",
       "      <td>2015.0</td>\n",
       "      <td>2.0</td>\n",
       "    </tr>\n",
       "    <tr>\n",
       "      <th>4</th>\n",
       "      <td>Enzo Angiolini Women's Vanhi Wedge Sandal</td>\n",
       "      <td>1</td>\n",
       "      <td>1</td>\n",
       "      <td>1</td>\n",
       "      <td>1</td>\n",
       "      <td>cute and comfy</td>\n",
       "      <td>super cute and comfortable  i did put some add...</td>\n",
       "      <td>2015.0</td>\n",
       "      <td>5.0</td>\n",
       "    </tr>\n",
       "    <tr>\n",
       "      <th>...</th>\n",
       "      <td>...</td>\n",
       "      <td>...</td>\n",
       "      <td>...</td>\n",
       "      <td>...</td>\n",
       "      <td>...</td>\n",
       "      <td>...</td>\n",
       "      <td>...</td>\n",
       "      <td>...</td>\n",
       "      <td>...</td>\n",
       "    </tr>\n",
       "    <tr>\n",
       "      <th>49995</th>\n",
       "      <td>Madden Girl Women's Zerge Boot</td>\n",
       "      <td>1</td>\n",
       "      <td>0</td>\n",
       "      <td>0</td>\n",
       "      <td>1</td>\n",
       "      <td>love love love these boots</td>\n",
       "      <td>super comfortable   can wear them all day with...</td>\n",
       "      <td>2012.0</td>\n",
       "      <td>12.0</td>\n",
       "    </tr>\n",
       "    <tr>\n",
       "      <th>49996</th>\n",
       "      <td>BOBS from Skechers Women's Keepsakes Winter Wo...</td>\n",
       "      <td>1</td>\n",
       "      <td>0</td>\n",
       "      <td>0</td>\n",
       "      <td>1</td>\n",
       "      <td>five stars</td>\n",
       "      <td>very comfy</td>\n",
       "      <td>2015.0</td>\n",
       "      <td>7.0</td>\n",
       "    </tr>\n",
       "    <tr>\n",
       "      <th>49997</th>\n",
       "      <td>Nunn Bush Men's Cameron Oxford</td>\n",
       "      <td>0</td>\n",
       "      <td>1</td>\n",
       "      <td>1</td>\n",
       "      <td>0</td>\n",
       "      <td>heels wore out in 4 months</td>\n",
       "      <td>fit was excellent  uppers look nice and leathe...</td>\n",
       "      <td>2013.0</td>\n",
       "      <td>2.0</td>\n",
       "    </tr>\n",
       "    <tr>\n",
       "      <th>49998</th>\n",
       "      <td>Bed Stu Men's Innovator Boot</td>\n",
       "      <td>1</td>\n",
       "      <td>0</td>\n",
       "      <td>0</td>\n",
       "      <td>1</td>\n",
       "      <td>fantastic boots i love it</td>\n",
       "      <td>these boots are awesome looking and comfortabl...</td>\n",
       "      <td>2014.0</td>\n",
       "      <td>9.0</td>\n",
       "    </tr>\n",
       "    <tr>\n",
       "      <th>49999</th>\n",
       "      <td>Reef Men's Phantom Ultimate Sandal</td>\n",
       "      <td>1</td>\n",
       "      <td>0</td>\n",
       "      <td>0</td>\n",
       "      <td>1</td>\n",
       "      <td>five stars</td>\n",
       "      <td>very happy i chose these   stylish  comfy  fit...</td>\n",
       "      <td>2015.0</td>\n",
       "      <td>4.0</td>\n",
       "    </tr>\n",
       "  </tbody>\n",
       "</table>\n",
       "<p>50000 rows × 9 columns</p>\n",
       "</div>"
      ],
      "text/plain": [
       "                                           product_title  star_rating  \\\n",
       "0                 Capezio Women's DS11 Fierce Dansneaker            1   \n",
       "1                     DVS Men's Convict Jordy Skate Shoe            1   \n",
       "2      Matte Shine Eyeglasses Case for Medium to Larg...            0   \n",
       "3                   Jambu Women's Blossom Mary Jane Flat            0   \n",
       "4              Enzo Angiolini Women's Vanhi Wedge Sandal            1   \n",
       "...                                                  ...          ...   \n",
       "49995                     Madden Girl Women's Zerge Boot            1   \n",
       "49996  BOBS from Skechers Women's Keepsakes Winter Wo...            1   \n",
       "49997                     Nunn Bush Men's Cameron Oxford            0   \n",
       "49998                       Bed Stu Men's Innovator Boot            1   \n",
       "49999                 Reef Men's Phantom Ultimate Sandal            1   \n",
       "\n",
       "       helpful_votes  total_votes  verified_purchase  \\\n",
       "0                  0            0                  1   \n",
       "1                  0            0                  1   \n",
       "2                  0            0                  1   \n",
       "3                  0            0                  1   \n",
       "4                  1            1                  1   \n",
       "...              ...          ...                ...   \n",
       "49995              0            0                  1   \n",
       "49996              0            0                  1   \n",
       "49997              1            1                  0   \n",
       "49998              0            0                  1   \n",
       "49999              0            0                  1   \n",
       "\n",
       "                                         review_headline  \\\n",
       "0      size 14 fits as men s 11 5   perfect for stick...   \n",
       "1                                          true to size    \n",
       "2                                                  small   \n",
       "3      i would usually put orthotics in shoes like th...   \n",
       "4                                        cute and comfy    \n",
       "...                                                  ...   \n",
       "49995                        love love love these boots    \n",
       "49996                                         five stars   \n",
       "49997                         heels wore out in 4 months   \n",
       "49998                          fantastic boots i love it   \n",
       "49999                                         five stars   \n",
       "\n",
       "                                             review_body    year  month  \n",
       "0      these shoes are awesome  more on the slippery ...  2014.0    5.0  \n",
       "1      it s a nice shoe     the colors go well with a...  2014.0    1.0  \n",
       "2      this product is really small  i did not expect...  2013.0    4.0  \n",
       "3      these are cute shoes but they gave me blisters...  2015.0    2.0  \n",
       "4      super cute and comfortable  i did put some add...  2015.0    5.0  \n",
       "...                                                  ...     ...    ...  \n",
       "49995  super comfortable   can wear them all day with...  2012.0   12.0  \n",
       "49996                                        very comfy   2015.0    7.0  \n",
       "49997  fit was excellent  uppers look nice and leathe...  2013.0    2.0  \n",
       "49998  these boots are awesome looking and comfortabl...  2014.0    9.0  \n",
       "49999  very happy i chose these   stylish  comfy  fit...  2015.0    4.0  \n",
       "\n",
       "[50000 rows x 9 columns]"
      ]
     },
     "execution_count": 6,
     "metadata": {},
     "output_type": "execute_result"
    }
   ],
   "source": [
    "# We'll use a sample of the data first to test out if code works and then modify code to run on the full dataset\n",
    "sampled_df = df2.sample(50000, random_state=1).reset_index(drop=True)\n",
    "sampled_df"
   ]
  },
  {
   "cell_type": "code",
   "execution_count": 7,
   "id": "e0520c40",
   "metadata": {},
   "outputs": [],
   "source": [
    "sampled_df = sampled_df.drop(columns='total_votes')"
   ]
  },
  {
   "cell_type": "code",
   "execution_count": 8,
   "id": "7a9befc7",
   "metadata": {},
   "outputs": [
    {
     "data": {
      "image/png": "[encoded data removed]",
      "text/plain": [
       "<Figure size 1000x600 with 1 Axes>"
      ]
     },
     "metadata": {},
     "output_type": "display_data"
    }
   ],
   "source": [
    "# Sanity check that sampling didn't affect class distribution\n",
    "figure = plt.figure(figsize=(10,6))\n",
    "sampled_df['star_rating'].value_counts(normalize=True).plot(kind='bar')\n",
    "plt.xlabel('Review Scores')\n",
    "plt.ylabel('Frequency')\n",
    "plt.title('Counts of Review Scores')\n",
    "plt.show()"
   ]
  },
  {
   "cell_type": "markdown",
   "id": "bf8169f2",
   "metadata": {},
   "source": [
    "After sampling, the classes distribution are still the same. Thus, the first model can be performed which is logistic regression."
   ]
  },
  {
   "cell_type": "markdown",
   "id": "1695ac4e",
   "metadata": {
    "tags": []
   },
   "source": [
    "<a id=\"train\"></a>\n",
    "### Train/Test Split"
   ]
  },
  {
   "cell_type": "code",
   "execution_count": 9,
   "id": "0132640b",
   "metadata": {},
   "outputs": [],
   "source": [
    "# import the library needed to split\n",
    "from sklearn.model_selection import train_test_split\n",
    "\n",
    "# assigning Reviewer_Score as target variable and everything else as X \n",
    "X_sample = sampled_df.drop(columns=['star_rating'])\n",
    "y_sample = sampled_df['star_rating']\n",
    "\n",
    "# splitting the data \n",
    "X_remainder_sample, X_test_sample, y_remainder_sample, y_test_sample = train_test_split(X_sample, y_sample, test_size=0.2, random_state=1, stratify=y_sample)"
   ]
  },
  {
   "cell_type": "code",
   "execution_count": 10,
   "id": "d2c14bf2",
   "metadata": {},
   "outputs": [],
   "source": [
    "# Creating a validation set\n",
    "X_train_sample, X_valid_sample, y_train_sample, y_valid_sample = train_test_split(X_remainder_sample, y_remainder_sample, test_size=0.3, random_state=1, stratify=y_remainder_sample)"
   ]
  },
  {
   "cell_type": "markdown",
   "id": "236a0786",
   "metadata": {},
   "source": [
    "<a id=\"vector\"></a>\n",
    "### Vectorization"
   ]
  },
  {
   "cell_type": "markdown",
   "id": "a1887005",
   "metadata": {},
   "source": [
    "The `review_body` and `review_headline` need to be vectorized so there is only numeric columns before modeling can be done. For vectorizing, bag of words will be used with stop words and min_df as parameters to look for. Stemming will not be used as running stemming with the full dataset is not feasible for run time (a test run with stemming on a sample set only showed a <1% increase so the trade off between run-time and readability for a small increase in accuracy is not worth it)."
   ]
  },
  {
   "cell_type": "code",
   "execution_count": 11,
   "id": "d7aeb9c4",
   "metadata": {},
   "outputs": [],
   "source": [
    "# Creating variables to be vectorized for review_body\n",
    "X_train_review_sample = X_train_sample['review_body']\n",
    "X_valid_review_sample = X_valid_sample['review_body']\n",
    "X_test_review_sample = X_test_sample['review_body']\n",
    "\n",
    "# X_remainder will be needed for when cv is being done\n",
    "X_remainder_review_sample = X_remainder_sample['review_body']"
   ]
  },
  {
   "cell_type": "code",
   "execution_count": 12,
   "id": "c65ab6c7-05b1-4936-abb1-fd091e8d1b3a",
   "metadata": {},
   "outputs": [],
   "source": [
    "# Instantiate\n",
    "bag_body = CountVectorizer(stop_words=\"english\", min_df=10) # the min_df is used to filter out random words that could pop up as well as remove some unnecessary features\n",
    "\n",
    "# Fitting \n",
    "bag_body.fit(X_train_review_sample)\n",
    "\n",
    "# Transform\n",
    "train_bag_sample = bag_body.transform(X_train_review_sample)\n",
    "valid_bag_sample = bag_body.transform(X_valid_review_sample)\n",
    "test_bag_sample = bag_body.transform(X_test_review_sample)"
   ]
  },
  {
   "cell_type": "code",
   "execution_count": 13,
   "id": "4020d76d",
   "metadata": {},
   "outputs": [],
   "source": [
    "# This count vectorizer is for X_remainder when cv is not done \n",
    "# Instantiate\n",
    "bag_body2 = CountVectorizer(stop_words=\"english\", min_df=10)\n",
    "\n",
    "# Fit\n",
    "bag_body2.fit(X_remainder_review_sample)\n",
    "\n",
    "# Transform\n",
    "remainder_bag_sample = bag_body2.transform(X_remainder_review_sample)\n",
    "test_bag_sample2 = bag_body2.transform(X_test_review_sample)"
   ]
  },
  {
   "cell_type": "code",
   "execution_count": 14,
   "id": "a2916b4d-a6d6-425c-a7cb-1792f8b8564c",
   "metadata": {},
   "outputs": [],
   "source": [
    "# Repeat the same process for review_headline\n",
    "X_train_headline_sample = X_train_sample['review_headline']\n",
    "X_valid_headline_sample = X_valid_sample['review_headline']\n",
    "X_test_headline_sample = X_test_sample['review_headline']\n",
    "\n",
    "# X_remainder will be needed for when cv is being done\n",
    "X_remainder_headline_sample = X_remainder_sample['review_headline']\n",
    "\n",
    "# Instantiate\n",
    "bag_headline = CountVectorizer(stop_words=\"english\", min_df=10)\n",
    "\n",
    "# Fitting \n",
    "bag_headline.fit(X_train_headline_sample)\n",
    "\n",
    "# Transform\n",
    "train_headline_sample = bag_headline.transform(X_train_headline_sample)\n",
    "valid_headline_sample = bag_headline.transform(X_valid_headline_sample)\n",
    "test_headline_sample = bag_headline.transform(X_test_headline_sample)"
   ]
  },
  {
   "cell_type": "code",
   "execution_count": 15,
   "id": "b26d39c2",
   "metadata": {},
   "outputs": [],
   "source": [
    "# For X_remainder\n",
    "bag_headline2 = CountVectorizer(stop_words=\"english\", min_df=10)\n",
    "bag_headline2.fit(X_remainder_headline_sample)\n",
    "remainder_headline_sample = bag_headline2.transform(X_remainder_headline_sample)\n",
    "test_headline_sample2 = bag_headline2.transform(X_test_headline_sample)"
   ]
  },
  {
   "cell_type": "markdown",
   "id": "824dc29f-a671-49ce-8b40-8067c4a5a2df",
   "metadata": {},
   "source": [
    "Now that the 2 columns have been vectorized, the bag of words would need to be combined so it can go back into the dataframe. "
   ]
  },
  {
   "cell_type": "code",
   "execution_count": 16,
   "id": "4b3dfaa6",
   "metadata": {},
   "outputs": [],
   "source": [
    "# combining headline and body\n",
    "train_count = sp.hstack([train_headline_sample, train_bag_sample])\n",
    "valid_count = sp.hstack([valid_headline_sample, valid_bag_sample])\n",
    "test_count = sp.hstack([test_headline_sample, test_bag_sample])"
   ]
  },
  {
   "cell_type": "code",
   "execution_count": 17,
   "id": "68b1b58b",
   "metadata": {},
   "outputs": [],
   "source": [
    "# combining headline and bag counts\n",
    "remainder_count = sp.hstack([remainder_headline_sample, remainder_bag_sample])\n",
    "test_count2 = sp.hstack([test_headline_sample2, test_bag_sample2])"
   ]
  },
  {
   "cell_type": "code",
   "execution_count": 18,
   "id": "1d1fdb9d",
   "metadata": {},
   "outputs": [
    {
     "data": {
      "text/plain": [
       "<28000x3962 sparse matrix of type '<class 'numpy.int64'>'\n",
       "\twith 474853 stored elements in Compressed Sparse Row format>"
      ]
     },
     "execution_count": 18,
     "metadata": {},
     "output_type": "execute_result"
    }
   ],
   "source": [
    "# sanity check\n",
    "train_count"
   ]
  },
  {
   "cell_type": "markdown",
   "id": "9e5610ee-0146-49c6-b2ee-f48a9fee85b3",
   "metadata": {},
   "source": [
    "There are ~3900 words after using `CountVectorizer` on `review_headline` and `review_body`. "
   ]
  },
  {
   "cell_type": "code",
   "execution_count": 19,
   "id": "19651220",
   "metadata": {},
   "outputs": [],
   "source": [
    "# Grabbing the words to be used as column headers for the bag of words above\n",
    "body_words = bag_body.get_feature_names_out()\n",
    "# Appending b_ to words from review_body\n",
    "tagged_body_words = ['b_' + feature for feature in body_words]\n",
    "\n",
    "headline_words = bag_headline.get_feature_names_out()\n",
    "# Appending h_ to words from review_headline\n",
    "tagged_headline_words = ['h_' + feature for feature in headline_words]\n",
    "\n",
    "# Combine the two to be used in the column headers\n",
    "sample_vocab = tagged_headline_words + tagged_body_words"
   ]
  },
  {
   "cell_type": "code",
   "execution_count": 20,
   "id": "a53ca811",
   "metadata": {},
   "outputs": [],
   "source": [
    "# Repeat the process for X_remainder\n",
    "body_words2 = bag_body2.get_feature_names_out()\n",
    "tagged_body_words2 = ['b_' + feature for feature in body_words2]\n",
    "\n",
    "headline_words2 = bag_headline2.get_feature_names_out()\n",
    "tagged_headline_words2 = ['h_' + feature for feature in headline_words2]\n",
    "\n",
    "sample_vocab2 = tagged_headline_words2 + tagged_body_words2"
   ]
  },
  {
   "cell_type": "code",
   "execution_count": 21,
   "id": "94a2e509",
   "metadata": {},
   "outputs": [
    {
     "data": {
      "text/plain": [
       "3962"
      ]
     },
     "execution_count": 21,
     "metadata": {},
     "output_type": "execute_result"
    }
   ],
   "source": [
    "# Sanity check (should equal to the same number above for train_count\n",
    "len(sample_vocab)"
   ]
  },
  {
   "cell_type": "code",
   "execution_count": 22,
   "id": "3b221231",
   "metadata": {},
   "outputs": [],
   "source": [
    "# Combining the matrices of bag of words with the column names  \n",
    "train_df = pd.DataFrame(train_count.toarray(), columns=sample_vocab)\n",
    "valid_df = pd.DataFrame(valid_count.toarray(), columns=sample_vocab)\n",
    "test_df = pd.DataFrame(test_count.toarray(), columns=sample_vocab)"
   ]
  },
  {
   "cell_type": "code",
   "execution_count": 23,
   "id": "76c96259",
   "metadata": {},
   "outputs": [],
   "source": [
    "# Repeat for X_remainder\n",
    "remainder_df = pd.DataFrame(remainder_count.toarray(), columns=sample_vocab2)\n",
    "test_df2 = pd.DataFrame(test_count2.toarray(), columns=sample_vocab2)"
   ]
  },
  {
   "cell_type": "markdown",
   "id": "6d624882-b579-4456-aec1-404509a27734",
   "metadata": {},
   "source": [
    "Now that the review_headline and review_body have been vectorized, the string columns can be dropped and replaced."
   ]
  },
  {
   "cell_type": "code",
   "execution_count": 24,
   "id": "88beeef8",
   "metadata": {},
   "outputs": [],
   "source": [
    "# dropping string columns\n",
    "X_train_sample = X_train_sample.reset_index(drop=True).drop(columns=['product_title', 'review_headline', 'review_body'])\n",
    "X_valid_sample = X_valid_sample.reset_index(drop=True).drop(columns=['product_title', 'review_headline', 'review_body'])\n",
    "X_test_sample = X_test_sample.reset_index(drop=True).drop(columns=['product_title', 'review_headline', 'review_body'])"
   ]
  },
  {
   "cell_type": "code",
   "execution_count": 25,
   "id": "0e663541",
   "metadata": {},
   "outputs": [],
   "source": [
    "# Repeat for X_remainder\n",
    "X_remainder_sample = X_remainder_sample.reset_index(drop=True).drop(columns=['product_title', 'review_headline', 'review_body'])"
   ]
  },
  {
   "cell_type": "code",
   "execution_count": 26,
   "id": "2dafc68b",
   "metadata": {},
   "outputs": [],
   "source": [
    "# combining the dataframe of bag of words back with the original dataframe\n",
    "combined_train = pd.concat([X_train_sample, train_df], axis=1)\n",
    "combined_valid = pd.concat([X_valid_sample, valid_df], axis=1)\n",
    "combined_test = pd.concat([X_test_sample, test_df], axis=1)"
   ]
  },
  {
   "cell_type": "code",
   "execution_count": 27,
   "id": "5e9e9b3a",
   "metadata": {},
   "outputs": [],
   "source": [
    "# Repeat for X_remainder\n",
    "combined_remainder = pd.concat([X_remainder_sample, remainder_df], axis=1)\n",
    "combined_test2 = pd.concat([X_test_sample, test_df2], axis=1)"
   ]
  },
  {
   "cell_type": "code",
   "execution_count": 28,
   "id": "01c3ad93",
   "metadata": {},
   "outputs": [
    {
     "data": {
      "text/html": [
       "<div>\n",
       "<style scoped>\n",
       "    .dataframe tbody tr th:only-of-type {\n",
       "        vertical-align: middle;\n",
       "    }\n",
       "\n",
       "    .dataframe tbody tr th {\n",
       "        vertical-align: top;\n",
       "    }\n",
       "\n",
       "    .dataframe thead th {\n",
       "        text-align: right;\n",
       "    }\n",
       "</style>\n",
       "<table border=\"1\" class=\"dataframe\">\n",
       "  <thead>\n",
       "    <tr style=\"text-align: right;\">\n",
       "      <th></th>\n",
       "      <th>helpful_votes</th>\n",
       "      <th>verified_purchase</th>\n",
       "      <th>year</th>\n",
       "      <th>month</th>\n",
       "      <th>h_10</th>\n",
       "      <th>h_11</th>\n",
       "      <th>h_12</th>\n",
       "      <th>h_13</th>\n",
       "      <th>h_15</th>\n",
       "      <th>h_2nd</th>\n",
       "      <th>...</th>\n",
       "      <th>b_yrs</th>\n",
       "      <th>b_zapatos</th>\n",
       "      <th>b_zappos</th>\n",
       "      <th>b_zero</th>\n",
       "      <th>b_zip</th>\n",
       "      <th>b_zipped</th>\n",
       "      <th>b_zipper</th>\n",
       "      <th>b_zippered</th>\n",
       "      <th>b_zippers</th>\n",
       "      <th>b_zumba</th>\n",
       "    </tr>\n",
       "  </thead>\n",
       "  <tbody>\n",
       "    <tr>\n",
       "      <th>0</th>\n",
       "      <td>0</td>\n",
       "      <td>1</td>\n",
       "      <td>2013.0</td>\n",
       "      <td>4.0</td>\n",
       "      <td>0</td>\n",
       "      <td>0</td>\n",
       "      <td>0</td>\n",
       "      <td>0</td>\n",
       "      <td>0</td>\n",
       "      <td>0</td>\n",
       "      <td>...</td>\n",
       "      <td>0</td>\n",
       "      <td>0</td>\n",
       "      <td>0</td>\n",
       "      <td>0</td>\n",
       "      <td>0</td>\n",
       "      <td>0</td>\n",
       "      <td>0</td>\n",
       "      <td>0</td>\n",
       "      <td>0</td>\n",
       "      <td>0</td>\n",
       "    </tr>\n",
       "    <tr>\n",
       "      <th>1</th>\n",
       "      <td>1</td>\n",
       "      <td>1</td>\n",
       "      <td>2008.0</td>\n",
       "      <td>12.0</td>\n",
       "      <td>0</td>\n",
       "      <td>0</td>\n",
       "      <td>0</td>\n",
       "      <td>0</td>\n",
       "      <td>0</td>\n",
       "      <td>0</td>\n",
       "      <td>...</td>\n",
       "      <td>0</td>\n",
       "      <td>0</td>\n",
       "      <td>0</td>\n",
       "      <td>0</td>\n",
       "      <td>0</td>\n",
       "      <td>0</td>\n",
       "      <td>0</td>\n",
       "      <td>0</td>\n",
       "      <td>0</td>\n",
       "      <td>0</td>\n",
       "    </tr>\n",
       "    <tr>\n",
       "      <th>2</th>\n",
       "      <td>2</td>\n",
       "      <td>1</td>\n",
       "      <td>2009.0</td>\n",
       "      <td>11.0</td>\n",
       "      <td>0</td>\n",
       "      <td>0</td>\n",
       "      <td>0</td>\n",
       "      <td>0</td>\n",
       "      <td>0</td>\n",
       "      <td>0</td>\n",
       "      <td>...</td>\n",
       "      <td>0</td>\n",
       "      <td>0</td>\n",
       "      <td>0</td>\n",
       "      <td>0</td>\n",
       "      <td>0</td>\n",
       "      <td>0</td>\n",
       "      <td>0</td>\n",
       "      <td>0</td>\n",
       "      <td>0</td>\n",
       "      <td>0</td>\n",
       "    </tr>\n",
       "    <tr>\n",
       "      <th>3</th>\n",
       "      <td>0</td>\n",
       "      <td>0</td>\n",
       "      <td>2015.0</td>\n",
       "      <td>2.0</td>\n",
       "      <td>0</td>\n",
       "      <td>0</td>\n",
       "      <td>0</td>\n",
       "      <td>0</td>\n",
       "      <td>0</td>\n",
       "      <td>0</td>\n",
       "      <td>...</td>\n",
       "      <td>0</td>\n",
       "      <td>0</td>\n",
       "      <td>0</td>\n",
       "      <td>0</td>\n",
       "      <td>0</td>\n",
       "      <td>0</td>\n",
       "      <td>0</td>\n",
       "      <td>0</td>\n",
       "      <td>0</td>\n",
       "      <td>0</td>\n",
       "    </tr>\n",
       "    <tr>\n",
       "      <th>4</th>\n",
       "      <td>0</td>\n",
       "      <td>1</td>\n",
       "      <td>2015.0</td>\n",
       "      <td>7.0</td>\n",
       "      <td>0</td>\n",
       "      <td>0</td>\n",
       "      <td>0</td>\n",
       "      <td>0</td>\n",
       "      <td>0</td>\n",
       "      <td>0</td>\n",
       "      <td>...</td>\n",
       "      <td>0</td>\n",
       "      <td>0</td>\n",
       "      <td>0</td>\n",
       "      <td>0</td>\n",
       "      <td>0</td>\n",
       "      <td>0</td>\n",
       "      <td>0</td>\n",
       "      <td>0</td>\n",
       "      <td>0</td>\n",
       "      <td>0</td>\n",
       "    </tr>\n",
       "    <tr>\n",
       "      <th>...</th>\n",
       "      <td>...</td>\n",
       "      <td>...</td>\n",
       "      <td>...</td>\n",
       "      <td>...</td>\n",
       "      <td>...</td>\n",
       "      <td>...</td>\n",
       "      <td>...</td>\n",
       "      <td>...</td>\n",
       "      <td>...</td>\n",
       "      <td>...</td>\n",
       "      <td>...</td>\n",
       "      <td>...</td>\n",
       "      <td>...</td>\n",
       "      <td>...</td>\n",
       "      <td>...</td>\n",
       "      <td>...</td>\n",
       "      <td>...</td>\n",
       "      <td>...</td>\n",
       "      <td>...</td>\n",
       "      <td>...</td>\n",
       "      <td>...</td>\n",
       "    </tr>\n",
       "    <tr>\n",
       "      <th>27995</th>\n",
       "      <td>0</td>\n",
       "      <td>1</td>\n",
       "      <td>2010.0</td>\n",
       "      <td>2.0</td>\n",
       "      <td>0</td>\n",
       "      <td>0</td>\n",
       "      <td>0</td>\n",
       "      <td>0</td>\n",
       "      <td>0</td>\n",
       "      <td>0</td>\n",
       "      <td>...</td>\n",
       "      <td>0</td>\n",
       "      <td>0</td>\n",
       "      <td>0</td>\n",
       "      <td>0</td>\n",
       "      <td>0</td>\n",
       "      <td>0</td>\n",
       "      <td>0</td>\n",
       "      <td>0</td>\n",
       "      <td>0</td>\n",
       "      <td>0</td>\n",
       "    </tr>\n",
       "    <tr>\n",
       "      <th>27996</th>\n",
       "      <td>1</td>\n",
       "      <td>1</td>\n",
       "      <td>2012.0</td>\n",
       "      <td>12.0</td>\n",
       "      <td>0</td>\n",
       "      <td>0</td>\n",
       "      <td>0</td>\n",
       "      <td>0</td>\n",
       "      <td>0</td>\n",
       "      <td>0</td>\n",
       "      <td>...</td>\n",
       "      <td>0</td>\n",
       "      <td>0</td>\n",
       "      <td>0</td>\n",
       "      <td>0</td>\n",
       "      <td>0</td>\n",
       "      <td>0</td>\n",
       "      <td>0</td>\n",
       "      <td>0</td>\n",
       "      <td>0</td>\n",
       "      <td>0</td>\n",
       "    </tr>\n",
       "    <tr>\n",
       "      <th>27997</th>\n",
       "      <td>0</td>\n",
       "      <td>1</td>\n",
       "      <td>2012.0</td>\n",
       "      <td>7.0</td>\n",
       "      <td>0</td>\n",
       "      <td>0</td>\n",
       "      <td>0</td>\n",
       "      <td>0</td>\n",
       "      <td>0</td>\n",
       "      <td>0</td>\n",
       "      <td>...</td>\n",
       "      <td>0</td>\n",
       "      <td>0</td>\n",
       "      <td>0</td>\n",
       "      <td>0</td>\n",
       "      <td>0</td>\n",
       "      <td>0</td>\n",
       "      <td>0</td>\n",
       "      <td>0</td>\n",
       "      <td>0</td>\n",
       "      <td>0</td>\n",
       "    </tr>\n",
       "    <tr>\n",
       "      <th>27998</th>\n",
       "      <td>0</td>\n",
       "      <td>1</td>\n",
       "      <td>2014.0</td>\n",
       "      <td>8.0</td>\n",
       "      <td>0</td>\n",
       "      <td>0</td>\n",
       "      <td>0</td>\n",
       "      <td>0</td>\n",
       "      <td>0</td>\n",
       "      <td>0</td>\n",
       "      <td>...</td>\n",
       "      <td>0</td>\n",
       "      <td>0</td>\n",
       "      <td>0</td>\n",
       "      <td>0</td>\n",
       "      <td>0</td>\n",
       "      <td>0</td>\n",
       "      <td>0</td>\n",
       "      <td>0</td>\n",
       "      <td>0</td>\n",
       "      <td>0</td>\n",
       "    </tr>\n",
       "    <tr>\n",
       "      <th>27999</th>\n",
       "      <td>0</td>\n",
       "      <td>1</td>\n",
       "      <td>2015.0</td>\n",
       "      <td>5.0</td>\n",
       "      <td>0</td>\n",
       "      <td>0</td>\n",
       "      <td>0</td>\n",
       "      <td>0</td>\n",
       "      <td>0</td>\n",
       "      <td>0</td>\n",
       "      <td>...</td>\n",
       "      <td>0</td>\n",
       "      <td>0</td>\n",
       "      <td>0</td>\n",
       "      <td>0</td>\n",
       "      <td>0</td>\n",
       "      <td>0</td>\n",
       "      <td>0</td>\n",
       "      <td>0</td>\n",
       "      <td>0</td>\n",
       "      <td>0</td>\n",
       "    </tr>\n",
       "  </tbody>\n",
       "</table>\n",
       "<p>28000 rows × 3966 columns</p>\n",
       "</div>"
      ],
      "text/plain": [
       "       helpful_votes  verified_purchase    year  month  h_10  h_11  h_12  \\\n",
       "0                  0                  1  2013.0    4.0     0     0     0   \n",
       "1                  1                  1  2008.0   12.0     0     0     0   \n",
       "2                  2                  1  2009.0   11.0     0     0     0   \n",
       "3                  0                  0  2015.0    2.0     0     0     0   \n",
       "4                  0                  1  2015.0    7.0     0     0     0   \n",
       "...              ...                ...     ...    ...   ...   ...   ...   \n",
       "27995              0                  1  2010.0    2.0     0     0     0   \n",
       "27996              1                  1  2012.0   12.0     0     0     0   \n",
       "27997              0                  1  2012.0    7.0     0     0     0   \n",
       "27998              0                  1  2014.0    8.0     0     0     0   \n",
       "27999              0                  1  2015.0    5.0     0     0     0   \n",
       "\n",
       "       h_13  h_15  h_2nd  ...  b_yrs  b_zapatos  b_zappos  b_zero  b_zip  \\\n",
       "0         0     0      0  ...      0          0         0       0      0   \n",
       "1         0     0      0  ...      0          0         0       0      0   \n",
       "2         0     0      0  ...      0          0         0       0      0   \n",
       "3         0     0      0  ...      0          0         0       0      0   \n",
       "4         0     0      0  ...      0          0         0       0      0   \n",
       "...     ...   ...    ...  ...    ...        ...       ...     ...    ...   \n",
       "27995     0     0      0  ...      0          0         0       0      0   \n",
       "27996     0     0      0  ...      0          0         0       0      0   \n",
       "27997     0     0      0  ...      0          0         0       0      0   \n",
       "27998     0     0      0  ...      0          0         0       0      0   \n",
       "27999     0     0      0  ...      0          0         0       0      0   \n",
       "\n",
       "       b_zipped  b_zipper  b_zippered  b_zippers  b_zumba  \n",
       "0             0         0           0          0        0  \n",
       "1             0         0           0          0        0  \n",
       "2             0         0           0          0        0  \n",
       "3             0         0           0          0        0  \n",
       "4             0         0           0          0        0  \n",
       "...         ...       ...         ...        ...      ...  \n",
       "27995         0         0           0          0        0  \n",
       "27996         0         0           0          0        0  \n",
       "27997         0         0           0          0        0  \n",
       "27998         0         0           0          0        0  \n",
       "27999         0         0           0          0        0  \n",
       "\n",
       "[28000 rows x 3966 columns]"
      ]
     },
     "execution_count": 28,
     "metadata": {},
     "output_type": "execute_result"
    }
   ],
   "source": [
    "# Sanity Check\n",
    "combined_train"
   ]
  },
  {
   "cell_type": "markdown",
   "id": "224f2db9-3c3c-41a1-aae2-6525409352df",
   "metadata": {},
   "source": [
    "The last thing to do before feeding the data into the models is that the data will need to be scaled. The `StandardScalar` will be used for basic modeling and could be changed when hyperparameter optimization."
   ]
  },
  {
   "cell_type": "code",
   "execution_count": 29,
   "id": "08a71af5",
   "metadata": {},
   "outputs": [],
   "source": [
    "# Instantiate\n",
    "ss = StandardScaler()\n",
    "\n",
    "# Fit and tranform\n",
    "X_train_scaled = ss.fit_transform(combined_train)\n",
    "X_valid_scaled = ss.transform(combined_valid)\n",
    "X_test_scaled = ss.transform(combined_test)"
   ]
  },
  {
   "cell_type": "code",
   "execution_count": 30,
   "id": "9829a783",
   "metadata": {
    "tags": []
   },
   "outputs": [],
   "source": [
    "# For X_remainder\n",
    "ss2 = StandardScaler()\n",
    "X_remainder_scaled = ss.fit_transform(combined_remainder)\n",
    "X_test_scaled2 = ss.transform(combined_test2)"
   ]
  },
  {
   "cell_type": "markdown",
   "id": "abf19bb1",
   "metadata": {},
   "source": [
    "<a id=\"lr\"></a>\n",
    "## Logistic Regression"
   ]
  },
  {
   "cell_type": "markdown",
   "id": "513ccaae-7dd4-477b-a2d1-88fb941b45b1",
   "metadata": {},
   "source": [
    "For the first model, logisitic regression, the C values will be manually tuned to showcase manual hyperparameter optimization. After which for other models, gridsearch will be performed for hyperparameter optimization. For the solver to be used in this LR model will be `lbfgs`, `liblinear`, and `saga`. "
   ]
  },
  {
   "cell_type": "code",
   "execution_count": 33,
   "id": "ba55963a",
   "metadata": {},
   "outputs": [
    {
     "data": {
      "image/png": "[encoded data removed]",
      "text/plain": [
       "<Figure size 640x480 with 1 Axes>"
      ]
     },
     "metadata": {},
     "output_type": "display_data"
    },
    {
     "name": "stdout",
     "output_type": "stream",
     "text": [
      "The best model has C =  0.001\n"
     ]
    }
   ],
   "source": [
    "scores = []\n",
    "# the c to be iterated through\n",
    "C_range = np.array([.00000001,.0000001,.000001,.00001,.0001,.001,.1,\n",
    "                1,10,100,1000,10000,100000,1000000,10000000,100000000,1000000000])\n",
    "\n",
    "for c in C_range:\n",
    "    log = LogisticRegression(solver='lbfgs', C=c, random_state=1, max_iter=10000)\n",
    "    log.fit(X_train_scaled, y_train_sample)\n",
    "    scores.append(log.score(X_valid_scaled, y_valid_sample))\n",
    "\n",
    "# Visualize the results of each model ran\n",
    "plt.figure()\n",
    "plt.plot(C_range, scores, label=\"Cross Validation Score\",marker='.')\n",
    "plt.legend()\n",
    "plt.xscale(\"log\")\n",
    "plt.xlabel('Regularization Parameter: C')\n",
    "plt.ylabel('Cross Validation Score')\n",
    "plt.grid()\n",
    "plt.show();\n",
    "\n",
    "# Print the best model's C value\n",
    "which_max = np.array(scores).argmax()\n",
    "print(\"The best model has C = \",C_range[which_max])"
   ]
  },
  {
   "cell_type": "code",
   "execution_count": 34,
   "id": "30a9063f",
   "metadata": {},
   "outputs": [
    {
     "data": {
      "text/plain": [
       "0.7929"
      ]
     },
     "execution_count": 34,
     "metadata": {},
     "output_type": "execute_result"
    }
   ],
   "source": [
    "# Scoring the best result\n",
    "lr = LogisticRegression(solver='lbfgs', C=0.001, random_state=1, max_iter=10000)\n",
    "lr.fit(X_train_scaled, y_train_sample)\n",
    "lr.score(X_test_scaled, y_test_sample)"
   ]
  },
  {
   "cell_type": "markdown",
   "id": "aecdfeb0-75b1-46e1-8c74-859aecc14653",
   "metadata": {},
   "source": [
    "| Model                           | Accuracy |\n",
    "|---------------------------------|----------|\n",
    "| Logistic Regression (lbfgs)     | 79.29%   |"
   ]
  },
  {
   "cell_type": "code",
   "execution_count": 69,
   "id": "a044a0ac-33ef-471e-a9ad-e90cb833851c",
   "metadata": {},
   "outputs": [],
   "source": [
    "# saving the models\n",
    "with open('lr.pkl', 'wb') as f:\n",
    "    pickle.dump(lr, f)"
   ]
  },
  {
   "cell_type": "markdown",
   "id": "fe68c0ee",
   "metadata": {},
   "source": [
    "Test accuracy with the best C value (0.001) is 79.29%. Confusion matrix and classification report should be looked at next to see other metrics.  "
   ]
  },
  {
   "cell_type": "code",
   "execution_count": 40,
   "id": "34323bff",
   "metadata": {},
   "outputs": [
    {
     "name": "stdout",
     "output_type": "stream",
     "text": [
      "              precision    recall  f1-score   support\n",
      "\n",
      "           0       0.80      0.65      0.71      3982\n",
      "           1       0.79      0.89      0.84      6018\n",
      "\n",
      "    accuracy                           0.79     10000\n",
      "   macro avg       0.79      0.77      0.78     10000\n",
      "weighted avg       0.79      0.79      0.79     10000\n",
      "\n"
     ]
    },
    {
     "data": {
      "text/plain": [
       "<sklearn.metrics._plot.confusion_matrix.ConfusionMatrixDisplay at 0x7f4e6ae4c3a0>"
      ]
     },
     "execution_count": 40,
     "metadata": {},
     "output_type": "execute_result"
    },
    {
     "data": {
      "image/png": "[encoded data removed]",
      "text/plain": [
       "<Figure size 640x480 with 2 Axes>"
      ]
     },
     "metadata": {},
     "output_type": "display_data"
    }
   ],
   "source": [
    "# Get rating predictions\n",
    "y_pred = lr.predict(X_test_scaled)\n",
    "\n",
    "# Generate confusion matrix\n",
    "cf_matrix = confusion_matrix(y_test_sample, y_pred)\n",
    "print(classification_report(y_test_sample, y_pred))\n",
    "\n",
    "# Visualizing confusion matrix\n",
    "ConfusionMatrixDisplay.from_estimator(lr, X_test_scaled, y_test_sample)"
   ]
  },
  {
   "cell_type": "markdown",
   "id": "a95c526f",
   "metadata": {},
   "source": [
    "Looking at the classification report, the class imbalance seems to affecting the predictions as f1-score for class 0 is 71% and f1-score for class 1 is 84% which is a 13% difference. This is due to recall of class 0 is 65% and 35% of actual review is being predicted as 1 whereas the recall for 1 is 89%. A big difference of 24%. This will need to be addressed if other models show the same result. "
   ]
  },
  {
   "cell_type": "code",
   "execution_count": 41,
   "id": "9033be50",
   "metadata": {},
   "outputs": [
    {
     "data": {
      "image/png": "[encoded data removed]",
      "text/plain": [
       "<Figure size 640x480 with 1 Axes>"
      ]
     },
     "metadata": {},
     "output_type": "display_data"
    },
    {
     "name": "stdout",
     "output_type": "stream",
     "text": [
      "The best model has C =  0.0001\n"
     ]
    }
   ],
   "source": [
    "# Testing solver liblinear \n",
    "scores = []\n",
    "# Reducing C_range as it seems to plateau after 1 for lbfgs\n",
    "C_range = np.array([.00000001,.0000001,.000001,.00001,.0001,.001,.1,\n",
    "                1,10,100])\n",
    "\n",
    "for c in C_range:\n",
    "    log = LogisticRegression(solver='liblinear', C=c, random_state=1, max_iter=10000)\n",
    "    log.fit(X_train_scaled, y_train_sample)\n",
    "    scores.append(log.score(X_valid_scaled, y_valid_sample))\n",
    "\n",
    "# Visualize the graph\n",
    "plt.figure()\n",
    "plt.plot(C_range, scores, label=\"Cross Validation Score\",marker='.')\n",
    "plt.legend()\n",
    "plt.xscale(\"log\")\n",
    "plt.xlabel('Regularization Parameter: C')\n",
    "plt.ylabel('Cross Validation Score')\n",
    "plt.grid()\n",
    "plt.show();\n",
    "\n",
    "# Print the best model's C value\n",
    "which_max = np.array(scores).argmax()\n",
    "print(\"The best model has C = \",C_range[which_max])"
   ]
  },
  {
   "cell_type": "code",
   "execution_count": 43,
   "id": "11aa6c98",
   "metadata": {},
   "outputs": [
    {
     "data": {
      "text/plain": [
       "0.8008"
      ]
     },
     "execution_count": 43,
     "metadata": {},
     "output_type": "execute_result"
    }
   ],
   "source": [
    "lr2 = LogisticRegression(solver='liblinear', C=0.0001, random_state=1)\n",
    "lr2.fit(X_train_scaled, y_train_sample)\n",
    "lr2.score(X_test_scaled, y_test_sample)"
   ]
  },
  {
   "cell_type": "markdown",
   "id": "cd17d7f3",
   "metadata": {},
   "source": [
    "A solver of `liblinear` with the best C value (0.0001) had a test score of 80.08%, an increase of <1% compared to the previous solver. "
   ]
  },
  {
   "cell_type": "markdown",
   "id": "2ccd8076-2bc7-4eed-bc5e-b7b449aefa20",
   "metadata": {},
   "source": [
    "| Model                           | Accuracy |\n",
    "|---------------------------------|----------|\n",
    "| Logistic Regression (lbfgs)     | 79.29%   |\n",
    "| Logistic Regression (liblinear) | 80.08%   |"
   ]
  },
  {
   "cell_type": "code",
   "execution_count": 68,
   "id": "5db67394-b92a-4029-9eff-834f33cfc19b",
   "metadata": {},
   "outputs": [],
   "source": [
    "# saving the models\n",
    "with open('lr2.pkl', 'wb') as f:\n",
    "    pickle.dump(lr2, f)"
   ]
  },
  {
   "cell_type": "code",
   "execution_count": 44,
   "id": "716765f1",
   "metadata": {},
   "outputs": [
    {
     "name": "stdout",
     "output_type": "stream",
     "text": [
      "              precision    recall  f1-score   support\n",
      "\n",
      "           0       0.80      0.67      0.73      3982\n",
      "           1       0.80      0.89      0.84      6018\n",
      "\n",
      "    accuracy                           0.80     10000\n",
      "   macro avg       0.80      0.78      0.79     10000\n",
      "weighted avg       0.80      0.80      0.80     10000\n",
      "\n"
     ]
    },
    {
     "data": {
      "text/plain": [
       "<sklearn.metrics._plot.confusion_matrix.ConfusionMatrixDisplay at 0x7f4e6acf5420>"
      ]
     },
     "execution_count": 44,
     "metadata": {},
     "output_type": "execute_result"
    },
    {
     "data": {
      "image/png": "[encoded data removed]",
      "text/plain": [
       "<Figure size 640x480 with 2 Axes>"
      ]
     },
     "metadata": {},
     "output_type": "display_data"
    }
   ],
   "source": [
    "# Get rating predictions\n",
    "y_pred = lr2.predict(X_test_scaled)\n",
    "\n",
    "# Generate confusion matrix\n",
    "cf_matrix = confusion_matrix(y_test_sample, y_pred)\n",
    "print(classification_report(y_test_sample, y_pred))\n",
    "\n",
    "# Visualizing confusion matrix\n",
    "ConfusionMatrixDisplay.from_estimator(lr2, X_test_scaled, y_test_sample)"
   ]
  },
  {
   "cell_type": "markdown",
   "id": "15877708",
   "metadata": {},
   "source": [
    "The f1-score is slightly better on this solver than lbfgs from 0.71 to 0.73 for class 0 but there is still a big difference of .11 for the f1-score. "
   ]
  },
  {
   "cell_type": "code",
   "execution_count": 46,
   "id": "a52f8ddd",
   "metadata": {},
   "outputs": [
    {
     "data": {
      "image/png": "[encoded data removed]",
      "text/plain": [
       "<Figure size 640x480 with 1 Axes>"
      ]
     },
     "metadata": {},
     "output_type": "display_data"
    },
    {
     "name": "stdout",
     "output_type": "stream",
     "text": [
      "The best model has C =  0.001\n"
     ]
    }
   ],
   "source": [
    "# Testing solver saga \n",
    "scores = []\n",
    "# Reducing C_range as it seems to plateau after 1 for lbfgs\n",
    "C_range = np.array([.00000001,.0000001,.000001,.00001,.0001,.001,.1,\n",
    "                1,10,100])\n",
    "\n",
    "for c in C_range:\n",
    "    log = LogisticRegression(solver='saga', C=c, random_state=1, max_iter=10000)\n",
    "    log.fit(X_train_scaled, y_train_sample)\n",
    "    scores.append(log.score(X_valid_scaled, y_valid_sample))\n",
    "\n",
    "# Visualize the graph\n",
    "plt.figure()\n",
    "plt.plot(C_range, scores, label=\"Cross Validation Score\",marker='.')\n",
    "plt.legend()\n",
    "plt.xscale(\"log\")\n",
    "plt.xlabel('Regularization Parameter: C')\n",
    "plt.ylabel('Cross Validation Score')\n",
    "plt.grid()\n",
    "plt.show();\n",
    "\n",
    "# Print the best model's C value\n",
    "which_max = np.array(scores).argmax()\n",
    "print(\"The best model has C = \",C_range[which_max])"
   ]
  },
  {
   "cell_type": "code",
   "execution_count": 53,
   "id": "d5cdfe86-0e77-43ee-a514-3c547e47194d",
   "metadata": {},
   "outputs": [
    {
     "data": {
      "text/plain": [
       "0.7934"
      ]
     },
     "execution_count": 53,
     "metadata": {},
     "output_type": "execute_result"
    }
   ],
   "source": [
    "lr3 = LogisticRegression(solver='saga', C=0.001, random_state=1, max_iter=10000)\n",
    "lr3.fit(X_train_scaled, y_train_sample)\n",
    "lr3.score(X_test_scaled, y_test_sample)"
   ]
  },
  {
   "cell_type": "markdown",
   "id": "bed17e32-75ec-47f5-859f-ae07b3399bb0",
   "metadata": {},
   "source": [
    "A solver of `saga` with the best C-value (0.001) had a test score accuracy of 79.34% which is ~1% decrease when compared to `liblinear`."
   ]
  },
  {
   "cell_type": "markdown",
   "id": "a6f33ea8-24d6-45ea-a8b2-6e0da7e5a68b",
   "metadata": {},
   "source": [
    "| Model                           | Accuracy |\n",
    "|---------------------------------|----------|\n",
    "| Logistic Regression (lbfgs)     | 79.29%   |\n",
    "| Logistic Regression (liblinear) | 80.08%   |\n",
    "| Logistic Regression (saga)      | 79.34%   |"
   ]
  },
  {
   "cell_type": "code",
   "execution_count": 47,
   "id": "dcd339df-8bc3-45bf-9e18-034d76275670",
   "metadata": {},
   "outputs": [],
   "source": [
    "# saving the models\n",
    "with open('lr3.pkl', 'wb') as f:\n",
    "    pickle.dump(lr3, f)"
   ]
  },
  {
   "cell_type": "code",
   "execution_count": 48,
   "id": "7e9b4626",
   "metadata": {
    "tags": []
   },
   "outputs": [
    {
     "name": "stdout",
     "output_type": "stream",
     "text": [
      "              precision    recall  f1-score   support\n",
      "\n",
      "           0       0.80      0.65      0.71      3982\n",
      "           1       0.79      0.89      0.84      6018\n",
      "\n",
      "    accuracy                           0.79     10000\n",
      "   macro avg       0.79      0.77      0.78     10000\n",
      "weighted avg       0.79      0.79      0.79     10000\n",
      "\n"
     ]
    },
    {
     "data": {
      "text/plain": [
       "<sklearn.metrics._plot.confusion_matrix.ConfusionMatrixDisplay at 0x7f4e6ab1aa70>"
      ]
     },
     "execution_count": 48,
     "metadata": {},
     "output_type": "execute_result"
    },
    {
     "data": {
      "image/png": "[encoded data removed]",
      "text/plain": [
       "<Figure size 640x480 with 2 Axes>"
      ]
     },
     "metadata": {},
     "output_type": "display_data"
    }
   ],
   "source": [
    "# Get rating predictions\n",
    "y_pred = lr3.predict(X_test_scaled)\n",
    "\n",
    "# Generate confusion matrix\n",
    "cf_matrix = confusion_matrix(y_test_sample, y_pred)\n",
    "print(classification_report(y_test_sample, y_pred))\n",
    "\n",
    "# Visualizing confusion matrix\n",
    "ConfusionMatrixDisplay.from_estimator(lr3, X_test_scaled, y_test_sample)"
   ]
  },
  {
   "cell_type": "code",
   "execution_count": 49,
   "id": "73d210f4",
   "metadata": {},
   "outputs": [
    {
     "data": {
      "image/png": "[encoded data removed]",
      "text/plain": [
       "<Figure size 1500x500 with 1 Axes>"
      ]
     },
     "metadata": {},
     "output_type": "display_data"
    }
   ],
   "source": [
    "word_counts = pd.DataFrame({\"counts\":lr2.coef_[0]}, index=combined_train.columns).sort_values(\"counts\", ascending=False)\n",
    "word_counts.head(30).plot(kind=\"bar\", figsize=(15, 5), legend=False)\n",
    "plt.title(\"Top 30 most predictive features of a good review\")\n",
    "plt.ylabel(\"coeff\")\n",
    "plt.xticks(rotation=45)\n",
    "plt.show()"
   ]
  },
  {
   "cell_type": "markdown",
   "id": "d7668b2e-3860-4014-9ff7-50c9712459b8",
   "metadata": {},
   "source": [
    "From the graph above, all these words makes sense as a predictor of a good review and the main feature of a shoe that seems to be the best predictor of a good review is comfortability as it is the 7th most predictive feature of a good review. "
   ]
  },
  {
   "cell_type": "code",
   "execution_count": 50,
   "id": "62778f55",
   "metadata": {
    "tags": []
   },
   "outputs": [
    {
     "data": {
      "image/png": "[encoded data removed]",
      "text/plain": [
       "<Figure size 1500x500 with 1 Axes>"
      ]
     },
     "metadata": {},
     "output_type": "display_data"
    }
   ],
   "source": [
    "word_counts = pd.DataFrame({\"counts\":lr2.coef_[0]}, index=combined_train.columns).sort_values(\"counts\", ascending=True)\n",
    "word_counts.head(30).plot(kind=\"bar\", figsize=(15, 5), legend=False)\n",
    "plt.title(\"Top 30 most predictive features of a bad review\")\n",
    "plt.ylabel(\"Count\")\n",
    "plt.xticks(rotation=45)\n",
    "plt.show()"
   ]
  },
  {
   "cell_type": "markdown",
   "id": "36c21ea1-16d9-4915-8a72-6d98aa03e058",
   "metadata": {},
   "source": [
    "Again the words seems to make sense on why it could be a predictor of a bad review. For feature extraction of shoes, it seems that shoes that are too small, narrow, tight, and uncomfortable are what makes customers give bad reviews which kind of iterates that what most customer wants in a shoe is comfortability.  "
   ]
  },
  {
   "cell_type": "code",
   "execution_count": 76,
   "id": "c2479090-9d66-4283-87f6-ea0422cb3fce",
   "metadata": {
    "tags": []
   },
   "outputs": [],
   "source": [
    "# To get the list of words\n",
    "# for word in word_counts.index:\n",
    "#     print(word)"
   ]
  },
  {
   "cell_type": "markdown",
   "id": "ca7d139e-15fa-4753-9664-7d57ad289246",
   "metadata": {},
   "source": [
    "Next, the type of scaler and penalty will be checked to see if it has an effect on accuracy. This will be used with grid search to streamline the process."
   ]
  },
  {
   "cell_type": "code",
   "execution_count": 55,
   "id": "11148ed3-8c7d-40c3-8e7f-162a7d181ab5",
   "metadata": {
    "collapsed": true,
    "jupyter": {
     "outputs_hidden": true
    },
    "tags": []
   },
   "outputs": [
    {
     "name": "stdout",
     "output_type": "stream",
     "text": [
      "Fitting 5 folds for each of 18 candidates, totalling 90 fits\n",
      "[CV] END model=LogisticRegression(max_iter=10000), model__C=0.0001, model__penalty=l1, model__solver=liblinear, normalise=StandardScaler(); total time=  10.2s\n",
      "[CV] END model=LogisticRegression(max_iter=10000), model__C=0.0001, model__penalty=l1, model__solver=liblinear, normalise=StandardScaler(); total time=  10.3s\n",
      "[CV] END model=LogisticRegression(max_iter=10000), model__C=0.0001, model__penalty=l1, model__solver=liblinear, normalise=StandardScaler(); total time=  10.3s\n",
      "[CV] END model=LogisticRegression(max_iter=10000), model__C=0.0001, model__penalty=l1, model__solver=liblinear, normalise=StandardScaler(); total time=  10.3s\n",
      "[CV] END model=LogisticRegression(max_iter=10000), model__C=0.0001, model__penalty=l1, model__solver=liblinear, normalise=StandardScaler(); total time=  10.2s\n",
      "[CV] END model=LogisticRegression(max_iter=10000), model__C=0.0001, model__penalty=l1, model__solver=liblinear, normalise=MinMaxScaler(); total time=   5.5s\n",
      "[CV] END model=LogisticRegression(max_iter=10000), model__C=0.0001, model__penalty=l1, model__solver=liblinear, normalise=MinMaxScaler(); total time=   5.5s\n",
      "[CV] END model=LogisticRegression(max_iter=10000), model__C=0.0001, model__penalty=l1, model__solver=liblinear, normalise=MinMaxScaler(); total time=   5.6s\n",
      "[CV] END model=LogisticRegression(max_iter=10000), model__C=0.0001, model__penalty=l1, model__solver=liblinear, normalise=MinMaxScaler(); total time=   5.6s\n",
      "[CV] END model=LogisticRegression(max_iter=10000), model__C=0.0001, model__penalty=l1, model__solver=liblinear, normalise=MinMaxScaler(); total time=   5.5s\n",
      "[CV] END model=LogisticRegression(max_iter=10000), model__C=0.0001, model__penalty=l1, model__solver=liblinear, normalise=None; total time=   3.8s\n",
      "[CV] END model=LogisticRegression(max_iter=10000), model__C=0.0001, model__penalty=l1, model__solver=liblinear, normalise=None; total time=   3.2s\n",
      "[CV] END model=LogisticRegression(max_iter=10000), model__C=0.0001, model__penalty=l1, model__solver=liblinear, normalise=None; total time=   3.8s\n",
      "[CV] END model=LogisticRegression(max_iter=10000), model__C=0.0001, model__penalty=l1, model__solver=liblinear, normalise=None; total time=   3.2s\n",
      "[CV] END model=LogisticRegression(max_iter=10000), model__C=0.0001, model__penalty=l1, model__solver=liblinear, normalise=None; total time=   3.8s\n",
      "[CV] END model=LogisticRegression(max_iter=10000), model__C=0.0001, model__penalty=l2, model__solver=liblinear, normalise=StandardScaler(); total time=  19.6s\n",
      "[CV] END model=LogisticRegression(max_iter=10000), model__C=0.0001, model__penalty=l2, model__solver=liblinear, normalise=StandardScaler(); total time=  20.6s\n",
      "[CV] END model=LogisticRegression(max_iter=10000), model__C=0.0001, model__penalty=l2, model__solver=liblinear, normalise=StandardScaler(); total time=  21.5s\n",
      "[CV] END model=LogisticRegression(max_iter=10000), model__C=0.0001, model__penalty=l2, model__solver=liblinear, normalise=StandardScaler(); total time=  18.7s\n",
      "[CV] END model=LogisticRegression(max_iter=10000), model__C=0.0001, model__penalty=l2, model__solver=liblinear, normalise=StandardScaler(); total time=  19.1s\n",
      "[CV] END model=LogisticRegression(max_iter=10000), model__C=0.0001, model__penalty=l2, model__solver=liblinear, normalise=MinMaxScaler(); total time=   5.0s\n",
      "[CV] END model=LogisticRegression(max_iter=10000), model__C=0.0001, model__penalty=l2, model__solver=liblinear, normalise=MinMaxScaler(); total time=   5.0s\n",
      "[CV] END model=LogisticRegression(max_iter=10000), model__C=0.0001, model__penalty=l2, model__solver=liblinear, normalise=MinMaxScaler(); total time=   5.1s\n",
      "[CV] END model=LogisticRegression(max_iter=10000), model__C=0.0001, model__penalty=l2, model__solver=liblinear, normalise=MinMaxScaler(); total time=   5.0s\n",
      "[CV] END model=LogisticRegression(max_iter=10000), model__C=0.0001, model__penalty=l2, model__solver=liblinear, normalise=MinMaxScaler(); total time=   5.0s\n",
      "[CV] END model=LogisticRegression(max_iter=10000), model__C=0.0001, model__penalty=l2, model__solver=liblinear, normalise=None; total time=   3.3s\n",
      "[CV] END model=LogisticRegression(max_iter=10000), model__C=0.0001, model__penalty=l2, model__solver=liblinear, normalise=None; total time=   3.5s\n",
      "[CV] END model=LogisticRegression(max_iter=10000), model__C=0.0001, model__penalty=l2, model__solver=liblinear, normalise=None; total time=   3.4s\n",
      "[CV] END model=LogisticRegression(max_iter=10000), model__C=0.0001, model__penalty=l2, model__solver=liblinear, normalise=None; total time=   3.5s\n",
      "[CV] END model=LogisticRegression(max_iter=10000), model__C=0.0001, model__penalty=l2, model__solver=liblinear, normalise=None; total time=   3.3s\n",
      "[CV] END model=LogisticRegression(max_iter=10000), model__C=0.001, model__penalty=l1, model__solver=liblinear, normalise=StandardScaler(); total time=  12.1s\n",
      "[CV] END model=LogisticRegression(max_iter=10000), model__C=0.001, model__penalty=l1, model__solver=liblinear, normalise=StandardScaler(); total time=  12.1s\n",
      "[CV] END model=LogisticRegression(max_iter=10000), model__C=0.001, model__penalty=l1, model__solver=liblinear, normalise=StandardScaler(); total time=  12.4s\n",
      "[CV] END model=LogisticRegression(max_iter=10000), model__C=0.001, model__penalty=l1, model__solver=liblinear, normalise=StandardScaler(); total time=  12.5s\n",
      "[CV] END model=LogisticRegression(max_iter=10000), model__C=0.001, model__penalty=l1, model__solver=liblinear, normalise=StandardScaler(); total time=  12.1s\n",
      "[CV] END model=LogisticRegression(max_iter=10000), model__C=0.001, model__penalty=l1, model__solver=liblinear, normalise=MinMaxScaler(); total time=   5.2s\n",
      "[CV] END model=LogisticRegression(max_iter=10000), model__C=0.001, model__penalty=l1, model__solver=liblinear, normalise=MinMaxScaler(); total time=   5.2s\n",
      "[CV] END model=LogisticRegression(max_iter=10000), model__C=0.001, model__penalty=l1, model__solver=liblinear, normalise=MinMaxScaler(); total time=   5.3s\n",
      "[CV] END model=LogisticRegression(max_iter=10000), model__C=0.001, model__penalty=l1, model__solver=liblinear, normalise=MinMaxScaler(); total time=   5.2s\n",
      "[CV] END model=LogisticRegression(max_iter=10000), model__C=0.001, model__penalty=l1, model__solver=liblinear, normalise=MinMaxScaler(); total time=   5.2s\n",
      "[CV] END model=LogisticRegression(max_iter=10000), model__C=0.001, model__penalty=l1, model__solver=liblinear, normalise=None; total time=   3.4s\n",
      "[CV] END model=LogisticRegression(max_iter=10000), model__C=0.001, model__penalty=l1, model__solver=liblinear, normalise=None; total time=   3.2s\n",
      "[CV] END model=LogisticRegression(max_iter=10000), model__C=0.001, model__penalty=l1, model__solver=liblinear, normalise=None; total time=   3.5s\n",
      "[CV] END model=LogisticRegression(max_iter=10000), model__C=0.001, model__penalty=l1, model__solver=liblinear, normalise=None; total time=   3.2s\n",
      "[CV] END model=LogisticRegression(max_iter=10000), model__C=0.001, model__penalty=l1, model__solver=liblinear, normalise=None; total time=   3.4s\n",
      "[CV] END model=LogisticRegression(max_iter=10000), model__C=0.001, model__penalty=l2, model__solver=liblinear, normalise=StandardScaler(); total time=  37.0s\n",
      "[CV] END model=LogisticRegression(max_iter=10000), model__C=0.001, model__penalty=l2, model__solver=liblinear, normalise=StandardScaler(); total time=  32.8s\n",
      "[CV] END model=LogisticRegression(max_iter=10000), model__C=0.001, model__penalty=l2, model__solver=liblinear, normalise=StandardScaler(); total time=  31.7s\n",
      "[CV] END model=LogisticRegression(max_iter=10000), model__C=0.001, model__penalty=l2, model__solver=liblinear, normalise=StandardScaler(); total time=  30.9s\n",
      "[CV] END model=LogisticRegression(max_iter=10000), model__C=0.001, model__penalty=l2, model__solver=liblinear, normalise=StandardScaler(); total time=  32.3s\n",
      "[CV] END model=LogisticRegression(max_iter=10000), model__C=0.001, model__penalty=l2, model__solver=liblinear, normalise=MinMaxScaler(); total time=   5.0s\n",
      "[CV] END model=LogisticRegression(max_iter=10000), model__C=0.001, model__penalty=l2, model__solver=liblinear, normalise=MinMaxScaler(); total time=   5.0s\n",
      "[CV] END model=LogisticRegression(max_iter=10000), model__C=0.001, model__penalty=l2, model__solver=liblinear, normalise=MinMaxScaler(); total time=   5.0s\n",
      "[CV] END model=LogisticRegression(max_iter=10000), model__C=0.001, model__penalty=l2, model__solver=liblinear, normalise=MinMaxScaler(); total time=   5.0s\n",
      "[CV] END model=LogisticRegression(max_iter=10000), model__C=0.001, model__penalty=l2, model__solver=liblinear, normalise=MinMaxScaler(); total time=   5.0s\n",
      "[CV] END model=LogisticRegression(max_iter=10000), model__C=0.001, model__penalty=l2, model__solver=liblinear, normalise=None; total time=   3.3s\n",
      "[CV] END model=LogisticRegression(max_iter=10000), model__C=0.001, model__penalty=l2, model__solver=liblinear, normalise=None; total time=   3.4s\n",
      "[CV] END model=LogisticRegression(max_iter=10000), model__C=0.001, model__penalty=l2, model__solver=liblinear, normalise=None; total time=   3.3s\n",
      "[CV] END model=LogisticRegression(max_iter=10000), model__C=0.001, model__penalty=l2, model__solver=liblinear, normalise=None; total time=   3.4s\n",
      "[CV] END model=LogisticRegression(max_iter=10000), model__C=0.001, model__penalty=l2, model__solver=liblinear, normalise=None; total time=   3.4s\n",
      "[CV] END model=LogisticRegression(max_iter=10000), model__C=0.01, model__penalty=l1, model__solver=liblinear, normalise=StandardScaler(); total time=  13.9s\n",
      "[CV] END model=LogisticRegression(max_iter=10000), model__C=0.01, model__penalty=l1, model__solver=liblinear, normalise=StandardScaler(); total time=  13.6s\n",
      "[CV] END model=LogisticRegression(max_iter=10000), model__C=0.01, model__penalty=l1, model__solver=liblinear, normalise=StandardScaler(); total time=  14.0s\n",
      "[CV] END model=LogisticRegression(max_iter=10000), model__C=0.01, model__penalty=l1, model__solver=liblinear, normalise=StandardScaler(); total time=  13.9s\n",
      "[CV] END model=LogisticRegression(max_iter=10000), model__C=0.01, model__penalty=l1, model__solver=liblinear, normalise=StandardScaler(); total time=  14.0s\n",
      "[CV] END model=LogisticRegression(max_iter=10000), model__C=0.01, model__penalty=l1, model__solver=liblinear, normalise=MinMaxScaler(); total time=   5.1s\n",
      "[CV] END model=LogisticRegression(max_iter=10000), model__C=0.01, model__penalty=l1, model__solver=liblinear, normalise=MinMaxScaler(); total time=   5.1s\n",
      "[CV] END model=LogisticRegression(max_iter=10000), model__C=0.01, model__penalty=l1, model__solver=liblinear, normalise=MinMaxScaler(); total time=   5.1s\n",
      "[CV] END model=LogisticRegression(max_iter=10000), model__C=0.01, model__penalty=l1, model__solver=liblinear, normalise=MinMaxScaler(); total time=   5.1s\n",
      "[CV] END model=LogisticRegression(max_iter=10000), model__C=0.01, model__penalty=l1, model__solver=liblinear, normalise=MinMaxScaler(); total time=   5.1s\n",
      "[CV] END model=LogisticRegression(max_iter=10000), model__C=0.01, model__penalty=l1, model__solver=liblinear, normalise=None; total time=   3.2s\n",
      "[CV] END model=LogisticRegression(max_iter=10000), model__C=0.01, model__penalty=l1, model__solver=liblinear, normalise=None; total time=   3.2s\n",
      "[CV] END model=LogisticRegression(max_iter=10000), model__C=0.01, model__penalty=l1, model__solver=liblinear, normalise=None; total time=   3.3s\n",
      "[CV] END model=LogisticRegression(max_iter=10000), model__C=0.01, model__penalty=l1, model__solver=liblinear, normalise=None; total time=   3.2s\n",
      "[CV] END model=LogisticRegression(max_iter=10000), model__C=0.01, model__penalty=l1, model__solver=liblinear, normalise=None; total time=   3.3s\n",
      "[CV] END model=LogisticRegression(max_iter=10000), model__C=0.01, model__penalty=l2, model__solver=liblinear, normalise=StandardScaler(); total time= 1.3min\n",
      "[CV] END model=LogisticRegression(max_iter=10000), model__C=0.01, model__penalty=l2, model__solver=liblinear, normalise=StandardScaler(); total time=  52.8s\n",
      "[CV] END model=LogisticRegression(max_iter=10000), model__C=0.01, model__penalty=l2, model__solver=liblinear, normalise=StandardScaler(); total time=  51.9s\n",
      "[CV] END model=LogisticRegression(max_iter=10000), model__C=0.01, model__penalty=l2, model__solver=liblinear, normalise=StandardScaler(); total time=  55.2s\n",
      "[CV] END model=LogisticRegression(max_iter=10000), model__C=0.01, model__penalty=l2, model__solver=liblinear, normalise=StandardScaler(); total time=  54.4s\n",
      "[CV] END model=LogisticRegression(max_iter=10000), model__C=0.01, model__penalty=l2, model__solver=liblinear, normalise=MinMaxScaler(); total time=   5.0s\n",
      "[CV] END model=LogisticRegression(max_iter=10000), model__C=0.01, model__penalty=l2, model__solver=liblinear, normalise=MinMaxScaler(); total time=   5.0s\n",
      "[CV] END model=LogisticRegression(max_iter=10000), model__C=0.01, model__penalty=l2, model__solver=liblinear, normalise=MinMaxScaler(); total time=   5.0s\n",
      "[CV] END model=LogisticRegression(max_iter=10000), model__C=0.01, model__penalty=l2, model__solver=liblinear, normalise=MinMaxScaler(); total time=   5.0s\n",
      "[CV] END model=LogisticRegression(max_iter=10000), model__C=0.01, model__penalty=l2, model__solver=liblinear, normalise=MinMaxScaler(); total time=   5.0s\n",
      "[CV] END model=LogisticRegression(max_iter=10000), model__C=0.01, model__penalty=l2, model__solver=liblinear, normalise=None; total time=   3.4s\n",
      "[CV] END model=LogisticRegression(max_iter=10000), model__C=0.01, model__penalty=l2, model__solver=liblinear, normalise=None; total time=   3.6s\n",
      "[CV] END model=LogisticRegression(max_iter=10000), model__C=0.01, model__penalty=l2, model__solver=liblinear, normalise=None; total time=   3.4s\n",
      "[CV] END model=LogisticRegression(max_iter=10000), model__C=0.01, model__penalty=l2, model__solver=liblinear, normalise=None; total time=   3.6s\n",
      "[CV] END model=LogisticRegression(max_iter=10000), model__C=0.01, model__penalty=l2, model__solver=liblinear, normalise=None; total time=   3.6s\n",
      "CPU times: user 15min 1s, sys: 4min 39s, total: 19min 40s\n",
      "Wall time: 16min 50s\n"
     ]
    }
   ],
   "source": [
    "%%time\n",
    "from sklearn.preprocessing import MinMaxScaler\n",
    "estimators = [('normalise', StandardScaler()),\n",
    "              ('model', LogisticRegression())]\n",
    "\n",
    "pipe = Pipeline(estimators)\n",
    "\n",
    "param_grid = {\n",
    "    'normalise': [StandardScaler(), MinMaxScaler(), None],\n",
    "    'model': [LogisticRegression(max_iter=10000)],\n",
    "    'model__solver': ['liblinear'],\n",
    "    'model__penalty': [\"l1\", \"l2\"],\n",
    "    'model__C': [0.0001, 0.001, 0.01] # using the best c values from the earlier modeling\n",
    "}\n",
    "\n",
    "grid_LR = GridSearchCV(pipe, param_grid, cv=5, verbose=2)\n",
    "fittedgrid_LR = grid_LR.fit(combined_remainder, y_remainder_sample)"
   ]
  },
  {
   "cell_type": "code",
   "execution_count": 60,
   "id": "dd169194-0bbd-4012-a527-6eb1f442fa42",
   "metadata": {},
   "outputs": [],
   "source": [
    "# saving the models\n",
    "with open('gridlr.pkl', 'wb') as f:\n",
    "    pickle.dump(grid_LR, f)"
   ]
  },
  {
   "cell_type": "code",
   "execution_count": 57,
   "id": "84b8c1ce-f3d4-43d0-8b89-3f3aa4eca8f4",
   "metadata": {},
   "outputs": [
    {
     "data": {
      "text/plain": [
       "{'model': LogisticRegression(C=0.01, max_iter=10000, penalty='l1', solver='liblinear'),\n",
       " 'model__C': 0.01,\n",
       " 'model__penalty': 'l1',\n",
       " 'model__solver': 'liblinear',\n",
       " 'normalise': StandardScaler()}"
      ]
     },
     "execution_count": 57,
     "metadata": {},
     "output_type": "execute_result"
    }
   ],
   "source": [
    "fittedgrid_LR.best_params_"
   ]
  },
  {
   "cell_type": "code",
   "execution_count": 66,
   "id": "bb7c939a-d409-4b67-a772-1bdac4561348",
   "metadata": {},
   "outputs": [
    {
     "data": {
      "text/plain": [
       "0.8064"
      ]
     },
     "execution_count": 66,
     "metadata": {},
     "output_type": "execute_result"
    }
   ],
   "source": [
    "# Scoring the best model\n",
    "lr_grid = LogisticRegression(C=0.01, max_iter=10000, penalty='l1', solver='liblinear')\n",
    "lr_grid.fit(X_remainder_scaled, y_remainder_sample) # Using remainder insted of validation as no hyperparameter optimization needed\n",
    "lr_grid.score(X_test_scaled2, y_test_sample)  # X_test_scaled2 is because the model was fit with X_remainder"
   ]
  },
  {
   "cell_type": "markdown",
   "id": "b3efbe70-281e-42df-8de4-ee6f1fa7a519",
   "metadata": {},
   "source": [
    "| Model                           | Accuracy |\n",
    "|---------------------------------|----------|\n",
    "| Logistic Regression (lbfgs)     | 79.29%   |\n",
    "| Logistic Regression (liblinear) | 80.08%   |\n",
    "| Logistic Regression (saga)      | 79.34%   |\n",
    "| Logistic Regression (Gridsearch)| 80.64%   |"
   ]
  },
  {
   "cell_type": "code",
   "execution_count": 89,
   "id": "f30567c5-7cb2-48d0-ba7b-96ffb0b849ed",
   "metadata": {},
   "outputs": [
    {
     "name": "stdout",
     "output_type": "stream",
     "text": [
      "              precision    recall  f1-score   support\n",
      "\n",
      "           0       0.82      0.65      0.73      3982\n",
      "           1       0.80      0.91      0.85      6018\n",
      "\n",
      "    accuracy                           0.81     10000\n",
      "   macro avg       0.81      0.78      0.79     10000\n",
      "weighted avg       0.81      0.81      0.80     10000\n",
      "\n"
     ]
    },
    {
     "data": {
      "text/plain": [
       "<sklearn.metrics._plot.confusion_matrix.ConfusionMatrixDisplay at 0x7f4e67821cf0>"
      ]
     },
     "execution_count": 89,
     "metadata": {},
     "output_type": "execute_result"
    },
    {
     "data": {
      "image/png": "[encoded data removed]",
      "text/plain": [
       "<Figure size 640x480 with 2 Axes>"
      ]
     },
     "metadata": {},
     "output_type": "display_data"
    }
   ],
   "source": [
    "# Get rating predictions\n",
    "y_pred = lr_grid.predict(X_test_scaled2) # X_test_scaled2 is because the model was fit with X_remainder\n",
    "\n",
    "# Generate confusion matrix\n",
    "cf_matrix = confusion_matrix(y_test_sample, y_pred)\n",
    "print(classification_report(y_test_sample, y_pred))\n",
    "\n",
    "# Visualizing confusion matrix\n",
    "ConfusionMatrixDisplay.from_estimator(lr_grid, X_test_scaled2, y_test_sample)"
   ]
  },
  {
   "cell_type": "markdown",
   "id": "204c2c4e-c89f-43e0-91f6-9e58a2d41921",
   "metadata": {},
   "source": [
    "Looking at the parameters, the best hyperparameter for logistic regression is 0.01, penalty of l1, solver as `liblinear` and scaling the data with `StandardScaler`. The model from this grid search performed ~0.5% better than the previous best hyperparameter model with a test score of 80.64%. Looking at the overall performance of logistic regression, the test score accuracy is around 79% with only a 1% difference between the different models and hyperparameters and a thing to note is that the 1% difference could be due to chance (as cv wasn't performed for the manual hyperparameter optimization) Next, SVM will be looked at to see if it can perform better."
   ]
  },
  {
   "cell_type": "markdown",
   "id": "e90839d7-b3d4-420a-baed-f0972dcf90a4",
   "metadata": {
    "tags": []
   },
   "source": [
    "<a id=\"svm\"></a>\n",
    "## SVM"
   ]
  },
  {
   "cell_type": "markdown",
   "id": "e4dd242d-ff01-457a-9c5d-df77061db58c",
   "metadata": {},
   "source": [
    "SVM has a long run-time with this large dataset so hyperparameter optimization couldn't be performed. Only the default SVM and it's parameter will be explored to get a general idea if SVM can improve the accuracy of the model by a lot (>1%)."
   ]
  },
  {
   "cell_type": "code",
   "execution_count": 61,
   "id": "b464f3db",
   "metadata": {},
   "outputs": [
    {
     "name": "stdout",
     "output_type": "stream",
     "text": [
      "CPU times: user 1h 5min 47s, sys: 1.19 s, total: 1h 5min 48s\n",
      "Wall time: 1h 5min 48s\n"
     ]
    },
    {
     "data": {
      "text/plain": [
       "0.7865"
      ]
     },
     "execution_count": 61,
     "metadata": {},
     "output_type": "execute_result"
    }
   ],
   "source": [
    "%%time\n",
    "SVM = svm.SVC()\n",
    "SVM.fit(X_train_scaled, y_train_sample)\n",
    "score = SVM.score(X_test_scaled, y_test_sample)\n",
    "score"
   ]
  },
  {
   "cell_type": "code",
   "execution_count": 77,
   "id": "4329bb8e-ec93-429f-a514-a526ecb978cc",
   "metadata": {},
   "outputs": [],
   "source": [
    "# saving the models\n",
    "with open('SVM.pkl', 'wb') as f:\n",
    "    pickle.dump(SVM, f)"
   ]
  },
  {
   "cell_type": "markdown",
   "id": "5a897709-eba9-4f4b-8dc0-6c46aed50f3d",
   "metadata": {},
   "source": [
    "| Model                            | Accuracy |\n",
    "|----------------------------------|----------|\n",
    "| Logistic Regression (lbfgs)      | 79.29%   |\n",
    "| Logistic Regression (liblinear)  | 80.08%   |\n",
    "| Logistic Regression (saga)       | 79.34%   |\n",
    "| Logistic Regression (Gridsearch) | 80.64%   |\n",
    "| SVM (Default Parameters)         | 78.65%   |"
   ]
  },
  {
   "cell_type": "markdown",
   "id": "d026777e-179d-4756-8278-cbb8d738147f",
   "metadata": {},
   "source": [
    "SVM did not perform any better than logisitic regression in terms of test score accuracy. This might have performed better if hyperparameter optimization was performed but the run-time of an hour for just 1 model (no cv either) with default parameters is not worth the trade off as it could just lead to a small increase in accuracy (<2% increase) like logistic regression. It might have performed better for the confusion matrix and f1-score so that will be examined next."
   ]
  },
  {
   "cell_type": "code",
   "execution_count": 79,
   "id": "117b1d59-3b7a-4bf3-b52d-382276555c06",
   "metadata": {},
   "outputs": [
    {
     "name": "stdout",
     "output_type": "stream",
     "text": [
      "              precision    recall  f1-score   support\n",
      "\n",
      "           0       0.81      0.61      0.69      3982\n",
      "           1       0.78      0.90      0.84      6018\n",
      "\n",
      "    accuracy                           0.79     10000\n",
      "   macro avg       0.79      0.76      0.77     10000\n",
      "weighted avg       0.79      0.79      0.78     10000\n",
      "\n"
     ]
    },
    {
     "data": {
      "text/plain": [
       "<sklearn.metrics._plot.confusion_matrix.ConfusionMatrixDisplay at 0x7f4e67954d00>"
      ]
     },
     "execution_count": 79,
     "metadata": {},
     "output_type": "execute_result"
    },
    {
     "data": {
      "image/png": "[encoded data removed]",
      "text/plain": [
       "<Figure size 640x480 with 2 Axes>"
      ]
     },
     "metadata": {},
     "output_type": "display_data"
    }
   ],
   "source": [
    "# Get rating predictions\n",
    "y_pred = SVM.predict(X_test_scaled)\n",
    "\n",
    "# Generate confusion matrix\n",
    "cf_matrix = confusion_matrix(y_test_sample, y_pred)\n",
    "print(classification_report(y_test_sample, y_pred))\n",
    "\n",
    "# Visualizing confusion matrix\n",
    "ConfusionMatrixDisplay.from_estimator(SVM, X_test_scaled, y_test_sample)"
   ]
  },
  {
   "cell_type": "markdown",
   "id": "6b2c1736",
   "metadata": {
    "tags": []
   },
   "source": [
    "<a id=\"xgb\"></a>\n",
    "## XGBoost"
   ]
  },
  {
   "cell_type": "code",
   "execution_count": null,
   "id": "0bbcef06-c4eb-4e7f-bd04-f293638a8822",
   "metadata": {
    "tags": []
   },
   "outputs": [],
   "source": [
    "# Creating a pipeline and grid search for XGBoost\n",
    "estimators = [('model', XGBClassifier())]\n",
    "\n",
    "pipe = Pipeline(estimators)\n",
    "\n",
    "param_grid = {\n",
    "    'model': [XGBClassifier()],\n",
    "    'model__max_depth': [3, 4, 5, 6],\n",
    "    'model__learning_rate': [0.1, 0.01, 0.001],\n",
    "    'model__n_estimators': [100, 200, 300],\n",
    "}\n",
    "\n",
    "grid_XGB = GridSearchCV(pipe, param_grid, cv=5)\n",
    "fittedgrid_XGB = grid_XGB.fit(X_remainder_scaled, y_remainder_sample)"
   ]
  },
  {
   "cell_type": "code",
   "execution_count": 82,
   "id": "108fd890-d8e9-4073-8b69-c87ab74962a5",
   "metadata": {},
   "outputs": [
    {
     "data": {
      "text/plain": [
       "{'model': XGBClassifier(base_score=None, booster=None, callbacks=None,\n",
       "               colsample_bylevel=None, colsample_bynode=None,\n",
       "               colsample_bytree=None, early_stopping_rounds=None,\n",
       "               enable_categorical=False, eval_metric=None, feature_types=None,\n",
       "               gamma=None, gpu_id=None, grow_policy=None, importance_type=None,\n",
       "               interaction_constraints=None, learning_rate=0.1, max_bin=None,\n",
       "               max_cat_threshold=None, max_cat_to_onehot=None,\n",
       "               max_delta_step=None, max_depth=6, max_leaves=None,\n",
       "               min_child_weight=None, missing=nan, monotone_constraints=None,\n",
       "               n_estimators=300, n_jobs=None, num_parallel_tree=None,\n",
       "               predictor=None, random_state=None, ...),\n",
       " 'model__learning_rate': 0.1,\n",
       " 'model__max_depth': 6,\n",
       " 'model__n_estimators': 300}"
      ]
     },
     "execution_count": 82,
     "metadata": {},
     "output_type": "execute_result"
    }
   ],
   "source": [
    "fittedgrid_XGB.best_params_"
   ]
  },
  {
   "cell_type": "code",
   "execution_count": 83,
   "id": "db519954-a9b2-443a-ad1a-d66449f07c12",
   "metadata": {},
   "outputs": [],
   "source": [
    "# saving the models\n",
    "with open('gridXGB.pkl', 'wb') as f:\n",
    "    pickle.dump(fittedgrid_XGB, f)"
   ]
  },
  {
   "cell_type": "code",
   "execution_count": 84,
   "id": "27faa4df-bbed-4c26-acd3-9c3b157723da",
   "metadata": {},
   "outputs": [
    {
     "data": {
      "text/plain": [
       "0.801"
      ]
     },
     "execution_count": 84,
     "metadata": {},
     "output_type": "execute_result"
    }
   ],
   "source": [
    "# scoring the best model\n",
    "XGB = XGBClassifier(learning_rate=0.1, max_depth=6, n_estimators = 300)\n",
    "XGB.fit(X_remainder_scaled, y_remainder_sample) # Using remainder insted of validation as no hyperparameter optimization needed\n",
    "XGB.score(X_test_scaled2, y_test_sample)"
   ]
  },
  {
   "cell_type": "markdown",
   "id": "39fe649f-c3db-41f1-a77c-e4afb57173b6",
   "metadata": {},
   "source": [
    "| Model                                | Accuracy |\n",
    "|--------------------------------------|----------|\n",
    "| Logistic Regression (lbfgs)          | 79.29%   |\n",
    "| Logistic Regression (liblinear)      | 80.08%   |\n",
    "| Logistic Regression (saga)           | 79.34%   |\n",
    "| Logistic Regression (Gridsearch)     | 80.64%   |\n",
    "| SVM (Default Parameters)             | 78.65%   |\n",
    "| XGBoost (Gridsearch)                 | 80.10%   |"
   ]
  },
  {
   "cell_type": "markdown",
   "id": "209fca7d",
   "metadata": {},
   "source": [
    "The best hyperparameter for XGBoost is when `learning_rate` is 0.1, `max_depth` is 6, and `n_estimators` is 300 with a test accuracy of 80.10%. Just slightly below the best performing model by 0.5%. The model seems to be improving still since the best hyper parameter were the highest learning_rate, max_depth, and n_estimators trained with so the model might be able to improve if those hyperparameters were set higher. Next, check the confusion matrix to see if maybe this model might be better in those metrics."
   ]
  },
  {
   "cell_type": "code",
   "execution_count": 87,
   "id": "ace90e43",
   "metadata": {
    "tags": []
   },
   "outputs": [
    {
     "name": "stdout",
     "output_type": "stream",
     "text": [
      "              precision    recall  f1-score   support\n",
      "\n",
      "           0       0.81      0.65      0.72      3982\n",
      "           1       0.80      0.90      0.84      6018\n",
      "\n",
      "    accuracy                           0.80     10000\n",
      "   macro avg       0.80      0.78      0.78     10000\n",
      "weighted avg       0.80      0.80      0.80     10000\n",
      "\n"
     ]
    },
    {
     "data": {
      "text/plain": [
       "<sklearn.metrics._plot.confusion_matrix.ConfusionMatrixDisplay at 0x7f4e0e61a1d0>"
      ]
     },
     "execution_count": 87,
     "metadata": {},
     "output_type": "execute_result"
    },
    {
     "data": {
      "image/png": "[encoded data removed]",
      "text/plain": [
       "<Figure size 640x480 with 2 Axes>"
      ]
     },
     "metadata": {},
     "output_type": "display_data"
    }
   ],
   "source": [
    "# Get rating predictions\n",
    "y_pred = XGB.predict(X_test_scaled2)\n",
    "\n",
    "# Generate confusion matrix\n",
    "cf_matrix = confusion_matrix(y_test_sample, y_pred)\n",
    "print(classification_report(y_test_sample, y_pred))\n",
    "\n",
    "# Visualizing confusion matrix\n",
    "ConfusionMatrixDisplay.from_estimator(XGB, X_test_scaled2, y_test_sample)"
   ]
  },
  {
   "cell_type": "markdown",
   "id": "de18d381-727f-4931-b9ec-48b9bdbc925f",
   "metadata": {},
   "source": [
    "XGBoost seems to also be affected by the majority class with a 25% difference for recall between class 0 and 1. When comparing this result to the best logistic regression model, it didn't perform any better. Next, another grid search using more extreme hyperparameters will be performed to see if the model hyperparameters needs to be further increased."
   ]
  },
  {
   "cell_type": "code",
   "execution_count": null,
   "id": "02cbc4f6",
   "metadata": {
    "tags": []
   },
   "outputs": [],
   "source": [
    "# Another gridsearch to further finetune\n",
    "estimators = [('model', XGBClassifier())]\n",
    "\n",
    "pipe = Pipeline(estimators)\n",
    "\n",
    "param_grid = {\n",
    "    'model': [XGBClassifier()],\n",
    "    'model__max_depth': [5, 6], # The larger the depth, the longer it takes to run\n",
    "    'model__learning_rate': [1, 0.5], \n",
    "    'model__n_estimators': [500, 1000],\n",
    "}\n",
    "\n",
    "grid_XGB2 = GridSearchCV(pipe, param_grid, cv=5)\n",
    "fittedgrid_XGB2 = grid_XGB2.fit(X_remainder_scaled, y_remainder_sample)"
   ]
  },
  {
   "cell_type": "code",
   "execution_count": 91,
   "id": "01ce410e-c261-47d0-a653-cd0569dd3d81",
   "metadata": {},
   "outputs": [
    {
     "data": {
      "text/plain": [
       "{'model': XGBClassifier(base_score=None, booster=None, callbacks=None,\n",
       "               colsample_bylevel=None, colsample_bynode=None,\n",
       "               colsample_bytree=None, early_stopping_rounds=None,\n",
       "               enable_categorical=False, eval_metric=None, feature_types=None,\n",
       "               gamma=None, gpu_id=None, grow_policy=None, importance_type=None,\n",
       "               interaction_constraints=None, learning_rate=0.5, max_bin=None,\n",
       "               max_cat_threshold=None, max_cat_to_onehot=None,\n",
       "               max_delta_step=None, max_depth=5, max_leaves=None,\n",
       "               min_child_weight=None, missing=nan, monotone_constraints=None,\n",
       "               n_estimators=500, n_jobs=None, num_parallel_tree=None,\n",
       "               predictor=None, random_state=None, ...),\n",
       " 'model__learning_rate': 0.5,\n",
       " 'model__max_depth': 5,\n",
       " 'model__n_estimators': 500}"
      ]
     },
     "execution_count": 91,
     "metadata": {},
     "output_type": "execute_result"
    }
   ],
   "source": [
    "# Get the best parameters and score\n",
    "XGB_params2 = fittedgrid_XGB2.best_params_\n",
    "XGB_params2"
   ]
  },
  {
   "cell_type": "markdown",
   "id": "0b05e264-973f-4b3b-b50e-d8ad881d62e6",
   "metadata": {},
   "source": [
    "Since the best hyperparameters for this grid search isn't the largest values but smallest values means that the hyperparameter is close to being one of the best so further gridsearch don't need to be performed."
   ]
  },
  {
   "cell_type": "code",
   "execution_count": 92,
   "id": "5bb70ede-9cb6-47f4-8d0e-b84a48adfd01",
   "metadata": {},
   "outputs": [
    {
     "data": {
      "text/plain": [
       "0.8065"
      ]
     },
     "execution_count": 92,
     "metadata": {},
     "output_type": "execute_result"
    }
   ],
   "source": [
    "# scoring the best model\n",
    "XGB2 = XGBClassifier(learning_rate=0.5, max_depth=5, n_estimators = 500)\n",
    "XGB2.fit(X_remainder_scaled, y_remainder_sample) # Using remainder insted of validation as no hyperparameter optimization needed\n",
    "XGB2.score(X_test_scaled2, y_test_sample)"
   ]
  },
  {
   "cell_type": "markdown",
   "id": "6fb89c2c-1078-4f4d-8531-0b1867b30086",
   "metadata": {},
   "source": [
    "| Model                                | Accuracy |\n",
    "|--------------------------------------|----------|\n",
    "| Logistic Regression (lbfgs)          | 79.29%   |\n",
    "| Logistic Regression (liblinear)      | 80.08%   |\n",
    "| Logistic Regression (saga)           | 79.34%   |\n",
    "| Logistic Regression (Gridsearch)     | 80.64%   |\n",
    "| SVM (Default Parameters)             | 78.65%   |\n",
    "| XGBoost (Gridsearch)                 | 80.10%   |\n",
    "| XGBoost (Gridsearch pt.2)            | 80.65%   |"
   ]
  },
  {
   "cell_type": "markdown",
   "id": "52a4902b-c460-433d-9a50-3608d3acdc6c",
   "metadata": {},
   "source": [
    "The model has a better test score accuracy by 0.55% than the previous XGBoost grid search. It is also 0.01% better than the best logistic regression model. Therefore, this is the best performing model in terms of test score accuracy (Note: 0.01% might not be significant and could be due to chance). Next, check to see if its the best performing in precision and recall as well. "
   ]
  },
  {
   "cell_type": "code",
   "execution_count": 94,
   "id": "c049166b-6ce9-4a40-a3d6-0ecb7b1efc42",
   "metadata": {},
   "outputs": [],
   "source": [
    "# saving the model\n",
    "with open('gridXGB2.pkl', 'wb') as f:\n",
    "    pickle.dump(fittedgrid_XGB2, f)"
   ]
  },
  {
   "cell_type": "code",
   "execution_count": 93,
   "id": "1791eac9-6ab8-40e0-915c-b069fd4bed8d",
   "metadata": {},
   "outputs": [
    {
     "name": "stdout",
     "output_type": "stream",
     "text": [
      "              precision    recall  f1-score   support\n",
      "\n",
      "           0       0.80      0.69      0.74      3982\n",
      "           1       0.81      0.89      0.85      6018\n",
      "\n",
      "    accuracy                           0.81     10000\n",
      "   macro avg       0.80      0.79      0.79     10000\n",
      "weighted avg       0.81      0.81      0.80     10000\n",
      "\n"
     ]
    },
    {
     "data": {
      "text/plain": [
       "<sklearn.metrics._plot.confusion_matrix.ConfusionMatrixDisplay at 0x7f4e0e322e60>"
      ]
     },
     "execution_count": 93,
     "metadata": {},
     "output_type": "execute_result"
    },
    {
     "data": {
      "image/png": "[encoded data removed]",
      "text/plain": [
       "<Figure size 640x480 with 2 Axes>"
      ]
     },
     "metadata": {},
     "output_type": "display_data"
    }
   ],
   "source": [
    "# Get rating predictions\n",
    "y_pred = XGB2.predict(X_test_scaled2)\n",
    "\n",
    "# Generate confusion matrix\n",
    "cf_matrix = confusion_matrix(y_test_sample, y_pred)\n",
    "print(classification_report(y_test_sample, y_pred))\n",
    "\n",
    "# Visualizing confusion matrix\n",
    "ConfusionMatrixDisplay.from_estimator(XGB2, X_test_scaled2, y_test_sample)"
   ]
  },
  {
   "cell_type": "markdown",
   "id": "e9bb3198-1de9-477b-9635-e0240162d56c",
   "metadata": {},
   "source": [
    "It is indeed the best model in precision and recall as well as it is greater than the previous best model by 0.01 increase in precision of class 1, and 0.02 increase in recall of class 0, where the other 2 metrics are equal between the two models. Therefore, this XGBoost is the best performing model for all measuring metrics but it is still not the best prediction system as the system overpredicts the majority class."
   ]
  },
  {
   "cell_type": "code",
   "execution_count": 63,
   "id": "be3de784",
   "metadata": {},
   "outputs": [],
   "source": [
    "X_train_review_sample = X_train_sample['review_body']\n",
    "X_valid_review_sample = X_valid_sample['review_body']\n",
    "X_test_review_sample = X_test_sample['review_body']\n",
    "\n",
    "# X_remainder will be needed for when cv is being done\n",
    "X_remainder_review_sample = X_remainder_sample['review_body']"
   ]
  },
  {
   "cell_type": "markdown",
   "id": "1c8f92f6-61fd-4bdd-8cd5-b84dd2a54927",
   "metadata": {},
   "source": [
    "<a id=\"next\"></a>\n",
    "## Next Steps"
   ]
  },
  {
   "cell_type": "markdown",
   "id": "778e92f0-5724-4e10-a2f3-677248c6779c",
   "metadata": {},
   "source": [
    "A major problem that kept arising while performing these models is the f1 score of class 0 being so low compared to class 1 and that is because of the imbalance dataset. To solve this problem, downsampling to make it a balanced dataset might resolve this issue and then the same modeling can be performed to see if it results in a better outcome. This will be explored in the next notebook. "
   ]
  }
 ],
 "metadata": {
  "environment": {
   "kernel": "python3",
   "name": "tf2-gpu.2-12.m109",
   "type": "gcloud",
   "uri": "gcr.io/deeplearning-platform-release/tf2-gpu.2-12:m109"
  },
  "kernelspec": {
   "display_name": "Python 3 (ipykernel)",
   "language": "python",
   "name": "python3"
  },
  "language_info": {
   "codemirror_mode": {
    "name": "ipython",
    "version": 3
   },
   "file_extension": ".py",
   "mimetype": "text/x-python",
   "name": "python",
   "nbconvert_exporter": "python",
   "pygments_lexer": "ipython3",
   "version": "3.10.9"
  }
 },
 "nbformat": 4,
 "nbformat_minor": 5
}
