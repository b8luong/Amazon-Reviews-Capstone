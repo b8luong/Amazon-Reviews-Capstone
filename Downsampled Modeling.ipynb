{
 "cells": [
  {
   "cell_type": "markdown",
   "id": "8a00ade7",
   "metadata": {
    "tags": []
   },
   "source": [
    "# Downsampled Modeling"
   ]
  },
  {
   "cell_type": "markdown",
   "id": "79ee1278-a450-4c86-823a-341e5f3f2250",
   "metadata": {},
   "source": [
    "# Table of Contents\n",
    "## [Notebook Introduction](#intro)\n",
    "## [Data Preprocessing](#data)\n",
    "### [Train/Test Split](#split)\n",
    "### [Vectorization](#vector)\n",
    "## [Logistic Regression](#lr)\n",
    "## [Support Vector Machines](#svm)\n",
    "## [XGBoost](#xgb)\n",
    "## [Full Dataset](#full)\n",
    "## [Next Steps](#next)"
   ]
  },
  {
   "cell_type": "markdown",
   "id": "6c4492f0-d9f6-4bad-b884-fc7b64324843",
   "metadata": {},
   "source": [
    "<a id=\"intro\"></a>\n",
    "## Notebook Introduction"
   ]
  },
  {
   "cell_type": "markdown",
   "id": "81e30f7c",
   "metadata": {},
   "source": [
    "The purpose of this notebook is to experiment with modeling where the classes are perfectly balanced to see if it results in a better model than the previous imbalanced dataset."
   ]
  },
  {
   "cell_type": "markdown",
   "id": "830282ef",
   "metadata": {},
   "source": [
    "<a id=\"data\"></a>\n",
    "## Data Preprocessing"
   ]
  },
  {
   "cell_type": "code",
   "execution_count": 132,
   "id": "3a57f89b",
   "metadata": {},
   "outputs": [],
   "source": [
    "import pandas as pd\n",
    "import numpy as np\n",
    "import matplotlib.pyplot as plt\n",
    "import pickle\n",
    "import os\n",
    "from sklearn.model_selection import train_test_split\n",
    "from sklearn.feature_extraction.text import CountVectorizer\n",
    "from nltk.stem import PorterStemmer\n",
    "from nltk.tokenize import word_tokenize\n",
    "import seaborn as sns\n",
    "from sklearn.model_selection import cross_val_score\n",
    "from sklearn.metrics import confusion_matrix, ConfusionMatrixDisplay\n",
    "from sklearn.preprocessing import StandardScaler\n",
    "from sklearn.linear_model import LogisticRegression\n",
    "from sklearn.metrics import classification_report\n",
    "from sklearn.model_selection import GridSearchCV\n",
    "from sklearn import svm\n",
    "from sklearn.pipeline import Pipeline\n",
    "from xgboost import XGBClassifier\n",
    "import scipy.sparse as sp\n",
    "from scipy.sparse import csr_matrix\n"
   ]
  },
  {
   "cell_type": "code",
   "execution_count": 2,
   "id": "45ec520c",
   "metadata": {
    "tags": []
   },
   "outputs": [
    {
     "data": {
      "text/html": [
       "<div>\n",
       "<style scoped>\n",
       "    .dataframe tbody tr th:only-of-type {\n",
       "        vertical-align: middle;\n",
       "    }\n",
       "\n",
       "    .dataframe tbody tr th {\n",
       "        vertical-align: top;\n",
       "    }\n",
       "\n",
       "    .dataframe thead th {\n",
       "        text-align: right;\n",
       "    }\n",
       "</style>\n",
       "<table border=\"1\" class=\"dataframe\">\n",
       "  <thead>\n",
       "    <tr style=\"text-align: right;\">\n",
       "      <th></th>\n",
       "      <th>product_title</th>\n",
       "      <th>star_rating</th>\n",
       "      <th>helpful_votes</th>\n",
       "      <th>total_votes</th>\n",
       "      <th>verified_purchase</th>\n",
       "      <th>review_headline</th>\n",
       "      <th>review_body</th>\n",
       "      <th>year</th>\n",
       "      <th>month</th>\n",
       "    </tr>\n",
       "  </thead>\n",
       "  <tbody>\n",
       "    <tr>\n",
       "      <th>0</th>\n",
       "      <td>Minnetonka Men's Double Deerskin Softsole Mocc...</td>\n",
       "      <td>1</td>\n",
       "      <td>0</td>\n",
       "      <td>0</td>\n",
       "      <td>1</td>\n",
       "      <td></td>\n",
       "      <td>do not buy  really didn t start to wear them u...</td>\n",
       "      <td>2015.0</td>\n",
       "      <td>8.0</td>\n",
       "    </tr>\n",
       "    <tr>\n",
       "      <th>1</th>\n",
       "      <td>Teva Men's Pajaro Flip-Flop</td>\n",
       "      <td>5</td>\n",
       "      <td>0</td>\n",
       "      <td>0</td>\n",
       "      <td>1</td>\n",
       "      <td>super flip flop</td>\n",
       "      <td>provides great cushion as well as archsupport</td>\n",
       "      <td>2015.0</td>\n",
       "      <td>8.0</td>\n",
       "    </tr>\n",
       "    <tr>\n",
       "      <th>3</th>\n",
       "      <td>adidas Men's 10K Lifestyle Runner Sneaker</td>\n",
       "      <td>5</td>\n",
       "      <td>0</td>\n",
       "      <td>6</td>\n",
       "      <td>1</td>\n",
       "      <td>badass</td>\n",
       "      <td>getting what u see</td>\n",
       "      <td>2015.0</td>\n",
       "      <td>8.0</td>\n",
       "    </tr>\n",
       "    <tr>\n",
       "      <th>4</th>\n",
       "      <td>OverBling Sneakers for Men Casual Men Shoes Ge...</td>\n",
       "      <td>3</td>\n",
       "      <td>0</td>\n",
       "      <td>0</td>\n",
       "      <td>1</td>\n",
       "      <td>three stars</td>\n",
       "      <td>small</td>\n",
       "      <td>2015.0</td>\n",
       "      <td>8.0</td>\n",
       "    </tr>\n",
       "    <tr>\n",
       "      <th>5</th>\n",
       "      <td>MESSI 15.3 FG/AG SOCCER SHOES (8.5)</td>\n",
       "      <td>5</td>\n",
       "      <td>1</td>\n",
       "      <td>1</td>\n",
       "      <td>1</td>\n",
       "      <td>five stars</td>\n",
       "      <td>my 13 year old son loved these shoes excellent...</td>\n",
       "      <td>2015.0</td>\n",
       "      <td>8.0</td>\n",
       "    </tr>\n",
       "    <tr>\n",
       "      <th>...</th>\n",
       "      <td>...</td>\n",
       "      <td>...</td>\n",
       "      <td>...</td>\n",
       "      <td>...</td>\n",
       "      <td>...</td>\n",
       "      <td>...</td>\n",
       "      <td>...</td>\n",
       "      <td>...</td>\n",
       "      <td>...</td>\n",
       "    </tr>\n",
       "    <tr>\n",
       "      <th>4358810</th>\n",
       "      <td>Women's Evette Mid-Shaft Boots</td>\n",
       "      <td>1</td>\n",
       "      <td>0</td>\n",
       "      <td>0</td>\n",
       "      <td>0</td>\n",
       "      <td>what a waste</td>\n",
       "      <td>i purchased this shoe because it looked good  ...</td>\n",
       "      <td>2002.0</td>\n",
       "      <td>10.0</td>\n",
       "    </tr>\n",
       "    <tr>\n",
       "      <th>4358811</th>\n",
       "      <td>Women's Bree Suede Moc Snow Joggers</td>\n",
       "      <td>5</td>\n",
       "      <td>1</td>\n",
       "      <td>1</td>\n",
       "      <td>0</td>\n",
       "      <td>you want it   you need it</td>\n",
       "      <td>this little shoe boot is so great if you re th...</td>\n",
       "      <td>2002.0</td>\n",
       "      <td>10.0</td>\n",
       "    </tr>\n",
       "    <tr>\n",
       "      <th>4358812</th>\n",
       "      <td>Women's CanvasMule Shoes</td>\n",
       "      <td>5</td>\n",
       "      <td>0</td>\n",
       "      <td>0</td>\n",
       "      <td>0</td>\n",
       "      <td>cute</td>\n",
       "      <td>the backless mule is very comfortable   cute  ...</td>\n",
       "      <td>2002.0</td>\n",
       "      <td>9.0</td>\n",
       "    </tr>\n",
       "    <tr>\n",
       "      <th>4358813</th>\n",
       "      <td>Birki's Super Birki Unisex Clog</td>\n",
       "      <td>5</td>\n",
       "      <td>10</td>\n",
       "      <td>11</td>\n",
       "      <td>0</td>\n",
       "      <td>graceless and immense   comfy and cool</td>\n",
       "      <td>my garden clogs make my feet look huge  and ev...</td>\n",
       "      <td>2002.0</td>\n",
       "      <td>3.0</td>\n",
       "    </tr>\n",
       "    <tr>\n",
       "      <th>4358815</th>\n",
       "      <td>Fox Men's Featherlite Shoe Lace-Up</td>\n",
       "      <td>4</td>\n",
       "      <td>1</td>\n",
       "      <td>6</td>\n",
       "      <td>0</td>\n",
       "      <td>get it all</td>\n",
       "      <td>if you are a fan of  quot extreme sports quot ...</td>\n",
       "      <td>2000.0</td>\n",
       "      <td>4.0</td>\n",
       "    </tr>\n",
       "  </tbody>\n",
       "</table>\n",
       "<p>3844537 rows × 9 columns</p>\n",
       "</div>"
      ],
      "text/plain": [
       "                                             product_title  star_rating  \\\n",
       "0        Minnetonka Men's Double Deerskin Softsole Mocc...            1   \n",
       "1                              Teva Men's Pajaro Flip-Flop            5   \n",
       "3                adidas Men's 10K Lifestyle Runner Sneaker            5   \n",
       "4        OverBling Sneakers for Men Casual Men Shoes Ge...            3   \n",
       "5                      MESSI 15.3 FG/AG SOCCER SHOES (8.5)            5   \n",
       "...                                                    ...          ...   \n",
       "4358810                     Women's Evette Mid-Shaft Boots            1   \n",
       "4358811                Women's Bree Suede Moc Snow Joggers            5   \n",
       "4358812                           Women's CanvasMule Shoes            5   \n",
       "4358813                    Birki's Super Birki Unisex Clog            5   \n",
       "4358815                 Fox Men's Featherlite Shoe Lace-Up            4   \n",
       "\n",
       "         helpful_votes  total_votes  verified_purchase  \\\n",
       "0                    0            0                  1   \n",
       "1                    0            0                  1   \n",
       "3                    0            6                  1   \n",
       "4                    0            0                  1   \n",
       "5                    1            1                  1   \n",
       "...                ...          ...                ...   \n",
       "4358810              0            0                  0   \n",
       "4358811              1            1                  0   \n",
       "4358812              0            0                  0   \n",
       "4358813             10           11                  0   \n",
       "4358815              1            6                  0   \n",
       "\n",
       "                                review_headline  \\\n",
       "0                                                 \n",
       "1                               super flip flop   \n",
       "3                                        badass   \n",
       "4                                   three stars   \n",
       "5                                    five stars   \n",
       "...                                         ...   \n",
       "4358810                            what a waste   \n",
       "4358811              you want it   you need it    \n",
       "4358812                                    cute   \n",
       "4358813  graceless and immense   comfy and cool   \n",
       "4358815                              get it all   \n",
       "\n",
       "                                               review_body    year  month  \n",
       "0        do not buy  really didn t start to wear them u...  2015.0    8.0  \n",
       "1            provides great cushion as well as archsupport  2015.0    8.0  \n",
       "3                                       getting what u see  2015.0    8.0  \n",
       "4                                                    small  2015.0    8.0  \n",
       "5        my 13 year old son loved these shoes excellent...  2015.0    8.0  \n",
       "...                                                    ...     ...    ...  \n",
       "4358810  i purchased this shoe because it looked good  ...  2002.0   10.0  \n",
       "4358811  this little shoe boot is so great if you re th...  2002.0   10.0  \n",
       "4358812  the backless mule is very comfortable   cute  ...  2002.0    9.0  \n",
       "4358813  my garden clogs make my feet look huge  and ev...  2002.0    3.0  \n",
       "4358815  if you are a fan of  quot extreme sports quot ...  2000.0    4.0  \n",
       "\n",
       "[3844537 rows x 9 columns]"
      ]
     },
     "execution_count": 2,
     "metadata": {},
     "output_type": "execute_result"
    }
   ],
   "source": [
    "with open('df.pkl', 'rb') as f:\n",
    "    df = pickle.load(f)\n",
    "df"
   ]
  },
  {
   "cell_type": "code",
   "execution_count": 3,
   "id": "c046e439",
   "metadata": {
    "tags": []
   },
   "outputs": [
    {
     "data": {
      "text/html": [
       "<div>\n",
       "<style scoped>\n",
       "    .dataframe tbody tr th:only-of-type {\n",
       "        vertical-align: middle;\n",
       "    }\n",
       "\n",
       "    .dataframe tbody tr th {\n",
       "        vertical-align: top;\n",
       "    }\n",
       "\n",
       "    .dataframe thead th {\n",
       "        text-align: right;\n",
       "    }\n",
       "</style>\n",
       "<table border=\"1\" class=\"dataframe\">\n",
       "  <thead>\n",
       "    <tr style=\"text-align: right;\">\n",
       "      <th></th>\n",
       "      <th>product_title</th>\n",
       "      <th>star_rating</th>\n",
       "      <th>helpful_votes</th>\n",
       "      <th>total_votes</th>\n",
       "      <th>verified_purchase</th>\n",
       "      <th>review_headline</th>\n",
       "      <th>review_body</th>\n",
       "      <th>year</th>\n",
       "      <th>month</th>\n",
       "    </tr>\n",
       "  </thead>\n",
       "  <tbody>\n",
       "    <tr>\n",
       "      <th>0</th>\n",
       "      <td>Minnetonka Men's Double Deerskin Softsole Mocc...</td>\n",
       "      <td>0</td>\n",
       "      <td>0</td>\n",
       "      <td>0</td>\n",
       "      <td>1</td>\n",
       "      <td></td>\n",
       "      <td>do not buy  really didn t start to wear them u...</td>\n",
       "      <td>2015.0</td>\n",
       "      <td>8.0</td>\n",
       "    </tr>\n",
       "    <tr>\n",
       "      <th>1</th>\n",
       "      <td>Teva Men's Pajaro Flip-Flop</td>\n",
       "      <td>1</td>\n",
       "      <td>0</td>\n",
       "      <td>0</td>\n",
       "      <td>1</td>\n",
       "      <td>super flip flop</td>\n",
       "      <td>provides great cushion as well as archsupport</td>\n",
       "      <td>2015.0</td>\n",
       "      <td>8.0</td>\n",
       "    </tr>\n",
       "    <tr>\n",
       "      <th>3</th>\n",
       "      <td>adidas Men's 10K Lifestyle Runner Sneaker</td>\n",
       "      <td>1</td>\n",
       "      <td>0</td>\n",
       "      <td>6</td>\n",
       "      <td>1</td>\n",
       "      <td>badass</td>\n",
       "      <td>getting what u see</td>\n",
       "      <td>2015.0</td>\n",
       "      <td>8.0</td>\n",
       "    </tr>\n",
       "    <tr>\n",
       "      <th>4</th>\n",
       "      <td>OverBling Sneakers for Men Casual Men Shoes Ge...</td>\n",
       "      <td>0</td>\n",
       "      <td>0</td>\n",
       "      <td>0</td>\n",
       "      <td>1</td>\n",
       "      <td>three stars</td>\n",
       "      <td>small</td>\n",
       "      <td>2015.0</td>\n",
       "      <td>8.0</td>\n",
       "    </tr>\n",
       "    <tr>\n",
       "      <th>5</th>\n",
       "      <td>MESSI 15.3 FG/AG SOCCER SHOES (8.5)</td>\n",
       "      <td>1</td>\n",
       "      <td>1</td>\n",
       "      <td>1</td>\n",
       "      <td>1</td>\n",
       "      <td>five stars</td>\n",
       "      <td>my 13 year old son loved these shoes excellent...</td>\n",
       "      <td>2015.0</td>\n",
       "      <td>8.0</td>\n",
       "    </tr>\n",
       "    <tr>\n",
       "      <th>...</th>\n",
       "      <td>...</td>\n",
       "      <td>...</td>\n",
       "      <td>...</td>\n",
       "      <td>...</td>\n",
       "      <td>...</td>\n",
       "      <td>...</td>\n",
       "      <td>...</td>\n",
       "      <td>...</td>\n",
       "      <td>...</td>\n",
       "    </tr>\n",
       "    <tr>\n",
       "      <th>4358810</th>\n",
       "      <td>Women's Evette Mid-Shaft Boots</td>\n",
       "      <td>0</td>\n",
       "      <td>0</td>\n",
       "      <td>0</td>\n",
       "      <td>0</td>\n",
       "      <td>what a waste</td>\n",
       "      <td>i purchased this shoe because it looked good  ...</td>\n",
       "      <td>2002.0</td>\n",
       "      <td>10.0</td>\n",
       "    </tr>\n",
       "    <tr>\n",
       "      <th>4358811</th>\n",
       "      <td>Women's Bree Suede Moc Snow Joggers</td>\n",
       "      <td>1</td>\n",
       "      <td>1</td>\n",
       "      <td>1</td>\n",
       "      <td>0</td>\n",
       "      <td>you want it   you need it</td>\n",
       "      <td>this little shoe boot is so great if you re th...</td>\n",
       "      <td>2002.0</td>\n",
       "      <td>10.0</td>\n",
       "    </tr>\n",
       "    <tr>\n",
       "      <th>4358812</th>\n",
       "      <td>Women's CanvasMule Shoes</td>\n",
       "      <td>1</td>\n",
       "      <td>0</td>\n",
       "      <td>0</td>\n",
       "      <td>0</td>\n",
       "      <td>cute</td>\n",
       "      <td>the backless mule is very comfortable   cute  ...</td>\n",
       "      <td>2002.0</td>\n",
       "      <td>9.0</td>\n",
       "    </tr>\n",
       "    <tr>\n",
       "      <th>4358813</th>\n",
       "      <td>Birki's Super Birki Unisex Clog</td>\n",
       "      <td>1</td>\n",
       "      <td>10</td>\n",
       "      <td>11</td>\n",
       "      <td>0</td>\n",
       "      <td>graceless and immense   comfy and cool</td>\n",
       "      <td>my garden clogs make my feet look huge  and ev...</td>\n",
       "      <td>2002.0</td>\n",
       "      <td>3.0</td>\n",
       "    </tr>\n",
       "    <tr>\n",
       "      <th>4358815</th>\n",
       "      <td>Fox Men's Featherlite Shoe Lace-Up</td>\n",
       "      <td>0</td>\n",
       "      <td>1</td>\n",
       "      <td>6</td>\n",
       "      <td>0</td>\n",
       "      <td>get it all</td>\n",
       "      <td>if you are a fan of  quot extreme sports quot ...</td>\n",
       "      <td>2000.0</td>\n",
       "      <td>4.0</td>\n",
       "    </tr>\n",
       "  </tbody>\n",
       "</table>\n",
       "<p>3844537 rows × 9 columns</p>\n",
       "</div>"
      ],
      "text/plain": [
       "                                             product_title  star_rating  \\\n",
       "0        Minnetonka Men's Double Deerskin Softsole Mocc...            0   \n",
       "1                              Teva Men's Pajaro Flip-Flop            1   \n",
       "3                adidas Men's 10K Lifestyle Runner Sneaker            1   \n",
       "4        OverBling Sneakers for Men Casual Men Shoes Ge...            0   \n",
       "5                      MESSI 15.3 FG/AG SOCCER SHOES (8.5)            1   \n",
       "...                                                    ...          ...   \n",
       "4358810                     Women's Evette Mid-Shaft Boots            0   \n",
       "4358811                Women's Bree Suede Moc Snow Joggers            1   \n",
       "4358812                           Women's CanvasMule Shoes            1   \n",
       "4358813                    Birki's Super Birki Unisex Clog            1   \n",
       "4358815                 Fox Men's Featherlite Shoe Lace-Up            0   \n",
       "\n",
       "         helpful_votes  total_votes  verified_purchase  \\\n",
       "0                    0            0                  1   \n",
       "1                    0            0                  1   \n",
       "3                    0            6                  1   \n",
       "4                    0            0                  1   \n",
       "5                    1            1                  1   \n",
       "...                ...          ...                ...   \n",
       "4358810              0            0                  0   \n",
       "4358811              1            1                  0   \n",
       "4358812              0            0                  0   \n",
       "4358813             10           11                  0   \n",
       "4358815              1            6                  0   \n",
       "\n",
       "                                review_headline  \\\n",
       "0                                                 \n",
       "1                               super flip flop   \n",
       "3                                        badass   \n",
       "4                                   three stars   \n",
       "5                                    five stars   \n",
       "...                                         ...   \n",
       "4358810                            what a waste   \n",
       "4358811              you want it   you need it    \n",
       "4358812                                    cute   \n",
       "4358813  graceless and immense   comfy and cool   \n",
       "4358815                              get it all   \n",
       "\n",
       "                                               review_body    year  month  \n",
       "0        do not buy  really didn t start to wear them u...  2015.0    8.0  \n",
       "1            provides great cushion as well as archsupport  2015.0    8.0  \n",
       "3                                       getting what u see  2015.0    8.0  \n",
       "4                                                    small  2015.0    8.0  \n",
       "5        my 13 year old son loved these shoes excellent...  2015.0    8.0  \n",
       "...                                                    ...     ...    ...  \n",
       "4358810  i purchased this shoe because it looked good  ...  2002.0   10.0  \n",
       "4358811  this little shoe boot is so great if you re th...  2002.0   10.0  \n",
       "4358812  the backless mule is very comfortable   cute  ...  2002.0    9.0  \n",
       "4358813  my garden clogs make my feet look huge  and ev...  2002.0    3.0  \n",
       "4358815  if you are a fan of  quot extreme sports quot ...  2000.0    4.0  \n",
       "\n",
       "[3844537 rows x 9 columns]"
      ]
     },
     "execution_count": 3,
     "metadata": {},
     "output_type": "execute_result"
    }
   ],
   "source": [
    "with open('2ClassDf.pkl', 'rb') as f:\n",
    "    df2 = pickle.load(f)\n",
    "df2"
   ]
  },
  {
   "cell_type": "markdown",
   "id": "bcc0acbf",
   "metadata": {},
   "source": [
    "First modeling will be done on a sample size of 50000 and then a test with regular sizes. The next steps would be to downsample 1 `star_rating` to the amount of 0 `star_rating`."
   ]
  },
  {
   "cell_type": "code",
   "execution_count": null,
   "id": "a7367451-a67f-4aeb-b634-80d042e4ef11",
   "metadata": {},
   "outputs": [],
   "source": [
    "bad_rating = df2[df2['star_rating']==0].sample(25000, random_state=1)\n",
    "good_rating = df2[df2['star_rating']==1].sample(25000, random_state=1) \n",
    "\n",
    "sampled_df = pd.concat([bad_rating, good_rating])"
   ]
  },
  {
   "cell_type": "code",
   "execution_count": 5,
   "id": "47a2f4e4",
   "metadata": {},
   "outputs": [
    {
     "data": {
      "text/html": [
       "<div>\n",
       "<style scoped>\n",
       "    .dataframe tbody tr th:only-of-type {\n",
       "        vertical-align: middle;\n",
       "    }\n",
       "\n",
       "    .dataframe tbody tr th {\n",
       "        vertical-align: top;\n",
       "    }\n",
       "\n",
       "    .dataframe thead th {\n",
       "        text-align: right;\n",
       "    }\n",
       "</style>\n",
       "<table border=\"1\" class=\"dataframe\">\n",
       "  <thead>\n",
       "    <tr style=\"text-align: right;\">\n",
       "      <th></th>\n",
       "      <th>product_title</th>\n",
       "      <th>star_rating</th>\n",
       "      <th>helpful_votes</th>\n",
       "      <th>total_votes</th>\n",
       "      <th>verified_purchase</th>\n",
       "      <th>review_headline</th>\n",
       "      <th>review_body</th>\n",
       "      <th>year</th>\n",
       "      <th>month</th>\n",
       "    </tr>\n",
       "  </thead>\n",
       "  <tbody>\n",
       "    <tr>\n",
       "      <th>1342843</th>\n",
       "      <td>Calvin Klein Men's Wallace Suede Slip-On Loafer</td>\n",
       "      <td>0</td>\n",
       "      <td>3</td>\n",
       "      <td>3</td>\n",
       "      <td>0</td>\n",
       "      <td>many compliments  runs a bit large</td>\n",
       "      <td>these are great   i have had so many complimen...</td>\n",
       "      <td>2015.0</td>\n",
       "      <td>1.0</td>\n",
       "    </tr>\n",
       "    <tr>\n",
       "      <th>3279436</th>\n",
       "      <td>TOMS Women's Classics Flat</td>\n",
       "      <td>0</td>\n",
       "      <td>0</td>\n",
       "      <td>0</td>\n",
       "      <td>1</td>\n",
       "      <td>coming apart inner seams</td>\n",
       "      <td>shoes fit fine but are splitting at inside sea...</td>\n",
       "      <td>2013.0</td>\n",
       "      <td>9.0</td>\n",
       "    </tr>\n",
       "    <tr>\n",
       "      <th>2261409</th>\n",
       "      <td>Crocs Women's Springi Ballet Flat</td>\n",
       "      <td>0</td>\n",
       "      <td>0</td>\n",
       "      <td>0</td>\n",
       "      <td>1</td>\n",
       "      <td>three stars</td>\n",
       "      <td>shoe fits good and comfort  only issue is feet...</td>\n",
       "      <td>2014.0</td>\n",
       "      <td>8.0</td>\n",
       "    </tr>\n",
       "    <tr>\n",
       "      <th>1805498</th>\n",
       "      <td>Romika Slippers Romilastic 306 Khaki</td>\n",
       "      <td>0</td>\n",
       "      <td>0</td>\n",
       "      <td>0</td>\n",
       "      <td>1</td>\n",
       "      <td>beautiful color green</td>\n",
       "      <td>very soft and supple lightweight suede  nice h...</td>\n",
       "      <td>2014.0</td>\n",
       "      <td>11.0</td>\n",
       "    </tr>\n",
       "    <tr>\n",
       "      <th>3310089</th>\n",
       "      <td>Fergalicious Women's Gage Flat</td>\n",
       "      <td>0</td>\n",
       "      <td>0</td>\n",
       "      <td>0</td>\n",
       "      <td>1</td>\n",
       "      <td>cute but a bit tight in the toe</td>\n",
       "      <td>cute but a bit tight in the toe  they have str...</td>\n",
       "      <td>2013.0</td>\n",
       "      <td>8.0</td>\n",
       "    </tr>\n",
       "    <tr>\n",
       "      <th>...</th>\n",
       "      <td>...</td>\n",
       "      <td>...</td>\n",
       "      <td>...</td>\n",
       "      <td>...</td>\n",
       "      <td>...</td>\n",
       "      <td>...</td>\n",
       "      <td>...</td>\n",
       "      <td>...</td>\n",
       "      <td>...</td>\n",
       "    </tr>\n",
       "    <tr>\n",
       "      <th>1322903</th>\n",
       "      <td>Dansko Women's Riki Clog</td>\n",
       "      <td>1</td>\n",
       "      <td>0</td>\n",
       "      <td>0</td>\n",
       "      <td>1</td>\n",
       "      <td>comfy</td>\n",
       "      <td>awesome  true to size</td>\n",
       "      <td>2015.0</td>\n",
       "      <td>1.0</td>\n",
       "    </tr>\n",
       "    <tr>\n",
       "      <th>2237473</th>\n",
       "      <td>KLOGS USA NATALIE CLOGS ELECTRIC BLUE REPTILE ...</td>\n",
       "      <td>1</td>\n",
       "      <td>0</td>\n",
       "      <td>0</td>\n",
       "      <td>1</td>\n",
       "      <td>five stars</td>\n",
       "      <td></td>\n",
       "      <td>2014.0</td>\n",
       "      <td>8.0</td>\n",
       "    </tr>\n",
       "    <tr>\n",
       "      <th>2715510</th>\n",
       "      <td>UGG Australia Women's Classic Short Lizard Stu...</td>\n",
       "      <td>1</td>\n",
       "      <td>0</td>\n",
       "      <td>0</td>\n",
       "      <td>1</td>\n",
       "      <td>snug in my uggs</td>\n",
       "      <td>great designed fabric  not too blingy   doesn ...</td>\n",
       "      <td>2014.0</td>\n",
       "      <td>3.0</td>\n",
       "    </tr>\n",
       "    <tr>\n",
       "      <th>4167999</th>\n",
       "      <td>Rocket Dog Women's Joint Fashion Sneaker</td>\n",
       "      <td>1</td>\n",
       "      <td>1</td>\n",
       "      <td>1</td>\n",
       "      <td>0</td>\n",
       "      <td>rocket dog joint</td>\n",
       "      <td>these are by far the most comfortable sneakers...</td>\n",
       "      <td>2010.0</td>\n",
       "      <td>11.0</td>\n",
       "    </tr>\n",
       "    <tr>\n",
       "      <th>1780998</th>\n",
       "      <td>Bed Stu Women's Biltmore Motorcycle Boot</td>\n",
       "      <td>1</td>\n",
       "      <td>0</td>\n",
       "      <td>0</td>\n",
       "      <td>1</td>\n",
       "      <td>perfect seller</td>\n",
       "      <td>item as described  very fast shipping   i ll b...</td>\n",
       "      <td>2014.0</td>\n",
       "      <td>11.0</td>\n",
       "    </tr>\n",
       "  </tbody>\n",
       "</table>\n",
       "<p>50000 rows × 9 columns</p>\n",
       "</div>"
      ],
      "text/plain": [
       "                                             product_title  star_rating  \\\n",
       "1342843    Calvin Klein Men's Wallace Suede Slip-On Loafer            0   \n",
       "3279436                         TOMS Women's Classics Flat            0   \n",
       "2261409                  Crocs Women's Springi Ballet Flat            0   \n",
       "1805498               Romika Slippers Romilastic 306 Khaki            0   \n",
       "3310089                     Fergalicious Women's Gage Flat            0   \n",
       "...                                                    ...          ...   \n",
       "1322903                           Dansko Women's Riki Clog            1   \n",
       "2237473  KLOGS USA NATALIE CLOGS ELECTRIC BLUE REPTILE ...            1   \n",
       "2715510  UGG Australia Women's Classic Short Lizard Stu...            1   \n",
       "4167999           Rocket Dog Women's Joint Fashion Sneaker            1   \n",
       "1780998           Bed Stu Women's Biltmore Motorcycle Boot            1   \n",
       "\n",
       "         helpful_votes  total_votes  verified_purchase  \\\n",
       "1342843              3            3                  0   \n",
       "3279436              0            0                  1   \n",
       "2261409              0            0                  1   \n",
       "1805498              0            0                  1   \n",
       "3310089              0            0                  1   \n",
       "...                ...          ...                ...   \n",
       "1322903              0            0                  1   \n",
       "2237473              0            0                  1   \n",
       "2715510              0            0                  1   \n",
       "4167999              1            1                  0   \n",
       "1780998              0            0                  1   \n",
       "\n",
       "                             review_headline  \\\n",
       "1342843  many compliments  runs a bit large    \n",
       "3279436             coming apart inner seams   \n",
       "2261409                          three stars   \n",
       "1805498              beautiful color green     \n",
       "3310089      cute but a bit tight in the toe   \n",
       "...                                      ...   \n",
       "1322903                                comfy   \n",
       "2237473                           five stars   \n",
       "2715510                      snug in my uggs   \n",
       "4167999                     rocket dog joint   \n",
       "1780998                       perfect seller   \n",
       "\n",
       "                                               review_body    year  month  \n",
       "1342843  these are great   i have had so many complimen...  2015.0    1.0  \n",
       "3279436  shoes fit fine but are splitting at inside sea...  2013.0    9.0  \n",
       "2261409  shoe fits good and comfort  only issue is feet...  2014.0    8.0  \n",
       "1805498  very soft and supple lightweight suede  nice h...  2014.0   11.0  \n",
       "3310089  cute but a bit tight in the toe  they have str...  2013.0    8.0  \n",
       "...                                                    ...     ...    ...  \n",
       "1322903                              awesome  true to size  2015.0    1.0  \n",
       "2237473                                                     2014.0    8.0  \n",
       "2715510  great designed fabric  not too blingy   doesn ...  2014.0    3.0  \n",
       "4167999  these are by far the most comfortable sneakers...  2010.0   11.0  \n",
       "1780998  item as described  very fast shipping   i ll b...  2014.0   11.0  \n",
       "\n",
       "[50000 rows x 9 columns]"
      ]
     },
     "execution_count": 5,
     "metadata": {},
     "output_type": "execute_result"
    }
   ],
   "source": [
    "# Sanity check\n",
    "sampled_df"
   ]
  },
  {
   "cell_type": "markdown",
   "id": "eb4b2301-97f6-4f83-90ca-2aaa5826df54",
   "metadata": {},
   "source": [
    "From the previous notebook, `total_votes` had high collinearity with `helpful_votes` so it could be dropped."
   ]
  },
  {
   "cell_type": "code",
   "execution_count": 7,
   "id": "e0520c40",
   "metadata": {
    "scrolled": true
   },
   "outputs": [],
   "source": [
    "sampled_df = sampled_df.drop(columns='total_votes')"
   ]
  },
  {
   "cell_type": "code",
   "execution_count": 8,
   "id": "7a9befc7",
   "metadata": {},
   "outputs": [
    {
     "data": {
      "image/png": "[encoded data removed]",
      "text/plain": [
       "<Figure size 1000x600 with 1 Axes>"
      ]
     },
     "metadata": {},
     "output_type": "display_data"
    }
   ],
   "source": [
    "# Sanity check for class distribution\n",
    "figure = plt.figure(figsize=(10,6))\n",
    "sampled_df['star_rating'].value_counts(normalize=True).plot(kind='bar')\n",
    "plt.xlabel('Review Scores')\n",
    "plt.ylabel('Frequency')\n",
    "plt.title('Counts of Review Scores')\n",
    "plt.show()"
   ]
  },
  {
   "cell_type": "markdown",
   "id": "2a166c4c",
   "metadata": {},
   "source": [
    "The classes are now 50/50 without class imbalance which should improve the f1-score for class 0 as the model shouldn't be overpredicting class 1 which should increase recall for class 0. Next, the process of train/test split, vectorizing, and modeling will be the same as the previous notebook so the code snippets could be reused. "
   ]
  },
  {
   "cell_type": "markdown",
   "id": "18b75b36-c16c-406c-b421-63878cc91be9",
   "metadata": {
    "tags": []
   },
   "source": [
    "<a id=\"split\"></a>\n",
    "### Train/Test Split"
   ]
  },
  {
   "cell_type": "code",
   "execution_count": 15,
   "id": "2abc3ad7-52ed-4f72-b002-1353f83ec0b7",
   "metadata": {},
   "outputs": [],
   "source": [
    "# import the library needed to split\n",
    "from sklearn.model_selection import train_test_split\n",
    "\n",
    "# assigning Reviewer_Score as target variable and everything else as X \n",
    "X_sample = sampled_df.drop(columns=['star_rating'])\n",
    "y_sample = sampled_df['star_rating']\n",
    "\n",
    "# splitting the data \n",
    "X_remainder_sample, X_test_sample, y_remainder_sample, y_test_sample = train_test_split(X_sample, y_sample, test_size=0.2, random_state=1, stratify=y_sample)"
   ]
  },
  {
   "cell_type": "code",
   "execution_count": 16,
   "id": "e8bf21ce-1d77-4c11-9184-9c868cda45d3",
   "metadata": {},
   "outputs": [],
   "source": [
    "# Creating a validation set\n",
    "X_train_sample, X_valid_sample, y_train_sample, y_valid_sample = train_test_split(X_remainder_sample, y_remainder_sample, test_size=0.3, random_state=1, stratify=y_remainder_sample)"
   ]
  },
  {
   "cell_type": "markdown",
   "id": "790f704e-9dbe-4089-b1b8-485ec8bfa5ba",
   "metadata": {},
   "source": [
    "<a id=\"vector\"></a>\n",
    "### Vectorization"
   ]
  },
  {
   "cell_type": "code",
   "execution_count": 17,
   "id": "2f79deab-a7f6-492e-93f1-e1608d9fe3cb",
   "metadata": {},
   "outputs": [],
   "source": [
    "# Creating variables to be vectorized for review_body\n",
    "X_train_review_sample = X_train_sample['review_body']\n",
    "X_valid_review_sample = X_valid_sample['review_body']\n",
    "X_test_review_sample = X_test_sample['review_body']\n",
    "\n",
    "# X_remainder will be needed for when cv is being done\n",
    "X_remainder_review_sample = X_remainder_sample['review_body']"
   ]
  },
  {
   "cell_type": "code",
   "execution_count": 18,
   "id": "b3302589-153f-400d-b53f-e3d1c8637089",
   "metadata": {},
   "outputs": [],
   "source": [
    "# Instantiate\n",
    "bag_body = CountVectorizer(stop_words=\"english\", min_df=10) # the min_df is used to filter out random words that could pop up as well as remove some unnecessary features\n",
    "\n",
    "# Fitting \n",
    "bag_body.fit(X_train_review_sample)\n",
    "\n",
    "# Transform\n",
    "train_bag_sample = bag_body.transform(X_train_review_sample)\n",
    "valid_bag_sample = bag_body.transform(X_valid_review_sample)\n",
    "test_bag_sample = bag_body.transform(X_test_review_sample)"
   ]
  },
  {
   "cell_type": "code",
   "execution_count": 19,
   "id": "8c42b208-6295-4467-b878-e76df107f43a",
   "metadata": {},
   "outputs": [],
   "source": [
    "# This count vectorizer is for X_remainder when cv is not done \n",
    "# Instantiate\n",
    "bag_body2 = CountVectorizer(stop_words=\"english\", min_df=10)\n",
    "\n",
    "# Fit\n",
    "bag_body2.fit(X_remainder_review_sample)\n",
    "\n",
    "# Transform\n",
    "remainder_bag_sample = bag_body2.transform(X_remainder_review_sample)\n",
    "test_bag_sample2 = bag_body2.transform(X_test_review_sample)"
   ]
  },
  {
   "cell_type": "code",
   "execution_count": 20,
   "id": "2ccd8191-3284-45d6-ad4a-69ea75009e02",
   "metadata": {},
   "outputs": [],
   "source": [
    "# Repeat the same process for review_headline\n",
    "X_train_headline_sample = X_train_sample['review_headline']\n",
    "X_valid_headline_sample = X_valid_sample['review_headline']\n",
    "X_test_headline_sample = X_test_sample['review_headline']\n",
    "\n",
    "# X_remainder will be needed for when cv is being done\n",
    "X_remainder_headline_sample = X_remainder_sample['review_headline']\n",
    "\n",
    "# Instantiate\n",
    "bag_headline = CountVectorizer(stop_words=\"english\", min_df=10)\n",
    "\n",
    "# Fitting \n",
    "bag_headline.fit(X_train_headline_sample)\n",
    "\n",
    "# Transform\n",
    "train_headline_sample = bag_headline.transform(X_train_headline_sample)\n",
    "valid_headline_sample = bag_headline.transform(X_valid_headline_sample)\n",
    "test_headline_sample = bag_headline.transform(X_test_headline_sample)"
   ]
  },
  {
   "cell_type": "code",
   "execution_count": 21,
   "id": "cda2a719-e833-4366-a59a-84ee5834c239",
   "metadata": {},
   "outputs": [],
   "source": [
    "# For X_remainder\n",
    "bag_headline2 = CountVectorizer(stop_words=\"english\", min_df=10)\n",
    "bag_headline2.fit(X_remainder_headline_sample)\n",
    "remainder_headline_sample = bag_headline2.transform(X_remainder_headline_sample)\n",
    "test_headline_sample2 = bag_headline2.transform(X_test_headline_sample)"
   ]
  },
  {
   "cell_type": "markdown",
   "id": "1546a3e0-1842-4b26-9d1d-cf540de99609",
   "metadata": {},
   "source": [
    "Now that the 2 columns have been vectorized, the bag of words would need to be combined so it can go back into the dataframe. "
   ]
  },
  {
   "cell_type": "code",
   "execution_count": 22,
   "id": "91740ca0-add9-4d82-a62f-025dafa51ff1",
   "metadata": {},
   "outputs": [],
   "source": [
    "# combining headline and body\n",
    "train_count = sp.hstack([train_headline_sample, train_bag_sample])\n",
    "valid_count = sp.hstack([valid_headline_sample, valid_bag_sample])\n",
    "test_count = sp.hstack([test_headline_sample, test_bag_sample])"
   ]
  },
  {
   "cell_type": "code",
   "execution_count": 23,
   "id": "506b1518-5df8-4e85-9457-bc4b62b2d241",
   "metadata": {},
   "outputs": [],
   "source": [
    "# combining headline and bag counts\n",
    "remainder_count = sp.hstack([remainder_headline_sample, remainder_bag_sample])\n",
    "test_count2 = sp.hstack([test_headline_sample2, test_bag_sample2])"
   ]
  },
  {
   "cell_type": "code",
   "execution_count": 24,
   "id": "4b7593ed-a953-485c-b867-ba982fbac87b",
   "metadata": {},
   "outputs": [
    {
     "data": {
      "text/plain": [
       "<28000x4064 sparse matrix of type '<class 'numpy.int64'>'\n",
       "\twith 486829 stored elements in Compressed Sparse Row format>"
      ]
     },
     "execution_count": 24,
     "metadata": {},
     "output_type": "execute_result"
    }
   ],
   "source": [
    "# sanity check\n",
    "train_count"
   ]
  },
  {
   "cell_type": "code",
   "execution_count": 25,
   "id": "5f5aebb8-eeeb-4a5f-8e50-292b0971f7d2",
   "metadata": {},
   "outputs": [],
   "source": [
    "# Grabbing the words to be used as column headers for the bag of words above\n",
    "body_words = bag_body.get_feature_names_out()\n",
    "# Appending b_ to words from review_body\n",
    "tagged_body_words = ['b_' + feature for feature in body_words]\n",
    "\n",
    "headline_words = bag_headline.get_feature_names_out()\n",
    "# Appending h_ to words from review_headline\n",
    "tagged_headline_words = ['h_' + feature for feature in headline_words]\n",
    "\n",
    "# Combine the two to be used in the column headers\n",
    "sample_vocab = tagged_headline_words + tagged_body_words"
   ]
  },
  {
   "cell_type": "code",
   "execution_count": 26,
   "id": "d53b03a0-0516-41a2-8c0b-77791c35e1e1",
   "metadata": {},
   "outputs": [],
   "source": [
    "# Repeat the process for X_remainder\n",
    "body_words2 = bag_body2.get_feature_names_out()\n",
    "tagged_body_words2 = ['b_' + feature for feature in body_words2]\n",
    "\n",
    "headline_words2 = bag_headline2.get_feature_names_out()\n",
    "tagged_headline_words2 = ['h_' + feature for feature in headline_words2]\n",
    "\n",
    "sample_vocab2 = tagged_headline_words2 + tagged_body_words2"
   ]
  },
  {
   "cell_type": "code",
   "execution_count": 27,
   "id": "6041f538-b7fd-409e-a3e7-4e0974f114b0",
   "metadata": {},
   "outputs": [
    {
     "data": {
      "text/plain": [
       "4064"
      ]
     },
     "execution_count": 27,
     "metadata": {},
     "output_type": "execute_result"
    }
   ],
   "source": [
    "# Sanity check (should equal to the same number above for train_count\n",
    "len(sample_vocab)"
   ]
  },
  {
   "cell_type": "code",
   "execution_count": 28,
   "id": "8ed72b26-56b5-47f5-aaad-c62604727a87",
   "metadata": {},
   "outputs": [],
   "source": [
    "# Combining the matrices of bag of words with the column names  \n",
    "train_df = pd.DataFrame(train_count.toarray(), columns=sample_vocab)\n",
    "valid_df = pd.DataFrame(valid_count.toarray(), columns=sample_vocab)\n",
    "test_df = pd.DataFrame(test_count.toarray(), columns=sample_vocab)"
   ]
  },
  {
   "cell_type": "code",
   "execution_count": 29,
   "id": "2c602244-82c0-4c5b-a743-f9f5ae2e0928",
   "metadata": {},
   "outputs": [],
   "source": [
    "# Repeat for X_remainder\n",
    "remainder_df = pd.DataFrame(remainder_count.toarray(), columns=sample_vocab2)\n",
    "test_df2 = pd.DataFrame(test_count2.toarray(), columns=sample_vocab2)"
   ]
  },
  {
   "cell_type": "markdown",
   "id": "0217853b-dbf0-4d41-9aac-ef0014614f59",
   "metadata": {},
   "source": [
    "Now that the review_headline and review_body have been vectorized, the string columns can be dropped and replaced."
   ]
  },
  {
   "cell_type": "code",
   "execution_count": 30,
   "id": "57dfba25-275a-415a-80f8-5eec55799611",
   "metadata": {},
   "outputs": [],
   "source": [
    "# dropping string columns\n",
    "X_train_sample = X_train_sample.reset_index(drop=True).drop(columns=['product_title', 'review_headline', 'review_body'])\n",
    "X_valid_sample = X_valid_sample.reset_index(drop=True).drop(columns=['product_title', 'review_headline', 'review_body'])\n",
    "X_test_sample = X_test_sample.reset_index(drop=True).drop(columns=['product_title', 'review_headline', 'review_body'])"
   ]
  },
  {
   "cell_type": "code",
   "execution_count": 31,
   "id": "4bfb6576-f173-4c39-b7ec-9bc1284f8438",
   "metadata": {},
   "outputs": [],
   "source": [
    "# Repeat for X_remainder\n",
    "X_remainder_sample = X_remainder_sample.reset_index(drop=True).drop(columns=['product_title', 'review_headline', 'review_body'])"
   ]
  },
  {
   "cell_type": "code",
   "execution_count": 32,
   "id": "83eae6bf-c71b-49cb-9254-57863c065bef",
   "metadata": {},
   "outputs": [],
   "source": [
    "# combining the dataframe of bag of words back with the original dataframe\n",
    "combined_train = pd.concat([X_train_sample, train_df], axis=1)\n",
    "combined_valid = pd.concat([X_valid_sample, valid_df], axis=1)\n",
    "combined_test = pd.concat([X_test_sample, test_df], axis=1)"
   ]
  },
  {
   "cell_type": "code",
   "execution_count": 33,
   "id": "b465ca22-bcb9-47bc-943b-4c2519c2eadf",
   "metadata": {},
   "outputs": [],
   "source": [
    "# Repeat for X_remainder\n",
    "combined_remainder = pd.concat([X_remainder_sample, remainder_df], axis=1)\n",
    "combined_test2 = pd.concat([X_test_sample, test_df2], axis=1)"
   ]
  },
  {
   "cell_type": "code",
   "execution_count": 34,
   "id": "792b2f2b-cd3f-4e0a-8d8e-eb1b02de05f4",
   "metadata": {},
   "outputs": [
    {
     "data": {
      "text/html": [
       "<div>\n",
       "<style scoped>\n",
       "    .dataframe tbody tr th:only-of-type {\n",
       "        vertical-align: middle;\n",
       "    }\n",
       "\n",
       "    .dataframe tbody tr th {\n",
       "        vertical-align: top;\n",
       "    }\n",
       "\n",
       "    .dataframe thead th {\n",
       "        text-align: right;\n",
       "    }\n",
       "</style>\n",
       "<table border=\"1\" class=\"dataframe\">\n",
       "  <thead>\n",
       "    <tr style=\"text-align: right;\">\n",
       "      <th></th>\n",
       "      <th>helpful_votes</th>\n",
       "      <th>verified_purchase</th>\n",
       "      <th>year</th>\n",
       "      <th>month</th>\n",
       "      <th>h_10</th>\n",
       "      <th>h_100</th>\n",
       "      <th>h_11</th>\n",
       "      <th>h_12</th>\n",
       "      <th>h_13</th>\n",
       "      <th>h_2nd</th>\n",
       "      <th>...</th>\n",
       "      <th>b_yrs</th>\n",
       "      <th>b_zapatos</th>\n",
       "      <th>b_zappos</th>\n",
       "      <th>b_zero</th>\n",
       "      <th>b_zip</th>\n",
       "      <th>b_zipped</th>\n",
       "      <th>b_zipper</th>\n",
       "      <th>b_zippers</th>\n",
       "      <th>b_zipping</th>\n",
       "      <th>b_zumba</th>\n",
       "    </tr>\n",
       "  </thead>\n",
       "  <tbody>\n",
       "    <tr>\n",
       "      <th>0</th>\n",
       "      <td>0</td>\n",
       "      <td>0</td>\n",
       "      <td>2007.0</td>\n",
       "      <td>9.0</td>\n",
       "      <td>0</td>\n",
       "      <td>0</td>\n",
       "      <td>0</td>\n",
       "      <td>0</td>\n",
       "      <td>0</td>\n",
       "      <td>0</td>\n",
       "      <td>...</td>\n",
       "      <td>0</td>\n",
       "      <td>0</td>\n",
       "      <td>0</td>\n",
       "      <td>0</td>\n",
       "      <td>0</td>\n",
       "      <td>0</td>\n",
       "      <td>0</td>\n",
       "      <td>0</td>\n",
       "      <td>0</td>\n",
       "      <td>0</td>\n",
       "    </tr>\n",
       "    <tr>\n",
       "      <th>1</th>\n",
       "      <td>2</td>\n",
       "      <td>1</td>\n",
       "      <td>2015.0</td>\n",
       "      <td>5.0</td>\n",
       "      <td>0</td>\n",
       "      <td>0</td>\n",
       "      <td>0</td>\n",
       "      <td>0</td>\n",
       "      <td>0</td>\n",
       "      <td>0</td>\n",
       "      <td>...</td>\n",
       "      <td>0</td>\n",
       "      <td>0</td>\n",
       "      <td>0</td>\n",
       "      <td>0</td>\n",
       "      <td>0</td>\n",
       "      <td>0</td>\n",
       "      <td>0</td>\n",
       "      <td>0</td>\n",
       "      <td>0</td>\n",
       "      <td>0</td>\n",
       "    </tr>\n",
       "    <tr>\n",
       "      <th>2</th>\n",
       "      <td>0</td>\n",
       "      <td>1</td>\n",
       "      <td>2015.0</td>\n",
       "      <td>7.0</td>\n",
       "      <td>0</td>\n",
       "      <td>0</td>\n",
       "      <td>0</td>\n",
       "      <td>0</td>\n",
       "      <td>0</td>\n",
       "      <td>0</td>\n",
       "      <td>...</td>\n",
       "      <td>0</td>\n",
       "      <td>0</td>\n",
       "      <td>0</td>\n",
       "      <td>0</td>\n",
       "      <td>0</td>\n",
       "      <td>0</td>\n",
       "      <td>0</td>\n",
       "      <td>0</td>\n",
       "      <td>0</td>\n",
       "      <td>0</td>\n",
       "    </tr>\n",
       "    <tr>\n",
       "      <th>3</th>\n",
       "      <td>0</td>\n",
       "      <td>0</td>\n",
       "      <td>2010.0</td>\n",
       "      <td>9.0</td>\n",
       "      <td>0</td>\n",
       "      <td>0</td>\n",
       "      <td>0</td>\n",
       "      <td>0</td>\n",
       "      <td>0</td>\n",
       "      <td>0</td>\n",
       "      <td>...</td>\n",
       "      <td>0</td>\n",
       "      <td>0</td>\n",
       "      <td>0</td>\n",
       "      <td>0</td>\n",
       "      <td>0</td>\n",
       "      <td>0</td>\n",
       "      <td>0</td>\n",
       "      <td>0</td>\n",
       "      <td>0</td>\n",
       "      <td>0</td>\n",
       "    </tr>\n",
       "    <tr>\n",
       "      <th>4</th>\n",
       "      <td>0</td>\n",
       "      <td>1</td>\n",
       "      <td>2008.0</td>\n",
       "      <td>10.0</td>\n",
       "      <td>0</td>\n",
       "      <td>0</td>\n",
       "      <td>0</td>\n",
       "      <td>0</td>\n",
       "      <td>0</td>\n",
       "      <td>0</td>\n",
       "      <td>...</td>\n",
       "      <td>0</td>\n",
       "      <td>0</td>\n",
       "      <td>0</td>\n",
       "      <td>0</td>\n",
       "      <td>0</td>\n",
       "      <td>0</td>\n",
       "      <td>0</td>\n",
       "      <td>0</td>\n",
       "      <td>0</td>\n",
       "      <td>0</td>\n",
       "    </tr>\n",
       "    <tr>\n",
       "      <th>...</th>\n",
       "      <td>...</td>\n",
       "      <td>...</td>\n",
       "      <td>...</td>\n",
       "      <td>...</td>\n",
       "      <td>...</td>\n",
       "      <td>...</td>\n",
       "      <td>...</td>\n",
       "      <td>...</td>\n",
       "      <td>...</td>\n",
       "      <td>...</td>\n",
       "      <td>...</td>\n",
       "      <td>...</td>\n",
       "      <td>...</td>\n",
       "      <td>...</td>\n",
       "      <td>...</td>\n",
       "      <td>...</td>\n",
       "      <td>...</td>\n",
       "      <td>...</td>\n",
       "      <td>...</td>\n",
       "      <td>...</td>\n",
       "      <td>...</td>\n",
       "    </tr>\n",
       "    <tr>\n",
       "      <th>27995</th>\n",
       "      <td>0</td>\n",
       "      <td>1</td>\n",
       "      <td>2015.0</td>\n",
       "      <td>2.0</td>\n",
       "      <td>0</td>\n",
       "      <td>0</td>\n",
       "      <td>0</td>\n",
       "      <td>0</td>\n",
       "      <td>0</td>\n",
       "      <td>0</td>\n",
       "      <td>...</td>\n",
       "      <td>0</td>\n",
       "      <td>0</td>\n",
       "      <td>0</td>\n",
       "      <td>0</td>\n",
       "      <td>0</td>\n",
       "      <td>0</td>\n",
       "      <td>0</td>\n",
       "      <td>0</td>\n",
       "      <td>0</td>\n",
       "      <td>0</td>\n",
       "    </tr>\n",
       "    <tr>\n",
       "      <th>27996</th>\n",
       "      <td>2</td>\n",
       "      <td>1</td>\n",
       "      <td>2015.0</td>\n",
       "      <td>1.0</td>\n",
       "      <td>0</td>\n",
       "      <td>0</td>\n",
       "      <td>0</td>\n",
       "      <td>0</td>\n",
       "      <td>0</td>\n",
       "      <td>0</td>\n",
       "      <td>...</td>\n",
       "      <td>0</td>\n",
       "      <td>0</td>\n",
       "      <td>0</td>\n",
       "      <td>0</td>\n",
       "      <td>0</td>\n",
       "      <td>0</td>\n",
       "      <td>0</td>\n",
       "      <td>1</td>\n",
       "      <td>0</td>\n",
       "      <td>0</td>\n",
       "    </tr>\n",
       "    <tr>\n",
       "      <th>27997</th>\n",
       "      <td>0</td>\n",
       "      <td>1</td>\n",
       "      <td>2015.0</td>\n",
       "      <td>8.0</td>\n",
       "      <td>0</td>\n",
       "      <td>0</td>\n",
       "      <td>0</td>\n",
       "      <td>0</td>\n",
       "      <td>0</td>\n",
       "      <td>0</td>\n",
       "      <td>...</td>\n",
       "      <td>0</td>\n",
       "      <td>0</td>\n",
       "      <td>0</td>\n",
       "      <td>0</td>\n",
       "      <td>0</td>\n",
       "      <td>0</td>\n",
       "      <td>0</td>\n",
       "      <td>0</td>\n",
       "      <td>0</td>\n",
       "      <td>0</td>\n",
       "    </tr>\n",
       "    <tr>\n",
       "      <th>27998</th>\n",
       "      <td>2</td>\n",
       "      <td>0</td>\n",
       "      <td>2014.0</td>\n",
       "      <td>5.0</td>\n",
       "      <td>0</td>\n",
       "      <td>0</td>\n",
       "      <td>0</td>\n",
       "      <td>0</td>\n",
       "      <td>0</td>\n",
       "      <td>0</td>\n",
       "      <td>...</td>\n",
       "      <td>0</td>\n",
       "      <td>0</td>\n",
       "      <td>0</td>\n",
       "      <td>0</td>\n",
       "      <td>0</td>\n",
       "      <td>0</td>\n",
       "      <td>0</td>\n",
       "      <td>0</td>\n",
       "      <td>0</td>\n",
       "      <td>0</td>\n",
       "    </tr>\n",
       "    <tr>\n",
       "      <th>27999</th>\n",
       "      <td>4</td>\n",
       "      <td>1</td>\n",
       "      <td>2013.0</td>\n",
       "      <td>11.0</td>\n",
       "      <td>0</td>\n",
       "      <td>0</td>\n",
       "      <td>0</td>\n",
       "      <td>0</td>\n",
       "      <td>0</td>\n",
       "      <td>0</td>\n",
       "      <td>...</td>\n",
       "      <td>0</td>\n",
       "      <td>0</td>\n",
       "      <td>0</td>\n",
       "      <td>0</td>\n",
       "      <td>0</td>\n",
       "      <td>0</td>\n",
       "      <td>0</td>\n",
       "      <td>0</td>\n",
       "      <td>0</td>\n",
       "      <td>0</td>\n",
       "    </tr>\n",
       "  </tbody>\n",
       "</table>\n",
       "<p>28000 rows × 4068 columns</p>\n",
       "</div>"
      ],
      "text/plain": [
       "       helpful_votes  verified_purchase    year  month  h_10  h_100  h_11  \\\n",
       "0                  0                  0  2007.0    9.0     0      0     0   \n",
       "1                  2                  1  2015.0    5.0     0      0     0   \n",
       "2                  0                  1  2015.0    7.0     0      0     0   \n",
       "3                  0                  0  2010.0    9.0     0      0     0   \n",
       "4                  0                  1  2008.0   10.0     0      0     0   \n",
       "...              ...                ...     ...    ...   ...    ...   ...   \n",
       "27995              0                  1  2015.0    2.0     0      0     0   \n",
       "27996              2                  1  2015.0    1.0     0      0     0   \n",
       "27997              0                  1  2015.0    8.0     0      0     0   \n",
       "27998              2                  0  2014.0    5.0     0      0     0   \n",
       "27999              4                  1  2013.0   11.0     0      0     0   \n",
       "\n",
       "       h_12  h_13  h_2nd  ...  b_yrs  b_zapatos  b_zappos  b_zero  b_zip  \\\n",
       "0         0     0      0  ...      0          0         0       0      0   \n",
       "1         0     0      0  ...      0          0         0       0      0   \n",
       "2         0     0      0  ...      0          0         0       0      0   \n",
       "3         0     0      0  ...      0          0         0       0      0   \n",
       "4         0     0      0  ...      0          0         0       0      0   \n",
       "...     ...   ...    ...  ...    ...        ...       ...     ...    ...   \n",
       "27995     0     0      0  ...      0          0         0       0      0   \n",
       "27996     0     0      0  ...      0          0         0       0      0   \n",
       "27997     0     0      0  ...      0          0         0       0      0   \n",
       "27998     0     0      0  ...      0          0         0       0      0   \n",
       "27999     0     0      0  ...      0          0         0       0      0   \n",
       "\n",
       "       b_zipped  b_zipper  b_zippers  b_zipping  b_zumba  \n",
       "0             0         0          0          0        0  \n",
       "1             0         0          0          0        0  \n",
       "2             0         0          0          0        0  \n",
       "3             0         0          0          0        0  \n",
       "4             0         0          0          0        0  \n",
       "...         ...       ...        ...        ...      ...  \n",
       "27995         0         0          0          0        0  \n",
       "27996         0         0          1          0        0  \n",
       "27997         0         0          0          0        0  \n",
       "27998         0         0          0          0        0  \n",
       "27999         0         0          0          0        0  \n",
       "\n",
       "[28000 rows x 4068 columns]"
      ]
     },
     "execution_count": 34,
     "metadata": {},
     "output_type": "execute_result"
    }
   ],
   "source": [
    "# Sanity Check\n",
    "combined_train"
   ]
  },
  {
   "cell_type": "markdown",
   "id": "c593b0e3-588b-439a-ace5-9b75319cb0c5",
   "metadata": {},
   "source": [
    "The last thing to do before feeding the data into the models is that the data will need to be scaled. The `StandardScalar` will be used for basic modeling and could be changed when hyperparameter optimization."
   ]
  },
  {
   "cell_type": "code",
   "execution_count": 40,
   "id": "c2f6dde9-6e9f-48fc-907d-6f704dfeda43",
   "metadata": {},
   "outputs": [],
   "source": [
    "# Instantiate\n",
    "ss = StandardScaler()\n",
    "\n",
    "# Fit and tranform\n",
    "X_train_scaled = ss.fit_transform(combined_train)\n",
    "X_valid_scaled = ss.transform(combined_valid)\n",
    "X_test_scaled = ss.transform(combined_test)"
   ]
  },
  {
   "cell_type": "code",
   "execution_count": 41,
   "id": "fd574851-d362-4a30-b203-bcf01f891e77",
   "metadata": {
    "tags": []
   },
   "outputs": [],
   "source": [
    "# For X_remainder\n",
    "ss2 = StandardScaler()\n",
    "X_remainder_scaled = ss.fit_transform(combined_remainder)\n",
    "X_test_scaled2 = ss.transform(combined_test2)"
   ]
  },
  {
   "cell_type": "markdown",
   "id": "c13ded3f",
   "metadata": {},
   "source": [
    "<a id=\"lr\"></a>\n",
    "## Logistic Regression"
   ]
  },
  {
   "cell_type": "markdown",
   "id": "c2768553-b70c-4048-9318-d186c85f9680",
   "metadata": {},
   "source": [
    "The modeling from the imbalanced dataset can be leveraged to streamline the gridsearch's parameters for each model in this downsampled dataset."
   ]
  },
  {
   "cell_type": "code",
   "execution_count": 35,
   "id": "f3c7ffb0",
   "metadata": {
    "collapsed": true,
    "jupyter": {
     "outputs_hidden": true
    },
    "tags": []
   },
   "outputs": [
    {
     "name": "stdout",
     "output_type": "stream",
     "text": [
      "Fitting 5 folds for each of 18 candidates, totalling 90 fits\n",
      "[CV] END model=LogisticRegression(max_iter=10000), model__C=0.0001, model__penalty=l1, model__solver=liblinear, normalise=StandardScaler(); total time=  12.1s\n",
      "[CV] END model=LogisticRegression(max_iter=10000), model__C=0.0001, model__penalty=l1, model__solver=liblinear, normalise=StandardScaler(); total time=  10.9s\n",
      "[CV] END model=LogisticRegression(max_iter=10000), model__C=0.0001, model__penalty=l1, model__solver=liblinear, normalise=StandardScaler(); total time=  10.9s\n",
      "[CV] END model=LogisticRegression(max_iter=10000), model__C=0.0001, model__penalty=l1, model__solver=liblinear, normalise=StandardScaler(); total time=  10.9s\n",
      "[CV] END model=LogisticRegression(max_iter=10000), model__C=0.0001, model__penalty=l1, model__solver=liblinear, normalise=StandardScaler(); total time=  10.8s\n",
      "[CV] END model=LogisticRegression(max_iter=10000), model__C=0.0001, model__penalty=l1, model__solver=liblinear, normalise=MinMaxScaler(); total time=   5.9s\n",
      "[CV] END model=LogisticRegression(max_iter=10000), model__C=0.0001, model__penalty=l1, model__solver=liblinear, normalise=MinMaxScaler(); total time=   5.9s\n",
      "[CV] END model=LogisticRegression(max_iter=10000), model__C=0.0001, model__penalty=l1, model__solver=liblinear, normalise=MinMaxScaler(); total time=   5.8s\n",
      "[CV] END model=LogisticRegression(max_iter=10000), model__C=0.0001, model__penalty=l1, model__solver=liblinear, normalise=MinMaxScaler(); total time=   5.9s\n",
      "[CV] END model=LogisticRegression(max_iter=10000), model__C=0.0001, model__penalty=l1, model__solver=liblinear, normalise=MinMaxScaler(); total time=   5.8s\n",
      "[CV] END model=LogisticRegression(max_iter=10000), model__C=0.0001, model__penalty=l1, model__solver=liblinear, normalise=None; total time=   3.9s\n",
      "[CV] END model=LogisticRegression(max_iter=10000), model__C=0.0001, model__penalty=l1, model__solver=liblinear, normalise=None; total time=   3.4s\n",
      "[CV] END model=LogisticRegression(max_iter=10000), model__C=0.0001, model__penalty=l1, model__solver=liblinear, normalise=None; total time=   4.0s\n",
      "[CV] END model=LogisticRegression(max_iter=10000), model__C=0.0001, model__penalty=l1, model__solver=liblinear, normalise=None; total time=   3.4s\n",
      "[CV] END model=LogisticRegression(max_iter=10000), model__C=0.0001, model__penalty=l1, model__solver=liblinear, normalise=None; total time=   4.0s\n",
      "[CV] END model=LogisticRegression(max_iter=10000), model__C=0.0001, model__penalty=l2, model__solver=liblinear, normalise=StandardScaler(); total time=  22.0s\n",
      "[CV] END model=LogisticRegression(max_iter=10000), model__C=0.0001, model__penalty=l2, model__solver=liblinear, normalise=StandardScaler(); total time=  23.1s\n",
      "[CV] END model=LogisticRegression(max_iter=10000), model__C=0.0001, model__penalty=l2, model__solver=liblinear, normalise=StandardScaler(); total time=  21.8s\n",
      "[CV] END model=LogisticRegression(max_iter=10000), model__C=0.0001, model__penalty=l2, model__solver=liblinear, normalise=StandardScaler(); total time=  19.9s\n",
      "[CV] END model=LogisticRegression(max_iter=10000), model__C=0.0001, model__penalty=l2, model__solver=liblinear, normalise=StandardScaler(); total time=  23.0s\n",
      "[CV] END model=LogisticRegression(max_iter=10000), model__C=0.0001, model__penalty=l2, model__solver=liblinear, normalise=MinMaxScaler(); total time=   5.3s\n",
      "[CV] END model=LogisticRegression(max_iter=10000), model__C=0.0001, model__penalty=l2, model__solver=liblinear, normalise=MinMaxScaler(); total time=   5.3s\n",
      "[CV] END model=LogisticRegression(max_iter=10000), model__C=0.0001, model__penalty=l2, model__solver=liblinear, normalise=MinMaxScaler(); total time=   5.3s\n",
      "[CV] END model=LogisticRegression(max_iter=10000), model__C=0.0001, model__penalty=l2, model__solver=liblinear, normalise=MinMaxScaler(); total time=   5.2s\n",
      "[CV] END model=LogisticRegression(max_iter=10000), model__C=0.0001, model__penalty=l2, model__solver=liblinear, normalise=MinMaxScaler(); total time=   5.3s\n",
      "[CV] END model=LogisticRegression(max_iter=10000), model__C=0.0001, model__penalty=l2, model__solver=liblinear, normalise=None; total time=   3.5s\n",
      "[CV] END model=LogisticRegression(max_iter=10000), model__C=0.0001, model__penalty=l2, model__solver=liblinear, normalise=None; total time=   3.9s\n",
      "[CV] END model=LogisticRegression(max_iter=10000), model__C=0.0001, model__penalty=l2, model__solver=liblinear, normalise=None; total time=   3.4s\n",
      "[CV] END model=LogisticRegression(max_iter=10000), model__C=0.0001, model__penalty=l2, model__solver=liblinear, normalise=None; total time=   4.0s\n",
      "[CV] END model=LogisticRegression(max_iter=10000), model__C=0.0001, model__penalty=l2, model__solver=liblinear, normalise=None; total time=   3.5s\n",
      "[CV] END model=LogisticRegression(max_iter=10000), model__C=0.001, model__penalty=l1, model__solver=liblinear, normalise=StandardScaler(); total time=  13.3s\n",
      "[CV] END model=LogisticRegression(max_iter=10000), model__C=0.001, model__penalty=l1, model__solver=liblinear, normalise=StandardScaler(); total time=  12.7s\n",
      "[CV] END model=LogisticRegression(max_iter=10000), model__C=0.001, model__penalty=l1, model__solver=liblinear, normalise=StandardScaler(); total time=  12.7s\n",
      "[CV] END model=LogisticRegression(max_iter=10000), model__C=0.001, model__penalty=l1, model__solver=liblinear, normalise=StandardScaler(); total time=  13.0s\n",
      "[CV] END model=LogisticRegression(max_iter=10000), model__C=0.001, model__penalty=l1, model__solver=liblinear, normalise=StandardScaler(); total time=  12.6s\n",
      "[CV] END model=LogisticRegression(max_iter=10000), model__C=0.001, model__penalty=l1, model__solver=liblinear, normalise=MinMaxScaler(); total time=   5.6s\n",
      "[CV] END model=LogisticRegression(max_iter=10000), model__C=0.001, model__penalty=l1, model__solver=liblinear, normalise=MinMaxScaler(); total time=   5.7s\n",
      "[CV] END model=LogisticRegression(max_iter=10000), model__C=0.001, model__penalty=l1, model__solver=liblinear, normalise=MinMaxScaler(); total time=   5.7s\n",
      "[CV] END model=LogisticRegression(max_iter=10000), model__C=0.001, model__penalty=l1, model__solver=liblinear, normalise=MinMaxScaler(); total time=   5.6s\n",
      "[CV] END model=LogisticRegression(max_iter=10000), model__C=0.001, model__penalty=l1, model__solver=liblinear, normalise=MinMaxScaler(); total time=   5.7s\n",
      "[CV] END model=LogisticRegression(max_iter=10000), model__C=0.001, model__penalty=l1, model__solver=liblinear, normalise=None; total time=   3.8s\n",
      "[CV] END model=LogisticRegression(max_iter=10000), model__C=0.001, model__penalty=l1, model__solver=liblinear, normalise=None; total time=   3.4s\n",
      "[CV] END model=LogisticRegression(max_iter=10000), model__C=0.001, model__penalty=l1, model__solver=liblinear, normalise=None; total time=   3.9s\n",
      "[CV] END model=LogisticRegression(max_iter=10000), model__C=0.001, model__penalty=l1, model__solver=liblinear, normalise=None; total time=   3.4s\n",
      "[CV] END model=LogisticRegression(max_iter=10000), model__C=0.001, model__penalty=l1, model__solver=liblinear, normalise=None; total time=   3.8s\n",
      "[CV] END model=LogisticRegression(max_iter=10000), model__C=0.001, model__penalty=l2, model__solver=liblinear, normalise=StandardScaler(); total time=  39.4s\n",
      "[CV] END model=LogisticRegression(max_iter=10000), model__C=0.001, model__penalty=l2, model__solver=liblinear, normalise=StandardScaler(); total time=  33.9s\n",
      "[CV] END model=LogisticRegression(max_iter=10000), model__C=0.001, model__penalty=l2, model__solver=liblinear, normalise=StandardScaler(); total time=  33.9s\n",
      "[CV] END model=LogisticRegression(max_iter=10000), model__C=0.001, model__penalty=l2, model__solver=liblinear, normalise=StandardScaler(); total time=  31.2s\n",
      "[CV] END model=LogisticRegression(max_iter=10000), model__C=0.001, model__penalty=l2, model__solver=liblinear, normalise=StandardScaler(); total time=  34.5s\n",
      "[CV] END model=LogisticRegression(max_iter=10000), model__C=0.001, model__penalty=l2, model__solver=liblinear, normalise=MinMaxScaler(); total time=   5.3s\n",
      "[CV] END model=LogisticRegression(max_iter=10000), model__C=0.001, model__penalty=l2, model__solver=liblinear, normalise=MinMaxScaler(); total time=   5.3s\n",
      "[CV] END model=LogisticRegression(max_iter=10000), model__C=0.001, model__penalty=l2, model__solver=liblinear, normalise=MinMaxScaler(); total time=   5.3s\n",
      "[CV] END model=LogisticRegression(max_iter=10000), model__C=0.001, model__penalty=l2, model__solver=liblinear, normalise=MinMaxScaler(); total time=   5.3s\n",
      "[CV] END model=LogisticRegression(max_iter=10000), model__C=0.001, model__penalty=l2, model__solver=liblinear, normalise=MinMaxScaler(); total time=   5.2s\n",
      "[CV] END model=LogisticRegression(max_iter=10000), model__C=0.001, model__penalty=l2, model__solver=liblinear, normalise=None; total time=   3.5s\n",
      "[CV] END model=LogisticRegression(max_iter=10000), model__C=0.001, model__penalty=l2, model__solver=liblinear, normalise=None; total time=   3.9s\n",
      "[CV] END model=LogisticRegression(max_iter=10000), model__C=0.001, model__penalty=l2, model__solver=liblinear, normalise=None; total time=   3.5s\n",
      "[CV] END model=LogisticRegression(max_iter=10000), model__C=0.001, model__penalty=l2, model__solver=liblinear, normalise=None; total time=   3.9s\n",
      "[CV] END model=LogisticRegression(max_iter=10000), model__C=0.001, model__penalty=l2, model__solver=liblinear, normalise=None; total time=   3.5s\n",
      "[CV] END model=LogisticRegression(max_iter=10000), model__C=0.01, model__penalty=l1, model__solver=liblinear, normalise=StandardScaler(); total time=  15.2s\n",
      "[CV] END model=LogisticRegression(max_iter=10000), model__C=0.01, model__penalty=l1, model__solver=liblinear, normalise=StandardScaler(); total time=  14.9s\n",
      "[CV] END model=LogisticRegression(max_iter=10000), model__C=0.01, model__penalty=l1, model__solver=liblinear, normalise=StandardScaler(); total time=  15.5s\n",
      "[CV] END model=LogisticRegression(max_iter=10000), model__C=0.01, model__penalty=l1, model__solver=liblinear, normalise=StandardScaler(); total time=  15.7s\n",
      "[CV] END model=LogisticRegression(max_iter=10000), model__C=0.01, model__penalty=l1, model__solver=liblinear, normalise=StandardScaler(); total time=  15.5s\n",
      "[CV] END model=LogisticRegression(max_iter=10000), model__C=0.01, model__penalty=l1, model__solver=liblinear, normalise=MinMaxScaler(); total time=   5.7s\n",
      "[CV] END model=LogisticRegression(max_iter=10000), model__C=0.01, model__penalty=l1, model__solver=liblinear, normalise=MinMaxScaler(); total time=   5.7s\n",
      "[CV] END model=LogisticRegression(max_iter=10000), model__C=0.01, model__penalty=l1, model__solver=liblinear, normalise=MinMaxScaler(); total time=   5.8s\n",
      "[CV] END model=LogisticRegression(max_iter=10000), model__C=0.01, model__penalty=l1, model__solver=liblinear, normalise=MinMaxScaler(); total time=   5.8s\n",
      "[CV] END model=LogisticRegression(max_iter=10000), model__C=0.01, model__penalty=l1, model__solver=liblinear, normalise=MinMaxScaler(); total time=   5.8s\n",
      "[CV] END model=LogisticRegression(max_iter=10000), model__C=0.01, model__penalty=l1, model__solver=liblinear, normalise=None; total time=   3.9s\n",
      "[CV] END model=LogisticRegression(max_iter=10000), model__C=0.01, model__penalty=l1, model__solver=liblinear, normalise=None; total time=   3.5s\n",
      "[CV] END model=LogisticRegression(max_iter=10000), model__C=0.01, model__penalty=l1, model__solver=liblinear, normalise=None; total time=   3.8s\n",
      "[CV] END model=LogisticRegression(max_iter=10000), model__C=0.01, model__penalty=l1, model__solver=liblinear, normalise=None; total time=   3.5s\n",
      "[CV] END model=LogisticRegression(max_iter=10000), model__C=0.01, model__penalty=l1, model__solver=liblinear, normalise=None; total time=   3.8s\n",
      "[CV] END model=LogisticRegression(max_iter=10000), model__C=0.01, model__penalty=l2, model__solver=liblinear, normalise=StandardScaler(); total time=  57.0s\n",
      "[CV] END model=LogisticRegression(max_iter=10000), model__C=0.01, model__penalty=l2, model__solver=liblinear, normalise=StandardScaler(); total time=  58.8s\n",
      "[CV] END model=LogisticRegression(max_iter=10000), model__C=0.01, model__penalty=l2, model__solver=liblinear, normalise=StandardScaler(); total time=  57.2s\n",
      "[CV] END model=LogisticRegression(max_iter=10000), model__C=0.01, model__penalty=l2, model__solver=liblinear, normalise=StandardScaler(); total time=  56.7s\n",
      "[CV] END model=LogisticRegression(max_iter=10000), model__C=0.01, model__penalty=l2, model__solver=liblinear, normalise=StandardScaler(); total time=  57.6s\n",
      "[CV] END model=LogisticRegression(max_iter=10000), model__C=0.01, model__penalty=l2, model__solver=liblinear, normalise=MinMaxScaler(); total time=   5.3s\n",
      "[CV] END model=LogisticRegression(max_iter=10000), model__C=0.01, model__penalty=l2, model__solver=liblinear, normalise=MinMaxScaler(); total time=   5.3s\n",
      "[CV] END model=LogisticRegression(max_iter=10000), model__C=0.01, model__penalty=l2, model__solver=liblinear, normalise=MinMaxScaler(); total time=   5.3s\n",
      "[CV] END model=LogisticRegression(max_iter=10000), model__C=0.01, model__penalty=l2, model__solver=liblinear, normalise=MinMaxScaler(); total time=   5.3s\n",
      "[CV] END model=LogisticRegression(max_iter=10000), model__C=0.01, model__penalty=l2, model__solver=liblinear, normalise=MinMaxScaler(); total time=   5.3s\n",
      "[CV] END model=LogisticRegression(max_iter=10000), model__C=0.01, model__penalty=l2, model__solver=liblinear, normalise=None; total time=   3.6s\n",
      "[CV] END model=LogisticRegression(max_iter=10000), model__C=0.01, model__penalty=l2, model__solver=liblinear, normalise=None; total time=   4.0s\n",
      "[CV] END model=LogisticRegression(max_iter=10000), model__C=0.01, model__penalty=l2, model__solver=liblinear, normalise=None; total time=   3.6s\n",
      "[CV] END model=LogisticRegression(max_iter=10000), model__C=0.01, model__penalty=l2, model__solver=liblinear, normalise=None; total time=   4.0s\n",
      "[CV] END model=LogisticRegression(max_iter=10000), model__C=0.01, model__penalty=l2, model__solver=liblinear, normalise=None; total time=   3.6s\n",
      "CPU times: user 15min 41s, sys: 4min 38s, total: 20min 20s\n",
      "Wall time: 17min 41s\n"
     ]
    }
   ],
   "source": [
    "%%time\n",
    "from sklearn.preprocessing import MinMaxScaler\n",
    "estimators = [('normalise', StandardScaler()),\n",
    "              ('model', LogisticRegression())]\n",
    "\n",
    "pipe = Pipeline(estimators)\n",
    "\n",
    "param_grid = {\n",
    "    'normalise': [StandardScaler(), MinMaxScaler(), None],\n",
    "    'model': [LogisticRegression(max_iter=10000)],\n",
    "    'model__solver': ['liblinear'], # liblinear seemed to always outperform saga and lbfgs so just using liblinear \n",
    "    'model__penalty': [\"l1\", \"l2\"],\n",
    "    'model__C': [0.0001, 0.001, 0.01] # using the best c values from the earlier modeling\n",
    "}\n",
    "\n",
    "grid_LR = GridSearchCV(pipe, param_grid, cv=5, verbose=2)\n",
    "fittedgrid_LR = grid_LR.fit(combined_remainder, y_remainder_sample)"
   ]
  },
  {
   "cell_type": "code",
   "execution_count": 36,
   "id": "7eb185da-79a8-452c-bf57-6890f2b6098d",
   "metadata": {},
   "outputs": [
    {
     "data": {
      "text/plain": [
       "{'model': LogisticRegression(C=0.01, max_iter=10000, penalty='l1', solver='liblinear'),\n",
       " 'model__C': 0.01,\n",
       " 'model__penalty': 'l1',\n",
       " 'model__solver': 'liblinear',\n",
       " 'normalise': StandardScaler()}"
      ]
     },
     "execution_count": 36,
     "metadata": {},
     "output_type": "execute_result"
    }
   ],
   "source": [
    "fittedgrid_LR.best_params_"
   ]
  },
  {
   "cell_type": "code",
   "execution_count": 45,
   "id": "c0af97e0-b1f3-44c3-ae35-847cd7669a88",
   "metadata": {},
   "outputs": [
    {
     "data": {
      "text/plain": [
       "0.7935"
      ]
     },
     "execution_count": 45,
     "metadata": {},
     "output_type": "execute_result"
    }
   ],
   "source": [
    "# Scoring the model\n",
    "lr = LogisticRegression(C=0.01, max_iter=10000, penalty='l1', solver='liblinear')\n",
    "lr.fit(X_remainder_scaled, y_remainder_sample)\n",
    "lr.score(X_test_scaled2, y_test_sample)"
   ]
  },
  {
   "cell_type": "markdown",
   "id": "3d3a8fce-a02c-4acf-bc02-df1a853914ee",
   "metadata": {},
   "source": [
    "| Model                                | Accuracy |\n",
    "|--------------------------------------|----------|\n",
    "| Logistic Regression (lbfgs)          | 79.29%   |\n",
    "| Logistic Regression (liblinear)      | 80.08%   |\n",
    "| Logistic Regression (saga)           | 79.34%   |\n",
    "| Logistic Regression (Gridsearch)     | 80.64%   |\n",
    "| SVM (Default Parameters)             | 78.65%   |\n",
    "| XGBoost (Gridsearch)                 | 80.10%   |\n",
    "| XGBoost (Gridsearch pt.2)            | 80.65%   |\n",
    "| Downsampled LR (Gridsearch)          | 79.35%   |\n"
   ]
  },
  {
   "cell_type": "code",
   "execution_count": 46,
   "id": "e601e69f-74ee-463d-9060-34df45524d99",
   "metadata": {},
   "outputs": [],
   "source": [
    "# saving the models\n",
    "with open('DS_lr.pkl', 'wb') as f:\n",
    "    pickle.dump(lr, f)"
   ]
  },
  {
   "cell_type": "markdown",
   "id": "033ebc63-928a-492d-ad3b-31a285008f7c",
   "metadata": {},
   "source": [
    "The best model from the gridsearch ended up being the same hyperparameters the imbalanced dataset but the accuracy score had droppped by ~1% when compared to the imbalance dataset. That 1% difference could be because the overprediction of majority class and the most important part to doing the  modeling on downsampled data is for recall and precision which will be looked at next."
   ]
  },
  {
   "cell_type": "code",
   "execution_count": 144,
   "id": "c0de3aea",
   "metadata": {},
   "outputs": [
    {
     "name": "stdout",
     "output_type": "stream",
     "text": [
      "              precision    recall  f1-score   support\n",
      "\n",
      "           0       0.83      0.74      0.78      5000\n",
      "           1       0.76      0.85      0.80      5000\n",
      "\n",
      "    accuracy                           0.79     10000\n",
      "   macro avg       0.80      0.79      0.79     10000\n",
      "weighted avg       0.80      0.79      0.79     10000\n",
      "\n"
     ]
    },
    {
     "data": {
      "text/plain": [
       "<sklearn.metrics._plot.confusion_matrix.ConfusionMatrixDisplay at 0x7fa0c6d36fe0>"
      ]
     },
     "execution_count": 144,
     "metadata": {},
     "output_type": "execute_result"
    },
    {
     "data": {
      "image/png": "[encoded data removed]",
      "text/plain": [
       "<Figure size 640x480 with 2 Axes>"
      ]
     },
     "metadata": {},
     "output_type": "display_data"
    }
   ],
   "source": [
    "# Get rating predictions\n",
    "y_pred = lr.predict(X_test_scaled2)\n",
    "\n",
    "# Generate confusion matrix\n",
    "cf_matrix = confusion_matrix(y_test_sample, y_pred)\n",
    "print(classification_report(y_test_sample, y_pred))\n",
    "\n",
    "# Visualizing confusion matrix\n",
    "ConfusionMatrixDisplay.from_estimator(lr, X_test_scaled2, y_test_sample)"
   ]
  },
  {
   "cell_type": "markdown",
   "id": "371c4039",
   "metadata": {},
   "source": [
    "When comparing to the previous imbalanced class results, the precision and recall of class 0 did increase from 81% to 83% (precision) and 61% to 74%, an increase of 13% which is pretty significant. However, there was a tradeoff as the precision and recall of class 1 had decreased as a result where precision had dropped from 78% to 76% and 90% to 85% for recall. This model is still better than the imbalanced dataset since the f1-score is a lot closer between the two classes indicating a more true prediction model."
   ]
  },
  {
   "cell_type": "markdown",
   "id": "45cd09be-a029-4852-bcaa-2ca254b6579e",
   "metadata": {},
   "source": [
    "<a id=\"svm\"></a>\n",
    "## SVM"
   ]
  },
  {
   "cell_type": "code",
   "execution_count": 52,
   "id": "1d6765ac-9021-4bc6-97c3-80bfd7399c69",
   "metadata": {},
   "outputs": [
    {
     "name": "stdout",
     "output_type": "stream",
     "text": [
      "CPU times: user 1h 22min 41s, sys: 1.16 s, total: 1h 22min 42s\n",
      "Wall time: 1h 24min 27s\n"
     ]
    },
    {
     "data": {
      "text/plain": [
       "0.7651"
      ]
     },
     "execution_count": 52,
     "metadata": {},
     "output_type": "execute_result"
    }
   ],
   "source": [
    "%%time\n",
    "SVM = svm.SVC()\n",
    "SVM.fit(X_train_scaled, y_train_sample)\n",
    "score = SVM.score(X_test_scaled, y_test_sample)\n",
    "score"
   ]
  },
  {
   "cell_type": "code",
   "execution_count": 53,
   "id": "54508141-0c67-4207-88d5-86fe5e93e140",
   "metadata": {},
   "outputs": [],
   "source": [
    "# saving the models\n",
    "with open('DS_SVM.pkl', 'wb') as f:\n",
    "    pickle.dump(SVM, f)"
   ]
  },
  {
   "cell_type": "markdown",
   "id": "510bdd34-7fa8-47b6-bedc-c701a268ce4f",
   "metadata": {},
   "source": [
    "| Model                                | Accuracy |\n",
    "|--------------------------------------|----------|\n",
    "| Logistic Regression (lbfgs)          | 79.29%   |\n",
    "| Logistic Regression (liblinear)      | 80.08%   |\n",
    "| Logistic Regression (saga)           | 79.34%   |\n",
    "| Logistic Regression (Gridsearch)     | 80.64%   |\n",
    "| SVM (Default Parameters)             | 78.65%   |\n",
    "| XGBoost (Gridsearch)                 | 80.10%   |\n",
    "| XGBoost (Gridsearch pt.2)            | 80.65%   |\n",
    "| Downsampled LR (Gridsearch)          | 79.35%   |\n",
    "| Downsampled SVM (Default Paramaters) | 76.51%   |"
   ]
  },
  {
   "cell_type": "markdown",
   "id": "fbdb09fb-d8fa-45b6-9807-c4d944b9eb3d",
   "metadata": {},
   "source": [
    "Again, SVM did not perform any better than logisitic regression in terms of test score accuracy since it performed the worst so far with a test score accuracy of 76.51%. Similar to the downsampled logisitic regression, downsampling did not help test score accuracy of SVM. It was ~2% worse than the imbalanced dataset with SVM and ~3% worse than the logisitic regression with downsampled data. Next is to look at the confusion matrix to see if it at least improved precision and recall."
   ]
  },
  {
   "cell_type": "code",
   "execution_count": 54,
   "id": "ab4cd8a7-d65c-4de8-a11a-8f8382497333",
   "metadata": {},
   "outputs": [
    {
     "name": "stdout",
     "output_type": "stream",
     "text": [
      "              precision    recall  f1-score   support\n",
      "\n",
      "           0       0.78      0.74      0.76      5000\n",
      "           1       0.75      0.79      0.77      5000\n",
      "\n",
      "    accuracy                           0.77     10000\n",
      "   macro avg       0.77      0.77      0.76     10000\n",
      "weighted avg       0.77      0.77      0.76     10000\n",
      "\n"
     ]
    },
    {
     "data": {
      "text/plain": [
       "<sklearn.metrics._plot.confusion_matrix.ConfusionMatrixDisplay at 0x7fa1230a7be0>"
      ]
     },
     "execution_count": 54,
     "metadata": {},
     "output_type": "execute_result"
    },
    {
     "data": {
      "image/png": "[encoded data removed]",
      "text/plain": [
       "<Figure size 640x480 with 2 Axes>"
      ]
     },
     "metadata": {},
     "output_type": "display_data"
    }
   ],
   "source": [
    "# Get rating predictions\n",
    "y_pred = SVM.predict(X_test_scaled)\n",
    "\n",
    "# Generate confusion matrix\n",
    "cf_matrix = confusion_matrix(y_test_sample, y_pred)\n",
    "print(classification_report(y_test_sample, y_pred))\n",
    "\n",
    "# Visualizing confusion matrix\n",
    "ConfusionMatrixDisplay.from_estimator(SVM, X_test_scaled, y_test_sample)"
   ]
  },
  {
   "cell_type": "markdown",
   "id": "79bfe7f5-078c-469b-a0d9-31568e480615",
   "metadata": {},
   "source": [
    "The confusion matrix and classification report shows that the SVM performed worse in all the metrics as the logistic regression had higher values in precision and recall (thus f1-score). SVM (at least default parameters) does not seem like a good model for the purpose of this project as it performs worse and takes too long to run. Next, model to run is XGBoost."
   ]
  },
  {
   "cell_type": "markdown",
   "id": "3a3da30f-e04d-48ed-8233-9031271fc2b0",
   "metadata": {},
   "source": [
    "<a id=\"xgb\"></a>\n",
    "## XGBoost"
   ]
  },
  {
   "cell_type": "code",
   "execution_count": null,
   "id": "efec9e8a-7589-4849-a520-dcfe8f8418f9",
   "metadata": {
    "tags": []
   },
   "outputs": [],
   "source": [
    "# Creating a pipeline and grid search for XGBoost\n",
    "estimators = [('model', XGBClassifier())]\n",
    "\n",
    "pipe = Pipeline(estimators)\n",
    "\n",
    "param_grid = {\n",
    "    'model': [XGBClassifier()],\n",
    "    'model__max_depth': [3, 4, 5, 6],\n",
    "    'model__learning_rate': [0.1, 0.01, 0.001],\n",
    "    'model__n_estimators': [100, 200, 300],\n",
    "}\n",
    "\n",
    "grid_XGB = GridSearchCV(pipe, param_grid, cv=5)\n",
    "fittedgrid_XGB = grid_XGB.fit(X_remainder_scaled, y_remainder_sample)"
   ]
  },
  {
   "cell_type": "code",
   "execution_count": 82,
   "id": "384d8c9d-e097-4fe3-a389-438638cc7474",
   "metadata": {},
   "outputs": [
    {
     "data": {
      "text/plain": [
       "{'model': XGBClassifier(base_score=None, booster=None, callbacks=None,\n",
       "               colsample_bylevel=None, colsample_bynode=None,\n",
       "               colsample_bytree=None, early_stopping_rounds=None,\n",
       "               enable_categorical=False, eval_metric=None, feature_types=None,\n",
       "               gamma=None, gpu_id=None, grow_policy=None, importance_type=None,\n",
       "               interaction_constraints=None, learning_rate=0.1, max_bin=None,\n",
       "               max_cat_threshold=None, max_cat_to_onehot=None,\n",
       "               max_delta_step=None, max_depth=6, max_leaves=None,\n",
       "               min_child_weight=None, missing=nan, monotone_constraints=None,\n",
       "               n_estimators=300, n_jobs=None, num_parallel_tree=None,\n",
       "               predictor=None, random_state=None, ...),\n",
       " 'model__learning_rate': 0.1,\n",
       " 'model__max_depth': 6,\n",
       " 'model__n_estimators': 300}"
      ]
     },
     "execution_count": 82,
     "metadata": {},
     "output_type": "execute_result"
    }
   ],
   "source": [
    "fittedgrid_XGB.best_params_"
   ]
  },
  {
   "cell_type": "code",
   "execution_count": 113,
   "id": "b587adc1-7f69-4129-ab9f-a872fba8c49d",
   "metadata": {},
   "outputs": [
    {
     "data": {
      "text/plain": [
       "0.783"
      ]
     },
     "execution_count": 113,
     "metadata": {},
     "output_type": "execute_result"
    }
   ],
   "source": [
    "# scoring the best model\n",
    "XGB = XGBClassifier(learning_rate=0.1, max_depth=6, n_estimators = 300)\n",
    "XGB.fit(X_remainder_scaled, y_remainder_sample) # Using remainder insted of validation as no hyperparameter optimization needed\n",
    "XGB.score(X_test_scaled2, y_test_sample)"
   ]
  },
  {
   "cell_type": "markdown",
   "id": "bb0d662e-8816-445d-8b5a-aef642b59342",
   "metadata": {},
   "source": [
    "| Model                                | Accuracy |\n",
    "|--------------------------------------|----------|\n",
    "| Logistic Regression (lbfgs)          | 79.29%   |\n",
    "| Logistic Regression (liblinear)      | 80.08%   |\n",
    "| Logistic Regression (saga)           | 79.34%   |\n",
    "| Logistic Regression (Gridsearch)     | 80.64%   |\n",
    "| SVM (Default Parameters)             | 78.65%   |\n",
    "| XGBoost (Gridsearch)                 | 80.10%   |\n",
    "| XGBoost (Gridsearch pt.2)            | 80.65%   |\n",
    "| Downsampled LR (Gridsearch)          | 79.35%   |\n",
    "| Downsampled SVM (Default Paramaters) | 76.51%   |\n",
    "| Downsampled XGBoost (Gridsearch)     | 78.30%    |"
   ]
  },
  {
   "cell_type": "code",
   "execution_count": 131,
   "id": "430d99d1-cb8a-4b8a-b3c0-3bf9b67a5a8b",
   "metadata": {},
   "outputs": [],
   "source": [
    "# saving the model\n",
    "with open('DS_XGB.pkl', 'wb') as f:\n",
    "    pickle.dump(XGB, f)"
   ]
  },
  {
   "cell_type": "markdown",
   "id": "d8a831b9-1891-4cec-86b4-3c9cd0e468e6",
   "metadata": {},
   "source": [
    "Look at the other metrics next to see if maybe it is performing better. "
   ]
  },
  {
   "cell_type": "code",
   "execution_count": 134,
   "id": "60407d30-1ea6-4cdb-834d-43dbd9645e46",
   "metadata": {},
   "outputs": [
    {
     "name": "stdout",
     "output_type": "stream",
     "text": [
      "              precision    recall  f1-score   support\n",
      "\n",
      "           0       0.81      0.74      0.77      5000\n",
      "           1       0.76      0.82      0.79      5000\n",
      "\n",
      "    accuracy                           0.78     10000\n",
      "   macro avg       0.78      0.78      0.78     10000\n",
      "weighted avg       0.78      0.78      0.78     10000\n",
      "\n"
     ]
    },
    {
     "data": {
      "text/plain": [
       "<sklearn.metrics._plot.confusion_matrix.ConfusionMatrixDisplay at 0x7f9fc0a60ee0>"
      ]
     },
     "execution_count": 134,
     "metadata": {},
     "output_type": "execute_result"
    },
    {
     "data": {
      "image/png": "[encoded data removed]",
      "text/plain": [
       "<Figure size 640x480 with 2 Axes>"
      ]
     },
     "metadata": {},
     "output_type": "display_data"
    }
   ],
   "source": [
    "# Get rating predictions\n",
    "y_pred = XGB.predict(X_test_scaled2)\n",
    "\n",
    "# Generate confusion matrix\n",
    "cf_matrix = confusion_matrix(y_test_sample, y_pred)\n",
    "print(classification_report(y_test_sample, y_pred))\n",
    "\n",
    "# Visualizing confusion matrix\n",
    "ConfusionMatrixDisplay.from_estimator(XGB, X_test_scaled2, y_test_sample)"
   ]
  },
  {
   "cell_type": "markdown",
   "id": "d4db01de-851f-4775-b634-1de9f88f878e",
   "metadata": {},
   "source": [
    "The metrics show worse result when compared to logistic regression with a 0.02 decrease in precision for class 0 and a 0.03 decrease in recall for class 1. Maybe if the hyperparameters were further optimized, the result might be better like with the imbalanced dataset. "
   ]
  },
  {
   "cell_type": "code",
   "execution_count": null,
   "id": "952142ca-1013-4da8-aed0-cd60a8835f78",
   "metadata": {
    "tags": []
   },
   "outputs": [],
   "source": [
    "# Another gridsearch to further finetune\n",
    "estimators = [('model', XGBClassifier())]\n",
    "\n",
    "pipe = Pipeline(estimators)\n",
    "\n",
    "param_grid = {\n",
    "    'model': [XGBClassifier()],\n",
    "    'model__max_depth': [5, 6], # The larger the depth, the longer it takes to run\n",
    "    'model__learning_rate': [1, 0.5], \n",
    "    'model__n_estimators': [500, 1000],\n",
    "}\n",
    "\n",
    "grid_XGB2 = GridSearchCV(pipe, param_grid, cv=5)\n",
    "fittedgrid_XGB2 = grid_XGB2.fit(X_remainder_scaled, y_remainder_sample)"
   ]
  },
  {
   "cell_type": "code",
   "execution_count": 91,
   "id": "6fddec5c-3ee3-4e98-a283-72bc73673018",
   "metadata": {},
   "outputs": [
    {
     "data": {
      "text/plain": [
       "{'model': XGBClassifier(base_score=None, booster=None, callbacks=None,\n",
       "               colsample_bylevel=None, colsample_bynode=None,\n",
       "               colsample_bytree=None, early_stopping_rounds=None,\n",
       "               enable_categorical=False, eval_metric=None, feature_types=None,\n",
       "               gamma=None, gpu_id=None, grow_policy=None, importance_type=None,\n",
       "               interaction_constraints=None, learning_rate=0.5, max_bin=None,\n",
       "               max_cat_threshold=None, max_cat_to_onehot=None,\n",
       "               max_delta_step=None, max_depth=5, max_leaves=None,\n",
       "               min_child_weight=None, missing=nan, monotone_constraints=None,\n",
       "               n_estimators=500, n_jobs=None, num_parallel_tree=None,\n",
       "               predictor=None, random_state=None, ...),\n",
       " 'model__learning_rate': 0.5,\n",
       " 'model__max_depth': 5,\n",
       " 'model__n_estimators': 500}"
      ]
     },
     "execution_count": 91,
     "metadata": {},
     "output_type": "execute_result"
    }
   ],
   "source": [
    "# Get the best parameters and score\n",
    "XGB_params2 = fittedgrid_XGB2.best_params_\n",
    "XGB_params2"
   ]
  },
  {
   "cell_type": "code",
   "execution_count": 115,
   "id": "cbdf8b5d-1a19-4367-bf45-b15ad2612546",
   "metadata": {},
   "outputs": [
    {
     "data": {
      "text/plain": [
       "0.7854"
      ]
     },
     "execution_count": 115,
     "metadata": {},
     "output_type": "execute_result"
    }
   ],
   "source": [
    "# scoring the best model\n",
    "XGB2 = XGBClassifier(learning_rate=0.5, max_depth=5, n_estimators = 500)\n",
    "XGB2.fit(X_remainder_scaled, y_remainder_sample) # Using remainder insted of validation as no hyperparameter optimization needed\n",
    "XGB2.score(X_test_scaled2, y_test_sample)"
   ]
  },
  {
   "cell_type": "markdown",
   "id": "de0fc4f9-1a75-4afc-bef5-ab4a6f45d4e3",
   "metadata": {},
   "source": [
    "| Model                                | Accuracy |\n",
    "|--------------------------------------|----------|\n",
    "| Logistic Regression (lbfgs)          | 79.29%   |\n",
    "| Logistic Regression (liblinear)      | 80.08%   |\n",
    "| Logistic Regression (saga)           | 79.34%   |\n",
    "| Logistic Regression (Gridsearch)     | 80.64%   |\n",
    "| SVM (Default Parameters)             | 78.65%   |\n",
    "| XGBoost (Gridsearch)                 | 80.10%   |\n",
    "| XGBoost (Gridsearch pt.2)            | 80.65%   |\n",
    "| Downsampled LR (Gridsearch)          | 79.35%   |\n",
    "| Downsampled SVM (Default Paramaters) | 76.51%   |\n",
    "| Downsampled XGBoost (Gridsearch)     | 78.30%    |\n",
    "| Downsampled XGBoost (Gridsearch pt.2)     | 78.54%    |"
   ]
  },
  {
   "cell_type": "code",
   "execution_count": 130,
   "id": "33798336-05ca-403d-a0f2-f947100fa587",
   "metadata": {},
   "outputs": [],
   "source": [
    "# saving the model\n",
    "with open('DS_XGB2.pkl', 'wb') as f:\n",
    "    pickle.dump(XGB2, f)"
   ]
  },
  {
   "cell_type": "markdown",
   "id": "9331075f-4adf-4f28-9fe5-5233bcc5939f",
   "metadata": {},
   "source": [
    "The model did improve by .24% compared to the previous grid search for XGBoost. Now, let's examine the confusion matrix to see if those metrics increased as well."
   ]
  },
  {
   "cell_type": "code",
   "execution_count": 129,
   "id": "75281d82-efbd-452b-b13a-9bd4030ae51b",
   "metadata": {},
   "outputs": [
    {
     "name": "stdout",
     "output_type": "stream",
     "text": [
      "              precision    recall  f1-score   support\n",
      "\n",
      "           0       0.81      0.74      0.78      5000\n",
      "           1       0.76      0.83      0.79      5000\n",
      "\n",
      "    accuracy                           0.79     10000\n",
      "   macro avg       0.79      0.79      0.79     10000\n",
      "weighted avg       0.79      0.79      0.79     10000\n",
      "\n"
     ]
    },
    {
     "data": {
      "text/plain": [
       "<sklearn.metrics._plot.confusion_matrix.ConfusionMatrixDisplay at 0x7f9fbff05660>"
      ]
     },
     "execution_count": 129,
     "metadata": {},
     "output_type": "execute_result"
    },
    {
     "data": {
      "image/png": "[encoded data removed]",
      "text/plain": [
       "<Figure size 640x480 with 2 Axes>"
      ]
     },
     "metadata": {},
     "output_type": "display_data"
    }
   ],
   "source": [
    "# Get rating predictions\n",
    "y_pred = XGB2.predict(X_test_scaled2)\n",
    "\n",
    "# Generate confusion matrix\n",
    "cf_matrix = confusion_matrix(y_test_sample, y_pred)\n",
    "print(classification_report(y_test_sample, y_pred))\n",
    "\n",
    "# Visualizing confusion matrix\n",
    "ConfusionMatrixDisplay.from_estimator(XGB2, X_test_scaled2, y_test_sample)"
   ]
  },
  {
   "cell_type": "markdown",
   "id": "51ebb308-f31e-4786-9ab5-08e663e53ebf",
   "metadata": {},
   "source": [
    "XGBoost did perform slightly better than the previous XGBoost model with a increase in recall for class 1 by 0.01. However, it stil did not beat the downsampled logisitic regression model. Therefore, the best model and most accurate model is a downsampled logistic regression, although the test accuracy was lower than the XGBoost with imbalanced datset, the metrics shows that it is a more true predictor as the f1-score (0.78 for class 0 to 0.80 for class 1) are more similar than XGBoost's f1-scores (0.74 for class 0 and 0.85 for class 1). \n",
    "\n",
    "One thing to note about this downsampled modeling was that there was still issues with recall of class 0 where actual 'bad reviews' were predicted as class 1, 'good reviews'. To examine this problem, the "
   ]
  },
  {
   "cell_type": "code",
   "execution_count": 139,
   "id": "9bf28b09-16a1-4793-8dae-c3d472ab924f",
   "metadata": {},
   "outputs": [
    {
     "data": {
      "text/plain": [
       "934562     i loved these shoes  until the soles on both s...\n",
       "2061601                                            too small\n",
       "2330575         fit true  feel awesome after a couple rides \n",
       "1573093    overall content with my purchase however the b...\n",
       "2741873    i was a little weary about buying shoes online...\n",
       "                                 ...                        \n",
       "1093654    great for waitressing all day long  comfy and ...\n",
       "53892      they re not all black as pictured  there s a d...\n",
       "1968489    kinda flimsy   the hanging strap broke the fir...\n",
       "2435178    it took a little getting used to this shoe  bu...\n",
       "3732296    i have no complaints whatsoever about these bo...\n",
       "Name: review_body, Length: 10000, dtype: object"
      ]
     },
     "execution_count": 139,
     "metadata": {},
     "output_type": "execute_result"
    }
   ],
   "source": [
    "X_test_review_sample"
   ]
  },
  {
   "cell_type": "code",
   "execution_count": 152,
   "id": "c753fedd-4f85-425c-8dba-5b4540299bf0",
   "metadata": {},
   "outputs": [
    {
     "name": "stdout",
     "output_type": "stream",
     "text": [
      "is dificult wearing\n",
      "\n",
      "\n",
      "i love these shoes they came in very quickly  2 days tops  i did order a half size up and i m glad i did because they fit perfectly  i m a 7  7 1 2 and i ordered a size 8  the shoes are not very comfortable  but i figured they wouldnt be  most shoes like this arent  overall satisfied and loved my purchase    \n",
      "\n",
      "\n",
      "no comment\n",
      "\n",
      "\n",
      "i got these shoes for gym and outside use  there great  a little tight but they fit great after a few uses  light and some what water resistant  great buy for the money will order more shoes in a few months \n",
      "\n",
      "\n",
      "nice slippers  but definitely not size 12 \n",
      "\n",
      "\n",
      "this pair was for my wife  br   these shoes fit some hard compared to the black one  br   however these are wonderful shoes \n",
      "\n",
      "\n",
      "these are great everyday shoes for kicking around in  great with jeans but i would not consider these to be running shoes  which is fine by me   i had a pair of the regular jazz  not low pro  and loved them for years until they finally wore out  overall a great  very comfortable and well made shoe \n",
      "\n",
      "\n",
      "for me its perfect i like the tongue at the back i can keep my shoes tied all time i just slip in to them so easy they hold up really  good great support helps when i have the gout it doesn t hurt as much i have flat feet so there great for me i rated it four star because  nothing  is  5 but maybe this is\n",
      "\n",
      "\n",
      "nice shoes\n",
      "\n",
      "\n",
      "very nice formal good shoe\n",
      "\n",
      "\n"
     ]
    }
   ],
   "source": [
    "# indices of rows where actual bad reviews were predicted as good reviews\n",
    "incorrect_indices = np.where((y_pred == 1) & (y_test_sample == 0))[0]\n",
    "\n",
    "# Print the rows with incorrect predictions\n",
    "for i in incorrect_indices[:10]:\n",
    "    print(X_test_review_sample.iloc[i])\n",
    "    print(\"\\n\")"
   ]
  },
  {
   "cell_type": "markdown",
   "id": "013404dd-d2a9-4839-8225-93a5d3f96423",
   "metadata": {},
   "source": [
    "Looking at the results above, the model might have trouble with short reviews like `\"is difficult wearing\"` and `\"no comment\"`. It also seems to predict good review when customers bring up multiple good points to the shoe and then 1 or 2 negative points. This might be an issue mainly because of the way the 2 classes were set up with good review being only 5 stars, it might be better to include 4 stars as well since 4 stars generally means a good product with a minor flaw. Another method could be 1 star as a class by itself and the other 4 stars as the other class. There also seems to be reviews that only have good points but aren't scored 5 stars like `\"nice shoes\"`, and `\"very nice formal good shoe\"` which would be more of user error and would always be an issue no matter how perfect the model can be in predicting."
   ]
  },
  {
   "cell_type": "markdown",
   "id": "d3e33b77-02d3-46e7-b3d4-f69769b6116d",
   "metadata": {},
   "source": [
    "Now that the best model has been determined, instead of using a sample dataset, the full dataset can be ran through the preprocessing and modeling. The next section is the code to run through with the full dataset. However, due to run-time and memory issues, the same preprocessing couldn't be done with the full dataset since the sample dataset used dense matrices but for the full dataset, sparse matrices had to be used the whole way through. Therefore, the code below is mainly a prototype on how modeling would go for the full dataset and is not meant for in-depth analysis and metrics.  "
   ]
  },
  {
   "cell_type": "markdown",
   "id": "ac189b15",
   "metadata": {},
   "source": [
    "<a id=\"full\"></a>\n",
    "## Full Dataset"
   ]
  },
  {
   "cell_type": "code",
   "execution_count": 38,
   "id": "e3a8d4da",
   "metadata": {
    "scrolled": true
   },
   "outputs": [
    {
     "data": {
      "text/plain": [
       "1532849"
      ]
     },
     "execution_count": 38,
     "metadata": {},
     "output_type": "execute_result"
    }
   ],
   "source": [
    "# Grabbing the size of 0 class to downsample class 1 to\n",
    "size = df2[df2['star_rating']==0].shape[0]\n",
    "size"
   ]
  },
  {
   "cell_type": "code",
   "execution_count": 39,
   "id": "4b5dd816",
   "metadata": {},
   "outputs": [],
   "source": [
    "bad_rating = df2[df2['star_rating']==0]\n",
    "good_rating = df2[df2['star_rating']==1].sample(size, random_state=1) \n",
    "\n",
    "sampled_df = pd.concat([bad_rating, good_rating])"
   ]
  },
  {
   "cell_type": "code",
   "execution_count": 40,
   "id": "5cb3e177",
   "metadata": {},
   "outputs": [
    {
     "data": {
      "text/html": [
       "<div>\n",
       "<style scoped>\n",
       "    .dataframe tbody tr th:only-of-type {\n",
       "        vertical-align: middle;\n",
       "    }\n",
       "\n",
       "    .dataframe tbody tr th {\n",
       "        vertical-align: top;\n",
       "    }\n",
       "\n",
       "    .dataframe thead th {\n",
       "        text-align: right;\n",
       "    }\n",
       "</style>\n",
       "<table border=\"1\" class=\"dataframe\">\n",
       "  <thead>\n",
       "    <tr style=\"text-align: right;\">\n",
       "      <th></th>\n",
       "      <th>product_title</th>\n",
       "      <th>star_rating</th>\n",
       "      <th>helpful_votes</th>\n",
       "      <th>total_votes</th>\n",
       "      <th>verified_purchase</th>\n",
       "      <th>review_headline</th>\n",
       "      <th>review_body</th>\n",
       "      <th>year</th>\n",
       "      <th>month</th>\n",
       "    </tr>\n",
       "  </thead>\n",
       "  <tbody>\n",
       "    <tr>\n",
       "      <th>0</th>\n",
       "      <td>Minnetonka Men's Double Deerskin Softsole Mocc...</td>\n",
       "      <td>0</td>\n",
       "      <td>0</td>\n",
       "      <td>0</td>\n",
       "      <td>1</td>\n",
       "      <td></td>\n",
       "      <td>do not buy  really didn t start to wear them u...</td>\n",
       "      <td>2015</td>\n",
       "      <td>8</td>\n",
       "    </tr>\n",
       "    <tr>\n",
       "      <th>4</th>\n",
       "      <td>OverBling Sneakers for Men Casual Men Shoes Ge...</td>\n",
       "      <td>0</td>\n",
       "      <td>0</td>\n",
       "      <td>0</td>\n",
       "      <td>1</td>\n",
       "      <td>three stars</td>\n",
       "      <td>small</td>\n",
       "      <td>2015</td>\n",
       "      <td>8</td>\n",
       "    </tr>\n",
       "    <tr>\n",
       "      <th>7</th>\n",
       "      <td>Olukai Nohea Mesh Shoe - Men's</td>\n",
       "      <td>0</td>\n",
       "      <td>0</td>\n",
       "      <td>0</td>\n",
       "      <td>1</td>\n",
       "      <td>good deal  but had to go a full size down</td>\n",
       "      <td>i went a full size down and they fit better bu...</td>\n",
       "      <td>2015</td>\n",
       "      <td>8</td>\n",
       "    </tr>\n",
       "    <tr>\n",
       "      <th>9</th>\n",
       "      <td>Alegria Women's Seville Clog</td>\n",
       "      <td>0</td>\n",
       "      <td>0</td>\n",
       "      <td>0</td>\n",
       "      <td>1</td>\n",
       "      <td>too small</td>\n",
       "      <td>the size is misleading</td>\n",
       "      <td>2015</td>\n",
       "      <td>8</td>\n",
       "    </tr>\n",
       "    <tr>\n",
       "      <th>12</th>\n",
       "      <td>Versace Collection Black Perforated Leather Lo...</td>\n",
       "      <td>0</td>\n",
       "      <td>1</td>\n",
       "      <td>1</td>\n",
       "      <td>1</td>\n",
       "      <td>four stars</td>\n",
       "      <td>good quality shoes  great for casual or busine...</td>\n",
       "      <td>2015</td>\n",
       "      <td>8</td>\n",
       "    </tr>\n",
       "    <tr>\n",
       "      <th>...</th>\n",
       "      <td>...</td>\n",
       "      <td>...</td>\n",
       "      <td>...</td>\n",
       "      <td>...</td>\n",
       "      <td>...</td>\n",
       "      <td>...</td>\n",
       "      <td>...</td>\n",
       "      <td>...</td>\n",
       "      <td>...</td>\n",
       "    </tr>\n",
       "    <tr>\n",
       "      <th>2630966</th>\n",
       "      <td>Nina Dally Mary Jane (Toddler/Little Kid/Big Kid)</td>\n",
       "      <td>1</td>\n",
       "      <td>0</td>\n",
       "      <td>0</td>\n",
       "      <td>1</td>\n",
       "      <td>finally</td>\n",
       "      <td>finally found a comfortable shoe for my daught...</td>\n",
       "      <td>2014</td>\n",
       "      <td>4</td>\n",
       "    </tr>\n",
       "    <tr>\n",
       "      <th>3093800</th>\n",
       "      <td>Phenas? Girl's Lovely Sweet Bowknot Leisure Ca...</td>\n",
       "      <td>1</td>\n",
       "      <td>1</td>\n",
       "      <td>1</td>\n",
       "      <td>1</td>\n",
       "      <td>great buy</td>\n",
       "      <td>my daughter love this bag and takes it to scho...</td>\n",
       "      <td>2013</td>\n",
       "      <td>11</td>\n",
       "    </tr>\n",
       "    <tr>\n",
       "      <th>293111</th>\n",
       "      <td>Skechers USA Men's Relaxed Fit Memory Foam Sup...</td>\n",
       "      <td>1</td>\n",
       "      <td>0</td>\n",
       "      <td>0</td>\n",
       "      <td>1</td>\n",
       "      <td>five stars</td>\n",
       "      <td>great shoes  very comfortable  normally wear a...</td>\n",
       "      <td>2015</td>\n",
       "      <td>7</td>\n",
       "    </tr>\n",
       "    <tr>\n",
       "      <th>2088909</th>\n",
       "      <td>Brinley Co Womens Lace-up Wedge Bootie</td>\n",
       "      <td>1</td>\n",
       "      <td>0</td>\n",
       "      <td>0</td>\n",
       "      <td>0</td>\n",
       "      <td>beautiful shoes</td>\n",
       "      <td>i was a little worried these would run small b...</td>\n",
       "      <td>2014</td>\n",
       "      <td>9</td>\n",
       "    </tr>\n",
       "    <tr>\n",
       "      <th>2183298</th>\n",
       "      <td>Stride Rite Ariana Sneaker (Toddler/Little Kid)</td>\n",
       "      <td>1</td>\n",
       "      <td>0</td>\n",
       "      <td>0</td>\n",
       "      <td>1</td>\n",
       "      <td>five stars</td>\n",
       "      <td>we like stride rite shoes because they are wel...</td>\n",
       "      <td>2014</td>\n",
       "      <td>8</td>\n",
       "    </tr>\n",
       "  </tbody>\n",
       "</table>\n",
       "<p>3065698 rows × 9 columns</p>\n",
       "</div>"
      ],
      "text/plain": [
       "                                             product_title  star_rating  \\\n",
       "0        Minnetonka Men's Double Deerskin Softsole Mocc...            0   \n",
       "4        OverBling Sneakers for Men Casual Men Shoes Ge...            0   \n",
       "7                           Olukai Nohea Mesh Shoe - Men's            0   \n",
       "9                             Alegria Women's Seville Clog            0   \n",
       "12       Versace Collection Black Perforated Leather Lo...            0   \n",
       "...                                                    ...          ...   \n",
       "2630966  Nina Dally Mary Jane (Toddler/Little Kid/Big Kid)            1   \n",
       "3093800  Phenas? Girl's Lovely Sweet Bowknot Leisure Ca...            1   \n",
       "293111   Skechers USA Men's Relaxed Fit Memory Foam Sup...            1   \n",
       "2088909             Brinley Co Womens Lace-up Wedge Bootie            1   \n",
       "2183298    Stride Rite Ariana Sneaker (Toddler/Little Kid)            1   \n",
       "\n",
       "         helpful_votes  total_votes  verified_purchase  \\\n",
       "0                    0            0                  1   \n",
       "4                    0            0                  1   \n",
       "7                    0            0                  1   \n",
       "9                    0            0                  1   \n",
       "12                   1            1                  1   \n",
       "...                ...          ...                ...   \n",
       "2630966              0            0                  1   \n",
       "3093800              1            1                  1   \n",
       "293111               0            0                  1   \n",
       "2088909              0            0                  0   \n",
       "2183298              0            0                  1   \n",
       "\n",
       "                                   review_headline  \\\n",
       "0                                                    \n",
       "4                                      three stars   \n",
       "7        good deal  but had to go a full size down   \n",
       "9                                        too small   \n",
       "12                                      four stars   \n",
       "...                                            ...   \n",
       "2630966                                   finally    \n",
       "3093800                                  great buy   \n",
       "293111                                  five stars   \n",
       "2088909                            beautiful shoes   \n",
       "2183298                                 five stars   \n",
       "\n",
       "                                               review_body  year  month  \n",
       "0        do not buy  really didn t start to wear them u...  2015      8  \n",
       "4                                                    small  2015      8  \n",
       "7        i went a full size down and they fit better bu...  2015      8  \n",
       "9                                  the size is misleading   2015      8  \n",
       "12       good quality shoes  great for casual or busine...  2015      8  \n",
       "...                                                    ...   ...    ...  \n",
       "2630966  finally found a comfortable shoe for my daught...  2014      4  \n",
       "3093800  my daughter love this bag and takes it to scho...  2013     11  \n",
       "293111   great shoes  very comfortable  normally wear a...  2015      7  \n",
       "2088909  i was a little worried these would run small b...  2014      9  \n",
       "2183298  we like stride rite shoes because they are wel...  2014      8  \n",
       "\n",
       "[3065698 rows x 9 columns]"
      ]
     },
     "execution_count": 40,
     "metadata": {},
     "output_type": "execute_result"
    }
   ],
   "source": [
    "# Sanity check\n",
    "sampled_df"
   ]
  },
  {
   "cell_type": "markdown",
   "id": "2f0db07e",
   "metadata": {},
   "source": [
    "The 3065698 rows match to 1532849 multiplied by 2."
   ]
  },
  {
   "cell_type": "code",
   "execution_count": 41,
   "id": "5215a64c",
   "metadata": {
    "scrolled": true
   },
   "outputs": [
    {
     "data": {
      "text/plain": [
       "0    1532849\n",
       "1    1532849\n",
       "Name: star_rating, dtype: int64"
      ]
     },
     "execution_count": 41,
     "metadata": {},
     "output_type": "execute_result"
    }
   ],
   "source": [
    "# Sanity check\n",
    "sampled_df['star_rating'].value_counts()"
   ]
  },
  {
   "cell_type": "code",
   "execution_count": 42,
   "id": "05dbd0fe",
   "metadata": {},
   "outputs": [
    {
     "data": {
      "text/html": [
       "<div>\n",
       "<style scoped>\n",
       "    .dataframe tbody tr th:only-of-type {\n",
       "        vertical-align: middle;\n",
       "    }\n",
       "\n",
       "    .dataframe tbody tr th {\n",
       "        vertical-align: top;\n",
       "    }\n",
       "\n",
       "    .dataframe thead th {\n",
       "        text-align: right;\n",
       "    }\n",
       "</style>\n",
       "<table border=\"1\" class=\"dataframe\">\n",
       "  <thead>\n",
       "    <tr style=\"text-align: right;\">\n",
       "      <th></th>\n",
       "      <th>product_title</th>\n",
       "      <th>star_rating</th>\n",
       "      <th>helpful_votes</th>\n",
       "      <th>verified_purchase</th>\n",
       "      <th>review_headline</th>\n",
       "      <th>review_body</th>\n",
       "      <th>year</th>\n",
       "      <th>month</th>\n",
       "    </tr>\n",
       "  </thead>\n",
       "  <tbody>\n",
       "    <tr>\n",
       "      <th>0</th>\n",
       "      <td>Minnetonka Men's Double Deerskin Softsole Mocc...</td>\n",
       "      <td>0</td>\n",
       "      <td>0</td>\n",
       "      <td>1</td>\n",
       "      <td></td>\n",
       "      <td>do not buy  really didn t start to wear them u...</td>\n",
       "      <td>2015</td>\n",
       "      <td>8</td>\n",
       "    </tr>\n",
       "    <tr>\n",
       "      <th>4</th>\n",
       "      <td>OverBling Sneakers for Men Casual Men Shoes Ge...</td>\n",
       "      <td>0</td>\n",
       "      <td>0</td>\n",
       "      <td>1</td>\n",
       "      <td>three stars</td>\n",
       "      <td>small</td>\n",
       "      <td>2015</td>\n",
       "      <td>8</td>\n",
       "    </tr>\n",
       "    <tr>\n",
       "      <th>7</th>\n",
       "      <td>Olukai Nohea Mesh Shoe - Men's</td>\n",
       "      <td>0</td>\n",
       "      <td>0</td>\n",
       "      <td>1</td>\n",
       "      <td>good deal  but had to go a full size down</td>\n",
       "      <td>i went a full size down and they fit better bu...</td>\n",
       "      <td>2015</td>\n",
       "      <td>8</td>\n",
       "    </tr>\n",
       "    <tr>\n",
       "      <th>9</th>\n",
       "      <td>Alegria Women's Seville Clog</td>\n",
       "      <td>0</td>\n",
       "      <td>0</td>\n",
       "      <td>1</td>\n",
       "      <td>too small</td>\n",
       "      <td>the size is misleading</td>\n",
       "      <td>2015</td>\n",
       "      <td>8</td>\n",
       "    </tr>\n",
       "    <tr>\n",
       "      <th>12</th>\n",
       "      <td>Versace Collection Black Perforated Leather Lo...</td>\n",
       "      <td>0</td>\n",
       "      <td>1</td>\n",
       "      <td>1</td>\n",
       "      <td>four stars</td>\n",
       "      <td>good quality shoes  great for casual or busine...</td>\n",
       "      <td>2015</td>\n",
       "      <td>8</td>\n",
       "    </tr>\n",
       "    <tr>\n",
       "      <th>...</th>\n",
       "      <td>...</td>\n",
       "      <td>...</td>\n",
       "      <td>...</td>\n",
       "      <td>...</td>\n",
       "      <td>...</td>\n",
       "      <td>...</td>\n",
       "      <td>...</td>\n",
       "      <td>...</td>\n",
       "    </tr>\n",
       "    <tr>\n",
       "      <th>2630966</th>\n",
       "      <td>Nina Dally Mary Jane (Toddler/Little Kid/Big Kid)</td>\n",
       "      <td>1</td>\n",
       "      <td>0</td>\n",
       "      <td>1</td>\n",
       "      <td>finally</td>\n",
       "      <td>finally found a comfortable shoe for my daught...</td>\n",
       "      <td>2014</td>\n",
       "      <td>4</td>\n",
       "    </tr>\n",
       "    <tr>\n",
       "      <th>3093800</th>\n",
       "      <td>Phenas? Girl's Lovely Sweet Bowknot Leisure Ca...</td>\n",
       "      <td>1</td>\n",
       "      <td>1</td>\n",
       "      <td>1</td>\n",
       "      <td>great buy</td>\n",
       "      <td>my daughter love this bag and takes it to scho...</td>\n",
       "      <td>2013</td>\n",
       "      <td>11</td>\n",
       "    </tr>\n",
       "    <tr>\n",
       "      <th>293111</th>\n",
       "      <td>Skechers USA Men's Relaxed Fit Memory Foam Sup...</td>\n",
       "      <td>1</td>\n",
       "      <td>0</td>\n",
       "      <td>1</td>\n",
       "      <td>five stars</td>\n",
       "      <td>great shoes  very comfortable  normally wear a...</td>\n",
       "      <td>2015</td>\n",
       "      <td>7</td>\n",
       "    </tr>\n",
       "    <tr>\n",
       "      <th>2088909</th>\n",
       "      <td>Brinley Co Womens Lace-up Wedge Bootie</td>\n",
       "      <td>1</td>\n",
       "      <td>0</td>\n",
       "      <td>0</td>\n",
       "      <td>beautiful shoes</td>\n",
       "      <td>i was a little worried these would run small b...</td>\n",
       "      <td>2014</td>\n",
       "      <td>9</td>\n",
       "    </tr>\n",
       "    <tr>\n",
       "      <th>2183298</th>\n",
       "      <td>Stride Rite Ariana Sneaker (Toddler/Little Kid)</td>\n",
       "      <td>1</td>\n",
       "      <td>0</td>\n",
       "      <td>1</td>\n",
       "      <td>five stars</td>\n",
       "      <td>we like stride rite shoes because they are wel...</td>\n",
       "      <td>2014</td>\n",
       "      <td>8</td>\n",
       "    </tr>\n",
       "  </tbody>\n",
       "</table>\n",
       "<p>3065698 rows × 8 columns</p>\n",
       "</div>"
      ],
      "text/plain": [
       "                                             product_title  star_rating  \\\n",
       "0        Minnetonka Men's Double Deerskin Softsole Mocc...            0   \n",
       "4        OverBling Sneakers for Men Casual Men Shoes Ge...            0   \n",
       "7                           Olukai Nohea Mesh Shoe - Men's            0   \n",
       "9                             Alegria Women's Seville Clog            0   \n",
       "12       Versace Collection Black Perforated Leather Lo...            0   \n",
       "...                                                    ...          ...   \n",
       "2630966  Nina Dally Mary Jane (Toddler/Little Kid/Big Kid)            1   \n",
       "3093800  Phenas? Girl's Lovely Sweet Bowknot Leisure Ca...            1   \n",
       "293111   Skechers USA Men's Relaxed Fit Memory Foam Sup...            1   \n",
       "2088909             Brinley Co Womens Lace-up Wedge Bootie            1   \n",
       "2183298    Stride Rite Ariana Sneaker (Toddler/Little Kid)            1   \n",
       "\n",
       "         helpful_votes  verified_purchase  \\\n",
       "0                    0                  1   \n",
       "4                    0                  1   \n",
       "7                    0                  1   \n",
       "9                    0                  1   \n",
       "12                   1                  1   \n",
       "...                ...                ...   \n",
       "2630966              0                  1   \n",
       "3093800              1                  1   \n",
       "293111               0                  1   \n",
       "2088909              0                  0   \n",
       "2183298              0                  1   \n",
       "\n",
       "                                   review_headline  \\\n",
       "0                                                    \n",
       "4                                      three stars   \n",
       "7        good deal  but had to go a full size down   \n",
       "9                                        too small   \n",
       "12                                      four stars   \n",
       "...                                            ...   \n",
       "2630966                                   finally    \n",
       "3093800                                  great buy   \n",
       "293111                                  five stars   \n",
       "2088909                            beautiful shoes   \n",
       "2183298                                 five stars   \n",
       "\n",
       "                                               review_body  year  month  \n",
       "0        do not buy  really didn t start to wear them u...  2015      8  \n",
       "4                                                    small  2015      8  \n",
       "7        i went a full size down and they fit better bu...  2015      8  \n",
       "9                                  the size is misleading   2015      8  \n",
       "12       good quality shoes  great for casual or busine...  2015      8  \n",
       "...                                                    ...   ...    ...  \n",
       "2630966  finally found a comfortable shoe for my daught...  2014      4  \n",
       "3093800  my daughter love this bag and takes it to scho...  2013     11  \n",
       "293111   great shoes  very comfortable  normally wear a...  2015      7  \n",
       "2088909  i was a little worried these would run small b...  2014      9  \n",
       "2183298  we like stride rite shoes because they are wel...  2014      8  \n",
       "\n",
       "[3065698 rows x 8 columns]"
      ]
     },
     "execution_count": 42,
     "metadata": {},
     "output_type": "execute_result"
    }
   ],
   "source": [
    "# total_votes and helpful_votes has high correlation so had to drop total_votes\n",
    "sampled_df.drop(columns='total_votes')"
   ]
  },
  {
   "cell_type": "markdown",
   "id": "6d022ae3",
   "metadata": {},
   "source": [
    "#### Train/Test Split"
   ]
  },
  {
   "cell_type": "code",
   "execution_count": 43,
   "id": "6b2f7267",
   "metadata": {},
   "outputs": [],
   "source": [
    "# assigning Reviewer_Score as target variable and everything else as X \n",
    "X_sample = sampled_df.drop(columns=['star_rating'])\n",
    "y_sample = sampled_df['star_rating']\n",
    "\n",
    "# splitting the data \n",
    "X_remainder_sample, X_test_sample, y_remainder_sample, y_test_sample = train_test_split(X_sample, y_sample, test_size=0.2, random_state=1, stratify=y_sample)"
   ]
  },
  {
   "cell_type": "code",
   "execution_count": 44,
   "id": "a440d593",
   "metadata": {},
   "outputs": [],
   "source": [
    "# Creating a validation set\n",
    "X_train_sample, X_valid_sample, y_train_sample, y_valid_sample = train_test_split(X_remainder_sample, y_remainder_sample, test_size=0.3, random_state=1, stratify=y_remainder_sample)"
   ]
  },
  {
   "cell_type": "markdown",
   "id": "fd17af0c",
   "metadata": {},
   "source": [
    "#### Vectorization"
   ]
  },
  {
   "cell_type": "markdown",
   "id": "9235c85c",
   "metadata": {},
   "source": [
    "The `review_body` and `review_headline` need to be vectorized so there is only numeric columns before modeling can be done. For vectorizing, bag of words will be used."
   ]
  },
  {
   "cell_type": "code",
   "execution_count": 45,
   "id": "9fdfca22",
   "metadata": {},
   "outputs": [],
   "source": [
    "X_train_review_sample = X_train_sample['review_body']\n",
    "X_valid_review_sample = X_valid_sample['review_body']\n",
    "X_test_review_sample = X_test_sample['review_body']\n",
    "\n",
    "# X_remainder will be needed for when cv is being done\n",
    "X_remainder_review_sample = X_remainder_sample['review_body']"
   ]
  },
  {
   "cell_type": "code",
   "execution_count": 46,
   "id": "da80db01",
   "metadata": {},
   "outputs": [],
   "source": [
    "# sampled_df = sampled_df.drop(columns=['product_title', 'review_headline', 'review_body'])"
   ]
  },
  {
   "cell_type": "code",
   "execution_count": 47,
   "id": "3418c366",
   "metadata": {
    "scrolled": true
   },
   "outputs": [
    {
     "name": "stdout",
     "output_type": "stream",
     "text": [
      "CPU times: total: 1min 59s\n",
      "Wall time: 1min 59s\n"
     ]
    }
   ],
   "source": [
    "%%time\n",
    "# Instantiate\n",
    "stemmer = PorterStemmer()\n",
    "\n",
    "bag_body = CountVectorizer(stop_words=\"english\", min_df=250)\n",
    "\n",
    "# Fitting \n",
    "bag_body.fit(X_train_review_sample)\n",
    "\n",
    "\n",
    "# Transform\n",
    "train_bag_sample = bag_body.transform(X_train_review_sample)\n",
    "valid_bag_sample = bag_body.transform(X_valid_review_sample)\n",
    "test_bag_sample = bag_body.transform(X_test_review_sample)"
   ]
  },
  {
   "cell_type": "code",
   "execution_count": 48,
   "id": "0b4a08d0",
   "metadata": {},
   "outputs": [
    {
     "name": "stdout",
     "output_type": "stream",
     "text": [
      "CPU times: total: 2min 17s\n",
      "Wall time: 2min 17s\n"
     ]
    }
   ],
   "source": [
    "%%time\n",
    "# This one is for X_remainder when cv is not done \n",
    "\n",
    "### For X_remainder\n",
    "bag_body2 = CountVectorizer(stop_words=\"english\", min_df=250)\n",
    "bag_body2.fit(X_remainder_review_sample)\n",
    "remainder_bag_sample = bag_body2.transform(X_remainder_review_sample)\n",
    "test_bag_sample2 = bag_body2.transform(X_test_review_sample)"
   ]
  },
  {
   "cell_type": "code",
   "execution_count": 49,
   "id": "a6061334",
   "metadata": {},
   "outputs": [],
   "source": [
    "X_train_headline_sample = X_train_sample['review_headline']\n",
    "X_valid_headline_sample = X_valid_sample['review_headline']\n",
    "X_test_headline_sample = X_test_sample['review_headline']\n",
    "# X_remainder will be needed for when cv is being done\n",
    "X_remainder_headline_sample = X_remainder_sample['review_headline']"
   ]
  },
  {
   "cell_type": "code",
   "execution_count": 50,
   "id": "f70fc5be",
   "metadata": {},
   "outputs": [
    {
     "name": "stdout",
     "output_type": "stream",
     "text": [
      "CPU times: total: 25.1 s\n",
      "Wall time: 25.1 s\n"
     ]
    }
   ],
   "source": [
    "%%time\n",
    "# Instantiate\n",
    "bag_headline = CountVectorizer(stop_words=\"english\", min_df=50)\n",
    "\n",
    "# Fitting \n",
    "bag_headline.fit(X_train_headline_sample)\n",
    "\n",
    "# Transform\n",
    "train_headline_sample = bag_headline.transform(X_train_headline_sample)\n",
    "valid_headline_sample = bag_headline.transform(X_valid_headline_sample)\n",
    "test_headline_sample = bag_headline.transform(X_test_headline_sample)"
   ]
  },
  {
   "cell_type": "code",
   "execution_count": 51,
   "id": "54a22c63",
   "metadata": {},
   "outputs": [
    {
     "name": "stdout",
     "output_type": "stream",
     "text": [
      "CPU times: total: 28.8 s\n",
      "Wall time: 28.8 s\n"
     ]
    }
   ],
   "source": [
    "%%time\n",
    "# For X_remainder\n",
    "bag_headline2 = CountVectorizer(stop_words=\"english\", min_df=50)\n",
    "bag_headline2.fit(X_remainder_headline_sample)\n",
    "remainder_headline_sample = bag_headline2.transform(X_remainder_headline_sample)\n",
    "test_headline_sample2 = bag_headline2.transform(X_test_headline_sample)"
   ]
  },
  {
   "cell_type": "code",
   "execution_count": 52,
   "id": "f432e57c",
   "metadata": {},
   "outputs": [
    {
     "data": {
      "text/plain": [
       "array(['00', '10', '100', ..., 'zipper', 'zippers', 'zumba'], dtype=object)"
      ]
     },
     "execution_count": 52,
     "metadata": {},
     "output_type": "execute_result"
    }
   ],
   "source": [
    "bag_headline.get_feature_names_out()"
   ]
  },
  {
   "cell_type": "code",
   "execution_count": 53,
   "id": "8ac159af",
   "metadata": {},
   "outputs": [],
   "source": [
    "# combining headline and bag counts\n",
    "train_count = sp.hstack([train_headline_sample, train_bag_sample])\n",
    "valid_count = sp.hstack([valid_headline_sample, valid_bag_sample])\n",
    "test_count = sp.hstack([test_headline_sample, test_bag_sample])"
   ]
  },
  {
   "cell_type": "code",
   "execution_count": 54,
   "id": "d07d284d",
   "metadata": {},
   "outputs": [],
   "source": [
    "# combining headline and bag counts\n",
    "remainder_count = sp.hstack([remainder_headline_sample, remainder_bag_sample])\n",
    "test_count2 = sp.hstack([test_headline_sample2, test_bag_sample2])"
   ]
  },
  {
   "cell_type": "code",
   "execution_count": 55,
   "id": "e1d8e249",
   "metadata": {},
   "outputs": [
    {
     "data": {
      "text/plain": [
       "<1716790x8640 sparse matrix of type '<class 'numpy.int64'>'\n",
       "\twith 30931693 stored elements in Compressed Sparse Row format>"
      ]
     },
     "execution_count": 55,
     "metadata": {},
     "output_type": "execute_result"
    }
   ],
   "source": [
    "train_count"
   ]
  },
  {
   "cell_type": "code",
   "execution_count": 56,
   "id": "05594ba5",
   "metadata": {},
   "outputs": [],
   "source": [
    "body_words = bag_body.get_feature_names_out()\n",
    "tagged_body_words = ['b_' + feature for feature in body_words]\n",
    "headline_words = bag_headline.get_feature_names_out()\n",
    "tagged_headline_words = ['h_' + feature for feature in headline_words]\n",
    "sample_vocab = tagged_headline_words + tagged_body_words"
   ]
  },
  {
   "cell_type": "code",
   "execution_count": 57,
   "id": "bd6da84a",
   "metadata": {},
   "outputs": [],
   "source": [
    "# FOR X_REMAINDER\n",
    "body_words2 = bag_body2.get_feature_names_out()\n",
    "tagged_body_words2 = ['b_' + feature for feature in body_words2]\n",
    "headline_words2 = bag_headline2.get_feature_names_out()\n",
    "tagged_headline_words2 = ['h_' + feature for feature in headline_words2]\n",
    "sample_vocab2 = tagged_headline_words2 + tagged_body_words2"
   ]
  },
  {
   "cell_type": "code",
   "execution_count": 58,
   "id": "5fdf87ac",
   "metadata": {},
   "outputs": [
    {
     "data": {
      "text/plain": [
       "8640"
      ]
     },
     "execution_count": 58,
     "metadata": {},
     "output_type": "execute_result"
    }
   ],
   "source": [
    "len(sample_vocab)"
   ]
  },
  {
   "cell_type": "code",
   "execution_count": 59,
   "id": "65361830",
   "metadata": {},
   "outputs": [
    {
     "data": {
      "text/plain": [
       "<1716790x8640 sparse matrix of type '<class 'numpy.int64'>'\n",
       "\twith 30931693 stored elements in Compressed Sparse Row format>"
      ]
     },
     "execution_count": 59,
     "metadata": {},
     "output_type": "execute_result"
    }
   ],
   "source": [
    "train_count"
   ]
  },
  {
   "cell_type": "code",
   "execution_count": 60,
   "id": "d090a6d1",
   "metadata": {},
   "outputs": [],
   "source": [
    "train_sparse = csr_matrix(train_count)\n",
    "train_df = pd.DataFrame.sparse.from_spmatrix(train_sparse, columns=sample_vocab)\n",
    "valid_sparse = csr_matrix(valid_count)\n",
    "valid_df = pd.DataFrame.sparse.from_spmatrix(valid_sparse, columns=sample_vocab)\n",
    "# valid_df = pd.SparseDataFrame(valid_count, columns=sample_vocab)\n",
    "test_sparse = csr_matrix(test_count)\n",
    "test_df = pd.DataFrame.sparse.from_spmatrix(test_sparse, columns=sample_vocab)\n",
    "# test_df = pd.SparseDataFrame(test_count, columns=sample_vocab)"
   ]
  },
  {
   "cell_type": "code",
   "execution_count": 61,
   "id": "7482a3da",
   "metadata": {},
   "outputs": [],
   "source": [
    "# For X_remainder\n",
    "remainder_sparse = csr_matrix(remainder_count)\n",
    "remainder_df = pd.DataFrame.sparse.from_spmatrix(remainder_sparse, columns=sample_vocab2)\n",
    "\n",
    "test_sparse2 = csr_matrix(test_count2)\n",
    "test_df2 = pd.DataFrame.sparse.from_spmatrix(test_sparse2, columns=sample_vocab2)\n",
    "\n",
    "# remainder_df = pd.DataFrame(remainder_count.toarray(), columns=sample_vocab2)\n",
    "# test_df2 = pd.DataFrame(test_count2.toarray(), columns=sample_vocab2)"
   ]
  },
  {
   "cell_type": "code",
   "execution_count": 62,
   "id": "58e84c23",
   "metadata": {},
   "outputs": [],
   "source": [
    "X_train_sample = X_train_sample.reset_index(drop=True).drop(columns=['product_title', 'review_headline', 'review_body'])\n",
    "X_valid_sample = X_valid_sample.reset_index(drop=True).drop(columns=['product_title', 'review_headline', 'review_body'])\n",
    "X_test_sample = X_test_sample.reset_index(drop=True).drop(columns=['product_title', 'review_headline', 'review_body'])"
   ]
  },
  {
   "cell_type": "code",
   "execution_count": 63,
   "id": "b7175e7f",
   "metadata": {},
   "outputs": [],
   "source": [
    "# For X_remainder\n",
    "X_remainder_sample = X_remainder_sample.reset_index(drop=True).drop(columns=['product_title', 'review_headline', 'review_body'])"
   ]
  },
  {
   "cell_type": "code",
   "execution_count": 64,
   "id": "0c3051f1",
   "metadata": {},
   "outputs": [],
   "source": [
    "combined_train = pd.concat([X_train_sample, train_df], axis=1)\n",
    "combined_valid = pd.concat([X_valid_sample, valid_df], axis=1)\n",
    "combined_test = pd.concat([X_test_sample, test_df], axis=1)"
   ]
  },
  {
   "cell_type": "code",
   "execution_count": 65,
   "id": "47ff16d7",
   "metadata": {},
   "outputs": [],
   "source": [
    "# For X_remainder\n",
    "combined_remainder = pd.concat([X_remainder_sample, remainder_df], axis=1)\n",
    "combined_test2 = pd.concat([X_test_sample, test_df2], axis=1)"
   ]
  },
  {
   "cell_type": "code",
   "execution_count": 66,
   "id": "8cb3d65d",
   "metadata": {},
   "outputs": [
    {
     "data": {
      "text/html": [
       "<div>\n",
       "<style scoped>\n",
       "    .dataframe tbody tr th:only-of-type {\n",
       "        vertical-align: middle;\n",
       "    }\n",
       "\n",
       "    .dataframe tbody tr th {\n",
       "        vertical-align: top;\n",
       "    }\n",
       "\n",
       "    .dataframe thead th {\n",
       "        text-align: right;\n",
       "    }\n",
       "</style>\n",
       "<table border=\"1\" class=\"dataframe\">\n",
       "  <thead>\n",
       "    <tr style=\"text-align: right;\">\n",
       "      <th></th>\n",
       "      <th>helpful_votes</th>\n",
       "      <th>total_votes</th>\n",
       "      <th>verified_purchase</th>\n",
       "      <th>year</th>\n",
       "      <th>month</th>\n",
       "      <th>h_00</th>\n",
       "      <th>h_10</th>\n",
       "      <th>h_100</th>\n",
       "      <th>h_1000</th>\n",
       "      <th>h_10m</th>\n",
       "      <th>...</th>\n",
       "      <th>b_zipped</th>\n",
       "      <th>b_zipper</th>\n",
       "      <th>b_zippered</th>\n",
       "      <th>b_zippers</th>\n",
       "      <th>b_zipping</th>\n",
       "      <th>b_zips</th>\n",
       "      <th>b_zone</th>\n",
       "      <th>b_zoo</th>\n",
       "      <th>b_zoom</th>\n",
       "      <th>b_zumba</th>\n",
       "    </tr>\n",
       "  </thead>\n",
       "  <tbody>\n",
       "    <tr>\n",
       "      <th>0</th>\n",
       "      <td>0</td>\n",
       "      <td>0</td>\n",
       "      <td>1</td>\n",
       "      <td>2012</td>\n",
       "      <td>4</td>\n",
       "      <td>0</td>\n",
       "      <td>0</td>\n",
       "      <td>0</td>\n",
       "      <td>0</td>\n",
       "      <td>0</td>\n",
       "      <td>...</td>\n",
       "      <td>0</td>\n",
       "      <td>0</td>\n",
       "      <td>0</td>\n",
       "      <td>0</td>\n",
       "      <td>0</td>\n",
       "      <td>0</td>\n",
       "      <td>0</td>\n",
       "      <td>0</td>\n",
       "      <td>0</td>\n",
       "      <td>0</td>\n",
       "    </tr>\n",
       "    <tr>\n",
       "      <th>1</th>\n",
       "      <td>0</td>\n",
       "      <td>0</td>\n",
       "      <td>1</td>\n",
       "      <td>2014</td>\n",
       "      <td>5</td>\n",
       "      <td>0</td>\n",
       "      <td>0</td>\n",
       "      <td>0</td>\n",
       "      <td>0</td>\n",
       "      <td>0</td>\n",
       "      <td>...</td>\n",
       "      <td>0</td>\n",
       "      <td>0</td>\n",
       "      <td>0</td>\n",
       "      <td>0</td>\n",
       "      <td>0</td>\n",
       "      <td>0</td>\n",
       "      <td>0</td>\n",
       "      <td>0</td>\n",
       "      <td>0</td>\n",
       "      <td>0</td>\n",
       "    </tr>\n",
       "    <tr>\n",
       "      <th>2</th>\n",
       "      <td>0</td>\n",
       "      <td>0</td>\n",
       "      <td>1</td>\n",
       "      <td>2015</td>\n",
       "      <td>2</td>\n",
       "      <td>0</td>\n",
       "      <td>0</td>\n",
       "      <td>0</td>\n",
       "      <td>0</td>\n",
       "      <td>0</td>\n",
       "      <td>...</td>\n",
       "      <td>0</td>\n",
       "      <td>0</td>\n",
       "      <td>0</td>\n",
       "      <td>0</td>\n",
       "      <td>0</td>\n",
       "      <td>0</td>\n",
       "      <td>0</td>\n",
       "      <td>0</td>\n",
       "      <td>0</td>\n",
       "      <td>0</td>\n",
       "    </tr>\n",
       "    <tr>\n",
       "      <th>3</th>\n",
       "      <td>0</td>\n",
       "      <td>0</td>\n",
       "      <td>1</td>\n",
       "      <td>2012</td>\n",
       "      <td>7</td>\n",
       "      <td>0</td>\n",
       "      <td>0</td>\n",
       "      <td>0</td>\n",
       "      <td>0</td>\n",
       "      <td>0</td>\n",
       "      <td>...</td>\n",
       "      <td>0</td>\n",
       "      <td>0</td>\n",
       "      <td>0</td>\n",
       "      <td>0</td>\n",
       "      <td>0</td>\n",
       "      <td>0</td>\n",
       "      <td>0</td>\n",
       "      <td>0</td>\n",
       "      <td>0</td>\n",
       "      <td>0</td>\n",
       "    </tr>\n",
       "    <tr>\n",
       "      <th>4</th>\n",
       "      <td>0</td>\n",
       "      <td>0</td>\n",
       "      <td>1</td>\n",
       "      <td>2015</td>\n",
       "      <td>3</td>\n",
       "      <td>0</td>\n",
       "      <td>0</td>\n",
       "      <td>0</td>\n",
       "      <td>0</td>\n",
       "      <td>0</td>\n",
       "      <td>...</td>\n",
       "      <td>0</td>\n",
       "      <td>0</td>\n",
       "      <td>0</td>\n",
       "      <td>0</td>\n",
       "      <td>0</td>\n",
       "      <td>0</td>\n",
       "      <td>0</td>\n",
       "      <td>0</td>\n",
       "      <td>0</td>\n",
       "      <td>0</td>\n",
       "    </tr>\n",
       "    <tr>\n",
       "      <th>...</th>\n",
       "      <td>...</td>\n",
       "      <td>...</td>\n",
       "      <td>...</td>\n",
       "      <td>...</td>\n",
       "      <td>...</td>\n",
       "      <td>...</td>\n",
       "      <td>...</td>\n",
       "      <td>...</td>\n",
       "      <td>...</td>\n",
       "      <td>...</td>\n",
       "      <td>...</td>\n",
       "      <td>...</td>\n",
       "      <td>...</td>\n",
       "      <td>...</td>\n",
       "      <td>...</td>\n",
       "      <td>...</td>\n",
       "      <td>...</td>\n",
       "      <td>...</td>\n",
       "      <td>...</td>\n",
       "      <td>...</td>\n",
       "      <td>...</td>\n",
       "    </tr>\n",
       "    <tr>\n",
       "      <th>613135</th>\n",
       "      <td>0</td>\n",
       "      <td>0</td>\n",
       "      <td>1</td>\n",
       "      <td>2014</td>\n",
       "      <td>11</td>\n",
       "      <td>0</td>\n",
       "      <td>0</td>\n",
       "      <td>0</td>\n",
       "      <td>0</td>\n",
       "      <td>0</td>\n",
       "      <td>...</td>\n",
       "      <td>0</td>\n",
       "      <td>0</td>\n",
       "      <td>0</td>\n",
       "      <td>0</td>\n",
       "      <td>0</td>\n",
       "      <td>0</td>\n",
       "      <td>0</td>\n",
       "      <td>0</td>\n",
       "      <td>0</td>\n",
       "      <td>0</td>\n",
       "    </tr>\n",
       "    <tr>\n",
       "      <th>613136</th>\n",
       "      <td>1</td>\n",
       "      <td>1</td>\n",
       "      <td>1</td>\n",
       "      <td>2014</td>\n",
       "      <td>12</td>\n",
       "      <td>0</td>\n",
       "      <td>0</td>\n",
       "      <td>0</td>\n",
       "      <td>0</td>\n",
       "      <td>0</td>\n",
       "      <td>...</td>\n",
       "      <td>0</td>\n",
       "      <td>0</td>\n",
       "      <td>0</td>\n",
       "      <td>0</td>\n",
       "      <td>0</td>\n",
       "      <td>0</td>\n",
       "      <td>0</td>\n",
       "      <td>0</td>\n",
       "      <td>0</td>\n",
       "      <td>0</td>\n",
       "    </tr>\n",
       "    <tr>\n",
       "      <th>613137</th>\n",
       "      <td>0</td>\n",
       "      <td>1</td>\n",
       "      <td>1</td>\n",
       "      <td>2015</td>\n",
       "      <td>7</td>\n",
       "      <td>0</td>\n",
       "      <td>0</td>\n",
       "      <td>0</td>\n",
       "      <td>0</td>\n",
       "      <td>0</td>\n",
       "      <td>...</td>\n",
       "      <td>0</td>\n",
       "      <td>0</td>\n",
       "      <td>0</td>\n",
       "      <td>0</td>\n",
       "      <td>0</td>\n",
       "      <td>0</td>\n",
       "      <td>0</td>\n",
       "      <td>0</td>\n",
       "      <td>0</td>\n",
       "      <td>0</td>\n",
       "    </tr>\n",
       "    <tr>\n",
       "      <th>613138</th>\n",
       "      <td>0</td>\n",
       "      <td>0</td>\n",
       "      <td>1</td>\n",
       "      <td>2013</td>\n",
       "      <td>12</td>\n",
       "      <td>0</td>\n",
       "      <td>0</td>\n",
       "      <td>0</td>\n",
       "      <td>0</td>\n",
       "      <td>0</td>\n",
       "      <td>...</td>\n",
       "      <td>0</td>\n",
       "      <td>0</td>\n",
       "      <td>0</td>\n",
       "      <td>0</td>\n",
       "      <td>0</td>\n",
       "      <td>0</td>\n",
       "      <td>0</td>\n",
       "      <td>0</td>\n",
       "      <td>0</td>\n",
       "      <td>0</td>\n",
       "    </tr>\n",
       "    <tr>\n",
       "      <th>613139</th>\n",
       "      <td>0</td>\n",
       "      <td>1</td>\n",
       "      <td>1</td>\n",
       "      <td>2014</td>\n",
       "      <td>7</td>\n",
       "      <td>0</td>\n",
       "      <td>0</td>\n",
       "      <td>0</td>\n",
       "      <td>0</td>\n",
       "      <td>0</td>\n",
       "      <td>...</td>\n",
       "      <td>0</td>\n",
       "      <td>0</td>\n",
       "      <td>0</td>\n",
       "      <td>0</td>\n",
       "      <td>0</td>\n",
       "      <td>0</td>\n",
       "      <td>0</td>\n",
       "      <td>0</td>\n",
       "      <td>0</td>\n",
       "      <td>0</td>\n",
       "    </tr>\n",
       "  </tbody>\n",
       "</table>\n",
       "<p>613140 rows × 10508 columns</p>\n",
       "</div>"
      ],
      "text/plain": [
       "        helpful_votes  total_votes  verified_purchase  year  month  h_00  \\\n",
       "0                   0            0                  1  2012      4     0   \n",
       "1                   0            0                  1  2014      5     0   \n",
       "2                   0            0                  1  2015      2     0   \n",
       "3                   0            0                  1  2012      7     0   \n",
       "4                   0            0                  1  2015      3     0   \n",
       "...               ...          ...                ...   ...    ...   ...   \n",
       "613135              0            0                  1  2014     11     0   \n",
       "613136              1            1                  1  2014     12     0   \n",
       "613137              0            1                  1  2015      7     0   \n",
       "613138              0            0                  1  2013     12     0   \n",
       "613139              0            1                  1  2014      7     0   \n",
       "\n",
       "        h_10  h_100  h_1000  h_10m  ...  b_zipped  b_zipper  b_zippered  \\\n",
       "0          0      0       0      0  ...         0         0           0   \n",
       "1          0      0       0      0  ...         0         0           0   \n",
       "2          0      0       0      0  ...         0         0           0   \n",
       "3          0      0       0      0  ...         0         0           0   \n",
       "4          0      0       0      0  ...         0         0           0   \n",
       "...      ...    ...     ...    ...  ...       ...       ...         ...   \n",
       "613135     0      0       0      0  ...         0         0           0   \n",
       "613136     0      0       0      0  ...         0         0           0   \n",
       "613137     0      0       0      0  ...         0         0           0   \n",
       "613138     0      0       0      0  ...         0         0           0   \n",
       "613139     0      0       0      0  ...         0         0           0   \n",
       "\n",
       "        b_zippers  b_zipping  b_zips  b_zone  b_zoo  b_zoom  b_zumba  \n",
       "0               0          0       0       0      0       0        0  \n",
       "1               0          0       0       0      0       0        0  \n",
       "2               0          0       0       0      0       0        0  \n",
       "3               0          0       0       0      0       0        0  \n",
       "4               0          0       0       0      0       0        0  \n",
       "...           ...        ...     ...     ...    ...     ...      ...  \n",
       "613135          0          0       0       0      0       0        0  \n",
       "613136          0          0       0       0      0       0        0  \n",
       "613137          0          0       0       0      0       0        0  \n",
       "613138          0          0       0       0      0       0        0  \n",
       "613139          0          0       0       0      0       0        0  \n",
       "\n",
       "[613140 rows x 10508 columns]"
      ]
     },
     "execution_count": 66,
     "metadata": {},
     "output_type": "execute_result"
    }
   ],
   "source": [
    "combined_test2"
   ]
  },
  {
   "cell_type": "code",
   "execution_count": 70,
   "id": "f3b31397",
   "metadata": {},
   "outputs": [],
   "source": [
    "# Processing the conversion of dense matrix to sparse matrix for scaling\n",
    "batch_size = 100000\n",
    "n = int(np.ceil(len(combined_train) / batch_size)) # number of batches\n",
    "sparse_matrices = [] # used to hold the each batch of sparse matrices \n",
    "\n",
    "for i in range(n):\n",
    "    start_i = i * batch_size\n",
    "    end_i = (i + 1) * batch_size\n",
    "    # an if statement so the index doesn't go above the max range of the dataframe\n",
    "    if end_i > len(combined_train):\n",
    "        end_i = None # setting None as that is the last index of the dataframe\n",
    "    batch = combined_train.iloc[start_i:end_i]\n",
    "    sparse_matrix = sp.csr_matrix(batch.values)\n",
    "    sparse_matrices.append(sparse_matrix)\n",
    "\n",
    "combined_train = sp.vstack(sparse_matrices)"
   ]
  },
  {
   "cell_type": "code",
   "execution_count": 72,
   "id": "ddb89882",
   "metadata": {},
   "outputs": [],
   "source": [
    "# Processing the conversion of dense matrix to sparse matrix for scaling\n",
    "batch_size = 100000\n",
    "n = int(np.ceil(len(combined_valid) / batch_size)) # number of batches\n",
    "sparse_matrices = [] # used to hold the each batch of sparse matrices \n",
    "\n",
    "for i in range(n):\n",
    "    start_i = i * batch_size\n",
    "    end_i = (i + 1) * batch_size\n",
    "    # an if statement so the index doesn't go above the max range of the dataframe\n",
    "    if end_i > len(combined_valid):\n",
    "        end_i = None # setting -1 as that is the last index of the dataframe\n",
    "    batch = combined_valid.iloc[start_i:end_i]\n",
    "    sparse_matrix = sp.csr_matrix(batch.values)\n",
    "    sparse_matrices.append(sparse_matrix)\n",
    "\n",
    "combined_valid = sp.vstack(sparse_matrices)"
   ]
  },
  {
   "cell_type": "code",
   "execution_count": 73,
   "id": "20028a47",
   "metadata": {},
   "outputs": [],
   "source": [
    "# Processing the conversion of dense matrix to sparse matrix for scaling\n",
    "batch_size = 100000\n",
    "n = int(np.ceil(len(combined_test) / batch_size)) # number of batches\n",
    "sparse_matrices = [] # used to hold the each batch of sparse matrices \n",
    "\n",
    "for i in range(n):\n",
    "    start_i = i * batch_size\n",
    "    end_i = (i + 1) * batch_size\n",
    "    # an if statement so the index doesn't go above the max range of the dataframe\n",
    "    if end_i > len(combined_test):\n",
    "        end_i = None # setting None as that is the last index of the dataframe\n",
    "    batch = combined_test.iloc[start_i:end_i]\n",
    "    sparse_matrix = sp.csr_matrix(batch.values)\n",
    "    sparse_matrices.append(sparse_matrix)\n",
    "\n",
    "combined_test = sp.vstack(sparse_matrices)"
   ]
  },
  {
   "cell_type": "code",
   "execution_count": 92,
   "id": "ac2be534",
   "metadata": {},
   "outputs": [],
   "source": [
    "# Processing the conversion of dense matrix to sparse matrix for scaling\n",
    "batch_size = 100000\n",
    "n = int(np.ceil(len(combined_remainder) / batch_size)) # number of batches\n",
    "sparse_matrices = [] # used to hold the each batch of sparse matrices \n",
    "\n",
    "for i in range(n):\n",
    "    start_i = i * batch_size\n",
    "    end_i = (i + 1) * batch_size\n",
    "    # an if statement so the index doesn't go above the max range of the dataframe\n",
    "    if end_i > len(combined_remainder):\n",
    "        end_i = None # setting None as that is the last index of the dataframe\n",
    "    batch = combined_remainder.iloc[start_i:end_i]\n",
    "    sparse_matrix = sp.csr_matrix(batch.values)\n",
    "    sparse_matrices.append(sparse_matrix)\n",
    "\n",
    "combined_remainder = sp.vstack(sparse_matrices)"
   ]
  },
  {
   "cell_type": "code",
   "execution_count": 98,
   "id": "e3af00e2",
   "metadata": {},
   "outputs": [],
   "source": [
    "# Processing the conversion of dense matrix to sparse matrix for scaling\n",
    "batch_size = 100000\n",
    "n = int(np.ceil(len(combined_test2) / batch_size)) # number of batches\n",
    "sparse_matrices = [] # used to hold the each batch of sparse matrices \n",
    "\n",
    "for i in range(n):\n",
    "    start_i = i * batch_size\n",
    "    end_i = (i + 1) * batch_size\n",
    "    # an if statement so the index doesn't go above the max range of the dataframe\n",
    "    if end_i > len(combined_test2):\n",
    "        end_i = None # setting None as that is the last index of the dataframe\n",
    "    batch = combined_test2.iloc[start_i:end_i]\n",
    "    sparse_matrix = sp.csr_matrix(batch.values)\n",
    "    sparse_matrices.append(sparse_matrix)\n",
    "\n",
    "combined_test2 = sp.vstack(sparse_matrices)"
   ]
  },
  {
   "cell_type": "code",
   "execution_count": 74,
   "id": "cb3f3f8f",
   "metadata": {},
   "outputs": [],
   "source": [
    "# Instantiate\n",
    "ss = StandardScaler(with_mean=False) # need with_mean=False for sparse matrix\n",
    "\n",
    "# Fit and tranform\n",
    "X_train_scaled = ss.fit_transform(combined_train)\n",
    "X_valid_scaled = ss.transform(combined_valid)\n",
    "X_test_scaled = ss.transform(combined_test)"
   ]
  },
  {
   "cell_type": "code",
   "execution_count": 99,
   "id": "1213a5be",
   "metadata": {},
   "outputs": [],
   "source": [
    "# For X_remainder\n",
    "ss = StandardScaler(with_mean=False)\n",
    "X_remainder_scaled = ss.fit_transform(combined_remainder)\n",
    "X_test_scaled2 = ss.transform(combined_test2)"
   ]
  },
  {
   "cell_type": "markdown",
   "id": "444bc66c",
   "metadata": {},
   "source": [
    "## Logistic Regression"
   ]
  },
  {
   "cell_type": "markdown",
   "id": "dfbc52e5",
   "metadata": {},
   "source": [
    "The logistic regression will be the model with the best parameters for logistic regression from the sample modeling."
   ]
  },
  {
   "cell_type": "code",
   "execution_count": 76,
   "id": "825c39b9",
   "metadata": {},
   "outputs": [
    {
     "data": {
      "text/plain": [
       "0.8072267345141403"
      ]
     },
     "execution_count": 76,
     "metadata": {},
     "output_type": "execute_result"
    }
   ],
   "source": [
    "lr = LogisticRegression(C=0.01, max_iter=10000, penalty='l1', solver='liblinear')\n",
    "lr.fit(X_train_scaled, y_train_sample)\n",
    "lr.score(X_test_scaled, y_test_sample)"
   ]
  },
  {
   "cell_type": "code",
   "execution_count": 77,
   "id": "1ac3ecf6",
   "metadata": {},
   "outputs": [
    {
     "data": {
      "image/png": "[encoded data removed]",
      "text/plain": [
       "<Figure size 640x480 with 2 Axes>"
      ]
     },
     "metadata": {},
     "output_type": "display_data"
    }
   ],
   "source": [
    "ConfusionMatrixDisplay.from_estimator(log3, X_test_scaled, y_test_sample);"
   ]
  },
  {
   "cell_type": "code",
   "execution_count": 78,
   "id": "0d26264a",
   "metadata": {},
   "outputs": [
    {
     "data": {
      "text/html": [
       "<div>\n",
       "<style scoped>\n",
       "    .dataframe tbody tr th:only-of-type {\n",
       "        vertical-align: middle;\n",
       "    }\n",
       "\n",
       "    .dataframe tbody tr th {\n",
       "        vertical-align: top;\n",
       "    }\n",
       "\n",
       "    .dataframe thead th {\n",
       "        text-align: right;\n",
       "    }\n",
       "</style>\n",
       "<table border=\"1\" class=\"dataframe\">\n",
       "  <thead>\n",
       "    <tr style=\"text-align: right;\">\n",
       "      <th></th>\n",
       "      <th>Predicted 0</th>\n",
       "      <th>Predicted 1</th>\n",
       "    </tr>\n",
       "  </thead>\n",
       "  <tbody>\n",
       "    <tr>\n",
       "      <th>True 0</th>\n",
       "      <td>232773</td>\n",
       "      <td>73797</td>\n",
       "    </tr>\n",
       "    <tr>\n",
       "      <th>True 1</th>\n",
       "      <td>44400</td>\n",
       "      <td>262170</td>\n",
       "    </tr>\n",
       "  </tbody>\n",
       "</table>\n",
       "</div>"
      ],
      "text/plain": [
       "        Predicted 0  Predicted 1\n",
       "True 0       232773        73797\n",
       "True 1        44400       262170"
      ]
     },
     "metadata": {},
     "output_type": "display_data"
    },
    {
     "name": "stdout",
     "output_type": "stream",
     "text": [
      "              precision    recall  f1-score   support\n",
      "\n",
      "           0       0.84      0.76      0.80    306570\n",
      "           1       0.78      0.86      0.82    306570\n",
      "\n",
      "    accuracy                           0.81    613140\n",
      "   macro avg       0.81      0.81      0.81    613140\n",
      "weighted avg       0.81      0.81      0.81    613140\n",
      "\n"
     ]
    }
   ],
   "source": [
    "# Get rating predictions\n",
    "y_pred = log3.predict(X_test_scaled)\n",
    "\n",
    "# Generate confusion matrix\n",
    "cf_matrix = confusion_matrix(y_test_sample, y_pred)\n",
    "\n",
    "# label rows and columns\n",
    "cf_df = pd.DataFrame(\n",
    "    cf_matrix, \n",
    "    columns=[\"Predicted 0\", \"Predicted 1\"],\n",
    "    index=[\"True 0\", \"True 1\"]\n",
    ")\n",
    "display(cf_df)\n",
    "\n",
    "print(classification_report(y_test_sample, y_pred))"
   ]
  },
  {
   "cell_type": "markdown",
   "id": "b091f68c-2ca1-43ea-b51b-4cec89271247",
   "metadata": {},
   "source": [
    "Running the full dataset seems to improve the model slightly and this could be due to the fact that there is more training data. However, the score is still around 80% which isn't that big of an increase."
   ]
  },
  {
   "cell_type": "code",
   "execution_count": null,
   "id": "b7df9336",
   "metadata": {},
   "outputs": [],
   "source": [
    "#### DOES NOT RUN DUE TO MEMORY ISSUE\n",
    "# word_counts = pd.DataFrame({\"counts\":log3.coef_[0]}, index=combined_train.columns).sort_values(\"counts\", ascending=False)\n",
    "# word_counts.head(30).plot(kind=\"bar\", figsize=(15, 5), legend=False)\n",
    "# plt.title(\"Top 30 most predictive features of a good review\")\n",
    "# plt.ylabel(\"coeff\")\n",
    "# plt.xticks(rotation=45)\n",
    "# plt.show()"
   ]
  },
  {
   "cell_type": "markdown",
   "id": "621d58fd-83b0-475e-901c-626ac4da554e",
   "metadata": {},
   "source": [
    "SVM can not be ran as it either ran into memory issues a lot."
   ]
  },
  {
   "cell_type": "markdown",
   "id": "b81e366d",
   "metadata": {},
   "source": [
    "## XGBoost"
   ]
  },
  {
   "cell_type": "markdown",
   "id": "afe5dc91-b3b1-4b24-abd6-33312a9bb5bb",
   "metadata": {},
   "source": [
    "XGBoost was able to run after some time but forgot to score the best model but did manage to get precision and recall scores."
   ]
  },
  {
   "cell_type": "code",
   "execution_count": null,
   "id": "55ef0f29",
   "metadata": {
    "tags": []
   },
   "outputs": [],
   "source": [
    "%%time\n",
    "estimators = [('model', XGBClassifier())]\n",
    "\n",
    "pipe = Pipeline(estimators)\n",
    "\n",
    "param_grid = {\n",
    "    'model': [XGBClassifier()],\n",
    "    'model__max_depth': [2, 3, 4, 5],\n",
    "    'model__learning_rate': [0.1, 0.01, 0.001],\n",
    "    'model__n_estimators': [100, 200, 300],\n",
    "}\n",
    "\n",
    "grid_boost = GridSearchCV(pipe, param_grid, cv=5, verbose=2)\n",
    "fittedgrid_boost = grid_boost.fit(X_remainder_scaled, y_remainder_sample)"
   ]
  },
  {
   "cell_type": "code",
   "execution_count": 113,
   "id": "3db800ec",
   "metadata": {
    "tags": []
   },
   "outputs": [],
   "source": [
    "# Get the best parameters and score\n",
    "best_params = grid_boost.best_params_"
   ]
  },
  {
   "cell_type": "code",
   "execution_count": null,
   "id": "48d1134c",
   "metadata": {},
   "outputs": [],
   "source": [
    "best_params"
   ]
  },
  {
   "cell_type": "markdown",
   "id": "d366e308",
   "metadata": {},
   "source": [
    "The best hyper parameter for XGBoost is when `learning_rate` is 0.1, `max_depth` is 5, and `n_estimators` is 300.\n",
    "The model seems to improving still since the best hyper parameter were the highest max_depth and n_estimators allowed so the model might be able to improve if it is set higher."
   ]
  },
  {
   "cell_type": "code",
   "execution_count": 115,
   "id": "f3690ec0",
   "metadata": {
    "scrolled": true
   },
   "outputs": [
    {
     "name": "stdout",
     "output_type": "stream",
     "text": [
      "              precision    recall  f1-score   support\n",
      "\n",
      "           0       0.81      0.75      0.78    306570\n",
      "           1       0.77      0.82      0.79    306570\n",
      "\n",
      "    accuracy                           0.79    613140\n",
      "   macro avg       0.79      0.79      0.79    613140\n",
      "weighted avg       0.79      0.79      0.79    613140\n",
      "\n"
     ]
    }
   ],
   "source": [
    "y_pred = grid_boost.predict(X_test_scaled2)\n",
    "print(classification_report(y_test_sample, y_pred))"
   ]
  },
  {
   "cell_type": "code",
   "execution_count": 116,
   "id": "e719e26b",
   "metadata": {},
   "outputs": [
    {
     "data": {
      "image/png": "[encoded data removed]",
      "text/plain": [
       "<Figure size 640x480 with 2 Axes>"
      ]
     },
     "metadata": {},
     "output_type": "display_data"
    }
   ],
   "source": [
    "ConfusionMatrixDisplay.from_estimator(grid_boost, X_test_scaled2, y_test_sample);"
   ]
  },
  {
   "cell_type": "markdown",
   "id": "e280af5b-3d11-4119-bab4-4336483f350b",
   "metadata": {},
   "source": [
    "<a id=\"next\"></a>\n",
    "## Next Steps"
   ]
  },
  {
   "cell_type": "markdown",
   "id": "6be3a61c-fe35-4fc1-9403-6bedf11c018b",
   "metadata": {},
   "source": [
    "#### Train/Test Split"
   ]
  },
  {
   "cell_type": "markdown",
   "id": "46575ed2-688d-4017-85ef-803c1e626317",
   "metadata": {},
   "source": [
    "Now that basic modeling has been performed, more advanced modeling can be experimented with. More specifically, using pre-trained neural networks (BERT) and fine-tuning it to try to classify the reviews. This will all be done in the next notebook."
   ]
  },
  {
   "cell_type": "code",
   "execution_count": 9,
   "id": "0132640b",
   "metadata": {},
   "outputs": [],
   "source": [
    "# assigning Reviewer_Score as target variable and everything else as X \n",
    "X_sample = sampled_df.drop(columns=['star_rating'])\n",
    "y_sample = sampled_df['star_rating']\n",
    "\n",
    "# splitting the data \n",
    "X_remainder_sample, X_test_sample, y_remainder_sample, y_test_sample = train_test_split(X_sample, y_sample, test_size=0.2, random_state=1, stratify=y_sample)"
   ]
  },
  {
   "cell_type": "code",
   "execution_count": 10,
   "id": "d2c14bf2",
   "metadata": {},
   "outputs": [],
   "source": [
    "# Creating a validation set\n",
    "X_train_sample, X_valid_sample, y_train_sample, y_valid_sample = train_test_split(X_remainder_sample, y_remainder_sample, test_size=0.2, random_state=1, stratify=y_remainder_sample)"
   ]
  },
  {
   "cell_type": "markdown",
   "id": "9803faea-b573-42ba-b271-c0bab23e7bca",
   "metadata": {},
   "source": [
    "#### Vectorization"
   ]
  },
  {
   "cell_type": "markdown",
   "id": "a63bd269-c46f-482c-be9f-885ed212828b",
   "metadata": {},
   "source": [
    "The `review_body` and `review_headline` need to be vectorized so there is only numeric columns before modeling can be done. For vectorizing, bag of words will be used."
   ]
  },
  {
   "cell_type": "code",
   "execution_count": 11,
   "id": "01f267f1",
   "metadata": {},
   "outputs": [],
   "source": [
    "X_train_review_sample = X_train_sample['review_body']\n",
    "X_valid_review_sample = X_valid_sample['review_body']\n",
    "X_test_review_sample = X_test_sample['review_body']\n",
    "\n",
    "# X_remainder will be needed for when cv is being done\n",
    "X_remainder_review_sample = X_remainder_sample['review_body']"
   ]
  },
  {
   "cell_type": "code",
   "execution_count": 12,
   "id": "eaab5071",
   "metadata": {},
   "outputs": [],
   "source": [
    "# sampled_df = sampled_df.drop(columns=['product_title', 'review_headline', 'review_body'])"
   ]
  },
  {
   "cell_type": "code",
   "execution_count": 13,
   "id": "8ab55b65",
   "metadata": {
    "scrolled": true
   },
   "outputs": [
    {
     "name": "stdout",
     "output_type": "stream",
     "text": [
      "CPU times: user 1.93 s, sys: 0 ns, total: 1.93 s\n",
      "Wall time: 1.93 s\n"
     ]
    }
   ],
   "source": [
    "%%time\n",
    "# Instantiate\n",
    "stemmer = PorterStemmer()\n",
    "\n",
    "bag_body = CountVectorizer(stop_words=\"english\", min_df=250)\n",
    "\n",
    "# Fitting \n",
    "bag_body.fit(X_train_review_sample)\n",
    "\n",
    "\n",
    "# Transform\n",
    "train_bag_sample = bag_body.transform(X_train_review_sample)\n",
    "valid_bag_sample = bag_body.transform(X_valid_review_sample)\n",
    "test_bag_sample = bag_body.transform(X_test_review_sample)"
   ]
  },
  {
   "cell_type": "code",
   "execution_count": 14,
   "id": "534533f4",
   "metadata": {},
   "outputs": [
    {
     "name": "stdout",
     "output_type": "stream",
     "text": [
      "CPU times: user 2.21 s, sys: 0 ns, total: 2.21 s\n",
      "Wall time: 2.21 s\n"
     ]
    }
   ],
   "source": [
    "%%time\n",
    "# This one is for X_remainder when cv is not done \n",
    "\n",
    "### For X_remainder\n",
    "bag_body2 = CountVectorizer(stop_words=\"english\", min_df=250)\n",
    "bag_body2.fit(X_remainder_review_sample)\n",
    "remainder_bag_sample = bag_body2.transform(X_remainder_review_sample)\n",
    "test_bag_sample2 = bag_body2.transform(X_test_review_sample)"
   ]
  },
  {
   "cell_type": "code",
   "execution_count": 14,
   "id": "a1574cc1",
   "metadata": {},
   "outputs": [],
   "source": [
    "X_train_headline_sample = X_train_sample['review_headline']\n",
    "X_valid_headline_sample = X_valid_sample['review_headline']\n",
    "X_test_headline_sample = X_test_sample['review_headline']\n",
    "# X_remainder will be needed for when cv is being done\n",
    "X_remainder_headline_sample = X_remainder_sample['review_headline']"
   ]
  },
  {
   "cell_type": "code",
   "execution_count": 15,
   "id": "35343aa8",
   "metadata": {},
   "outputs": [
    {
     "name": "stdout",
     "output_type": "stream",
     "text": [
      "CPU times: total: 406 ms\n",
      "Wall time: 399 ms\n"
     ]
    }
   ],
   "source": [
    "%%time\n",
    "# Instantiate\n",
    "bag_headline = CountVectorizer(stop_words=\"english\", min_df=50)\n",
    "\n",
    "# Fitting \n",
    "bag_headline.fit(X_train_headline_sample)\n",
    "\n",
    "# Transform\n",
    "train_headline_sample = bag_headline.transform(X_train_headline_sample)\n",
    "valid_headline_sample = bag_headline.transform(X_valid_headline_sample)\n",
    "test_headline_sample = bag_headline.transform(X_test_headline_sample)"
   ]
  },
  {
   "cell_type": "code",
   "execution_count": 16,
   "id": "4ab563f2",
   "metadata": {},
   "outputs": [
    {
     "name": "stdout",
     "output_type": "stream",
     "text": [
      "CPU times: total: 453 ms\n",
      "Wall time: 457 ms\n"
     ]
    }
   ],
   "source": [
    "%%time\n",
    "# For X_remainder\n",
    "bag_headline2 = CountVectorizer(stop_words=\"english\", min_df=50)\n",
    "bag_headline2.fit(X_remainder_headline_sample)\n",
    "remainder_headline_sample = bag_headline2.transform(X_remainder_headline_sample)\n",
    "test_headline_sample2 = bag_headline2.transform(X_test_headline_sample)"
   ]
  },
  {
   "cell_type": "code",
   "execution_count": 17,
   "id": "eef6f6b2",
   "metadata": {},
   "outputs": [
    {
     "data": {
      "text/plain": [
       "array(['adorable', 'amazing', 'ankle', 'apart', 'arch', 'asics',\n",
       "       'awesome', 'bad', 'bag', 'balance', 'beautiful', 'best', 'better',\n",
       "       'beware', 'big', 'bigger', 'bit', 'black', 'boot', 'boots',\n",
       "       'bought', 'box', 'buy', 'casual', 'cheap', 'clarks', 'color',\n",
       "       'comfort', 'comfortable', 'comfy', 'cool', 'crocs', 'cute',\n",
       "       'daughter', 'day', 'deal', 'design', 'did', 'didn', 'disappointed',\n",
       "       'don', 'durable', 'easy', 'em', 'excellent', 'expected',\n",
       "       'extremely', 'fabulous', 'fantastic', 'far', 'fast', 'favorite',\n",
       "       'feel', 'feels', 'feet', 'fine', 'fit', 'fits', 'flat', 'flip',\n",
       "       'flop', 'flops', 'foot', 'fun', 'gift', 'good', 'gorgeous', 'got',\n",
       "       'great', 'half', 'happy', 'hard', 'heel', 'high', 'hiking',\n",
       "       'husband', 'just', 'large', 'larger', 'leather', 'light',\n",
       "       'lightweight', 'like', 'liked', 'little', 'long', 'look',\n",
       "       'looking', 'looks', 'love', 'loved', 'loves', 'men', 'money',\n",
       "       'narrow', 'need', 'new', 'nice', 'ok', 'okay', 'old', 'order',\n",
       "       'ordered', 'owned', 'pair', 'perfect', 'picture', 'poor', 'pretty',\n",
       "       'price', 'product', 'purchase', 'quality', 'really', 'recommend',\n",
       "       'return', 'review', 'right', 'run', 'running', 'runs', 'sandal',\n",
       "       'sandals', 'satisfied', 'second', 'service', 'sexy', 'shoe',\n",
       "       'shoes', 'short', 'size', 'sizes', 'sizing', 'skechers', 'slip',\n",
       "       'slipper', 'slippers', 'small', 'smaller', 'sneaker', 'sneakers',\n",
       "       'soft', 'sole', 'son', 'star', 'stars', 'strap', 'style',\n",
       "       'stylish', 'summer', 'super', 'support', 'terrible', 'tight',\n",
       "       'time', 'toe', 'toes', 'true', 'uncomfortable', 'use', 'value',\n",
       "       've', 'walk', 'walking', 'wanted', 'warm', 'water', 'way', 'wear',\n",
       "       'wearing', 'wide', 'width', 'winter', 'women', 'wonderful', 'work',\n",
       "       'worn', 'worth', 'wrong', 'years'], dtype=object)"
      ]
     },
     "execution_count": 17,
     "metadata": {},
     "output_type": "execute_result"
    }
   ],
   "source": [
    "bag_headline.get_feature_names_out()"
   ]
  },
  {
   "cell_type": "code",
   "execution_count": 18,
   "id": "4b3dfaa6",
   "metadata": {},
   "outputs": [],
   "source": [
    "# combining headline and bag counts\n",
    "train_count = sp.hstack([train_headline_sample, train_bag_sample])\n",
    "valid_count = sp.hstack([valid_headline_sample, valid_bag_sample])\n",
    "test_count = sp.hstack([test_headline_sample, test_bag_sample])"
   ]
  },
  {
   "cell_type": "code",
   "execution_count": 19,
   "id": "f10bc238",
   "metadata": {},
   "outputs": [],
   "source": [
    "# combining headline and bag counts\n",
    "remainder_count = sp.hstack([remainder_headline_sample, remainder_bag_sample])\n",
    "test_count2 = sp.hstack([test_headline_sample2, test_bag_sample2])"
   ]
  },
  {
   "cell_type": "code",
   "execution_count": 20,
   "id": "1d1fdb9d",
   "metadata": {},
   "outputs": [
    {
     "data": {
      "text/plain": [
       "<28000x500 sparse matrix of type '<class 'numpy.int64'>'\n",
       "\twith 333451 stored elements in Compressed Sparse Row format>"
      ]
     },
     "execution_count": 20,
     "metadata": {},
     "output_type": "execute_result"
    }
   ],
   "source": [
    "train_count"
   ]
  },
  {
   "cell_type": "code",
   "execution_count": 21,
   "id": "19651220",
   "metadata": {},
   "outputs": [],
   "source": [
    "body_words = bag_body.get_feature_names_out()\n",
    "tagged_body_words = ['b_' + feature for feature in body_words]\n",
    "headline_words = bag_headline.get_feature_names_out()\n",
    "tagged_headline_words = ['h_' + feature for feature in headline_words]\n",
    "sample_vocab = tagged_headline_words + tagged_body_words"
   ]
  },
  {
   "cell_type": "code",
   "execution_count": 22,
   "id": "43876731",
   "metadata": {},
   "outputs": [],
   "source": [
    "# FOR X_REMAINDER\n",
    "body_words2 = bag_body2.get_feature_names_out()\n",
    "tagged_body_words2 = ['b_' + feature for feature in body_words2]\n",
    "headline_words2 = bag_headline2.get_feature_names_out()\n",
    "tagged_headline_words2 = ['h_' + feature for feature in headline_words2]\n",
    "sample_vocab2 = tagged_headline_words2 + tagged_body_words2"
   ]
  },
  {
   "cell_type": "code",
   "execution_count": 23,
   "id": "94a2e509",
   "metadata": {},
   "outputs": [
    {
     "data": {
      "text/plain": [
       "500"
      ]
     },
     "execution_count": 23,
     "metadata": {},
     "output_type": "execute_result"
    }
   ],
   "source": [
    "len(sample_vocab)"
   ]
  },
  {
   "cell_type": "code",
   "execution_count": 24,
   "id": "1736ae61",
   "metadata": {},
   "outputs": [
    {
     "data": {
      "text/plain": [
       "<28000x500 sparse matrix of type '<class 'numpy.int64'>'\n",
       "\twith 333451 stored elements in Compressed Sparse Row format>"
      ]
     },
     "execution_count": 24,
     "metadata": {},
     "output_type": "execute_result"
    }
   ],
   "source": [
    "train_count"
   ]
  },
  {
   "cell_type": "code",
   "execution_count": 25,
   "id": "3b221231",
   "metadata": {},
   "outputs": [],
   "source": [
    "train_df = pd.DataFrame(train_count.toarray(), columns=sample_vocab)\n",
    "valid_df = pd.DataFrame(valid_count.toarray(), columns=sample_vocab)\n",
    "test_df = pd.DataFrame(test_count.toarray(), columns=sample_vocab)"
   ]
  },
  {
   "cell_type": "code",
   "execution_count": 26,
   "id": "05f8103f",
   "metadata": {},
   "outputs": [],
   "source": [
    "# For X_remainder\n",
    "remainder_df = pd.DataFrame(remainder_count.toarray(), columns=sample_vocab2)\n",
    "test_df2 = pd.DataFrame(test_count2.toarray(), columns=sample_vocab2)"
   ]
  },
  {
   "cell_type": "code",
   "execution_count": 27,
   "id": "88beeef8",
   "metadata": {},
   "outputs": [],
   "source": [
    "X_train_sample = X_train_sample.reset_index(drop=True).drop(columns=['product_title', 'review_headline', 'review_body'])\n",
    "X_valid_sample = X_valid_sample.reset_index(drop=True).drop(columns=['product_title', 'review_headline', 'review_body'])\n",
    "X_test_sample = X_test_sample.reset_index(drop=True).drop(columns=['product_title', 'review_headline', 'review_body'])"
   ]
  },
  {
   "cell_type": "code",
   "execution_count": 28,
   "id": "76962fe4",
   "metadata": {},
   "outputs": [],
   "source": [
    "# For X_remainder\n",
    "X_remainder_sample = X_remainder_sample.reset_index(drop=True).drop(columns=['product_title', 'review_headline', 'review_body'])"
   ]
  },
  {
   "cell_type": "code",
   "execution_count": 29,
   "id": "2dafc68b",
   "metadata": {},
   "outputs": [],
   "source": [
    "combined_train = pd.concat([X_train_sample, train_df], axis=1)\n",
    "combined_valid = pd.concat([X_valid_sample, valid_df], axis=1)\n",
    "combined_test = pd.concat([X_test_sample, test_df], axis=1)"
   ]
  },
  {
   "cell_type": "code",
   "execution_count": 30,
   "id": "4e29f293",
   "metadata": {},
   "outputs": [],
   "source": [
    "# For X_remainder\n",
    "combined_remainder = pd.concat([X_remainder_sample, remainder_df], axis=1)\n",
    "combined_test2 = pd.concat([X_test_sample, test_df2], axis=1)"
   ]
  },
  {
   "cell_type": "code",
   "execution_count": 31,
   "id": "01c3ad93",
   "metadata": {},
   "outputs": [
    {
     "data": {
      "text/html": [
       "<div>\n",
       "<style scoped>\n",
       "    .dataframe tbody tr th:only-of-type {\n",
       "        vertical-align: middle;\n",
       "    }\n",
       "\n",
       "    .dataframe tbody tr th {\n",
       "        vertical-align: top;\n",
       "    }\n",
       "\n",
       "    .dataframe thead th {\n",
       "        text-align: right;\n",
       "    }\n",
       "</style>\n",
       "<table border=\"1\" class=\"dataframe\">\n",
       "  <thead>\n",
       "    <tr style=\"text-align: right;\">\n",
       "      <th></th>\n",
       "      <th>helpful_votes</th>\n",
       "      <th>total_votes</th>\n",
       "      <th>verified_purchase</th>\n",
       "      <th>year</th>\n",
       "      <th>month</th>\n",
       "      <th>h_10</th>\n",
       "      <th>h_absolutely</th>\n",
       "      <th>h_adorable</th>\n",
       "      <th>h_amazing</th>\n",
       "      <th>h_ankle</th>\n",
       "      <th>...</th>\n",
       "      <th>b_worked</th>\n",
       "      <th>b_working</th>\n",
       "      <th>b_works</th>\n",
       "      <th>b_worn</th>\n",
       "      <th>b_worth</th>\n",
       "      <th>b_wouldn</th>\n",
       "      <th>b_wrong</th>\n",
       "      <th>b_year</th>\n",
       "      <th>b_years</th>\n",
       "      <th>b_zipper</th>\n",
       "    </tr>\n",
       "  </thead>\n",
       "  <tbody>\n",
       "    <tr>\n",
       "      <th>0</th>\n",
       "      <td>1</td>\n",
       "      <td>1</td>\n",
       "      <td>0</td>\n",
       "      <td>2011</td>\n",
       "      <td>9</td>\n",
       "      <td>0</td>\n",
       "      <td>0</td>\n",
       "      <td>0</td>\n",
       "      <td>0</td>\n",
       "      <td>0</td>\n",
       "      <td>...</td>\n",
       "      <td>0</td>\n",
       "      <td>0</td>\n",
       "      <td>0</td>\n",
       "      <td>0</td>\n",
       "      <td>0</td>\n",
       "      <td>0</td>\n",
       "      <td>0</td>\n",
       "      <td>0</td>\n",
       "      <td>1</td>\n",
       "      <td>0</td>\n",
       "    </tr>\n",
       "    <tr>\n",
       "      <th>1</th>\n",
       "      <td>0</td>\n",
       "      <td>0</td>\n",
       "      <td>1</td>\n",
       "      <td>2014</td>\n",
       "      <td>7</td>\n",
       "      <td>0</td>\n",
       "      <td>0</td>\n",
       "      <td>0</td>\n",
       "      <td>0</td>\n",
       "      <td>0</td>\n",
       "      <td>...</td>\n",
       "      <td>0</td>\n",
       "      <td>0</td>\n",
       "      <td>0</td>\n",
       "      <td>0</td>\n",
       "      <td>0</td>\n",
       "      <td>0</td>\n",
       "      <td>0</td>\n",
       "      <td>0</td>\n",
       "      <td>0</td>\n",
       "      <td>0</td>\n",
       "    </tr>\n",
       "    <tr>\n",
       "      <th>2</th>\n",
       "      <td>0</td>\n",
       "      <td>0</td>\n",
       "      <td>1</td>\n",
       "      <td>2015</td>\n",
       "      <td>7</td>\n",
       "      <td>0</td>\n",
       "      <td>0</td>\n",
       "      <td>0</td>\n",
       "      <td>0</td>\n",
       "      <td>0</td>\n",
       "      <td>...</td>\n",
       "      <td>0</td>\n",
       "      <td>0</td>\n",
       "      <td>0</td>\n",
       "      <td>0</td>\n",
       "      <td>0</td>\n",
       "      <td>0</td>\n",
       "      <td>0</td>\n",
       "      <td>0</td>\n",
       "      <td>0</td>\n",
       "      <td>0</td>\n",
       "    </tr>\n",
       "    <tr>\n",
       "      <th>3</th>\n",
       "      <td>1</td>\n",
       "      <td>1</td>\n",
       "      <td>1</td>\n",
       "      <td>2014</td>\n",
       "      <td>7</td>\n",
       "      <td>0</td>\n",
       "      <td>0</td>\n",
       "      <td>0</td>\n",
       "      <td>0</td>\n",
       "      <td>0</td>\n",
       "      <td>...</td>\n",
       "      <td>0</td>\n",
       "      <td>0</td>\n",
       "      <td>0</td>\n",
       "      <td>0</td>\n",
       "      <td>0</td>\n",
       "      <td>0</td>\n",
       "      <td>0</td>\n",
       "      <td>0</td>\n",
       "      <td>0</td>\n",
       "      <td>0</td>\n",
       "    </tr>\n",
       "    <tr>\n",
       "      <th>4</th>\n",
       "      <td>0</td>\n",
       "      <td>0</td>\n",
       "      <td>1</td>\n",
       "      <td>2015</td>\n",
       "      <td>2</td>\n",
       "      <td>0</td>\n",
       "      <td>0</td>\n",
       "      <td>0</td>\n",
       "      <td>0</td>\n",
       "      <td>0</td>\n",
       "      <td>...</td>\n",
       "      <td>0</td>\n",
       "      <td>0</td>\n",
       "      <td>0</td>\n",
       "      <td>0</td>\n",
       "      <td>0</td>\n",
       "      <td>0</td>\n",
       "      <td>0</td>\n",
       "      <td>0</td>\n",
       "      <td>0</td>\n",
       "      <td>0</td>\n",
       "    </tr>\n",
       "    <tr>\n",
       "      <th>...</th>\n",
       "      <td>...</td>\n",
       "      <td>...</td>\n",
       "      <td>...</td>\n",
       "      <td>...</td>\n",
       "      <td>...</td>\n",
       "      <td>...</td>\n",
       "      <td>...</td>\n",
       "      <td>...</td>\n",
       "      <td>...</td>\n",
       "      <td>...</td>\n",
       "      <td>...</td>\n",
       "      <td>...</td>\n",
       "      <td>...</td>\n",
       "      <td>...</td>\n",
       "      <td>...</td>\n",
       "      <td>...</td>\n",
       "      <td>...</td>\n",
       "      <td>...</td>\n",
       "      <td>...</td>\n",
       "      <td>...</td>\n",
       "      <td>...</td>\n",
       "    </tr>\n",
       "    <tr>\n",
       "      <th>9995</th>\n",
       "      <td>0</td>\n",
       "      <td>0</td>\n",
       "      <td>1</td>\n",
       "      <td>2015</td>\n",
       "      <td>3</td>\n",
       "      <td>0</td>\n",
       "      <td>0</td>\n",
       "      <td>0</td>\n",
       "      <td>0</td>\n",
       "      <td>0</td>\n",
       "      <td>...</td>\n",
       "      <td>0</td>\n",
       "      <td>0</td>\n",
       "      <td>0</td>\n",
       "      <td>0</td>\n",
       "      <td>0</td>\n",
       "      <td>0</td>\n",
       "      <td>0</td>\n",
       "      <td>0</td>\n",
       "      <td>0</td>\n",
       "      <td>0</td>\n",
       "    </tr>\n",
       "    <tr>\n",
       "      <th>9996</th>\n",
       "      <td>2</td>\n",
       "      <td>2</td>\n",
       "      <td>1</td>\n",
       "      <td>2014</td>\n",
       "      <td>9</td>\n",
       "      <td>0</td>\n",
       "      <td>0</td>\n",
       "      <td>0</td>\n",
       "      <td>0</td>\n",
       "      <td>0</td>\n",
       "      <td>...</td>\n",
       "      <td>0</td>\n",
       "      <td>0</td>\n",
       "      <td>0</td>\n",
       "      <td>0</td>\n",
       "      <td>0</td>\n",
       "      <td>0</td>\n",
       "      <td>0</td>\n",
       "      <td>0</td>\n",
       "      <td>0</td>\n",
       "      <td>0</td>\n",
       "    </tr>\n",
       "    <tr>\n",
       "      <th>9997</th>\n",
       "      <td>0</td>\n",
       "      <td>0</td>\n",
       "      <td>1</td>\n",
       "      <td>2014</td>\n",
       "      <td>2</td>\n",
       "      <td>0</td>\n",
       "      <td>0</td>\n",
       "      <td>0</td>\n",
       "      <td>0</td>\n",
       "      <td>0</td>\n",
       "      <td>...</td>\n",
       "      <td>0</td>\n",
       "      <td>0</td>\n",
       "      <td>0</td>\n",
       "      <td>0</td>\n",
       "      <td>0</td>\n",
       "      <td>0</td>\n",
       "      <td>0</td>\n",
       "      <td>0</td>\n",
       "      <td>0</td>\n",
       "      <td>0</td>\n",
       "    </tr>\n",
       "    <tr>\n",
       "      <th>9998</th>\n",
       "      <td>0</td>\n",
       "      <td>0</td>\n",
       "      <td>1</td>\n",
       "      <td>2015</td>\n",
       "      <td>7</td>\n",
       "      <td>0</td>\n",
       "      <td>0</td>\n",
       "      <td>0</td>\n",
       "      <td>0</td>\n",
       "      <td>0</td>\n",
       "      <td>...</td>\n",
       "      <td>0</td>\n",
       "      <td>0</td>\n",
       "      <td>0</td>\n",
       "      <td>0</td>\n",
       "      <td>0</td>\n",
       "      <td>0</td>\n",
       "      <td>0</td>\n",
       "      <td>0</td>\n",
       "      <td>0</td>\n",
       "      <td>0</td>\n",
       "    </tr>\n",
       "    <tr>\n",
       "      <th>9999</th>\n",
       "      <td>0</td>\n",
       "      <td>0</td>\n",
       "      <td>1</td>\n",
       "      <td>2014</td>\n",
       "      <td>7</td>\n",
       "      <td>0</td>\n",
       "      <td>0</td>\n",
       "      <td>0</td>\n",
       "      <td>0</td>\n",
       "      <td>0</td>\n",
       "      <td>...</td>\n",
       "      <td>0</td>\n",
       "      <td>0</td>\n",
       "      <td>0</td>\n",
       "      <td>0</td>\n",
       "      <td>0</td>\n",
       "      <td>0</td>\n",
       "      <td>0</td>\n",
       "      <td>0</td>\n",
       "      <td>0</td>\n",
       "      <td>0</td>\n",
       "    </tr>\n",
       "  </tbody>\n",
       "</table>\n",
       "<p>10000 rows × 671 columns</p>\n",
       "</div>"
      ],
      "text/plain": [
       "      helpful_votes  total_votes  verified_purchase  year  month  h_10  \\\n",
       "0                 1            1                  0  2011      9     0   \n",
       "1                 0            0                  1  2014      7     0   \n",
       "2                 0            0                  1  2015      7     0   \n",
       "3                 1            1                  1  2014      7     0   \n",
       "4                 0            0                  1  2015      2     0   \n",
       "...             ...          ...                ...   ...    ...   ...   \n",
       "9995              0            0                  1  2015      3     0   \n",
       "9996              2            2                  1  2014      9     0   \n",
       "9997              0            0                  1  2014      2     0   \n",
       "9998              0            0                  1  2015      7     0   \n",
       "9999              0            0                  1  2014      7     0   \n",
       "\n",
       "      h_absolutely  h_adorable  h_amazing  h_ankle  ...  b_worked  b_working  \\\n",
       "0                0           0          0        0  ...         0          0   \n",
       "1                0           0          0        0  ...         0          0   \n",
       "2                0           0          0        0  ...         0          0   \n",
       "3                0           0          0        0  ...         0          0   \n",
       "4                0           0          0        0  ...         0          0   \n",
       "...            ...         ...        ...      ...  ...       ...        ...   \n",
       "9995             0           0          0        0  ...         0          0   \n",
       "9996             0           0          0        0  ...         0          0   \n",
       "9997             0           0          0        0  ...         0          0   \n",
       "9998             0           0          0        0  ...         0          0   \n",
       "9999             0           0          0        0  ...         0          0   \n",
       "\n",
       "      b_works  b_worn  b_worth  b_wouldn  b_wrong  b_year  b_years  b_zipper  \n",
       "0           0       0        0         0        0       0        1         0  \n",
       "1           0       0        0         0        0       0        0         0  \n",
       "2           0       0        0         0        0       0        0         0  \n",
       "3           0       0        0         0        0       0        0         0  \n",
       "4           0       0        0         0        0       0        0         0  \n",
       "...       ...     ...      ...       ...      ...     ...      ...       ...  \n",
       "9995        0       0        0         0        0       0        0         0  \n",
       "9996        0       0        0         0        0       0        0         0  \n",
       "9997        0       0        0         0        0       0        0         0  \n",
       "9998        0       0        0         0        0       0        0         0  \n",
       "9999        0       0        0         0        0       0        0         0  \n",
       "\n",
       "[10000 rows x 671 columns]"
      ]
     },
     "execution_count": 31,
     "metadata": {},
     "output_type": "execute_result"
    }
   ],
   "source": [
    "combined_test2"
   ]
  },
  {
   "cell_type": "code",
   "execution_count": 32,
   "id": "08a71af5",
   "metadata": {},
   "outputs": [],
   "source": [
    "# Instantiate\n",
    "ss = StandardScaler()\n",
    "\n",
    "# Fit and tranform\n",
    "X_train_scaled = ss.fit_transform(combined_train)\n",
    "X_valid_scaled = ss.transform(combined_valid)\n",
    "X_test_scaled = ss.transform(combined_test)"
   ]
  },
  {
   "cell_type": "code",
   "execution_count": 33,
   "id": "8bab26fb",
   "metadata": {},
   "outputs": [],
   "source": [
    "# For X_remainder\n",
    "ss2 = StandardScaler()\n",
    "X_remainder_scaled = ss.fit_transform(combined_remainder)\n",
    "X_test_scaled2 = ss.transform(combined_test2)"
   ]
  }
 ],
 "metadata": {
  "environment": {
   "kernel": "python3",
   "name": "tf2-gpu.2-12.m109",
   "type": "gcloud",
   "uri": "gcr.io/deeplearning-platform-release/tf2-gpu.2-12:m109"
  },
  "kernelspec": {
   "display_name": "Python 3",
   "language": "python",
   "name": "python3"
  },
  "language_info": {
   "codemirror_mode": {
    "name": "ipython",
    "version": 3
   },
   "file_extension": ".py",
   "mimetype": "text/x-python",
   "name": "python",
   "nbconvert_exporter": "python",
   "pygments_lexer": "ipython3",
   "version": "3.10.11"
  }
 },
 "nbformat": 4,
 "nbformat_minor": 5
}
