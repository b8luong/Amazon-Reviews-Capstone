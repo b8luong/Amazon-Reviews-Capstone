{
 "cells": [
  {
   "cell_type": "code",
   "execution_count": 1,
   "id": "9a6bf58f",
   "metadata": {},
   "outputs": [],
   "source": [
    "# importing library for loading\n",
    "import pandas as pd\n",
    "# pickle for faster loading of file\n",
    "import pickle\n",
    "# os to check files and paths\n",
    "import os"
   ]
  },
  {
   "cell_type": "code",
   "execution_count": 2,
   "id": "bf5765c9",
   "metadata": {},
   "outputs": [
    {
     "name": "stdout",
     "output_type": "stream",
     "text": [
      "CPU times: total: 10.7 s\n",
      "Wall time: 16.2 s\n"
     ]
    }
   ],
   "source": [
    "%%time\n",
    "\n",
    "# check if the pkl file of the dataframe exists \n",
    "if (os.path.isfile('shoes.pkl')):\n",
    "    # load if it exists\n",
    "    with open('shoes.pkl', 'rb') as f:\n",
    "        df = pickle.load(f)\n",
    "else:\n",
    "    # if it doesn't exist, load the tsv into df and save into pkl file for future use\n",
    "    file_path = 'Shoes.tsv'\n",
    "    df = pd.read_csv(file_path, sep='\\t', on_bad_lines='skip')\n",
    "    \n",
    "    # Uncomment code below for when using google cloud\n",
    "    # bucket_name = 'amazon_shoes_review'\n",
    "    # file_path = 'gs://amazon_shoes_review/Shoes.tsv'\n",
    "\n",
    "    with open('shoes.pkl', 'wb') as f:\n",
    "        pickle.dump(df, f)"
   ]
  },
  {
   "cell_type": "code",
   "execution_count": 3,
   "id": "dfe02fde",
   "metadata": {},
   "outputs": [
    {
     "name": "stdout",
     "output_type": "stream",
     "text": [
      "<class 'pandas.core.frame.DataFrame'>\n",
      "RangeIndex: 4358820 entries, 0 to 4358819\n",
      "Data columns (total 15 columns):\n",
      " #   Column             Dtype \n",
      "---  ------             ----- \n",
      " 0   marketplace        object\n",
      " 1   customer_id        int64 \n",
      " 2   review_id          object\n",
      " 3   product_id         object\n",
      " 4   product_parent     int64 \n",
      " 5   product_title      object\n",
      " 6   product_category   object\n",
      " 7   star_rating        int64 \n",
      " 8   helpful_votes      int64 \n",
      " 9   total_votes        int64 \n",
      " 10  vine               object\n",
      " 11  verified_purchase  object\n",
      " 12  review_headline    object\n",
      " 13  review_body        object\n",
      " 14  review_date        object\n",
      "dtypes: int64(5), object(10)\n",
      "memory usage: 498.8+ MB\n"
     ]
    }
   ],
   "source": [
    "df.info()"
   ]
  },
  {
   "cell_type": "code",
   "execution_count": 5,
   "id": "9c3bfb29",
   "metadata": {},
   "outputs": [
    {
     "data": {
      "text/plain": [
       "86907726     5980\n",
       "968494620    4714\n",
       "532718381    4174\n",
       "885754210    4108\n",
       "604871063    4017\n",
       "             ... \n",
       "256688878       1\n",
       "8282892         1\n",
       "887802628       1\n",
       "289257053       1\n",
       "394877472       1\n",
       "Name: product_parent, Length: 551220, dtype: int64"
      ]
     },
     "execution_count": 5,
     "metadata": {},
     "output_type": "execute_result"
    }
   ],
   "source": [
    "df['product_parent'].value_counts()"
   ]
  },
  {
   "cell_type": "code",
   "execution_count": 6,
   "id": "26a90153",
   "metadata": {},
   "outputs": [
    {
     "data": {
      "text/plain": [
       "B00H9RZDRM    1247\n",
       "B002L9AL84    1110\n",
       "B004M6W4FW     891\n",
       "B004RR0N8Q     801\n",
       "B001UQ71G4     785\n",
       "              ... \n",
       "B0027YY9TA       1\n",
       "B004K6OKCE       1\n",
       "B008MOET80       1\n",
       "B00LLSEFCE       1\n",
       "B000035X8T       1\n",
       "Name: product_id, Length: 1898914, dtype: int64"
      ]
     },
     "execution_count": 6,
     "metadata": {},
     "output_type": "execute_result"
    }
   ],
   "source": [
    "df['product_id'].value_counts()"
   ]
  },
  {
   "cell_type": "code",
   "execution_count": 4,
   "id": "65b57be3",
   "metadata": {},
   "outputs": [],
   "source": [
    "dropped_df=df.drop(columns='customer_id', 'review_id', 'product_id', 'product_parent', '')"
   ]
  },
  {
   "cell_type": "code",
   "execution_count": 15,
   "id": "c11b1aeb",
   "metadata": {},
   "outputs": [
    {
     "data": {
      "text/plain": [
       "Series([], dtype: int64)"
      ]
     },
     "execution_count": 15,
     "metadata": {},
     "output_type": "execute_result"
    }
   ],
   "source": [
    "df[df.duplicated()].value_counts()"
   ]
  },
  {
   "cell_type": "code",
   "execution_count": 19,
   "id": "add49836",
   "metadata": {
    "scrolled": true
   },
   "outputs": [
    {
     "data": {
      "text/plain": [
       "Series([], dtype: int64)"
      ]
     },
     "execution_count": 19,
     "metadata": {},
     "output_type": "execute_result"
    }
   ],
   "source": [
    "df[df.isna()].value_counts()"
   ]
  },
  {
   "cell_type": "code",
   "execution_count": 20,
   "id": "4e4c920e",
   "metadata": {},
   "outputs": [
    {
     "data": {
      "text/plain": [
       "B00H9RZDRM    1247\n",
       "B002L9AL84    1110\n",
       "B004M6W4FW     891\n",
       "B004RR0N8Q     801\n",
       "B001UQ71G4     785\n",
       "              ... \n",
       "B0027YY9TA       1\n",
       "B004K6OKCE       1\n",
       "B008MOET80       1\n",
       "B00LLSEFCE       1\n",
       "B000035X8T       1\n",
       "Name: product_id, Length: 1898914, dtype: int64"
      ]
     },
     "execution_count": 20,
     "metadata": {},
     "output_type": "execute_result"
    }
   ],
   "source": [
    "df['product_id'].value_counts()"
   ]
  },
  {
   "cell_type": "code",
   "execution_count": 26,
   "id": "17e91b48",
   "metadata": {},
   "outputs": [
    {
     "data": {
      "text/html": [
       "<div>\n",
       "<style scoped>\n",
       "    .dataframe tbody tr th:only-of-type {\n",
       "        vertical-align: middle;\n",
       "    }\n",
       "\n",
       "    .dataframe tbody tr th {\n",
       "        vertical-align: top;\n",
       "    }\n",
       "\n",
       "    .dataframe thead th {\n",
       "        text-align: right;\n",
       "    }\n",
       "</style>\n",
       "<table border=\"1\" class=\"dataframe\">\n",
       "  <thead>\n",
       "    <tr style=\"text-align: right;\">\n",
       "      <th></th>\n",
       "      <th>marketplace</th>\n",
       "      <th>customer_id</th>\n",
       "      <th>review_id</th>\n",
       "      <th>product_id</th>\n",
       "      <th>product_parent</th>\n",
       "      <th>product_title</th>\n",
       "      <th>product_category</th>\n",
       "      <th>star_rating</th>\n",
       "      <th>helpful_votes</th>\n",
       "      <th>total_votes</th>\n",
       "      <th>vine</th>\n",
       "      <th>verified_purchase</th>\n",
       "      <th>review_headline</th>\n",
       "      <th>review_body</th>\n",
       "      <th>review_date</th>\n",
       "    </tr>\n",
       "  </thead>\n",
       "  <tbody>\n",
       "    <tr>\n",
       "      <th>9398</th>\n",
       "      <td>US</td>\n",
       "      <td>46146465</td>\n",
       "      <td>R3BALO25GPAVYO</td>\n",
       "      <td>B001UQ71G4</td>\n",
       "      <td>787407047</td>\n",
       "      <td>Ray-Ban RB2132 New Wayfarer Non Polarized Sung...</td>\n",
       "      <td>Shoes</td>\n",
       "      <td>5</td>\n",
       "      <td>0</td>\n",
       "      <td>0</td>\n",
       "      <td>N</td>\n",
       "      <td>N</td>\n",
       "      <td>Five Stars</td>\n",
       "      <td>Life changing.</td>\n",
       "      <td>2015-08-30</td>\n",
       "    </tr>\n",
       "    <tr>\n",
       "      <th>13653</th>\n",
       "      <td>US</td>\n",
       "      <td>16218129</td>\n",
       "      <td>RNSS5BX2ZP5HK</td>\n",
       "      <td>B001UQ71G4</td>\n",
       "      <td>787407047</td>\n",
       "      <td>Ray-Ban RB2132 New Wayfarer Non Polarized Sung...</td>\n",
       "      <td>Shoes</td>\n",
       "      <td>3</td>\n",
       "      <td>0</td>\n",
       "      <td>0</td>\n",
       "      <td>N</td>\n",
       "      <td>Y</td>\n",
       "      <td>Good frames, good looks, but cheap lenses.</td>\n",
       "      <td>I bought these a while ago to replace an older...</td>\n",
       "      <td>2015-08-29</td>\n",
       "    </tr>\n",
       "    <tr>\n",
       "      <th>18031</th>\n",
       "      <td>US</td>\n",
       "      <td>46895959</td>\n",
       "      <td>RHFXOPUME9ZES</td>\n",
       "      <td>B001UQ71G4</td>\n",
       "      <td>787407047</td>\n",
       "      <td>Ray-Ban RB2132 New Wayfarer Non Polarized Sung...</td>\n",
       "      <td>Shoes</td>\n",
       "      <td>5</td>\n",
       "      <td>0</td>\n",
       "      <td>0</td>\n",
       "      <td>N</td>\n",
       "      <td>Y</td>\n",
       "      <td>Five Stars</td>\n",
       "      <td>Good product. It is better than I expected.</td>\n",
       "      <td>2015-08-28</td>\n",
       "    </tr>\n",
       "    <tr>\n",
       "      <th>27350</th>\n",
       "      <td>US</td>\n",
       "      <td>45679040</td>\n",
       "      <td>R100AX8L9G4ST6</td>\n",
       "      <td>B001UQ71G4</td>\n",
       "      <td>787407047</td>\n",
       "      <td>Ray-Ban RB2132 New Wayfarer Non Polarized Sung...</td>\n",
       "      <td>Shoes</td>\n",
       "      <td>5</td>\n",
       "      <td>0</td>\n",
       "      <td>0</td>\n",
       "      <td>N</td>\n",
       "      <td>Y</td>\n",
       "      <td>Five Stars</td>\n",
       "      <td>Perfect fit and comfortable</td>\n",
       "      <td>2015-08-27</td>\n",
       "    </tr>\n",
       "    <tr>\n",
       "      <th>31071</th>\n",
       "      <td>US</td>\n",
       "      <td>41563384</td>\n",
       "      <td>R30B1H9TL4ZSES</td>\n",
       "      <td>B001UQ71G4</td>\n",
       "      <td>787407047</td>\n",
       "      <td>Ray-Ban RB2132 New Wayfarer Non Polarized Sung...</td>\n",
       "      <td>Shoes</td>\n",
       "      <td>5</td>\n",
       "      <td>0</td>\n",
       "      <td>0</td>\n",
       "      <td>N</td>\n",
       "      <td>Y</td>\n",
       "      <td>Five Stars</td>\n",
       "      <td>Keeps the sun out</td>\n",
       "      <td>2015-08-26</td>\n",
       "    </tr>\n",
       "    <tr>\n",
       "      <th>...</th>\n",
       "      <td>...</td>\n",
       "      <td>...</td>\n",
       "      <td>...</td>\n",
       "      <td>...</td>\n",
       "      <td>...</td>\n",
       "      <td>...</td>\n",
       "      <td>...</td>\n",
       "      <td>...</td>\n",
       "      <td>...</td>\n",
       "      <td>...</td>\n",
       "      <td>...</td>\n",
       "      <td>...</td>\n",
       "      <td>...</td>\n",
       "      <td>...</td>\n",
       "      <td>...</td>\n",
       "    </tr>\n",
       "    <tr>\n",
       "      <th>4170324</th>\n",
       "      <td>US</td>\n",
       "      <td>34645156</td>\n",
       "      <td>R1WGK0EW9HGP24</td>\n",
       "      <td>B001UQ71G4</td>\n",
       "      <td>787407047</td>\n",
       "      <td>Ray-Ban RB2132 New Wayfarer Non Polarized Sung...</td>\n",
       "      <td>Shoes</td>\n",
       "      <td>1</td>\n",
       "      <td>18</td>\n",
       "      <td>27</td>\n",
       "      <td>N</td>\n",
       "      <td>Y</td>\n",
       "      <td>WARNING! THESE ARE FAKES!!!</td>\n",
       "      <td>WARNING! These are not authentic Ray-Ban's. Th...</td>\n",
       "      <td>2010-10-28</td>\n",
       "    </tr>\n",
       "    <tr>\n",
       "      <th>4180808</th>\n",
       "      <td>US</td>\n",
       "      <td>32595190</td>\n",
       "      <td>R1FFLNA2KKCLZU</td>\n",
       "      <td>B001UQ71G4</td>\n",
       "      <td>787407047</td>\n",
       "      <td>Ray-Ban RB2132 New Wayfarer Non Polarized Sung...</td>\n",
       "      <td>Shoes</td>\n",
       "      <td>5</td>\n",
       "      <td>0</td>\n",
       "      <td>0</td>\n",
       "      <td>N</td>\n",
       "      <td>Y</td>\n",
       "      <td>Great sunglasses at a very nice price.</td>\n",
       "      <td>These are popular again.  I think I prefer pol...</td>\n",
       "      <td>2010-09-18</td>\n",
       "    </tr>\n",
       "    <tr>\n",
       "      <th>4183559</th>\n",
       "      <td>US</td>\n",
       "      <td>25958611</td>\n",
       "      <td>R3UFN4DA6X9XVN</td>\n",
       "      <td>B001UQ71G4</td>\n",
       "      <td>787407047</td>\n",
       "      <td>Ray-Ban RB2132 New Wayfarer Non Polarized Sung...</td>\n",
       "      <td>Shoes</td>\n",
       "      <td>5</td>\n",
       "      <td>0</td>\n",
       "      <td>0</td>\n",
       "      <td>N</td>\n",
       "      <td>Y</td>\n",
       "      <td>Sweet shades!</td>\n",
       "      <td>I love my Ray-Bans!  They fit perfectly--I was...</td>\n",
       "      <td>2010-09-06</td>\n",
       "    </tr>\n",
       "    <tr>\n",
       "      <th>4185762</th>\n",
       "      <td>US</td>\n",
       "      <td>15968611</td>\n",
       "      <td>R3ASHQR08QFKSK</td>\n",
       "      <td>B001UQ71G4</td>\n",
       "      <td>787407047</td>\n",
       "      <td>Ray-Ban RB2132 New Wayfarer Non Polarized Sung...</td>\n",
       "      <td>Shoes</td>\n",
       "      <td>5</td>\n",
       "      <td>0</td>\n",
       "      <td>0</td>\n",
       "      <td>N</td>\n",
       "      <td>Y</td>\n",
       "      <td>Nice Pair</td>\n",
       "      <td>Really nice set of Ray-Bans. Classic look. Goo...</td>\n",
       "      <td>2010-08-27</td>\n",
       "    </tr>\n",
       "    <tr>\n",
       "      <th>4195247</th>\n",
       "      <td>US</td>\n",
       "      <td>38972713</td>\n",
       "      <td>R9ZCEOR3LJL0P</td>\n",
       "      <td>B001UQ71G4</td>\n",
       "      <td>787407047</td>\n",
       "      <td>Ray-Ban RB2132 New Wayfarer Non Polarized Sung...</td>\n",
       "      <td>Shoes</td>\n",
       "      <td>5</td>\n",
       "      <td>0</td>\n",
       "      <td>0</td>\n",
       "      <td>N</td>\n",
       "      <td>Y</td>\n",
       "      <td>the best sunglasses!</td>\n",
       "      <td>i love these sunglasses. even as a women i sti...</td>\n",
       "      <td>2010-07-11</td>\n",
       "    </tr>\n",
       "  </tbody>\n",
       "</table>\n",
       "<p>785 rows × 15 columns</p>\n",
       "</div>"
      ],
      "text/plain": [
       "        marketplace  customer_id       review_id  product_id  product_parent  \\\n",
       "9398             US     46146465  R3BALO25GPAVYO  B001UQ71G4       787407047   \n",
       "13653            US     16218129   RNSS5BX2ZP5HK  B001UQ71G4       787407047   \n",
       "18031            US     46895959   RHFXOPUME9ZES  B001UQ71G4       787407047   \n",
       "27350            US     45679040  R100AX8L9G4ST6  B001UQ71G4       787407047   \n",
       "31071            US     41563384  R30B1H9TL4ZSES  B001UQ71G4       787407047   \n",
       "...             ...          ...             ...         ...             ...   \n",
       "4170324          US     34645156  R1WGK0EW9HGP24  B001UQ71G4       787407047   \n",
       "4180808          US     32595190  R1FFLNA2KKCLZU  B001UQ71G4       787407047   \n",
       "4183559          US     25958611  R3UFN4DA6X9XVN  B001UQ71G4       787407047   \n",
       "4185762          US     15968611  R3ASHQR08QFKSK  B001UQ71G4       787407047   \n",
       "4195247          US     38972713   R9ZCEOR3LJL0P  B001UQ71G4       787407047   \n",
       "\n",
       "                                             product_title product_category  \\\n",
       "9398     Ray-Ban RB2132 New Wayfarer Non Polarized Sung...            Shoes   \n",
       "13653    Ray-Ban RB2132 New Wayfarer Non Polarized Sung...            Shoes   \n",
       "18031    Ray-Ban RB2132 New Wayfarer Non Polarized Sung...            Shoes   \n",
       "27350    Ray-Ban RB2132 New Wayfarer Non Polarized Sung...            Shoes   \n",
       "31071    Ray-Ban RB2132 New Wayfarer Non Polarized Sung...            Shoes   \n",
       "...                                                    ...              ...   \n",
       "4170324  Ray-Ban RB2132 New Wayfarer Non Polarized Sung...            Shoes   \n",
       "4180808  Ray-Ban RB2132 New Wayfarer Non Polarized Sung...            Shoes   \n",
       "4183559  Ray-Ban RB2132 New Wayfarer Non Polarized Sung...            Shoes   \n",
       "4185762  Ray-Ban RB2132 New Wayfarer Non Polarized Sung...            Shoes   \n",
       "4195247  Ray-Ban RB2132 New Wayfarer Non Polarized Sung...            Shoes   \n",
       "\n",
       "         star_rating  helpful_votes  total_votes vine verified_purchase  \\\n",
       "9398               5              0            0    N                 N   \n",
       "13653              3              0            0    N                 Y   \n",
       "18031              5              0            0    N                 Y   \n",
       "27350              5              0            0    N                 Y   \n",
       "31071              5              0            0    N                 Y   \n",
       "...              ...            ...          ...  ...               ...   \n",
       "4170324            1             18           27    N                 Y   \n",
       "4180808            5              0            0    N                 Y   \n",
       "4183559            5              0            0    N                 Y   \n",
       "4185762            5              0            0    N                 Y   \n",
       "4195247            5              0            0    N                 Y   \n",
       "\n",
       "                                    review_headline  \\\n",
       "9398                                     Five Stars   \n",
       "13653    Good frames, good looks, but cheap lenses.   \n",
       "18031                                    Five Stars   \n",
       "27350                                    Five Stars   \n",
       "31071                                    Five Stars   \n",
       "...                                             ...   \n",
       "4170324                 WARNING! THESE ARE FAKES!!!   \n",
       "4180808      Great sunglasses at a very nice price.   \n",
       "4183559                               Sweet shades!   \n",
       "4185762                                   Nice Pair   \n",
       "4195247                        the best sunglasses!   \n",
       "\n",
       "                                               review_body review_date  \n",
       "9398                                        Life changing.  2015-08-30  \n",
       "13653    I bought these a while ago to replace an older...  2015-08-29  \n",
       "18031          Good product. It is better than I expected.  2015-08-28  \n",
       "27350                          Perfect fit and comfortable  2015-08-27  \n",
       "31071                                    Keeps the sun out  2015-08-26  \n",
       "...                                                    ...         ...  \n",
       "4170324  WARNING! These are not authentic Ray-Ban's. Th...  2010-10-28  \n",
       "4180808  These are popular again.  I think I prefer pol...  2010-09-18  \n",
       "4183559  I love my Ray-Bans!  They fit perfectly--I was...  2010-09-06  \n",
       "4185762  Really nice set of Ray-Bans. Classic look. Goo...  2010-08-27  \n",
       "4195247  i love these sunglasses. even as a women i sti...  2010-07-11  \n",
       "\n",
       "[785 rows x 15 columns]"
      ]
     },
     "execution_count": 26,
     "metadata": {},
     "output_type": "execute_result"
    }
   ],
   "source": [
    "df[df['product_id']=='B001UQ71G4']"
   ]
  },
  {
   "cell_type": "code",
   "execution_count": 30,
   "id": "3befa13c",
   "metadata": {},
   "outputs": [
    {
     "data": {
      "text/plain": [
       "False"
      ]
     },
     "execution_count": 30,
     "metadata": {},
     "output_type": "execute_result"
    }
   ],
   "source": [
    "'Sunglasses' in df['product_title']"
   ]
  },
  {
   "cell_type": "code",
   "execution_count": null,
   "id": "b0c55855",
   "metadata": {},
   "outputs": [],
   "source": []
  }
 ],
 "metadata": {
  "environment": {
   "kernel": "python3",
   "name": "tf2-gpu.2-11.m108",
   "type": "gcloud",
   "uri": "gcr.io/deeplearning-platform-release/tf2-gpu.2-11:m108"
  },
  "kernelspec": {
   "display_name": "Python 3 (ipykernel)",
   "language": "python",
   "name": "python3"
  },
  "language_info": {
   "codemirror_mode": {
    "name": "ipython",
    "version": 3
   },
   "file_extension": ".py",
   "mimetype": "text/x-python",
   "name": "python",
   "nbconvert_exporter": "python",
   "pygments_lexer": "ipython3",
   "version": "3.10.9"
  }
 },
 "nbformat": 4,
 "nbformat_minor": 5
}
