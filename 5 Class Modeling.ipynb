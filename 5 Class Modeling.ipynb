{
 "cells": [
  {
   "cell_type": "markdown",
   "id": "2ca481fa",
   "metadata": {},
   "source": [
    "# 5 Class Modeling"
   ]
  },
  {
   "cell_type": "markdown",
   "id": "0175f829",
   "metadata": {},
   "source": [
    "The purpose of this report is to do modeling and classification on 5 class"
   ]
  },
  {
   "cell_type": "code",
   "execution_count": 1,
   "id": "3442f988",
   "metadata": {},
   "outputs": [],
   "source": [
    "import pandas as pd\n",
    "import numpy as np\n",
    "import matplotlib.pyplot as plt\n",
    "import pickle\n",
    "import os\n",
    "from sklearn.model_selection import train_test_split\n",
    "from sklearn.feature_extraction.text import CountVectorizer\n",
    "from nltk.stem import PorterStemmer\n",
    "from nltk.tokenize import word_tokenize\n",
    "import seaborn as sns\n",
    "from sklearn.model_selection import cross_val_score\n",
    "from sklearn.metrics import confusion_matrix, ConfusionMatrixDisplay\n",
    "from sklearn.preprocessing import StandardScaler\n",
    "from sklearn.linear_model import LogisticRegression\n",
    "from sklearn.metrics import classification_report\n",
    "from sklearn.model_selection import GridSearchCV\n",
    "from sklearn import svm\n",
    "from sklearn.pipeline import Pipeline\n",
    "from xgboost import XGBClassifier\n",
    "import scipy.sparse as sp\n",
    "from scipy.sparse import csr_matrix\n"
   ]
  },
  {
   "cell_type": "code",
   "execution_count": 2,
   "id": "372e4ff1",
   "metadata": {},
   "outputs": [
    {
     "data": {
      "text/html": [
       "<div>\n",
       "<style scoped>\n",
       "    .dataframe tbody tr th:only-of-type {\n",
       "        vertical-align: middle;\n",
       "    }\n",
       "\n",
       "    .dataframe tbody tr th {\n",
       "        vertical-align: top;\n",
       "    }\n",
       "\n",
       "    .dataframe thead th {\n",
       "        text-align: right;\n",
       "    }\n",
       "</style>\n",
       "<table border=\"1\" class=\"dataframe\">\n",
       "  <thead>\n",
       "    <tr style=\"text-align: right;\">\n",
       "      <th></th>\n",
       "      <th>product_title</th>\n",
       "      <th>star_rating</th>\n",
       "      <th>helpful_votes</th>\n",
       "      <th>total_votes</th>\n",
       "      <th>verified_purchase</th>\n",
       "      <th>review_headline</th>\n",
       "      <th>review_body</th>\n",
       "      <th>year</th>\n",
       "      <th>month</th>\n",
       "    </tr>\n",
       "  </thead>\n",
       "  <tbody>\n",
       "    <tr>\n",
       "      <th>0</th>\n",
       "      <td>Minnetonka Men's Double Deerskin Softsole Mocc...</td>\n",
       "      <td>1</td>\n",
       "      <td>0</td>\n",
       "      <td>0</td>\n",
       "      <td>1</td>\n",
       "      <td></td>\n",
       "      <td>do not buy  really didn t start to wear them u...</td>\n",
       "      <td>2015</td>\n",
       "      <td>8</td>\n",
       "    </tr>\n",
       "    <tr>\n",
       "      <th>1</th>\n",
       "      <td>Teva Men's Pajaro Flip-Flop</td>\n",
       "      <td>5</td>\n",
       "      <td>0</td>\n",
       "      <td>0</td>\n",
       "      <td>1</td>\n",
       "      <td>super flip flop</td>\n",
       "      <td>provides great cushion as well as archsupport</td>\n",
       "      <td>2015</td>\n",
       "      <td>8</td>\n",
       "    </tr>\n",
       "    <tr>\n",
       "      <th>3</th>\n",
       "      <td>adidas Men's 10K Lifestyle Runner Sneaker</td>\n",
       "      <td>5</td>\n",
       "      <td>0</td>\n",
       "      <td>6</td>\n",
       "      <td>1</td>\n",
       "      <td>badass</td>\n",
       "      <td>getting what u see</td>\n",
       "      <td>2015</td>\n",
       "      <td>8</td>\n",
       "    </tr>\n",
       "    <tr>\n",
       "      <th>4</th>\n",
       "      <td>OverBling Sneakers for Men Casual Men Shoes Ge...</td>\n",
       "      <td>3</td>\n",
       "      <td>0</td>\n",
       "      <td>0</td>\n",
       "      <td>1</td>\n",
       "      <td>three stars</td>\n",
       "      <td>small</td>\n",
       "      <td>2015</td>\n",
       "      <td>8</td>\n",
       "    </tr>\n",
       "    <tr>\n",
       "      <th>5</th>\n",
       "      <td>MESSI 15.3 FG/AG SOCCER SHOES (8.5)</td>\n",
       "      <td>5</td>\n",
       "      <td>1</td>\n",
       "      <td>1</td>\n",
       "      <td>1</td>\n",
       "      <td>five stars</td>\n",
       "      <td>my 13 year old son loved these shoes excellent...</td>\n",
       "      <td>2015</td>\n",
       "      <td>8</td>\n",
       "    </tr>\n",
       "    <tr>\n",
       "      <th>...</th>\n",
       "      <td>...</td>\n",
       "      <td>...</td>\n",
       "      <td>...</td>\n",
       "      <td>...</td>\n",
       "      <td>...</td>\n",
       "      <td>...</td>\n",
       "      <td>...</td>\n",
       "      <td>...</td>\n",
       "      <td>...</td>\n",
       "    </tr>\n",
       "    <tr>\n",
       "      <th>4358810</th>\n",
       "      <td>Women's Evette Mid-Shaft Boots</td>\n",
       "      <td>1</td>\n",
       "      <td>0</td>\n",
       "      <td>0</td>\n",
       "      <td>0</td>\n",
       "      <td>what a waste</td>\n",
       "      <td>i purchased this shoe because it looked good  ...</td>\n",
       "      <td>2002</td>\n",
       "      <td>10</td>\n",
       "    </tr>\n",
       "    <tr>\n",
       "      <th>4358811</th>\n",
       "      <td>Women's Bree Suede Moc Snow Joggers</td>\n",
       "      <td>5</td>\n",
       "      <td>1</td>\n",
       "      <td>1</td>\n",
       "      <td>0</td>\n",
       "      <td>you want it   you need it</td>\n",
       "      <td>this little shoe boot is so great if you re th...</td>\n",
       "      <td>2002</td>\n",
       "      <td>10</td>\n",
       "    </tr>\n",
       "    <tr>\n",
       "      <th>4358812</th>\n",
       "      <td>Women's CanvasMule Shoes</td>\n",
       "      <td>5</td>\n",
       "      <td>0</td>\n",
       "      <td>0</td>\n",
       "      <td>0</td>\n",
       "      <td>cute</td>\n",
       "      <td>the backless mule is very comfortable   cute  ...</td>\n",
       "      <td>2002</td>\n",
       "      <td>9</td>\n",
       "    </tr>\n",
       "    <tr>\n",
       "      <th>4358813</th>\n",
       "      <td>Birki's Super Birki Unisex Clog</td>\n",
       "      <td>5</td>\n",
       "      <td>10</td>\n",
       "      <td>11</td>\n",
       "      <td>0</td>\n",
       "      <td>graceless and immense   comfy and cool</td>\n",
       "      <td>my garden clogs make my feet look huge  and ev...</td>\n",
       "      <td>2002</td>\n",
       "      <td>3</td>\n",
       "    </tr>\n",
       "    <tr>\n",
       "      <th>4358815</th>\n",
       "      <td>Fox Men's Featherlite Shoe Lace-Up</td>\n",
       "      <td>4</td>\n",
       "      <td>1</td>\n",
       "      <td>6</td>\n",
       "      <td>0</td>\n",
       "      <td>get it all</td>\n",
       "      <td>if you are a fan of  quot extreme sports quot ...</td>\n",
       "      <td>2000</td>\n",
       "      <td>4</td>\n",
       "    </tr>\n",
       "  </tbody>\n",
       "</table>\n",
       "<p>3846073 rows × 9 columns</p>\n",
       "</div>"
      ],
      "text/plain": [
       "                                             product_title  star_rating  \\\n",
       "0        Minnetonka Men's Double Deerskin Softsole Mocc...            1   \n",
       "1                              Teva Men's Pajaro Flip-Flop            5   \n",
       "3                adidas Men's 10K Lifestyle Runner Sneaker            5   \n",
       "4        OverBling Sneakers for Men Casual Men Shoes Ge...            3   \n",
       "5                      MESSI 15.3 FG/AG SOCCER SHOES (8.5)            5   \n",
       "...                                                    ...          ...   \n",
       "4358810                     Women's Evette Mid-Shaft Boots            1   \n",
       "4358811                Women's Bree Suede Moc Snow Joggers            5   \n",
       "4358812                           Women's CanvasMule Shoes            5   \n",
       "4358813                    Birki's Super Birki Unisex Clog            5   \n",
       "4358815                 Fox Men's Featherlite Shoe Lace-Up            4   \n",
       "\n",
       "         helpful_votes  total_votes  verified_purchase  \\\n",
       "0                    0            0                  1   \n",
       "1                    0            0                  1   \n",
       "3                    0            6                  1   \n",
       "4                    0            0                  1   \n",
       "5                    1            1                  1   \n",
       "...                ...          ...                ...   \n",
       "4358810              0            0                  0   \n",
       "4358811              1            1                  0   \n",
       "4358812              0            0                  0   \n",
       "4358813             10           11                  0   \n",
       "4358815              1            6                  0   \n",
       "\n",
       "                                review_headline  \\\n",
       "0                                                 \n",
       "1                               super flip flop   \n",
       "3                                        badass   \n",
       "4                                   three stars   \n",
       "5                                    five stars   \n",
       "...                                         ...   \n",
       "4358810                            what a waste   \n",
       "4358811              you want it   you need it    \n",
       "4358812                                    cute   \n",
       "4358813  graceless and immense   comfy and cool   \n",
       "4358815                              get it all   \n",
       "\n",
       "                                               review_body  year  month  \n",
       "0        do not buy  really didn t start to wear them u...  2015      8  \n",
       "1            provides great cushion as well as archsupport  2015      8  \n",
       "3                                       getting what u see  2015      8  \n",
       "4                                                    small  2015      8  \n",
       "5        my 13 year old son loved these shoes excellent...  2015      8  \n",
       "...                                                    ...   ...    ...  \n",
       "4358810  i purchased this shoe because it looked good  ...  2002     10  \n",
       "4358811  this little shoe boot is so great if you re th...  2002     10  \n",
       "4358812  the backless mule is very comfortable   cute  ...  2002      9  \n",
       "4358813  my garden clogs make my feet look huge  and ev...  2002      3  \n",
       "4358815  if you are a fan of  quot extreme sports quot ...  2000      4  \n",
       "\n",
       "[3846073 rows x 9 columns]"
      ]
     },
     "execution_count": 2,
     "metadata": {},
     "output_type": "execute_result"
    }
   ],
   "source": [
    "with open('df.pkl', 'rb') as f:\n",
    "    df = pickle.load(f)\n",
    "df"
   ]
  },
  {
   "cell_type": "code",
   "execution_count": 3,
   "id": "073beceb",
   "metadata": {},
   "outputs": [
    {
     "data": {
      "text/html": [
       "<div>\n",
       "<style scoped>\n",
       "    .dataframe tbody tr th:only-of-type {\n",
       "        vertical-align: middle;\n",
       "    }\n",
       "\n",
       "    .dataframe tbody tr th {\n",
       "        vertical-align: top;\n",
       "    }\n",
       "\n",
       "    .dataframe thead th {\n",
       "        text-align: right;\n",
       "    }\n",
       "</style>\n",
       "<table border=\"1\" class=\"dataframe\">\n",
       "  <thead>\n",
       "    <tr style=\"text-align: right;\">\n",
       "      <th></th>\n",
       "      <th>product_title</th>\n",
       "      <th>star_rating</th>\n",
       "      <th>helpful_votes</th>\n",
       "      <th>total_votes</th>\n",
       "      <th>verified_purchase</th>\n",
       "      <th>review_headline</th>\n",
       "      <th>review_body</th>\n",
       "      <th>year</th>\n",
       "      <th>month</th>\n",
       "    </tr>\n",
       "  </thead>\n",
       "  <tbody>\n",
       "    <tr>\n",
       "      <th>0</th>\n",
       "      <td>Minnetonka Men's Double Deerskin Softsole Mocc...</td>\n",
       "      <td>0</td>\n",
       "      <td>0</td>\n",
       "      <td>0</td>\n",
       "      <td>1</td>\n",
       "      <td></td>\n",
       "      <td>do not buy  really didn t start to wear them u...</td>\n",
       "      <td>2015</td>\n",
       "      <td>8</td>\n",
       "    </tr>\n",
       "    <tr>\n",
       "      <th>1</th>\n",
       "      <td>Teva Men's Pajaro Flip-Flop</td>\n",
       "      <td>1</td>\n",
       "      <td>0</td>\n",
       "      <td>0</td>\n",
       "      <td>1</td>\n",
       "      <td>super flip flop</td>\n",
       "      <td>provides great cushion as well as archsupport</td>\n",
       "      <td>2015</td>\n",
       "      <td>8</td>\n",
       "    </tr>\n",
       "    <tr>\n",
       "      <th>3</th>\n",
       "      <td>adidas Men's 10K Lifestyle Runner Sneaker</td>\n",
       "      <td>1</td>\n",
       "      <td>0</td>\n",
       "      <td>6</td>\n",
       "      <td>1</td>\n",
       "      <td>badass</td>\n",
       "      <td>getting what u see</td>\n",
       "      <td>2015</td>\n",
       "      <td>8</td>\n",
       "    </tr>\n",
       "    <tr>\n",
       "      <th>4</th>\n",
       "      <td>OverBling Sneakers for Men Casual Men Shoes Ge...</td>\n",
       "      <td>0</td>\n",
       "      <td>0</td>\n",
       "      <td>0</td>\n",
       "      <td>1</td>\n",
       "      <td>three stars</td>\n",
       "      <td>small</td>\n",
       "      <td>2015</td>\n",
       "      <td>8</td>\n",
       "    </tr>\n",
       "    <tr>\n",
       "      <th>5</th>\n",
       "      <td>MESSI 15.3 FG/AG SOCCER SHOES (8.5)</td>\n",
       "      <td>1</td>\n",
       "      <td>1</td>\n",
       "      <td>1</td>\n",
       "      <td>1</td>\n",
       "      <td>five stars</td>\n",
       "      <td>my 13 year old son loved these shoes excellent...</td>\n",
       "      <td>2015</td>\n",
       "      <td>8</td>\n",
       "    </tr>\n",
       "    <tr>\n",
       "      <th>...</th>\n",
       "      <td>...</td>\n",
       "      <td>...</td>\n",
       "      <td>...</td>\n",
       "      <td>...</td>\n",
       "      <td>...</td>\n",
       "      <td>...</td>\n",
       "      <td>...</td>\n",
       "      <td>...</td>\n",
       "      <td>...</td>\n",
       "    </tr>\n",
       "    <tr>\n",
       "      <th>4358810</th>\n",
       "      <td>Women's Evette Mid-Shaft Boots</td>\n",
       "      <td>0</td>\n",
       "      <td>0</td>\n",
       "      <td>0</td>\n",
       "      <td>0</td>\n",
       "      <td>what a waste</td>\n",
       "      <td>i purchased this shoe because it looked good  ...</td>\n",
       "      <td>2002</td>\n",
       "      <td>10</td>\n",
       "    </tr>\n",
       "    <tr>\n",
       "      <th>4358811</th>\n",
       "      <td>Women's Bree Suede Moc Snow Joggers</td>\n",
       "      <td>1</td>\n",
       "      <td>1</td>\n",
       "      <td>1</td>\n",
       "      <td>0</td>\n",
       "      <td>you want it   you need it</td>\n",
       "      <td>this little shoe boot is so great if you re th...</td>\n",
       "      <td>2002</td>\n",
       "      <td>10</td>\n",
       "    </tr>\n",
       "    <tr>\n",
       "      <th>4358812</th>\n",
       "      <td>Women's CanvasMule Shoes</td>\n",
       "      <td>1</td>\n",
       "      <td>0</td>\n",
       "      <td>0</td>\n",
       "      <td>0</td>\n",
       "      <td>cute</td>\n",
       "      <td>the backless mule is very comfortable   cute  ...</td>\n",
       "      <td>2002</td>\n",
       "      <td>9</td>\n",
       "    </tr>\n",
       "    <tr>\n",
       "      <th>4358813</th>\n",
       "      <td>Birki's Super Birki Unisex Clog</td>\n",
       "      <td>1</td>\n",
       "      <td>10</td>\n",
       "      <td>11</td>\n",
       "      <td>0</td>\n",
       "      <td>graceless and immense   comfy and cool</td>\n",
       "      <td>my garden clogs make my feet look huge  and ev...</td>\n",
       "      <td>2002</td>\n",
       "      <td>3</td>\n",
       "    </tr>\n",
       "    <tr>\n",
       "      <th>4358815</th>\n",
       "      <td>Fox Men's Featherlite Shoe Lace-Up</td>\n",
       "      <td>0</td>\n",
       "      <td>1</td>\n",
       "      <td>6</td>\n",
       "      <td>0</td>\n",
       "      <td>get it all</td>\n",
       "      <td>if you are a fan of  quot extreme sports quot ...</td>\n",
       "      <td>2000</td>\n",
       "      <td>4</td>\n",
       "    </tr>\n",
       "  </tbody>\n",
       "</table>\n",
       "<p>3846073 rows × 9 columns</p>\n",
       "</div>"
      ],
      "text/plain": [
       "                                             product_title  star_rating  \\\n",
       "0        Minnetonka Men's Double Deerskin Softsole Mocc...            0   \n",
       "1                              Teva Men's Pajaro Flip-Flop            1   \n",
       "3                adidas Men's 10K Lifestyle Runner Sneaker            1   \n",
       "4        OverBling Sneakers for Men Casual Men Shoes Ge...            0   \n",
       "5                      MESSI 15.3 FG/AG SOCCER SHOES (8.5)            1   \n",
       "...                                                    ...          ...   \n",
       "4358810                     Women's Evette Mid-Shaft Boots            0   \n",
       "4358811                Women's Bree Suede Moc Snow Joggers            1   \n",
       "4358812                           Women's CanvasMule Shoes            1   \n",
       "4358813                    Birki's Super Birki Unisex Clog            1   \n",
       "4358815                 Fox Men's Featherlite Shoe Lace-Up            0   \n",
       "\n",
       "         helpful_votes  total_votes  verified_purchase  \\\n",
       "0                    0            0                  1   \n",
       "1                    0            0                  1   \n",
       "3                    0            6                  1   \n",
       "4                    0            0                  1   \n",
       "5                    1            1                  1   \n",
       "...                ...          ...                ...   \n",
       "4358810              0            0                  0   \n",
       "4358811              1            1                  0   \n",
       "4358812              0            0                  0   \n",
       "4358813             10           11                  0   \n",
       "4358815              1            6                  0   \n",
       "\n",
       "                                review_headline  \\\n",
       "0                                                 \n",
       "1                               super flip flop   \n",
       "3                                        badass   \n",
       "4                                   three stars   \n",
       "5                                    five stars   \n",
       "...                                         ...   \n",
       "4358810                            what a waste   \n",
       "4358811              you want it   you need it    \n",
       "4358812                                    cute   \n",
       "4358813  graceless and immense   comfy and cool   \n",
       "4358815                              get it all   \n",
       "\n",
       "                                               review_body  year  month  \n",
       "0        do not buy  really didn t start to wear them u...  2015      8  \n",
       "1            provides great cushion as well as archsupport  2015      8  \n",
       "3                                       getting what u see  2015      8  \n",
       "4                                                    small  2015      8  \n",
       "5        my 13 year old son loved these shoes excellent...  2015      8  \n",
       "...                                                    ...   ...    ...  \n",
       "4358810  i purchased this shoe because it looked good  ...  2002     10  \n",
       "4358811  this little shoe boot is so great if you re th...  2002     10  \n",
       "4358812  the backless mule is very comfortable   cute  ...  2002      9  \n",
       "4358813  my garden clogs make my feet look huge  and ev...  2002      3  \n",
       "4358815  if you are a fan of  quot extreme sports quot ...  2000      4  \n",
       "\n",
       "[3846073 rows x 9 columns]"
      ]
     },
     "execution_count": 3,
     "metadata": {},
     "output_type": "execute_result"
    }
   ],
   "source": [
    "with open('2ClassDf.pkl', 'rb') as f:\n",
    "    df2 = pickle.load(f)\n",
    "df2"
   ]
  },
  {
   "cell_type": "markdown",
   "id": "0d29cec0",
   "metadata": {},
   "source": [
    "Dealing with multiclass dataset so now using df instead of df2."
   ]
  },
  {
   "cell_type": "code",
   "execution_count": 4,
   "id": "06a1c9a8",
   "metadata": {},
   "outputs": [
    {
     "data": {
      "text/plain": [
       "5    2313224\n",
       "4     763602\n",
       "3     360091\n",
       "2     214971\n",
       "1     194185\n",
       "Name: star_rating, dtype: int64"
      ]
     },
     "execution_count": 4,
     "metadata": {},
     "output_type": "execute_result"
    }
   ],
   "source": [
    "df['star_rating'].value_counts()"
   ]
  },
  {
   "cell_type": "markdown",
   "id": "31b35290",
   "metadata": {},
   "source": [
    "We'll use a sample dataset of 1000 for each star rating so the classes are balanced."
   ]
  },
  {
   "cell_type": "code",
   "execution_count": 80,
   "id": "869efdb3",
   "metadata": {},
   "outputs": [],
   "source": [
    "rating1 = df[df['star_rating']==1].sample(10000, random_state=1)\n",
    "rating2 = df[df['star_rating']==2].sample(10000, random_state=1) \n",
    "rating3 = df[df['star_rating']==3].sample(10000, random_state=1)\n",
    "rating4 = df[df['star_rating']==4].sample(10000, random_state=1) \n",
    "rating5 = df[df['star_rating']==5].sample(10000, random_state=1)\n",
    "\n",
    "\n",
    "sampled_df = pd.concat([rating1, rating2, rating3, rating4, rating5])"
   ]
  },
  {
   "cell_type": "code",
   "execution_count": 81,
   "id": "e0520c40",
   "metadata": {
    "scrolled": true
   },
   "outputs": [],
   "source": [
    "sampled_df = sampled_df.drop(columns='total_votes')"
   ]
  },
  {
   "cell_type": "code",
   "execution_count": 82,
   "id": "7a9befc7",
   "metadata": {
    "scrolled": false
   },
   "outputs": [
    {
     "data": {
      "image/png": "[encoded data removed]",
      "text/plain": [
       "<Figure size 1000x600 with 1 Axes>"
      ]
     },
     "metadata": {},
     "output_type": "display_data"
    }
   ],
   "source": [
    "# Sanity check\n",
    "figure = plt.figure(figsize=(10,6))\n",
    "sampled_df['star_rating'].value_counts(normalize=True).plot(kind='bar')\n",
    "plt.xlabel('Review Scores')\n",
    "plt.ylabel('Frequency')\n",
    "plt.title('Counts of Review Scores')\n",
    "plt.show()"
   ]
  },
  {
   "cell_type": "markdown",
   "id": "2a166c4c",
   "metadata": {},
   "source": [
    "The classes are now 20% each and there is no class imbalance."
   ]
  },
  {
   "cell_type": "markdown",
   "id": "1695ac4e",
   "metadata": {},
   "source": [
    "#### Train/Test Split"
   ]
  },
  {
   "cell_type": "code",
   "execution_count": 83,
   "id": "0132640b",
   "metadata": {},
   "outputs": [],
   "source": [
    "# assigning Reviewer_Score as target variable and everything else as X \n",
    "X_sample = sampled_df.drop(columns=['star_rating'])\n",
    "y_sample = sampled_df['star_rating']\n",
    "\n",
    "# splitting the data \n",
    "X_remainder_sample, X_test_sample, y_remainder_sample, y_test_sample = train_test_split(X_sample, y_sample, test_size=0.2, random_state=1, stratify=y_sample)"
   ]
  },
  {
   "cell_type": "code",
   "execution_count": 84,
   "id": "d2c14bf2",
   "metadata": {},
   "outputs": [],
   "source": [
    "# Creating a validation set\n",
    "X_train_sample, X_valid_sample, y_train_sample, y_valid_sample = train_test_split(X_remainder_sample, y_remainder_sample, test_size=0.3, random_state=1, stratify=y_remainder_sample)"
   ]
  },
  {
   "cell_type": "markdown",
   "id": "236a0786",
   "metadata": {},
   "source": [
    "#### Vectorization"
   ]
  },
  {
   "cell_type": "markdown",
   "id": "a1887005",
   "metadata": {},
   "source": [
    "The `review_body` and `review_headline` need to be vectorized so there is only numeric columns before modeling can be done. For vectorizing, bag of words will be used."
   ]
  },
  {
   "cell_type": "code",
   "execution_count": 85,
   "id": "01f267f1",
   "metadata": {},
   "outputs": [],
   "source": [
    "X_train_review_sample = X_train_sample['review_body']\n",
    "X_valid_review_sample = X_valid_sample['review_body']\n",
    "X_test_review_sample = X_test_sample['review_body']\n",
    "\n",
    "# X_remainder will be needed for when cv is being done\n",
    "X_remainder_review_sample = X_remainder_sample['review_body']"
   ]
  },
  {
   "cell_type": "code",
   "execution_count": 86,
   "id": "eaab5071",
   "metadata": {},
   "outputs": [],
   "source": [
    "# sampled_df = sampled_df.drop(columns=['product_title', 'review_headline', 'review_body'])"
   ]
  },
  {
   "cell_type": "code",
   "execution_count": 87,
   "id": "8ab55b65",
   "metadata": {
    "scrolled": true
   },
   "outputs": [
    {
     "name": "stdout",
     "output_type": "stream",
     "text": [
      "CPU times: total: 3.89 s\n",
      "Wall time: 5.04 s\n"
     ]
    }
   ],
   "source": [
    "%%time\n",
    "# Instantiate\n",
    "stemmer = PorterStemmer()\n",
    "\n",
    "bag_body = CountVectorizer(stop_words=\"english\", min_df=10)\n",
    "\n",
    "# Fitting \n",
    "bag_body.fit(X_train_review_sample)\n",
    "\n",
    "\n",
    "# Transform\n",
    "train_bag_sample = bag_body.transform(X_train_review_sample)\n",
    "valid_bag_sample = bag_body.transform(X_valid_review_sample)\n",
    "test_bag_sample = bag_body.transform(X_test_review_sample)"
   ]
  },
  {
   "cell_type": "code",
   "execution_count": 88,
   "id": "534533f4",
   "metadata": {},
   "outputs": [
    {
     "name": "stdout",
     "output_type": "stream",
     "text": [
      "CPU times: total: 4.66 s\n",
      "Wall time: 5.58 s\n"
     ]
    }
   ],
   "source": [
    "%%time\n",
    "# This one is for X_remainder when cv is not done \n",
    "\n",
    "### For X_remainder\n",
    "bag_body2 = CountVectorizer(stop_words=\"english\", min_df=10)\n",
    "bag_body2.fit(X_remainder_review_sample)\n",
    "remainder_bag_sample = bag_body2.transform(X_remainder_review_sample)\n",
    "test_bag_sample2 = bag_body2.transform(X_test_review_sample)"
   ]
  },
  {
   "cell_type": "code",
   "execution_count": 89,
   "id": "a1574cc1",
   "metadata": {},
   "outputs": [],
   "source": [
    "X_train_headline_sample = X_train_sample['review_headline']\n",
    "X_valid_headline_sample = X_valid_sample['review_headline']\n",
    "X_test_headline_sample = X_test_sample['review_headline']\n",
    "# X_remainder will be needed for when cv is being done\n",
    "X_remainder_headline_sample = X_remainder_sample['review_headline']"
   ]
  },
  {
   "cell_type": "code",
   "execution_count": 90,
   "id": "35343aa8",
   "metadata": {},
   "outputs": [
    {
     "name": "stdout",
     "output_type": "stream",
     "text": [
      "CPU times: total: 766 ms\n",
      "Wall time: 1.05 s\n"
     ]
    }
   ],
   "source": [
    "%%time\n",
    "# Instantiate\n",
    "bag_headline = CountVectorizer(stop_words=\"english\", min_df=50)\n",
    "\n",
    "# Fitting \n",
    "bag_headline.fit(X_train_headline_sample)\n",
    "\n",
    "# Transform\n",
    "train_headline_sample = bag_headline.transform(X_train_headline_sample)\n",
    "valid_headline_sample = bag_headline.transform(X_valid_headline_sample)\n",
    "test_headline_sample = bag_headline.transform(X_test_headline_sample)"
   ]
  },
  {
   "cell_type": "code",
   "execution_count": 91,
   "id": "4ab563f2",
   "metadata": {},
   "outputs": [
    {
     "name": "stdout",
     "output_type": "stream",
     "text": [
      "CPU times: total: 859 ms\n",
      "Wall time: 1.19 s\n"
     ]
    }
   ],
   "source": [
    "%%time\n",
    "# For X_remainder\n",
    "bag_headline2 = CountVectorizer(stop_words=\"english\", min_df=10)\n",
    "bag_headline2.fit(X_remainder_headline_sample)\n",
    "remainder_headline_sample = bag_headline2.transform(X_remainder_headline_sample)\n",
    "test_headline_sample2 = bag_headline2.transform(X_test_headline_sample)"
   ]
  },
  {
   "cell_type": "code",
   "execution_count": 92,
   "id": "eef6f6b2",
   "metadata": {},
   "outputs": [
    {
     "data": {
      "text/plain": [
       "array(['10', 'adorable', 'amazing', 'ankle', 'apart', 'arch', 'awesome',\n",
       "       'bad', 'bag', 'balance', 'beautiful', 'best', 'better', 'beware',\n",
       "       'big', 'bigger', 'bit', 'black', 'boot', 'boots', 'bought', 'box',\n",
       "       'broke', 'buy', 'calf', 'came', 'casual', 'cheap', 'cheaply',\n",
       "       'color', 'comfort', 'comfortable', 'comfy', 'cool', 'crocs',\n",
       "       'cute', 'daughter', 'day', 'defective', 'design', 'did', 'didn',\n",
       "       'different', 'disappointed', 'disappointing', 'does', 'doesn',\n",
       "       'don', 'durable', 'easy', 'excellent', 'expected', 'far', 'fast',\n",
       "       'favorite', 'feel', 'feels', 'feet', 'fell', 'fine', 'fit', 'fits',\n",
       "       'flip', 'flops', 'foot', 'fun', 'good', 'gorgeous', 'got', 'great',\n",
       "       'half', 'happy', 'hard', 'heavy', 'heel', 'heels', 'high',\n",
       "       'horrible', 'hurt', 'item', 'just', 'large', 'larger', 'leather',\n",
       "       'light', 'like', 'liked', 'little', 'long', 'look', 'looked',\n",
       "       'looking', 'looks', 'loose', 'lot', 'love', 'loved', 'loves',\n",
       "       'low', 'make', 'material', 'men', 'money', 'months', 'narrow',\n",
       "       'need', 'new', 'nice', 'ok', 'okay', 'old', 'order', 'ordered',\n",
       "       'painful', 'pair', 'pay', 'perfect', 'picture', 'poor', 'poorly',\n",
       "       'pretty', 'price', 'problem', 'product', 'purchase', 'quality',\n",
       "       'quite', 'real', 'really', 'received', 'recommend', 'return',\n",
       "       'returned', 'review', 'right', 'run', 'running', 'runs', 'sandal',\n",
       "       'sandals', 'sent', 'shoe', 'shoes', 'short', 'size', 'sized',\n",
       "       'sizes', 'sizing', 'skechers', 'slip', 'slipper', 'slippers',\n",
       "       'small', 'smaller', 'sneaker', 'sneakers', 'snug', 'soft', 'sole',\n",
       "       'soles', 'somewhat', 'star', 'stars', 'stiff', 'strap', 'straps',\n",
       "       'style', 'stylish', 'summer', 'super', 'support', 'sure',\n",
       "       'terrible', 'thought', 'tight', 'time', 'toe', 'toes', 'true',\n",
       "       'uncomfortable', 'use', 'used', 'value', 've', 'walk', 'walking',\n",
       "       'wanted', 'warm', 'waste', 'water', 'way', 'wear', 'wearing',\n",
       "       'wide', 'width', 'wish', 'women', 'wonderful', 'wore', 'work',\n",
       "       'worn', 'worst', 'worth', 'wrong', 'years'], dtype=object)"
      ]
     },
     "execution_count": 92,
     "metadata": {},
     "output_type": "execute_result"
    }
   ],
   "source": [
    "bag_headline.get_feature_names_out()"
   ]
  },
  {
   "cell_type": "code",
   "execution_count": 93,
   "id": "4b3dfaa6",
   "metadata": {},
   "outputs": [],
   "source": [
    "# combining headline and bag counts\n",
    "train_count = sp.hstack([train_headline_sample, train_bag_sample])\n",
    "valid_count = sp.hstack([valid_headline_sample, valid_bag_sample])\n",
    "test_count = sp.hstack([test_headline_sample, test_bag_sample])"
   ]
  },
  {
   "cell_type": "code",
   "execution_count": 94,
   "id": "f10bc238",
   "metadata": {},
   "outputs": [],
   "source": [
    "# combining headline and bag counts\n",
    "remainder_count = sp.hstack([remainder_headline_sample, remainder_bag_sample])\n",
    "test_count2 = sp.hstack([test_headline_sample2, test_bag_sample2])"
   ]
  },
  {
   "cell_type": "code",
   "execution_count": 95,
   "id": "1d1fdb9d",
   "metadata": {},
   "outputs": [
    {
     "data": {
      "text/plain": [
       "<28000x3761 sparse matrix of type '<class 'numpy.int64'>'\n",
       "\twith 508621 stored elements in Compressed Sparse Row format>"
      ]
     },
     "execution_count": 95,
     "metadata": {},
     "output_type": "execute_result"
    }
   ],
   "source": [
    "train_count"
   ]
  },
  {
   "cell_type": "code",
   "execution_count": 96,
   "id": "19651220",
   "metadata": {},
   "outputs": [],
   "source": [
    "body_words = bag_body.get_feature_names_out()\n",
    "tagged_body_words = ['b_' + feature for feature in body_words]\n",
    "headline_words = bag_headline.get_feature_names_out()\n",
    "tagged_headline_words = ['h_' + feature for feature in headline_words]\n",
    "sample_vocab = tagged_headline_words + tagged_body_words"
   ]
  },
  {
   "cell_type": "code",
   "execution_count": 97,
   "id": "43876731",
   "metadata": {},
   "outputs": [],
   "source": [
    "# FOR X_REMAINDER\n",
    "body_words2 = bag_body2.get_feature_names_out()\n",
    "tagged_body_words2 = ['b_' + feature for feature in body_words2]\n",
    "headline_words2 = bag_headline2.get_feature_names_out()\n",
    "tagged_headline_words2 = ['h_' + feature for feature in headline_words2]\n",
    "sample_vocab2 = tagged_headline_words2 + tagged_body_words2"
   ]
  },
  {
   "cell_type": "code",
   "execution_count": 98,
   "id": "94a2e509",
   "metadata": {},
   "outputs": [
    {
     "data": {
      "text/plain": [
       "3761"
      ]
     },
     "execution_count": 98,
     "metadata": {},
     "output_type": "execute_result"
    }
   ],
   "source": [
    "len(sample_vocab)"
   ]
  },
  {
   "cell_type": "code",
   "execution_count": 99,
   "id": "1736ae61",
   "metadata": {},
   "outputs": [
    {
     "data": {
      "text/plain": [
       "<28000x3761 sparse matrix of type '<class 'numpy.int64'>'\n",
       "\twith 508621 stored elements in Compressed Sparse Row format>"
      ]
     },
     "execution_count": 99,
     "metadata": {},
     "output_type": "execute_result"
    }
   ],
   "source": [
    "train_count"
   ]
  },
  {
   "cell_type": "code",
   "execution_count": 100,
   "id": "3b221231",
   "metadata": {},
   "outputs": [],
   "source": [
    "train_df = pd.DataFrame(train_count.toarray(), columns=sample_vocab)\n",
    "valid_df = pd.DataFrame(valid_count.toarray(), columns=sample_vocab)\n",
    "test_df = pd.DataFrame(test_count.toarray(), columns=sample_vocab)"
   ]
  },
  {
   "cell_type": "code",
   "execution_count": 101,
   "id": "05f8103f",
   "metadata": {},
   "outputs": [],
   "source": [
    "# For X_remainder\n",
    "remainder_df = pd.DataFrame(remainder_count.toarray(), columns=sample_vocab2)\n",
    "test_df2 = pd.DataFrame(test_count2.toarray(), columns=sample_vocab2)"
   ]
  },
  {
   "cell_type": "code",
   "execution_count": 102,
   "id": "88beeef8",
   "metadata": {},
   "outputs": [],
   "source": [
    "X_train_sample = X_train_sample.reset_index(drop=True).drop(columns=['product_title', 'review_headline', 'review_body'])\n",
    "X_valid_sample = X_valid_sample.reset_index(drop=True).drop(columns=['product_title', 'review_headline', 'review_body'])\n",
    "X_test_sample = X_test_sample.reset_index(drop=True).drop(columns=['product_title', 'review_headline', 'review_body'])"
   ]
  },
  {
   "cell_type": "code",
   "execution_count": 103,
   "id": "76962fe4",
   "metadata": {},
   "outputs": [],
   "source": [
    "# For X_remainder\n",
    "X_remainder_sample = X_remainder_sample.reset_index(drop=True).drop(columns=['product_title', 'review_headline', 'review_body'])"
   ]
  },
  {
   "cell_type": "code",
   "execution_count": 104,
   "id": "2dafc68b",
   "metadata": {},
   "outputs": [
    {
     "ename": "MemoryError",
     "evalue": "Unable to allocate 803. MiB for an array with shape (3761, 28000) and data type int64",
     "output_type": "error",
     "traceback": [
      "\u001b[1;31m---------------------------------------------------------------------------\u001b[0m",
      "\u001b[1;31mMemoryError\u001b[0m                               Traceback (most recent call last)",
      "Cell \u001b[1;32mIn[104], line 1\u001b[0m\n\u001b[1;32m----> 1\u001b[0m combined_train \u001b[38;5;241m=\u001b[39m \u001b[43mpd\u001b[49m\u001b[38;5;241;43m.\u001b[39;49m\u001b[43mconcat\u001b[49m\u001b[43m(\u001b[49m\u001b[43m[\u001b[49m\u001b[43mX_train_sample\u001b[49m\u001b[43m,\u001b[49m\u001b[43m \u001b[49m\u001b[43mtrain_df\u001b[49m\u001b[43m]\u001b[49m\u001b[43m,\u001b[49m\u001b[43m \u001b[49m\u001b[43maxis\u001b[49m\u001b[38;5;241;43m=\u001b[39;49m\u001b[38;5;241;43m1\u001b[39;49m\u001b[43m)\u001b[49m\n\u001b[0;32m      2\u001b[0m combined_valid \u001b[38;5;241m=\u001b[39m pd\u001b[38;5;241m.\u001b[39mconcat([X_valid_sample, valid_df], axis\u001b[38;5;241m=\u001b[39m\u001b[38;5;241m1\u001b[39m)\n\u001b[0;32m      3\u001b[0m combined_test \u001b[38;5;241m=\u001b[39m pd\u001b[38;5;241m.\u001b[39mconcat([X_test_sample, test_df], axis\u001b[38;5;241m=\u001b[39m\u001b[38;5;241m1\u001b[39m)\n",
      "File \u001b[1;32mB:\\Programs\\Anaconda\\lib\\site-packages\\pandas\\util\\_decorators.py:331\u001b[0m, in \u001b[0;36mdeprecate_nonkeyword_arguments.<locals>.decorate.<locals>.wrapper\u001b[1;34m(*args, **kwargs)\u001b[0m\n\u001b[0;32m    325\u001b[0m \u001b[38;5;28;01mif\u001b[39;00m \u001b[38;5;28mlen\u001b[39m(args) \u001b[38;5;241m>\u001b[39m num_allow_args:\n\u001b[0;32m    326\u001b[0m     warnings\u001b[38;5;241m.\u001b[39mwarn(\n\u001b[0;32m    327\u001b[0m         msg\u001b[38;5;241m.\u001b[39mformat(arguments\u001b[38;5;241m=\u001b[39m_format_argument_list(allow_args)),\n\u001b[0;32m    328\u001b[0m         \u001b[38;5;167;01mFutureWarning\u001b[39;00m,\n\u001b[0;32m    329\u001b[0m         stacklevel\u001b[38;5;241m=\u001b[39mfind_stack_level(),\n\u001b[0;32m    330\u001b[0m     )\n\u001b[1;32m--> 331\u001b[0m \u001b[38;5;28;01mreturn\u001b[39;00m func(\u001b[38;5;241m*\u001b[39margs, \u001b[38;5;241m*\u001b[39m\u001b[38;5;241m*\u001b[39mkwargs)\n",
      "File \u001b[1;32mB:\\Programs\\Anaconda\\lib\\site-packages\\pandas\\core\\reshape\\concat.py:381\u001b[0m, in \u001b[0;36mconcat\u001b[1;34m(objs, axis, join, ignore_index, keys, levels, names, verify_integrity, sort, copy)\u001b[0m\n\u001b[0;32m    159\u001b[0m \u001b[38;5;124;03m\"\"\"\u001b[39;00m\n\u001b[0;32m    160\u001b[0m \u001b[38;5;124;03mConcatenate pandas objects along a particular axis.\u001b[39;00m\n\u001b[0;32m    161\u001b[0m \n\u001b[1;32m   (...)\u001b[0m\n\u001b[0;32m    366\u001b[0m \u001b[38;5;124;03m1   3   4\u001b[39;00m\n\u001b[0;32m    367\u001b[0m \u001b[38;5;124;03m\"\"\"\u001b[39;00m\n\u001b[0;32m    368\u001b[0m op \u001b[38;5;241m=\u001b[39m _Concatenator(\n\u001b[0;32m    369\u001b[0m     objs,\n\u001b[0;32m    370\u001b[0m     axis\u001b[38;5;241m=\u001b[39maxis,\n\u001b[1;32m   (...)\u001b[0m\n\u001b[0;32m    378\u001b[0m     sort\u001b[38;5;241m=\u001b[39msort,\n\u001b[0;32m    379\u001b[0m )\n\u001b[1;32m--> 381\u001b[0m \u001b[38;5;28;01mreturn\u001b[39;00m \u001b[43mop\u001b[49m\u001b[38;5;241;43m.\u001b[39;49m\u001b[43mget_result\u001b[49m\u001b[43m(\u001b[49m\u001b[43m)\u001b[49m\n",
      "File \u001b[1;32mB:\\Programs\\Anaconda\\lib\\site-packages\\pandas\\core\\reshape\\concat.py:616\u001b[0m, in \u001b[0;36m_Concatenator.get_result\u001b[1;34m(self)\u001b[0m\n\u001b[0;32m    612\u001b[0m             indexers[ax] \u001b[38;5;241m=\u001b[39m obj_labels\u001b[38;5;241m.\u001b[39mget_indexer(new_labels)\n\u001b[0;32m    614\u001b[0m     mgrs_indexers\u001b[38;5;241m.\u001b[39mappend((obj\u001b[38;5;241m.\u001b[39m_mgr, indexers))\n\u001b[1;32m--> 616\u001b[0m new_data \u001b[38;5;241m=\u001b[39m \u001b[43mconcatenate_managers\u001b[49m\u001b[43m(\u001b[49m\n\u001b[0;32m    617\u001b[0m \u001b[43m    \u001b[49m\u001b[43mmgrs_indexers\u001b[49m\u001b[43m,\u001b[49m\u001b[43m \u001b[49m\u001b[38;5;28;43mself\u001b[39;49m\u001b[38;5;241;43m.\u001b[39;49m\u001b[43mnew_axes\u001b[49m\u001b[43m,\u001b[49m\u001b[43m \u001b[49m\u001b[43mconcat_axis\u001b[49m\u001b[38;5;241;43m=\u001b[39;49m\u001b[38;5;28;43mself\u001b[39;49m\u001b[38;5;241;43m.\u001b[39;49m\u001b[43mbm_axis\u001b[49m\u001b[43m,\u001b[49m\u001b[43m \u001b[49m\u001b[43mcopy\u001b[49m\u001b[38;5;241;43m=\u001b[39;49m\u001b[38;5;28;43mself\u001b[39;49m\u001b[38;5;241;43m.\u001b[39;49m\u001b[43mcopy\u001b[49m\n\u001b[0;32m    618\u001b[0m \u001b[43m\u001b[49m\u001b[43m)\u001b[49m\n\u001b[0;32m    619\u001b[0m \u001b[38;5;28;01mif\u001b[39;00m \u001b[38;5;129;01mnot\u001b[39;00m \u001b[38;5;28mself\u001b[39m\u001b[38;5;241m.\u001b[39mcopy:\n\u001b[0;32m    620\u001b[0m     new_data\u001b[38;5;241m.\u001b[39m_consolidate_inplace()\n",
      "File \u001b[1;32mB:\\Programs\\Anaconda\\lib\\site-packages\\pandas\\core\\internals\\concat.py:212\u001b[0m, in \u001b[0;36mconcatenate_managers\u001b[1;34m(mgrs_indexers, axes, concat_axis, copy)\u001b[0m\n\u001b[0;32m    210\u001b[0m values \u001b[38;5;241m=\u001b[39m blk\u001b[38;5;241m.\u001b[39mvalues\n\u001b[0;32m    211\u001b[0m \u001b[38;5;28;01mif\u001b[39;00m copy:\n\u001b[1;32m--> 212\u001b[0m     values \u001b[38;5;241m=\u001b[39m \u001b[43mvalues\u001b[49m\u001b[38;5;241;43m.\u001b[39;49m\u001b[43mcopy\u001b[49m\u001b[43m(\u001b[49m\u001b[43m)\u001b[49m\n\u001b[0;32m    213\u001b[0m \u001b[38;5;28;01melse\u001b[39;00m:\n\u001b[0;32m    214\u001b[0m     values \u001b[38;5;241m=\u001b[39m values\u001b[38;5;241m.\u001b[39mview()\n",
      "\u001b[1;31mMemoryError\u001b[0m: Unable to allocate 803. MiB for an array with shape (3761, 28000) and data type int64"
     ]
    }
   ],
   "source": [
    "combined_train = pd.concat([X_train_sample, train_df], axis=1)\n",
    "combined_valid = pd.concat([X_valid_sample, valid_df], axis=1)\n",
    "combined_test = pd.concat([X_test_sample, test_df], axis=1)"
   ]
  },
  {
   "cell_type": "code",
   "execution_count": null,
   "id": "4e29f293",
   "metadata": {},
   "outputs": [],
   "source": [
    "# For X_remainder\n",
    "combined_remainder = pd.concat([X_remainder_sample, remainder_df], axis=1)\n",
    "combined_test2 = pd.concat([X_test_sample, test_df2], axis=1)"
   ]
  },
  {
   "cell_type": "code",
   "execution_count": null,
   "id": "01c3ad93",
   "metadata": {},
   "outputs": [],
   "source": [
    "combined_test2"
   ]
  },
  {
   "cell_type": "code",
   "execution_count": null,
   "id": "08a71af5",
   "metadata": {},
   "outputs": [],
   "source": [
    "# Instantiate\n",
    "ss = StandardScaler()\n",
    "\n",
    "# Fit and tranform\n",
    "X_train_scaled = ss.fit_transform(combined_train)\n",
    "X_valid_scaled = ss.transform(combined_valid)\n",
    "X_test_scaled = ss.transform(combined_test)"
   ]
  },
  {
   "cell_type": "code",
   "execution_count": null,
   "id": "8bab26fb",
   "metadata": {},
   "outputs": [],
   "source": [
    "# For X_remainder\n",
    "ss2 = StandardScaler()\n",
    "X_remainder_scaled = ss.fit_transform(combined_remainder)\n",
    "X_test_scaled2 = ss.transform(combined_test2)"
   ]
  },
  {
   "cell_type": "markdown",
   "id": "c13ded3f",
   "metadata": {},
   "source": [
    "## Logistic Regression"
   ]
  },
  {
   "cell_type": "code",
   "execution_count": null,
   "id": "f3c7ffb0",
   "metadata": {},
   "outputs": [],
   "source": [
    "log3 = LogisticRegression(solver='liblinear', C=0.1, random_state=1)\n",
    "log3.fit(X_train_scaled, y_train_sample)\n",
    "log3.score(X_test_scaled, y_test_sample)"
   ]
  },
  {
   "cell_type": "markdown",
   "id": "22d655d0",
   "metadata": {},
   "source": [
    "When compared to the imbalanced class results, the accuracy had decreased from 78.01% to 77.55% which is not that big of a difference. The most important part is the recall and precision."
   ]
  },
  {
   "cell_type": "code",
   "execution_count": null,
   "id": "c0de3aea",
   "metadata": {},
   "outputs": [],
   "source": [
    "ConfusionMatrixDisplay.from_estimator(log3, X_test_scaled, y_test_sample);"
   ]
  },
  {
   "cell_type": "code",
   "execution_count": null,
   "id": "338bc7b8",
   "metadata": {
    "scrolled": true
   },
   "outputs": [],
   "source": [
    "# Get rating predictions\n",
    "y_pred = log3.predict(X_test_scaled)\n",
    "\n",
    "# Generate confusion matrix\n",
    "cf_matrix = confusion_matrix(y_test_sample, y_pred)\n",
    "\n",
    "# label rows and columnsConfusionMatrixDisplay.from_estimator(log3, X_test_scaled, y_test_sample);\n",
    "cf_df = pd.DataFrame(\n",
    "    cf_matrix, \n",
    "    columns=[\"Predicted 1\", \"Predicted 2\", \"Predicted 3\", \"Predicted 4\", \"Predicted 5\"],\n",
    "    index=[\"True 1\", \"True 2\", \"True 3\", \"True 4\", \"True 5\"]\n",
    ")\n",
    "display(cf_df)\n",
    "\n",
    "print(classification_report(y_test_sample, y_pred))"
   ]
  },
  {
   "cell_type": "markdown",
   "id": "371c4039",
   "metadata": {},
   "source": []
  },
  {
   "cell_type": "code",
   "execution_count": null,
   "id": "da09dfdc",
   "metadata": {},
   "outputs": [],
   "source": []
  }
 ],
 "metadata": {
  "kernelspec": {
   "display_name": "Python 3 (ipykernel)",
   "language": "python",
   "name": "python3"
  },
  "language_info": {
   "codemirror_mode": {
    "name": "ipython",
    "version": 3
   },
   "file_extension": ".py",
   "mimetype": "text/x-python",
   "name": "python",
   "nbconvert_exporter": "python",
   "pygments_lexer": "ipython3",
   "version": "3.10.9"
  }
 },
 "nbformat": 4,
 "nbformat_minor": 5
}
