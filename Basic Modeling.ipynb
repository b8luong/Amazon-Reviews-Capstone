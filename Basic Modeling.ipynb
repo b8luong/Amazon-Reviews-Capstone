{
 "cells": [
  {
   "cell_type": "markdown",
   "id": "67320d91",
   "metadata": {},
   "source": [
    "# Basic Modeling"
   ]
  },
  {
   "cell_type": "markdown",
   "id": "274c63a7",
   "metadata": {},
   "source": [
    "The purpose of this notebook is the first iteration of classification and modeling. The basic models will be logistic regression and XGBoost. Third model will be done with BERT on another notebook."
   ]
  },
  {
   "cell_type": "code",
   "execution_count": null,
   "id": "ccfaf02c",
   "metadata": {},
   "outputs": [],
   "source": [
    "# SVM XGBOOST\n",
    "# Transfer learning and tensorflow"
   ]
  },
  {
   "cell_type": "code",
   "execution_count": null,
   "id": "813e4ce3",
   "metadata": {},
   "outputs": [],
   "source": [
    "import pandas as pd\n",
    "import numpy as np\n",
    "import matplotlib.pyplot as plt\n",
    "import pickle\n",
    "import os\n",
    "from sklearn.model_selection import train_test_split\n",
    "from sklearn.feature_extraction.text import CountVectorizer\n",
    "from nltk.stem import PorterStemmer\n",
    "from nltk.tokenize import word_tokenize\n",
    "import seaborn as sns\n",
    "from sklearn.model_selection import cross_val_score\n",
    "from sklearn.metrics import confusion_matrix, ConfusionMatrixDisplay\n",
    "from sklearn.preprocessing import StandardScaler, MinMaxScaler, MaxAbsScaler\n",
    "from sklearn.linear_model import LogisticRegression\n",
    "from sklearn.metrics import classification_report\n",
    "from sklearn.model_selection import GridSearchCV\n",
    "from sklearn import svm\n",
    "from sklearn.pipeline import Pipeline\n",
    "from xgboost import XGBClassifier\n",
    "import scipy.sparse as sp\n",
    "from sklearn.decomposition import PCA, KernelPCA\n",
    "from gensim.models import Word2Vec\n",
    "from nltk.tokenize import word_tokenize\n",
    "import numpy as np\n"
   ]
  },
  {
   "cell_type": "code",
   "execution_count": 80,
   "id": "cc9f3c89",
   "metadata": {},
   "outputs": [
    {
     "data": {
      "text/html": [
       "<div>\n",
       "<style scoped>\n",
       "    .dataframe tbody tr th:only-of-type {\n",
       "        vertical-align: middle;\n",
       "    }\n",
       "\n",
       "    .dataframe tbody tr th {\n",
       "        vertical-align: top;\n",
       "    }\n",
       "\n",
       "    .dataframe thead th {\n",
       "        text-align: right;\n",
       "    }\n",
       "</style>\n",
       "<table border=\"1\" class=\"dataframe\">\n",
       "  <thead>\n",
       "    <tr style=\"text-align: right;\">\n",
       "      <th></th>\n",
       "      <th>product_title</th>\n",
       "      <th>star_rating</th>\n",
       "      <th>helpful_votes</th>\n",
       "      <th>total_votes</th>\n",
       "      <th>verified_purchase</th>\n",
       "      <th>review_headline</th>\n",
       "      <th>review_body</th>\n",
       "      <th>year</th>\n",
       "      <th>month</th>\n",
       "    </tr>\n",
       "  </thead>\n",
       "  <tbody>\n",
       "    <tr>\n",
       "      <th>0</th>\n",
       "      <td>Minnetonka Men's Double Deerskin Softsole Mocc...</td>\n",
       "      <td>1</td>\n",
       "      <td>0</td>\n",
       "      <td>0</td>\n",
       "      <td>1</td>\n",
       "      <td></td>\n",
       "      <td>do not buy  really didn t start to wear them u...</td>\n",
       "      <td>2015</td>\n",
       "      <td>8</td>\n",
       "    </tr>\n",
       "    <tr>\n",
       "      <th>1</th>\n",
       "      <td>Teva Men's Pajaro Flip-Flop</td>\n",
       "      <td>5</td>\n",
       "      <td>0</td>\n",
       "      <td>0</td>\n",
       "      <td>1</td>\n",
       "      <td>super flip flop</td>\n",
       "      <td>provides great cushion as well as archsupport</td>\n",
       "      <td>2015</td>\n",
       "      <td>8</td>\n",
       "    </tr>\n",
       "    <tr>\n",
       "      <th>3</th>\n",
       "      <td>adidas Men's 10K Lifestyle Runner Sneaker</td>\n",
       "      <td>5</td>\n",
       "      <td>0</td>\n",
       "      <td>6</td>\n",
       "      <td>1</td>\n",
       "      <td>badass</td>\n",
       "      <td>getting what u see</td>\n",
       "      <td>2015</td>\n",
       "      <td>8</td>\n",
       "    </tr>\n",
       "    <tr>\n",
       "      <th>4</th>\n",
       "      <td>OverBling Sneakers for Men Casual Men Shoes Ge...</td>\n",
       "      <td>3</td>\n",
       "      <td>0</td>\n",
       "      <td>0</td>\n",
       "      <td>1</td>\n",
       "      <td>three stars</td>\n",
       "      <td>small</td>\n",
       "      <td>2015</td>\n",
       "      <td>8</td>\n",
       "    </tr>\n",
       "    <tr>\n",
       "      <th>5</th>\n",
       "      <td>MESSI 15.3 FG/AG SOCCER SHOES (8.5)</td>\n",
       "      <td>5</td>\n",
       "      <td>1</td>\n",
       "      <td>1</td>\n",
       "      <td>1</td>\n",
       "      <td>five stars</td>\n",
       "      <td>my 13 year old son loved these shoes excellent...</td>\n",
       "      <td>2015</td>\n",
       "      <td>8</td>\n",
       "    </tr>\n",
       "    <tr>\n",
       "      <th>...</th>\n",
       "      <td>...</td>\n",
       "      <td>...</td>\n",
       "      <td>...</td>\n",
       "      <td>...</td>\n",
       "      <td>...</td>\n",
       "      <td>...</td>\n",
       "      <td>...</td>\n",
       "      <td>...</td>\n",
       "      <td>...</td>\n",
       "    </tr>\n",
       "    <tr>\n",
       "      <th>4358810</th>\n",
       "      <td>Women's Evette Mid-Shaft Boots</td>\n",
       "      <td>1</td>\n",
       "      <td>0</td>\n",
       "      <td>0</td>\n",
       "      <td>0</td>\n",
       "      <td>what a waste</td>\n",
       "      <td>i purchased this shoe because it looked good  ...</td>\n",
       "      <td>2002</td>\n",
       "      <td>10</td>\n",
       "    </tr>\n",
       "    <tr>\n",
       "      <th>4358811</th>\n",
       "      <td>Women's Bree Suede Moc Snow Joggers</td>\n",
       "      <td>5</td>\n",
       "      <td>1</td>\n",
       "      <td>1</td>\n",
       "      <td>0</td>\n",
       "      <td>you want it   you need it</td>\n",
       "      <td>this little shoe boot is so great if you re th...</td>\n",
       "      <td>2002</td>\n",
       "      <td>10</td>\n",
       "    </tr>\n",
       "    <tr>\n",
       "      <th>4358812</th>\n",
       "      <td>Women's CanvasMule Shoes</td>\n",
       "      <td>5</td>\n",
       "      <td>0</td>\n",
       "      <td>0</td>\n",
       "      <td>0</td>\n",
       "      <td>cute</td>\n",
       "      <td>the backless mule is very comfortable   cute  ...</td>\n",
       "      <td>2002</td>\n",
       "      <td>9</td>\n",
       "    </tr>\n",
       "    <tr>\n",
       "      <th>4358813</th>\n",
       "      <td>Birki's Super Birki Unisex Clog</td>\n",
       "      <td>5</td>\n",
       "      <td>10</td>\n",
       "      <td>11</td>\n",
       "      <td>0</td>\n",
       "      <td>graceless and immense   comfy and cool</td>\n",
       "      <td>my garden clogs make my feet look huge  and ev...</td>\n",
       "      <td>2002</td>\n",
       "      <td>3</td>\n",
       "    </tr>\n",
       "    <tr>\n",
       "      <th>4358815</th>\n",
       "      <td>Fox Men's Featherlite Shoe Lace-Up</td>\n",
       "      <td>4</td>\n",
       "      <td>1</td>\n",
       "      <td>6</td>\n",
       "      <td>0</td>\n",
       "      <td>get it all</td>\n",
       "      <td>if you are a fan of  quot extreme sports quot ...</td>\n",
       "      <td>2000</td>\n",
       "      <td>4</td>\n",
       "    </tr>\n",
       "  </tbody>\n",
       "</table>\n",
       "<p>3846073 rows × 9 columns</p>\n",
       "</div>"
      ],
      "text/plain": [
       "                                             product_title  star_rating  \\\n",
       "0        Minnetonka Men's Double Deerskin Softsole Mocc...            1   \n",
       "1                              Teva Men's Pajaro Flip-Flop            5   \n",
       "3                adidas Men's 10K Lifestyle Runner Sneaker            5   \n",
       "4        OverBling Sneakers for Men Casual Men Shoes Ge...            3   \n",
       "5                      MESSI 15.3 FG/AG SOCCER SHOES (8.5)            5   \n",
       "...                                                    ...          ...   \n",
       "4358810                     Women's Evette Mid-Shaft Boots            1   \n",
       "4358811                Women's Bree Suede Moc Snow Joggers            5   \n",
       "4358812                           Women's CanvasMule Shoes            5   \n",
       "4358813                    Birki's Super Birki Unisex Clog            5   \n",
       "4358815                 Fox Men's Featherlite Shoe Lace-Up            4   \n",
       "\n",
       "         helpful_votes  total_votes  verified_purchase  \\\n",
       "0                    0            0                  1   \n",
       "1                    0            0                  1   \n",
       "3                    0            6                  1   \n",
       "4                    0            0                  1   \n",
       "5                    1            1                  1   \n",
       "...                ...          ...                ...   \n",
       "4358810              0            0                  0   \n",
       "4358811              1            1                  0   \n",
       "4358812              0            0                  0   \n",
       "4358813             10           11                  0   \n",
       "4358815              1            6                  0   \n",
       "\n",
       "                                review_headline  \\\n",
       "0                                                 \n",
       "1                               super flip flop   \n",
       "3                                        badass   \n",
       "4                                   three stars   \n",
       "5                                    five stars   \n",
       "...                                         ...   \n",
       "4358810                            what a waste   \n",
       "4358811              you want it   you need it    \n",
       "4358812                                    cute   \n",
       "4358813  graceless and immense   comfy and cool   \n",
       "4358815                              get it all   \n",
       "\n",
       "                                               review_body  year  month  \n",
       "0        do not buy  really didn t start to wear them u...  2015      8  \n",
       "1            provides great cushion as well as archsupport  2015      8  \n",
       "3                                       getting what u see  2015      8  \n",
       "4                                                    small  2015      8  \n",
       "5        my 13 year old son loved these shoes excellent...  2015      8  \n",
       "...                                                    ...   ...    ...  \n",
       "4358810  i purchased this shoe because it looked good  ...  2002     10  \n",
       "4358811  this little shoe boot is so great if you re th...  2002     10  \n",
       "4358812  the backless mule is very comfortable   cute  ...  2002      9  \n",
       "4358813  my garden clogs make my feet look huge  and ev...  2002      3  \n",
       "4358815  if you are a fan of  quot extreme sports quot ...  2000      4  \n",
       "\n",
       "[3846073 rows x 9 columns]"
      ]
     },
     "execution_count": 80,
     "metadata": {},
     "output_type": "execute_result"
    }
   ],
   "source": [
    "with open('df.pkl', 'rb') as f:\n",
    "    df = pickle.load(f)\n",
    "df"
   ]
  },
  {
   "cell_type": "code",
   "execution_count": 81,
   "id": "edfaa1c6",
   "metadata": {
    "scrolled": true
   },
   "outputs": [
    {
     "data": {
      "text/html": [
       "<div>\n",
       "<style scoped>\n",
       "    .dataframe tbody tr th:only-of-type {\n",
       "        vertical-align: middle;\n",
       "    }\n",
       "\n",
       "    .dataframe tbody tr th {\n",
       "        vertical-align: top;\n",
       "    }\n",
       "\n",
       "    .dataframe thead th {\n",
       "        text-align: right;\n",
       "    }\n",
       "</style>\n",
       "<table border=\"1\" class=\"dataframe\">\n",
       "  <thead>\n",
       "    <tr style=\"text-align: right;\">\n",
       "      <th></th>\n",
       "      <th>product_title</th>\n",
       "      <th>star_rating</th>\n",
       "      <th>helpful_votes</th>\n",
       "      <th>total_votes</th>\n",
       "      <th>verified_purchase</th>\n",
       "      <th>review_headline</th>\n",
       "      <th>review_body</th>\n",
       "      <th>year</th>\n",
       "      <th>month</th>\n",
       "    </tr>\n",
       "  </thead>\n",
       "  <tbody>\n",
       "    <tr>\n",
       "      <th>0</th>\n",
       "      <td>Minnetonka Men's Double Deerskin Softsole Mocc...</td>\n",
       "      <td>0</td>\n",
       "      <td>0</td>\n",
       "      <td>0</td>\n",
       "      <td>1</td>\n",
       "      <td></td>\n",
       "      <td>do not buy  really didn t start to wear them u...</td>\n",
       "      <td>2015</td>\n",
       "      <td>8</td>\n",
       "    </tr>\n",
       "    <tr>\n",
       "      <th>1</th>\n",
       "      <td>Teva Men's Pajaro Flip-Flop</td>\n",
       "      <td>1</td>\n",
       "      <td>0</td>\n",
       "      <td>0</td>\n",
       "      <td>1</td>\n",
       "      <td>super flip flop</td>\n",
       "      <td>provides great cushion as well as archsupport</td>\n",
       "      <td>2015</td>\n",
       "      <td>8</td>\n",
       "    </tr>\n",
       "    <tr>\n",
       "      <th>3</th>\n",
       "      <td>adidas Men's 10K Lifestyle Runner Sneaker</td>\n",
       "      <td>1</td>\n",
       "      <td>0</td>\n",
       "      <td>6</td>\n",
       "      <td>1</td>\n",
       "      <td>badass</td>\n",
       "      <td>getting what u see</td>\n",
       "      <td>2015</td>\n",
       "      <td>8</td>\n",
       "    </tr>\n",
       "    <tr>\n",
       "      <th>4</th>\n",
       "      <td>OverBling Sneakers for Men Casual Men Shoes Ge...</td>\n",
       "      <td>0</td>\n",
       "      <td>0</td>\n",
       "      <td>0</td>\n",
       "      <td>1</td>\n",
       "      <td>three stars</td>\n",
       "      <td>small</td>\n",
       "      <td>2015</td>\n",
       "      <td>8</td>\n",
       "    </tr>\n",
       "    <tr>\n",
       "      <th>5</th>\n",
       "      <td>MESSI 15.3 FG/AG SOCCER SHOES (8.5)</td>\n",
       "      <td>1</td>\n",
       "      <td>1</td>\n",
       "      <td>1</td>\n",
       "      <td>1</td>\n",
       "      <td>five stars</td>\n",
       "      <td>my 13 year old son loved these shoes excellent...</td>\n",
       "      <td>2015</td>\n",
       "      <td>8</td>\n",
       "    </tr>\n",
       "    <tr>\n",
       "      <th>...</th>\n",
       "      <td>...</td>\n",
       "      <td>...</td>\n",
       "      <td>...</td>\n",
       "      <td>...</td>\n",
       "      <td>...</td>\n",
       "      <td>...</td>\n",
       "      <td>...</td>\n",
       "      <td>...</td>\n",
       "      <td>...</td>\n",
       "    </tr>\n",
       "    <tr>\n",
       "      <th>4358810</th>\n",
       "      <td>Women's Evette Mid-Shaft Boots</td>\n",
       "      <td>0</td>\n",
       "      <td>0</td>\n",
       "      <td>0</td>\n",
       "      <td>0</td>\n",
       "      <td>what a waste</td>\n",
       "      <td>i purchased this shoe because it looked good  ...</td>\n",
       "      <td>2002</td>\n",
       "      <td>10</td>\n",
       "    </tr>\n",
       "    <tr>\n",
       "      <th>4358811</th>\n",
       "      <td>Women's Bree Suede Moc Snow Joggers</td>\n",
       "      <td>1</td>\n",
       "      <td>1</td>\n",
       "      <td>1</td>\n",
       "      <td>0</td>\n",
       "      <td>you want it   you need it</td>\n",
       "      <td>this little shoe boot is so great if you re th...</td>\n",
       "      <td>2002</td>\n",
       "      <td>10</td>\n",
       "    </tr>\n",
       "    <tr>\n",
       "      <th>4358812</th>\n",
       "      <td>Women's CanvasMule Shoes</td>\n",
       "      <td>1</td>\n",
       "      <td>0</td>\n",
       "      <td>0</td>\n",
       "      <td>0</td>\n",
       "      <td>cute</td>\n",
       "      <td>the backless mule is very comfortable   cute  ...</td>\n",
       "      <td>2002</td>\n",
       "      <td>9</td>\n",
       "    </tr>\n",
       "    <tr>\n",
       "      <th>4358813</th>\n",
       "      <td>Birki's Super Birki Unisex Clog</td>\n",
       "      <td>1</td>\n",
       "      <td>10</td>\n",
       "      <td>11</td>\n",
       "      <td>0</td>\n",
       "      <td>graceless and immense   comfy and cool</td>\n",
       "      <td>my garden clogs make my feet look huge  and ev...</td>\n",
       "      <td>2002</td>\n",
       "      <td>3</td>\n",
       "    </tr>\n",
       "    <tr>\n",
       "      <th>4358815</th>\n",
       "      <td>Fox Men's Featherlite Shoe Lace-Up</td>\n",
       "      <td>0</td>\n",
       "      <td>1</td>\n",
       "      <td>6</td>\n",
       "      <td>0</td>\n",
       "      <td>get it all</td>\n",
       "      <td>if you are a fan of  quot extreme sports quot ...</td>\n",
       "      <td>2000</td>\n",
       "      <td>4</td>\n",
       "    </tr>\n",
       "  </tbody>\n",
       "</table>\n",
       "<p>3846073 rows × 9 columns</p>\n",
       "</div>"
      ],
      "text/plain": [
       "                                             product_title  star_rating  \\\n",
       "0        Minnetonka Men's Double Deerskin Softsole Mocc...            0   \n",
       "1                              Teva Men's Pajaro Flip-Flop            1   \n",
       "3                adidas Men's 10K Lifestyle Runner Sneaker            1   \n",
       "4        OverBling Sneakers for Men Casual Men Shoes Ge...            0   \n",
       "5                      MESSI 15.3 FG/AG SOCCER SHOES (8.5)            1   \n",
       "...                                                    ...          ...   \n",
       "4358810                     Women's Evette Mid-Shaft Boots            0   \n",
       "4358811                Women's Bree Suede Moc Snow Joggers            1   \n",
       "4358812                           Women's CanvasMule Shoes            1   \n",
       "4358813                    Birki's Super Birki Unisex Clog            1   \n",
       "4358815                 Fox Men's Featherlite Shoe Lace-Up            0   \n",
       "\n",
       "         helpful_votes  total_votes  verified_purchase  \\\n",
       "0                    0            0                  1   \n",
       "1                    0            0                  1   \n",
       "3                    0            6                  1   \n",
       "4                    0            0                  1   \n",
       "5                    1            1                  1   \n",
       "...                ...          ...                ...   \n",
       "4358810              0            0                  0   \n",
       "4358811              1            1                  0   \n",
       "4358812              0            0                  0   \n",
       "4358813             10           11                  0   \n",
       "4358815              1            6                  0   \n",
       "\n",
       "                                review_headline  \\\n",
       "0                                                 \n",
       "1                               super flip flop   \n",
       "3                                        badass   \n",
       "4                                   three stars   \n",
       "5                                    five stars   \n",
       "...                                         ...   \n",
       "4358810                            what a waste   \n",
       "4358811              you want it   you need it    \n",
       "4358812                                    cute   \n",
       "4358813  graceless and immense   comfy and cool   \n",
       "4358815                              get it all   \n",
       "\n",
       "                                               review_body  year  month  \n",
       "0        do not buy  really didn t start to wear them u...  2015      8  \n",
       "1            provides great cushion as well as archsupport  2015      8  \n",
       "3                                       getting what u see  2015      8  \n",
       "4                                                    small  2015      8  \n",
       "5        my 13 year old son loved these shoes excellent...  2015      8  \n",
       "...                                                    ...   ...    ...  \n",
       "4358810  i purchased this shoe because it looked good  ...  2002     10  \n",
       "4358811  this little shoe boot is so great if you re th...  2002     10  \n",
       "4358812  the backless mule is very comfortable   cute  ...  2002      9  \n",
       "4358813  my garden clogs make my feet look huge  and ev...  2002      3  \n",
       "4358815  if you are a fan of  quot extreme sports quot ...  2000      4  \n",
       "\n",
       "[3846073 rows x 9 columns]"
      ]
     },
     "execution_count": 81,
     "metadata": {},
     "output_type": "execute_result"
    }
   ],
   "source": [
    "with open('2ClassDf.pkl', 'rb') as f:\n",
    "    df2 = pickle.load(f)\n",
    "df2"
   ]
  },
  {
   "cell_type": "markdown",
   "id": "72cc4162",
   "metadata": {},
   "source": [
    "The first model that is to be performed is a logistic regression so multicollinearity should be checked."
   ]
  },
  {
   "cell_type": "code",
   "execution_count": 82,
   "id": "5524984a",
   "metadata": {},
   "outputs": [
    {
     "name": "stderr",
     "output_type": "stream",
     "text": [
      "/var/tmp/ipykernel_674056/1259888513.py:3: FutureWarning: The default value of numeric_only in DataFrame.corr is deprecated. In a future version, it will default to False. Select only valid columns or specify the value of numeric_only to silence this warning.\n",
      "  matrix = np.triu(df2.corr())\n",
      "/var/tmp/ipykernel_674056/1259888513.py:4: FutureWarning: The default value of numeric_only in DataFrame.corr is deprecated. In a future version, it will default to False. Select only valid columns or specify the value of numeric_only to silence this warning.\n",
      "  sns.heatmap(df2.corr(), annot=True, mask=matrix, cmap='coolwarm')\n"
     ]
    },
    {
     "data": {
      "image/png": "[encoded data removed]",
      "text/plain": [
       "<Figure size 2000x1000 with 2 Axes>"
      ]
     },
     "metadata": {},
     "output_type": "display_data"
    }
   ],
   "source": [
    "# Correlation of the variables in a heatmap\n",
    "plt.figure(figsize=(20, 10))\n",
    "matrix = np.triu(df2.corr())\n",
    "sns.heatmap(df2.corr(), annot=True, mask=matrix, cmap='coolwarm')\n",
    "plt.show()"
   ]
  },
  {
   "cell_type": "markdown",
   "id": "f0fd464c",
   "metadata": {},
   "source": [
    "`total_votes` and `helpful_votes` are highly correlated with each other so one of them will need to be dropped. In this case, it will be `total_votes` since helpful_votes seem more useful."
   ]
  },
  {
   "cell_type": "code",
   "execution_count": 83,
   "id": "8eeb933e",
   "metadata": {},
   "outputs": [
    {
     "data": {
      "text/html": [
       "<div>\n",
       "<style scoped>\n",
       "    .dataframe tbody tr th:only-of-type {\n",
       "        vertical-align: middle;\n",
       "    }\n",
       "\n",
       "    .dataframe tbody tr th {\n",
       "        vertical-align: top;\n",
       "    }\n",
       "\n",
       "    .dataframe thead th {\n",
       "        text-align: right;\n",
       "    }\n",
       "</style>\n",
       "<table border=\"1\" class=\"dataframe\">\n",
       "  <thead>\n",
       "    <tr style=\"text-align: right;\">\n",
       "      <th></th>\n",
       "      <th>product_title</th>\n",
       "      <th>star_rating</th>\n",
       "      <th>helpful_votes</th>\n",
       "      <th>total_votes</th>\n",
       "      <th>verified_purchase</th>\n",
       "      <th>review_headline</th>\n",
       "      <th>review_body</th>\n",
       "      <th>year</th>\n",
       "      <th>month</th>\n",
       "    </tr>\n",
       "  </thead>\n",
       "  <tbody>\n",
       "    <tr>\n",
       "      <th>0</th>\n",
       "      <td>Kickers Men's Jojo Lace-Up Sneaker</td>\n",
       "      <td>1</td>\n",
       "      <td>0</td>\n",
       "      <td>0</td>\n",
       "      <td>1</td>\n",
       "      <td>amazing and so nice one i like kickers but thi...</td>\n",
       "      <td>amazing and so nice one br   i like kickers bu...</td>\n",
       "      <td>2014</td>\n",
       "      <td>8</td>\n",
       "    </tr>\n",
       "    <tr>\n",
       "      <th>1</th>\n",
       "      <td>Madden Men's M-Gamer Boat Shoe</td>\n",
       "      <td>0</td>\n",
       "      <td>1</td>\n",
       "      <td>1</td>\n",
       "      <td>1</td>\n",
       "      <td>nice shoes</td>\n",
       "      <td>i always buy steve madden  always fits perfect...</td>\n",
       "      <td>2013</td>\n",
       "      <td>10</td>\n",
       "    </tr>\n",
       "    <tr>\n",
       "      <th>2</th>\n",
       "      <td>Teva Women's Kiru Outdoor Clog</td>\n",
       "      <td>1</td>\n",
       "      <td>0</td>\n",
       "      <td>0</td>\n",
       "      <td>1</td>\n",
       "      <td>my favorite shoes</td>\n",
       "      <td>i love the deep moss green color as it matches...</td>\n",
       "      <td>2014</td>\n",
       "      <td>1</td>\n",
       "    </tr>\n",
       "    <tr>\n",
       "      <th>3</th>\n",
       "      <td>Lamo Men's Moc Moccasin</td>\n",
       "      <td>0</td>\n",
       "      <td>10</td>\n",
       "      <td>10</td>\n",
       "      <td>1</td>\n",
       "      <td>quality not so sure</td>\n",
       "      <td>at first they were great  comfortable  soft  k...</td>\n",
       "      <td>2011</td>\n",
       "      <td>3</td>\n",
       "    </tr>\n",
       "    <tr>\n",
       "      <th>4</th>\n",
       "      <td>ECCO Men's Track IV Top Stitch High (Rust Leat...</td>\n",
       "      <td>1</td>\n",
       "      <td>0</td>\n",
       "      <td>0</td>\n",
       "      <td>1</td>\n",
       "      <td>outstanding</td>\n",
       "      <td>very comfortable right out of the box   good s...</td>\n",
       "      <td>2008</td>\n",
       "      <td>10</td>\n",
       "    </tr>\n",
       "    <tr>\n",
       "      <th>...</th>\n",
       "      <td>...</td>\n",
       "      <td>...</td>\n",
       "      <td>...</td>\n",
       "      <td>...</td>\n",
       "      <td>...</td>\n",
       "      <td>...</td>\n",
       "      <td>...</td>\n",
       "      <td>...</td>\n",
       "      <td>...</td>\n",
       "    </tr>\n",
       "    <tr>\n",
       "      <th>49995</th>\n",
       "      <td>Easy Spirit Women's Traveltime Mule</td>\n",
       "      <td>1</td>\n",
       "      <td>4</td>\n",
       "      <td>5</td>\n",
       "      <td>0</td>\n",
       "      <td>easy spirit mule</td>\n",
       "      <td>love my easy spirit mules  so comfortable and ...</td>\n",
       "      <td>2011</td>\n",
       "      <td>9</td>\n",
       "    </tr>\n",
       "    <tr>\n",
       "      <th>49996</th>\n",
       "      <td>Women's Clarks, Pause Majesty Ankle Boot</td>\n",
       "      <td>0</td>\n",
       "      <td>2</td>\n",
       "      <td>2</td>\n",
       "      <td>1</td>\n",
       "      <td>color lies</td>\n",
       "      <td>this is not the color that i received  the col...</td>\n",
       "      <td>2014</td>\n",
       "      <td>8</td>\n",
       "    </tr>\n",
       "    <tr>\n",
       "      <th>49997</th>\n",
       "      <td>adidas Men's Kanadia Trail 2 Trail Running Shoe</td>\n",
       "      <td>0</td>\n",
       "      <td>1</td>\n",
       "      <td>2</td>\n",
       "      <td>1</td>\n",
       "      <td>great shoes  but not as good as the 1st gen ka...</td>\n",
       "      <td>i love the kanadias by adidas  i have owned th...</td>\n",
       "      <td>2010</td>\n",
       "      <td>7</td>\n",
       "    </tr>\n",
       "    <tr>\n",
       "      <th>49998</th>\n",
       "      <td>Vasque Women's Inhaler Hiking Boot</td>\n",
       "      <td>1</td>\n",
       "      <td>2</td>\n",
       "      <td>2</td>\n",
       "      <td>1</td>\n",
       "      <td>great boots but order a half size up</td>\n",
       "      <td>had to exchange for a half size up from my usu...</td>\n",
       "      <td>2015</td>\n",
       "      <td>7</td>\n",
       "    </tr>\n",
       "    <tr>\n",
       "      <th>49999</th>\n",
       "      <td>Taryn Rose Women's Oma Dress Sandal</td>\n",
       "      <td>1</td>\n",
       "      <td>0</td>\n",
       "      <td>0</td>\n",
       "      <td>1</td>\n",
       "      <td>wonderful shoes   i love them</td>\n",
       "      <td>fit like a glove   so soft and straps fall exa...</td>\n",
       "      <td>2014</td>\n",
       "      <td>7</td>\n",
       "    </tr>\n",
       "  </tbody>\n",
       "</table>\n",
       "<p>50000 rows × 9 columns</p>\n",
       "</div>"
      ],
      "text/plain": [
       "                                           product_title  star_rating  \\\n",
       "0                     Kickers Men's Jojo Lace-Up Sneaker            1   \n",
       "1                         Madden Men's M-Gamer Boat Shoe            0   \n",
       "2                         Teva Women's Kiru Outdoor Clog            1   \n",
       "3                                Lamo Men's Moc Moccasin            0   \n",
       "4      ECCO Men's Track IV Top Stitch High (Rust Leat...            1   \n",
       "...                                                  ...          ...   \n",
       "49995                Easy Spirit Women's Traveltime Mule            1   \n",
       "49996           Women's Clarks, Pause Majesty Ankle Boot            0   \n",
       "49997    adidas Men's Kanadia Trail 2 Trail Running Shoe            0   \n",
       "49998                 Vasque Women's Inhaler Hiking Boot            1   \n",
       "49999                Taryn Rose Women's Oma Dress Sandal            1   \n",
       "\n",
       "       helpful_votes  total_votes  verified_purchase  \\\n",
       "0                  0            0                  1   \n",
       "1                  1            1                  1   \n",
       "2                  0            0                  1   \n",
       "3                 10           10                  1   \n",
       "4                  0            0                  1   \n",
       "...              ...          ...                ...   \n",
       "49995              4            5                  0   \n",
       "49996              2            2                  1   \n",
       "49997              1            2                  1   \n",
       "49998              2            2                  1   \n",
       "49999              0            0                  1   \n",
       "\n",
       "                                         review_headline  \\\n",
       "0      amazing and so nice one i like kickers but thi...   \n",
       "1                                             nice shoes   \n",
       "2                                      my favorite shoes   \n",
       "3                                    quality not so sure   \n",
       "4                                            outstanding   \n",
       "...                                                  ...   \n",
       "49995                                   easy spirit mule   \n",
       "49996                                         color lies   \n",
       "49997  great shoes  but not as good as the 1st gen ka...   \n",
       "49998               great boots but order a half size up   \n",
       "49999                     wonderful shoes   i love them    \n",
       "\n",
       "                                             review_body  year  month  \n",
       "0      amazing and so nice one br   i like kickers bu...  2014      8  \n",
       "1      i always buy steve madden  always fits perfect...  2013     10  \n",
       "2      i love the deep moss green color as it matches...  2014      1  \n",
       "3      at first they were great  comfortable  soft  k...  2011      3  \n",
       "4      very comfortable right out of the box   good s...  2008     10  \n",
       "...                                                  ...   ...    ...  \n",
       "49995  love my easy spirit mules  so comfortable and ...  2011      9  \n",
       "49996  this is not the color that i received  the col...  2014      8  \n",
       "49997  i love the kanadias by adidas  i have owned th...  2010      7  \n",
       "49998  had to exchange for a half size up from my usu...  2015      7  \n",
       "49999  fit like a glove   so soft and straps fall exa...  2014      7  \n",
       "\n",
       "[50000 rows x 9 columns]"
      ]
     },
     "execution_count": 83,
     "metadata": {},
     "output_type": "execute_result"
    }
   ],
   "source": [
    "sampled_df = df2.sample(50000, random_state=1).reset_index(drop=True)\n",
    "sampled_df"
   ]
  },
  {
   "cell_type": "code",
   "execution_count": 84,
   "id": "e0520c40",
   "metadata": {},
   "outputs": [],
   "source": [
    "sampled_df = sampled_df.drop(columns='total_votes')"
   ]
  },
  {
   "cell_type": "code",
   "execution_count": 85,
   "id": "7a9befc7",
   "metadata": {},
   "outputs": [
    {
     "data": {
      "image/png": "[encoded data removed]",
      "text/plain": [
       "<Figure size 1000x600 with 1 Axes>"
      ]
     },
     "metadata": {},
     "output_type": "display_data"
    }
   ],
   "source": [
    "# Sanity check\n",
    "figure = plt.figure(figsize=(10,6))\n",
    "sampled_df['star_rating'].value_counts(normalize=True).plot(kind='bar')\n",
    "plt.xlabel('Review Scores')\n",
    "plt.ylabel('Frequency')\n",
    "plt.title('Counts of Review Scores')\n",
    "plt.show()"
   ]
  },
  {
   "cell_type": "markdown",
   "id": "bf8169f2",
   "metadata": {},
   "source": [
    "After sampling, the classes distribution are still the same. Thus, the first model can be performed which is logistic regression."
   ]
  },
  {
   "cell_type": "markdown",
   "id": "1695ac4e",
   "metadata": {},
   "source": [
    "#### Train/Test Split"
   ]
  },
  {
   "cell_type": "code",
   "execution_count": 86,
   "id": "0132640b",
   "metadata": {},
   "outputs": [],
   "source": [
    "# import the library needed to split\n",
    "from sklearn.model_selection import train_test_split\n",
    "\n",
    "# assigning Reviewer_Score as target variable and everything else as X \n",
    "X_sample = sampled_df.drop(columns=['star_rating'])\n",
    "y_sample = sampled_df['star_rating']\n",
    "\n",
    "# splitting the data \n",
    "X_remainder_sample, X_test_sample, y_remainder_sample, y_test_sample = train_test_split(X_sample, y_sample, test_size=0.2, random_state=1, stratify=y_sample)"
   ]
  },
  {
   "cell_type": "code",
   "execution_count": 87,
   "id": "d2c14bf2",
   "metadata": {},
   "outputs": [],
   "source": [
    "# Creating a validation set\n",
    "X_train_sample, X_valid_sample, y_train_sample, y_valid_sample = train_test_split(X_remainder_sample, y_remainder_sample, test_size=0.3, random_state=1, stratify=y_remainder_sample)"
   ]
  },
  {
   "cell_type": "markdown",
   "id": "236a0786",
   "metadata": {},
   "source": [
    "#### Vectorization"
   ]
  },
  {
   "cell_type": "markdown",
   "id": "a1887005",
   "metadata": {},
   "source": [
    "The `review_body` and `review_headline` need to be vectorized so there is only numeric columns before modeling can be done. For vectorizing, bag of words will be used."
   ]
  },
  {
   "cell_type": "code",
   "execution_count": 88,
   "id": "d7aeb9c4",
   "metadata": {},
   "outputs": [],
   "source": [
    "X_train_review_sample = X_train_sample['review_body']\n",
    "X_valid_review_sample = X_valid_sample['review_body']\n",
    "X_test_review_sample = X_test_sample['review_body']\n",
    "\n",
    "# X_remainder will be needed for when cv is being done\n",
    "X_remainder_review_sample = X_remainder_sample['review_body']"
   ]
  },
  {
   "cell_type": "code",
   "execution_count": 89,
   "id": "eaab5071",
   "metadata": {},
   "outputs": [],
   "source": [
    "# sampled_df = sampled_df.drop(columns=['product_title', 'review_headline', 'review_body'])"
   ]
  },
  {
   "cell_type": "code",
   "execution_count": 90,
   "id": "8ab55b65",
   "metadata": {
    "scrolled": true
   },
   "outputs": [
    {
     "name": "stdout",
     "output_type": "stream",
     "text": [
      "CPU times: user 2.17 s, sys: 31 µs, total: 2.17 s\n",
      "Wall time: 2.16 s\n"
     ]
    }
   ],
   "source": [
    "%%time\n",
    "# Instantiate\n",
    "stemmer = PorterStemmer()\n",
    "\n",
    "bag_body = CountVectorizer(stop_words=\"english\", min_df=250)\n",
    "\n",
    "# Fitting \n",
    "bag_body.fit(X_train_review_sample)\n",
    "\n",
    "\n",
    "# Transform\n",
    "train_bag_sample = bag_body.transform(X_train_review_sample)\n",
    "valid_bag_sample = bag_body.transform(X_valid_review_sample)\n",
    "test_bag_sample = bag_body.transform(X_test_review_sample)"
   ]
  },
  {
   "cell_type": "code",
   "execution_count": 91,
   "id": "4020d76d",
   "metadata": {},
   "outputs": [
    {
     "name": "stdout",
     "output_type": "stream",
     "text": [
      "CPU times: user 2.45 s, sys: 3.79 ms, total: 2.46 s\n",
      "Wall time: 2.45 s\n"
     ]
    }
   ],
   "source": [
    "%%time\n",
    "# This one is for X_remainder when cv is not done \n",
    "\n",
    "### For X_remainder\n",
    "bag_body2 = CountVectorizer(stop_words=\"english\", min_df=250)\n",
    "bag_body2.fit(X_remainder_review_sample)\n",
    "remainder_bag_sample = bag_body2.transform(X_remainder_review_sample)\n",
    "test_bag_sample2 = bag_body2.transform(X_test_review_sample)"
   ]
  },
  {
   "cell_type": "code",
   "execution_count": 92,
   "id": "a1574cc1",
   "metadata": {},
   "outputs": [],
   "source": [
    "X_train_headline_sample = X_train_sample['review_headline']\n",
    "X_valid_headline_sample = X_valid_sample['review_headline']\n",
    "X_test_headline_sample = X_test_sample['review_headline']\n",
    "# X_remainder will be needed for when cv is being done\n",
    "X_remainder_headline_sample = X_remainder_sample['review_headline']"
   ]
  },
  {
   "cell_type": "code",
   "execution_count": 93,
   "id": "35343aa8",
   "metadata": {},
   "outputs": [
    {
     "name": "stdout",
     "output_type": "stream",
     "text": [
      "CPU times: user 449 ms, sys: 3.87 ms, total: 453 ms\n",
      "Wall time: 452 ms\n"
     ]
    }
   ],
   "source": [
    "%%time\n",
    "# Instantiate\n",
    "bag_headline = CountVectorizer(stop_words=\"english\", min_df=50)\n",
    "\n",
    "# Fitting \n",
    "bag_headline.fit(X_train_headline_sample)\n",
    "\n",
    "# Transform\n",
    "train_headline_sample = bag_headline.transform(X_train_headline_sample)\n",
    "valid_headline_sample = bag_headline.transform(X_valid_headline_sample)\n",
    "test_headline_sample = bag_headline.transform(X_test_headline_sample)"
   ]
  },
  {
   "cell_type": "code",
   "execution_count": 94,
   "id": "b26d39c2",
   "metadata": {},
   "outputs": [
    {
     "name": "stdout",
     "output_type": "stream",
     "text": [
      "CPU times: user 524 ms, sys: 0 ns, total: 524 ms\n",
      "Wall time: 523 ms\n"
     ]
    }
   ],
   "source": [
    "%%time\n",
    "# For X_remainder\n",
    "bag_headline2 = CountVectorizer(stop_words=\"english\", min_df=50)\n",
    "bag_headline2.fit(X_remainder_headline_sample)\n",
    "remainder_headline_sample = bag_headline2.transform(X_remainder_headline_sample)\n",
    "test_headline_sample2 = bag_headline2.transform(X_test_headline_sample)"
   ]
  },
  {
   "cell_type": "code",
   "execution_count": 95,
   "id": "eef6f6b2",
   "metadata": {},
   "outputs": [
    {
     "data": {
      "text/plain": [
       "array(['10', 'absolutely', 'adorable', 'amazing', 'amazon', 'arch',\n",
       "       'asics', 'awesome', 'bad', 'bag', 'balance', 'beautiful', 'best',\n",
       "       'better', 'big', 'bigger', 'bit', 'black', 'boot', 'boots',\n",
       "       'bought', 'box', 'brand', 'buy', 'casual', 'cheap', 'clarks',\n",
       "       'color', 'comfort', 'comfortable', 'comfy', 'cool', 'crocs',\n",
       "       'cute', 'daughter', 'day', 'design', 'did', 'didn', 'disappointed',\n",
       "       'does', 'don', 'durable', 'easy', 'em', 'excellent', 'expected',\n",
       "       'extremely', 'fantastic', 'far', 'fast', 'favorite', 'feel',\n",
       "       'feet', 'fine', 'fit', 'fits', 'flat', 'flip', 'flop', 'flops',\n",
       "       'foot', 'fun', 'gift', 'good', 'gorgeous', 'got', 'great', 'half',\n",
       "       'happy', 'hard', 'heel', 'high', 'husband', 'just', 'large',\n",
       "       'larger', 'leather', 'light', 'like', 'little', 'long', 'look',\n",
       "       'looking', 'looks', 'lot', 'love', 'loved', 'loves', 'men',\n",
       "       'money', 'narrow', 'need', 'new', 'nice', 'ok', 'okay', 'old',\n",
       "       'order', 'ordered', 'owned', 'pair', 'perfect', 'pleased', 'poor',\n",
       "       'pretty', 'price', 'product', 'purchase', 'quality', 'really',\n",
       "       'recommend', 'return', 'review', 'right', 'run', 'running', 'runs',\n",
       "       'sandal', 'sandals', 'satisfied', 'second', 'sexy', 'shoe',\n",
       "       'shoes', 'size', 'sizes', 'sizing', 'skechers', 'slip', 'slipper',\n",
       "       'slippers', 'small', 'smaller', 'sneaker', 'sneakers', 'soft',\n",
       "       'sole', 'son', 'star', 'stars', 'style', 'stylish', 'summer',\n",
       "       'super', 'support', 'tight', 'time', 'toe', 'true',\n",
       "       'uncomfortable', 'use', 'value', 've', 'walk', 'walking', 'wanted',\n",
       "       'warm', 'way', 'wear', 'wearing', 'wide', 'width', 'wish', 'women',\n",
       "       'wonderful', 'work', 'worn', 'worth', 'wrong', 'year'],\n",
       "      dtype=object)"
      ]
     },
     "execution_count": 95,
     "metadata": {},
     "output_type": "execute_result"
    }
   ],
   "source": [
    "bag_headline.get_feature_names_out()"
   ]
  },
  {
   "cell_type": "code",
   "execution_count": 96,
   "id": "4b3dfaa6",
   "metadata": {},
   "outputs": [],
   "source": [
    "# combining headline and bag counts\n",
    "train_count = sp.hstack([train_headline_sample, train_bag_sample])\n",
    "valid_count = sp.hstack([valid_headline_sample, valid_bag_sample])\n",
    "test_count = sp.hstack([test_headline_sample, test_bag_sample])"
   ]
  },
  {
   "cell_type": "code",
   "execution_count": 97,
   "id": "68b1b58b",
   "metadata": {},
   "outputs": [],
   "source": [
    "# combining headline and bag counts\n",
    "remainder_count = sp.hstack([remainder_headline_sample, remainder_bag_sample])\n",
    "test_count2 = sp.hstack([test_headline_sample2, test_bag_sample2])"
   ]
  },
  {
   "cell_type": "code",
   "execution_count": 98,
   "id": "1d1fdb9d",
   "metadata": {},
   "outputs": [
    {
     "data": {
      "text/plain": [
       "<28000x490 sparse matrix of type '<class 'numpy.int64'>'\n",
       "\twith 331790 stored elements in Compressed Sparse Row format>"
      ]
     },
     "execution_count": 98,
     "metadata": {},
     "output_type": "execute_result"
    }
   ],
   "source": [
    "train_count"
   ]
  },
  {
   "cell_type": "code",
   "execution_count": 99,
   "id": "19651220",
   "metadata": {},
   "outputs": [],
   "source": [
    "body_words = bag_body.get_feature_names_out()\n",
    "tagged_body_words = ['b_' + feature for feature in body_words]\n",
    "headline_words = bag_headline.get_feature_names_out()\n",
    "tagged_headline_words = ['h_' + feature for feature in headline_words]\n",
    "sample_vocab = tagged_headline_words + tagged_body_words"
   ]
  },
  {
   "cell_type": "code",
   "execution_count": 100,
   "id": "a53ca811",
   "metadata": {},
   "outputs": [],
   "source": [
    "# FOR X_REMAINDER\n",
    "body_words2 = bag_body2.get_feature_names_out()\n",
    "tagged_body_words2 = ['b_' + feature for feature in body_words2]\n",
    "headline_words2 = bag_headline2.get_feature_names_out()\n",
    "tagged_headline_words2 = ['h_' + feature for feature in headline_words2]\n",
    "sample_vocab2 = tagged_headline_words2 + tagged_body_words2"
   ]
  },
  {
   "cell_type": "code",
   "execution_count": 101,
   "id": "94a2e509",
   "metadata": {},
   "outputs": [
    {
     "data": {
      "text/plain": [
       "490"
      ]
     },
     "execution_count": 101,
     "metadata": {},
     "output_type": "execute_result"
    }
   ],
   "source": [
    "len(sample_vocab)"
   ]
  },
  {
   "cell_type": "code",
   "execution_count": 102,
   "id": "1736ae61",
   "metadata": {},
   "outputs": [
    {
     "data": {
      "text/plain": [
       "<28000x490 sparse matrix of type '<class 'numpy.int64'>'\n",
       "\twith 331790 stored elements in Compressed Sparse Row format>"
      ]
     },
     "execution_count": 102,
     "metadata": {},
     "output_type": "execute_result"
    }
   ],
   "source": [
    "train_count"
   ]
  },
  {
   "cell_type": "code",
   "execution_count": 103,
   "id": "3b221231",
   "metadata": {},
   "outputs": [],
   "source": [
    "train_df = pd.DataFrame(train_count.toarray(), columns=sample_vocab)\n",
    "valid_df = pd.DataFrame(valid_count.toarray(), columns=sample_vocab)\n",
    "test_df = pd.DataFrame(test_count.toarray(), columns=sample_vocab)"
   ]
  },
  {
   "cell_type": "code",
   "execution_count": 104,
   "id": "76c96259",
   "metadata": {},
   "outputs": [],
   "source": [
    "# For X_remainder\n",
    "remainder_df = pd.DataFrame(remainder_count.toarray(), columns=sample_vocab2)\n",
    "test_df2 = pd.DataFrame(test_count2.toarray(), columns=sample_vocab2)"
   ]
  },
  {
   "cell_type": "code",
   "execution_count": 105,
   "id": "88beeef8",
   "metadata": {},
   "outputs": [],
   "source": [
    "X_train_sample = X_train_sample.reset_index(drop=True).drop(columns=['product_title', 'review_headline', 'review_body'])\n",
    "X_valid_sample = X_valid_sample.reset_index(drop=True).drop(columns=['product_title', 'review_headline', 'review_body'])\n",
    "X_test_sample = X_test_sample.reset_index(drop=True).drop(columns=['product_title', 'review_headline', 'review_body'])"
   ]
  },
  {
   "cell_type": "code",
   "execution_count": 106,
   "id": "0e663541",
   "metadata": {},
   "outputs": [],
   "source": [
    "# For X_remainder\n",
    "X_remainder_sample = X_remainder_sample.reset_index(drop=True).drop(columns=['product_title', 'review_headline', 'review_body'])"
   ]
  },
  {
   "cell_type": "code",
   "execution_count": 107,
   "id": "2dafc68b",
   "metadata": {},
   "outputs": [],
   "source": [
    "combined_train = pd.concat([X_train_sample, train_df], axis=1)\n",
    "combined_valid = pd.concat([X_valid_sample, valid_df], axis=1)\n",
    "combined_test = pd.concat([X_test_sample, test_df], axis=1)"
   ]
  },
  {
   "cell_type": "code",
   "execution_count": 108,
   "id": "5e9e9b3a",
   "metadata": {},
   "outputs": [],
   "source": [
    "# For X_remainder\n",
    "combined_remainder = pd.concat([X_remainder_sample, remainder_df], axis=1)\n",
    "combined_test2 = pd.concat([X_test_sample, test_df2], axis=1)"
   ]
  },
  {
   "cell_type": "code",
   "execution_count": 109,
   "id": "01c3ad93",
   "metadata": {},
   "outputs": [
    {
     "data": {
      "text/html": [
       "<div>\n",
       "<style scoped>\n",
       "    .dataframe tbody tr th:only-of-type {\n",
       "        vertical-align: middle;\n",
       "    }\n",
       "\n",
       "    .dataframe tbody tr th {\n",
       "        vertical-align: top;\n",
       "    }\n",
       "\n",
       "    .dataframe thead th {\n",
       "        text-align: right;\n",
       "    }\n",
       "</style>\n",
       "<table border=\"1\" class=\"dataframe\">\n",
       "  <thead>\n",
       "    <tr style=\"text-align: right;\">\n",
       "      <th></th>\n",
       "      <th>helpful_votes</th>\n",
       "      <th>verified_purchase</th>\n",
       "      <th>year</th>\n",
       "      <th>month</th>\n",
       "      <th>h_10</th>\n",
       "      <th>h_absolutely</th>\n",
       "      <th>h_adorable</th>\n",
       "      <th>h_amazing</th>\n",
       "      <th>h_amazon</th>\n",
       "      <th>h_ankle</th>\n",
       "      <th>...</th>\n",
       "      <th>b_worked</th>\n",
       "      <th>b_working</th>\n",
       "      <th>b_works</th>\n",
       "      <th>b_worn</th>\n",
       "      <th>b_worth</th>\n",
       "      <th>b_wouldn</th>\n",
       "      <th>b_wrong</th>\n",
       "      <th>b_year</th>\n",
       "      <th>b_years</th>\n",
       "      <th>b_zipper</th>\n",
       "    </tr>\n",
       "  </thead>\n",
       "  <tbody>\n",
       "    <tr>\n",
       "      <th>0</th>\n",
       "      <td>0</td>\n",
       "      <td>1</td>\n",
       "      <td>2010</td>\n",
       "      <td>8</td>\n",
       "      <td>0</td>\n",
       "      <td>0</td>\n",
       "      <td>0</td>\n",
       "      <td>0</td>\n",
       "      <td>0</td>\n",
       "      <td>0</td>\n",
       "      <td>...</td>\n",
       "      <td>0</td>\n",
       "      <td>0</td>\n",
       "      <td>0</td>\n",
       "      <td>0</td>\n",
       "      <td>2</td>\n",
       "      <td>0</td>\n",
       "      <td>0</td>\n",
       "      <td>0</td>\n",
       "      <td>0</td>\n",
       "      <td>0</td>\n",
       "    </tr>\n",
       "    <tr>\n",
       "      <th>1</th>\n",
       "      <td>0</td>\n",
       "      <td>1</td>\n",
       "      <td>2011</td>\n",
       "      <td>8</td>\n",
       "      <td>0</td>\n",
       "      <td>0</td>\n",
       "      <td>0</td>\n",
       "      <td>0</td>\n",
       "      <td>0</td>\n",
       "      <td>0</td>\n",
       "      <td>...</td>\n",
       "      <td>0</td>\n",
       "      <td>0</td>\n",
       "      <td>0</td>\n",
       "      <td>0</td>\n",
       "      <td>0</td>\n",
       "      <td>0</td>\n",
       "      <td>0</td>\n",
       "      <td>0</td>\n",
       "      <td>0</td>\n",
       "      <td>0</td>\n",
       "    </tr>\n",
       "    <tr>\n",
       "      <th>2</th>\n",
       "      <td>0</td>\n",
       "      <td>1</td>\n",
       "      <td>2013</td>\n",
       "      <td>5</td>\n",
       "      <td>0</td>\n",
       "      <td>0</td>\n",
       "      <td>0</td>\n",
       "      <td>0</td>\n",
       "      <td>0</td>\n",
       "      <td>0</td>\n",
       "      <td>...</td>\n",
       "      <td>0</td>\n",
       "      <td>0</td>\n",
       "      <td>0</td>\n",
       "      <td>0</td>\n",
       "      <td>0</td>\n",
       "      <td>0</td>\n",
       "      <td>0</td>\n",
       "      <td>0</td>\n",
       "      <td>0</td>\n",
       "      <td>0</td>\n",
       "    </tr>\n",
       "    <tr>\n",
       "      <th>3</th>\n",
       "      <td>0</td>\n",
       "      <td>1</td>\n",
       "      <td>2013</td>\n",
       "      <td>12</td>\n",
       "      <td>0</td>\n",
       "      <td>0</td>\n",
       "      <td>0</td>\n",
       "      <td>0</td>\n",
       "      <td>0</td>\n",
       "      <td>0</td>\n",
       "      <td>...</td>\n",
       "      <td>0</td>\n",
       "      <td>0</td>\n",
       "      <td>0</td>\n",
       "      <td>0</td>\n",
       "      <td>0</td>\n",
       "      <td>0</td>\n",
       "      <td>0</td>\n",
       "      <td>0</td>\n",
       "      <td>0</td>\n",
       "      <td>0</td>\n",
       "    </tr>\n",
       "    <tr>\n",
       "      <th>4</th>\n",
       "      <td>0</td>\n",
       "      <td>0</td>\n",
       "      <td>2015</td>\n",
       "      <td>8</td>\n",
       "      <td>0</td>\n",
       "      <td>0</td>\n",
       "      <td>0</td>\n",
       "      <td>0</td>\n",
       "      <td>0</td>\n",
       "      <td>0</td>\n",
       "      <td>...</td>\n",
       "      <td>0</td>\n",
       "      <td>0</td>\n",
       "      <td>0</td>\n",
       "      <td>0</td>\n",
       "      <td>0</td>\n",
       "      <td>0</td>\n",
       "      <td>0</td>\n",
       "      <td>1</td>\n",
       "      <td>0</td>\n",
       "      <td>0</td>\n",
       "    </tr>\n",
       "    <tr>\n",
       "      <th>...</th>\n",
       "      <td>...</td>\n",
       "      <td>...</td>\n",
       "      <td>...</td>\n",
       "      <td>...</td>\n",
       "      <td>...</td>\n",
       "      <td>...</td>\n",
       "      <td>...</td>\n",
       "      <td>...</td>\n",
       "      <td>...</td>\n",
       "      <td>...</td>\n",
       "      <td>...</td>\n",
       "      <td>...</td>\n",
       "      <td>...</td>\n",
       "      <td>...</td>\n",
       "      <td>...</td>\n",
       "      <td>...</td>\n",
       "      <td>...</td>\n",
       "      <td>...</td>\n",
       "      <td>...</td>\n",
       "      <td>...</td>\n",
       "      <td>...</td>\n",
       "    </tr>\n",
       "    <tr>\n",
       "      <th>9995</th>\n",
       "      <td>0</td>\n",
       "      <td>1</td>\n",
       "      <td>2014</td>\n",
       "      <td>12</td>\n",
       "      <td>0</td>\n",
       "      <td>0</td>\n",
       "      <td>0</td>\n",
       "      <td>0</td>\n",
       "      <td>0</td>\n",
       "      <td>0</td>\n",
       "      <td>...</td>\n",
       "      <td>0</td>\n",
       "      <td>0</td>\n",
       "      <td>0</td>\n",
       "      <td>0</td>\n",
       "      <td>0</td>\n",
       "      <td>0</td>\n",
       "      <td>0</td>\n",
       "      <td>0</td>\n",
       "      <td>0</td>\n",
       "      <td>0</td>\n",
       "    </tr>\n",
       "    <tr>\n",
       "      <th>9996</th>\n",
       "      <td>1</td>\n",
       "      <td>1</td>\n",
       "      <td>2015</td>\n",
       "      <td>2</td>\n",
       "      <td>0</td>\n",
       "      <td>0</td>\n",
       "      <td>0</td>\n",
       "      <td>0</td>\n",
       "      <td>0</td>\n",
       "      <td>0</td>\n",
       "      <td>...</td>\n",
       "      <td>0</td>\n",
       "      <td>0</td>\n",
       "      <td>0</td>\n",
       "      <td>0</td>\n",
       "      <td>0</td>\n",
       "      <td>0</td>\n",
       "      <td>0</td>\n",
       "      <td>0</td>\n",
       "      <td>0</td>\n",
       "      <td>1</td>\n",
       "    </tr>\n",
       "    <tr>\n",
       "      <th>9997</th>\n",
       "      <td>0</td>\n",
       "      <td>1</td>\n",
       "      <td>2015</td>\n",
       "      <td>6</td>\n",
       "      <td>0</td>\n",
       "      <td>0</td>\n",
       "      <td>0</td>\n",
       "      <td>0</td>\n",
       "      <td>0</td>\n",
       "      <td>0</td>\n",
       "      <td>...</td>\n",
       "      <td>0</td>\n",
       "      <td>0</td>\n",
       "      <td>0</td>\n",
       "      <td>0</td>\n",
       "      <td>0</td>\n",
       "      <td>0</td>\n",
       "      <td>0</td>\n",
       "      <td>0</td>\n",
       "      <td>0</td>\n",
       "      <td>0</td>\n",
       "    </tr>\n",
       "    <tr>\n",
       "      <th>9998</th>\n",
       "      <td>0</td>\n",
       "      <td>1</td>\n",
       "      <td>2008</td>\n",
       "      <td>8</td>\n",
       "      <td>0</td>\n",
       "      <td>0</td>\n",
       "      <td>0</td>\n",
       "      <td>0</td>\n",
       "      <td>0</td>\n",
       "      <td>0</td>\n",
       "      <td>...</td>\n",
       "      <td>0</td>\n",
       "      <td>0</td>\n",
       "      <td>0</td>\n",
       "      <td>0</td>\n",
       "      <td>0</td>\n",
       "      <td>0</td>\n",
       "      <td>0</td>\n",
       "      <td>0</td>\n",
       "      <td>0</td>\n",
       "      <td>0</td>\n",
       "    </tr>\n",
       "    <tr>\n",
       "      <th>9999</th>\n",
       "      <td>0</td>\n",
       "      <td>1</td>\n",
       "      <td>2015</td>\n",
       "      <td>5</td>\n",
       "      <td>0</td>\n",
       "      <td>0</td>\n",
       "      <td>0</td>\n",
       "      <td>0</td>\n",
       "      <td>0</td>\n",
       "      <td>0</td>\n",
       "      <td>...</td>\n",
       "      <td>0</td>\n",
       "      <td>0</td>\n",
       "      <td>0</td>\n",
       "      <td>1</td>\n",
       "      <td>0</td>\n",
       "      <td>0</td>\n",
       "      <td>0</td>\n",
       "      <td>0</td>\n",
       "      <td>0</td>\n",
       "      <td>0</td>\n",
       "    </tr>\n",
       "  </tbody>\n",
       "</table>\n",
       "<p>10000 rows × 657 columns</p>\n",
       "</div>"
      ],
      "text/plain": [
       "      helpful_votes  verified_purchase  year  month  h_10  h_absolutely  \\\n",
       "0                 0                  1  2010      8     0             0   \n",
       "1                 0                  1  2011      8     0             0   \n",
       "2                 0                  1  2013      5     0             0   \n",
       "3                 0                  1  2013     12     0             0   \n",
       "4                 0                  0  2015      8     0             0   \n",
       "...             ...                ...   ...    ...   ...           ...   \n",
       "9995              0                  1  2014     12     0             0   \n",
       "9996              1                  1  2015      2     0             0   \n",
       "9997              0                  1  2015      6     0             0   \n",
       "9998              0                  1  2008      8     0             0   \n",
       "9999              0                  1  2015      5     0             0   \n",
       "\n",
       "      h_adorable  h_amazing  h_amazon  h_ankle  ...  b_worked  b_working  \\\n",
       "0              0          0         0        0  ...         0          0   \n",
       "1              0          0         0        0  ...         0          0   \n",
       "2              0          0         0        0  ...         0          0   \n",
       "3              0          0         0        0  ...         0          0   \n",
       "4              0          0         0        0  ...         0          0   \n",
       "...          ...        ...       ...      ...  ...       ...        ...   \n",
       "9995           0          0         0        0  ...         0          0   \n",
       "9996           0          0         0        0  ...         0          0   \n",
       "9997           0          0         0        0  ...         0          0   \n",
       "9998           0          0         0        0  ...         0          0   \n",
       "9999           0          0         0        0  ...         0          0   \n",
       "\n",
       "      b_works  b_worn  b_worth  b_wouldn  b_wrong  b_year  b_years  b_zipper  \n",
       "0           0       0        2         0        0       0        0         0  \n",
       "1           0       0        0         0        0       0        0         0  \n",
       "2           0       0        0         0        0       0        0         0  \n",
       "3           0       0        0         0        0       0        0         0  \n",
       "4           0       0        0         0        0       1        0         0  \n",
       "...       ...     ...      ...       ...      ...     ...      ...       ...  \n",
       "9995        0       0        0         0        0       0        0         0  \n",
       "9996        0       0        0         0        0       0        0         1  \n",
       "9997        0       0        0         0        0       0        0         0  \n",
       "9998        0       0        0         0        0       0        0         0  \n",
       "9999        0       1        0         0        0       0        0         0  \n",
       "\n",
       "[10000 rows x 657 columns]"
      ]
     },
     "execution_count": 109,
     "metadata": {},
     "output_type": "execute_result"
    }
   ],
   "source": [
    "combined_test2"
   ]
  },
  {
   "cell_type": "code",
   "execution_count": 110,
   "id": "08a71af5",
   "metadata": {},
   "outputs": [],
   "source": [
    "# Instantiate\n",
    "ss = StandardScaler()\n",
    "\n",
    "# Fit and tranform\n",
    "X_train_scaled = ss.fit_transform(combined_train)\n",
    "X_valid_scaled = ss.transform(combined_valid)\n",
    "X_test_scaled = ss.transform(combined_test)"
   ]
  },
  {
   "cell_type": "code",
   "execution_count": 111,
   "id": "9829a783",
   "metadata": {},
   "outputs": [],
   "source": [
    "# For X_remainder\n",
    "ss2 = StandardScaler()\n",
    "X_remainder_scaled = ss.fit_transform(combined_remainder)\n",
    "X_test_scaled2 = ss.transform(combined_test2)"
   ]
  },
  {
   "cell_type": "markdown",
   "id": "abf19bb1",
   "metadata": {},
   "source": [
    "#### Logistic Regression"
   ]
  },
  {
   "cell_type": "code",
   "execution_count": 112,
   "id": "ba55963a",
   "metadata": {},
   "outputs": [
    {
     "data": {
      "image/png": "[encoded data removed]",
      "text/plain": [
       "<Figure size 640x480 with 1 Axes>"
      ]
     },
     "metadata": {},
     "output_type": "display_data"
    },
    {
     "name": "stdout",
     "output_type": "stream",
     "text": [
      "The best model has C =  0.001\n"
     ]
    }
   ],
   "source": [
    "scores = []\n",
    "C_range = np.array([.00000001,.0000001,.000001,.00001,.0001,.001,.1,\n",
    "                1,10,100,1000,10000,100000,1000000,10000000,100000000,1000000000])\n",
    "\n",
    "#Do some cross validation\n",
    "for c in C_range:\n",
    "    log = LogisticRegression(C=c,random_state=1)\n",
    "    log.fit(X_train_scaled, y_train_sample)\n",
    "    scores.append(log.score(X_valid_scaled, y_valid_sample))\n",
    "    \n",
    "plt.figure()\n",
    "plt.plot(C_range, scores, label=\"Cross Validation Score\",marker='.')\n",
    "plt.legend()\n",
    "plt.xscale(\"log\")\n",
    "plt.xlabel('Regularization Parameter: C')\n",
    "plt.ylabel('Cross Validation Score')\n",
    "plt.grid()\n",
    "plt.show();\n",
    "\n",
    "which_max = np.array(scores).argmax()\n",
    "\n",
    "print(\"The best model has C = \",C_range[which_max])"
   ]
  },
  {
   "cell_type": "code",
   "execution_count": 113,
   "id": "30a9063f",
   "metadata": {},
   "outputs": [
    {
     "data": {
      "text/plain": [
       "0.7788"
      ]
     },
     "execution_count": 113,
     "metadata": {},
     "output_type": "execute_result"
    }
   ],
   "source": [
    "log = LogisticRegression(C=1,random_state=1)\n",
    "log.fit(X_train_scaled, y_train_sample)\n",
    "log.score(X_test_scaled, y_test_sample)"
   ]
  },
  {
   "cell_type": "markdown",
   "id": "fe68c0ee",
   "metadata": {},
   "source": [
    "Test accuracy with best hyperparameters is 77.92%. Confusion matrix and classification report should be looked at next to see other metrics.  "
   ]
  },
  {
   "cell_type": "code",
   "execution_count": 114,
   "id": "2663707f",
   "metadata": {},
   "outputs": [
    {
     "data": {
      "image/png": "[encoded data removed]",
      "text/plain": [
       "<Figure size 640x480 with 2 Axes>"
      ]
     },
     "metadata": {},
     "output_type": "display_data"
    }
   ],
   "source": [
    "ConfusionMatrixDisplay.from_estimator(log, X_test_scaled, y_test_sample);"
   ]
  },
  {
   "cell_type": "code",
   "execution_count": 115,
   "id": "34323bff",
   "metadata": {},
   "outputs": [
    {
     "data": {
      "text/html": [
       "<div>\n",
       "<style scoped>\n",
       "    .dataframe tbody tr th:only-of-type {\n",
       "        vertical-align: middle;\n",
       "    }\n",
       "\n",
       "    .dataframe tbody tr th {\n",
       "        vertical-align: top;\n",
       "    }\n",
       "\n",
       "    .dataframe thead th {\n",
       "        text-align: right;\n",
       "    }\n",
       "</style>\n",
       "<table border=\"1\" class=\"dataframe\">\n",
       "  <thead>\n",
       "    <tr style=\"text-align: right;\">\n",
       "      <th></th>\n",
       "      <th>Predicted 0</th>\n",
       "      <th>Predicted 1</th>\n",
       "    </tr>\n",
       "  </thead>\n",
       "  <tbody>\n",
       "    <tr>\n",
       "      <th>True 0</th>\n",
       "      <td>2451</td>\n",
       "      <td>1480</td>\n",
       "    </tr>\n",
       "    <tr>\n",
       "      <th>True 1</th>\n",
       "      <td>732</td>\n",
       "      <td>5337</td>\n",
       "    </tr>\n",
       "  </tbody>\n",
       "</table>\n",
       "</div>"
      ],
      "text/plain": [
       "        Predicted 0  Predicted 1\n",
       "True 0         2451         1480\n",
       "True 1          732         5337"
      ]
     },
     "metadata": {},
     "output_type": "display_data"
    },
    {
     "name": "stdout",
     "output_type": "stream",
     "text": [
      "              precision    recall  f1-score   support\n",
      "\n",
      "           0       0.77      0.62      0.69      3931\n",
      "           1       0.78      0.88      0.83      6069\n",
      "\n",
      "    accuracy                           0.78     10000\n",
      "   macro avg       0.78      0.75      0.76     10000\n",
      "weighted avg       0.78      0.78      0.77     10000\n",
      "\n"
     ]
    }
   ],
   "source": [
    "# Get rating predictions\n",
    "y_pred = log.predict(X_test_scaled)\n",
    "\n",
    "# Generate confusion matrix\n",
    "cf_matrix = confusion_matrix(y_test_sample, y_pred)\n",
    "\n",
    "# label rows and columns\n",
    "cf_df = pd.DataFrame(\n",
    "    cf_matrix, \n",
    "    columns=[\"Predicted 0\", \"Predicted 1\"],\n",
    "    index=[\"True 0\", \"True 1\"]\n",
    ")\n",
    "display(cf_df)\n",
    "\n",
    "print(classification_report(y_test_sample, y_pred))"
   ]
  },
  {
   "cell_type": "markdown",
   "id": "a95c526f",
   "metadata": {},
   "source": [
    "Looking at the classification report, the class imbalance seems to affecting the predictions since recall is 62% so 38% of actual review is being predicted as 1 whereas the recall for 1 is 88%. A difference of 16%."
   ]
  },
  {
   "cell_type": "markdown",
   "id": "3c95ed5d",
   "metadata": {},
   "source": [
    "Looks like the best parameter for C for `lbfgs` was with C=0.001, with a test score accuracy of 77.88%."
   ]
  },
  {
   "cell_type": "code",
   "execution_count": 116,
   "id": "9033be50",
   "metadata": {},
   "outputs": [
    {
     "data": {
      "image/png": "[encoded data removed]",
      "text/plain": [
       "<Figure size 640x480 with 1 Axes>"
      ]
     },
     "metadata": {},
     "output_type": "display_data"
    },
    {
     "name": "stdout",
     "output_type": "stream",
     "text": [
      "The best model has C =  0.001\n"
     ]
    }
   ],
   "source": [
    "scores = []\n",
    "C_range = np.array([.00000001,.0000001,.000001,.00001,.0001,.001,.1,\n",
    "                1,10,100,1000,10000,100000,1000000,10000000,100000000,1000000000])\n",
    "\n",
    "#Do some cross validation\n",
    "for c in C_range:\n",
    "    log = LogisticRegression(solver='liblinear', C=c, random_state=1)\n",
    "    log.fit(X_train_scaled, y_train_sample)\n",
    "    scores.append(log.score(X_valid_scaled, y_valid_sample))\n",
    "    \n",
    "plt.figure()\n",
    "plt.plot(C_range, scores, label=\"Cross Validation Score\",marker='.')\n",
    "plt.legend()\n",
    "plt.xscale(\"log\")\n",
    "plt.xlabel('Regularization Parameter: C')\n",
    "plt.ylabel('Cross Validation Score')\n",
    "plt.grid()\n",
    "plt.show();\n",
    "\n",
    "which_max = np.array(scores).argmax()\n",
    "\n",
    "print(\"The best model has C = \",C_range[which_max])"
   ]
  },
  {
   "cell_type": "code",
   "execution_count": 117,
   "id": "11aa6c98",
   "metadata": {},
   "outputs": [
    {
     "data": {
      "text/plain": [
       "0.7791"
      ]
     },
     "execution_count": 117,
     "metadata": {},
     "output_type": "execute_result"
    }
   ],
   "source": [
    "log2 = LogisticRegression(solver='liblinear', C=0.001, random_state=1)\n",
    "log2.fit(X_train_scaled, y_train_sample)\n",
    "log2.score(X_test_scaled, y_test_sample)"
   ]
  },
  {
   "cell_type": "markdown",
   "id": "cd17d7f3",
   "metadata": {},
   "source": [
    "A solver of `liblinear` with C=0.001 had a test score of 77.91%, an increase of 0.03% compared to the previous solver. "
   ]
  },
  {
   "cell_type": "markdown",
   "id": "0783c08b",
   "metadata": {},
   "source": [
    "Test accuracy with best hyperparameters is 77.91%. Confusion matrix and classification report should be looked at next to see other metrics.  "
   ]
  },
  {
   "cell_type": "code",
   "execution_count": 118,
   "id": "8cce77ca",
   "metadata": {},
   "outputs": [
    {
     "data": {
      "image/png": "[encoded data removed]",
      "text/plain": [
       "<Figure size 640x480 with 2 Axes>"
      ]
     },
     "metadata": {},
     "output_type": "display_data"
    }
   ],
   "source": [
    "ConfusionMatrixDisplay.from_estimator(log2, X_test_scaled, y_test_sample);"
   ]
  },
  {
   "cell_type": "code",
   "execution_count": 119,
   "id": "716765f1",
   "metadata": {},
   "outputs": [
    {
     "data": {
      "text/html": [
       "<div>\n",
       "<style scoped>\n",
       "    .dataframe tbody tr th:only-of-type {\n",
       "        vertical-align: middle;\n",
       "    }\n",
       "\n",
       "    .dataframe tbody tr th {\n",
       "        vertical-align: top;\n",
       "    }\n",
       "\n",
       "    .dataframe thead th {\n",
       "        text-align: right;\n",
       "    }\n",
       "</style>\n",
       "<table border=\"1\" class=\"dataframe\">\n",
       "  <thead>\n",
       "    <tr style=\"text-align: right;\">\n",
       "      <th></th>\n",
       "      <th>Predicted 0</th>\n",
       "      <th>Predicted 1</th>\n",
       "    </tr>\n",
       "  </thead>\n",
       "  <tbody>\n",
       "    <tr>\n",
       "      <th>True 0</th>\n",
       "      <td>2424</td>\n",
       "      <td>1507</td>\n",
       "    </tr>\n",
       "    <tr>\n",
       "      <th>True 1</th>\n",
       "      <td>702</td>\n",
       "      <td>5367</td>\n",
       "    </tr>\n",
       "  </tbody>\n",
       "</table>\n",
       "</div>"
      ],
      "text/plain": [
       "        Predicted 0  Predicted 1\n",
       "True 0         2424         1507\n",
       "True 1          702         5367"
      ]
     },
     "metadata": {},
     "output_type": "display_data"
    },
    {
     "name": "stdout",
     "output_type": "stream",
     "text": [
      "              precision    recall  f1-score   support\n",
      "\n",
      "           0       0.78      0.62      0.69      3931\n",
      "           1       0.78      0.88      0.83      6069\n",
      "\n",
      "    accuracy                           0.78     10000\n",
      "   macro avg       0.78      0.75      0.76     10000\n",
      "weighted avg       0.78      0.78      0.77     10000\n",
      "\n"
     ]
    }
   ],
   "source": [
    "# Get rating predictions\n",
    "y_pred = log2.predict(X_test_scaled)\n",
    "\n",
    "# Generate confusion matrix\n",
    "cf_matrix = confusion_matrix(y_test_sample, y_pred)\n",
    "\n",
    "# label rows and columns\n",
    "cf_df = pd.DataFrame(\n",
    "    cf_matrix, \n",
    "    columns=[\"Predicted 0\", \"Predicted 1\"],\n",
    "    index=[\"True 0\", \"True 1\"]\n",
    ")\n",
    "display(cf_df)\n",
    "\n",
    "print(classification_report(y_test_sample, y_pred))"
   ]
  },
  {
   "cell_type": "markdown",
   "id": "15877708",
   "metadata": {},
   "source": [
    "The results are similar to the `lbfgs` model with a 1% difference in precision for 0. The rest seems to be the same."
   ]
  },
  {
   "cell_type": "code",
   "execution_count": 120,
   "id": "a52f8ddd",
   "metadata": {},
   "outputs": [
    {
     "data": {
      "image/png": "[encoded data removed]",
      "text/plain": [
       "<Figure size 640x480 with 1 Axes>"
      ]
     },
     "metadata": {},
     "output_type": "display_data"
    },
    {
     "name": "stdout",
     "output_type": "stream",
     "text": [
      "The best model has C =  0.001\n",
      "CPU times: user 27min 10s, sys: 17.4 s, total: 27min 28s\n",
      "Wall time: 26min 56s\n"
     ]
    }
   ],
   "source": [
    "%%time\n",
    "scores = []\n",
    "C_range = np.array([.00000001,.0000001,.000001,.00001,.0001,.001,.1,\n",
    "                1,10,100,1000,10000,100000,1000000,10000000,100000000,1000000000])\n",
    "\n",
    "#Do some cross validation\n",
    "for c in C_range:\n",
    "    log = LogisticRegression(solver='saga', C=c, random_state=1, max_iter=10000)\n",
    "    log.fit(X_train_scaled, y_train_sample)\n",
    "    scores.append(log.score(X_valid_scaled, y_valid_sample))\n",
    "    \n",
    "plt.figure()\n",
    "plt.plot(C_range, scores, label=\"Cross Validation Score\",marker='.')\n",
    "plt.legend()\n",
    "plt.xscale(\"log\")\n",
    "plt.xlabel('Regularization Parameter: C')\n",
    "plt.ylabel('Cross Validation Score')\n",
    "plt.grid()\n",
    "plt.show();\n",
    "\n",
    "which_max = np.array(scores).argmax()\n",
    "\n",
    "print(\"The best model has C = \",C_range[which_max])"
   ]
  },
  {
   "cell_type": "code",
   "execution_count": 121,
   "id": "7ba070ac-ba86-47d0-9ca4-d6303337c24d",
   "metadata": {},
   "outputs": [
    {
     "data": {
      "text/plain": [
       "0.7785"
      ]
     },
     "execution_count": 121,
     "metadata": {},
     "output_type": "execute_result"
    }
   ],
   "source": [
    "log3 = LogisticRegression(solver='saga', C=0.001, random_state=1)\n",
    "log3.fit(X_train_scaled, y_train_sample)\n",
    "log3.score(X_test_scaled, y_test_sample)"
   ]
  },
  {
   "cell_type": "code",
   "execution_count": 122,
   "id": "63fb3f87-a211-4ed8-b9c8-ee9d045ebdd2",
   "metadata": {},
   "outputs": [
    {
     "data": {
      "text/plain": [
       "<sklearn.metrics._plot.confusion_matrix.ConfusionMatrixDisplay at 0x7fd0fa357160>"
      ]
     },
     "execution_count": 122,
     "metadata": {},
     "output_type": "execute_result"
    },
    {
     "data": {
      "image/png": "[encoded data removed]",
      "text/plain": [
       "<Figure size 640x480 with 2 Axes>"
      ]
     },
     "metadata": {},
     "output_type": "display_data"
    }
   ],
   "source": [
    "ConfusionMatrixDisplay.from_estimator(log3, X_test_scaled, y_test_sample)"
   ]
  },
  {
   "cell_type": "markdown",
   "id": "b4cf90ee",
   "metadata": {},
   "source": [
    "Test accuracy with best hyperparameters is 77.85%. Confusion matrix and classification report should be looked at next to see other metrics.  "
   ]
  },
  {
   "cell_type": "code",
   "execution_count": 125,
   "id": "7e9b4626",
   "metadata": {
    "scrolled": true
   },
   "outputs": [
    {
     "data": {
      "text/html": [
       "<div>\n",
       "<style scoped>\n",
       "    .dataframe tbody tr th:only-of-type {\n",
       "        vertical-align: middle;\n",
       "    }\n",
       "\n",
       "    .dataframe tbody tr th {\n",
       "        vertical-align: top;\n",
       "    }\n",
       "\n",
       "    .dataframe thead th {\n",
       "        text-align: right;\n",
       "    }\n",
       "</style>\n",
       "<table border=\"1\" class=\"dataframe\">\n",
       "  <thead>\n",
       "    <tr style=\"text-align: right;\">\n",
       "      <th></th>\n",
       "      <th>Predicted 0</th>\n",
       "      <th>Predicted 1</th>\n",
       "    </tr>\n",
       "  </thead>\n",
       "  <tbody>\n",
       "    <tr>\n",
       "      <th>True 0</th>\n",
       "      <td>2453</td>\n",
       "      <td>1478</td>\n",
       "    </tr>\n",
       "    <tr>\n",
       "      <th>True 1</th>\n",
       "      <td>729</td>\n",
       "      <td>5340</td>\n",
       "    </tr>\n",
       "  </tbody>\n",
       "</table>\n",
       "</div>"
      ],
      "text/plain": [
       "        Predicted 0  Predicted 1\n",
       "True 0         2453         1478\n",
       "True 1          729         5340"
      ]
     },
     "metadata": {},
     "output_type": "display_data"
    },
    {
     "name": "stdout",
     "output_type": "stream",
     "text": [
      "              precision    recall  f1-score   support\n",
      "\n",
      "           0       0.77      0.62      0.69      3931\n",
      "           1       0.78      0.88      0.83      6069\n",
      "\n",
      "    accuracy                           0.78     10000\n",
      "   macro avg       0.78      0.75      0.76     10000\n",
      "weighted avg       0.78      0.78      0.77     10000\n",
      "\n"
     ]
    }
   ],
   "source": [
    "# Get rating predictions\n",
    "y_pred = log3.predict(X_test_scaled)\n",
    "\n",
    "# Generate confusion matrix\n",
    "cf_matrix = confusion_matrix(y_test_sample, y_pred)\n",
    "\n",
    "# label rows and columns\n",
    "cf_df = pd.DataFrame(\n",
    "    cf_matrix, \n",
    "    columns=[\"Predicted 0\", \"Predicted 1\"],\n",
    "    index=[\"True 0\", \"True 1\"]\n",
    ")\n",
    "display(cf_df)\n",
    "\n",
    "print(classification_report(y_test_sample, y_pred))"
   ]
  },
  {
   "cell_type": "code",
   "execution_count": 126,
   "id": "73d210f4",
   "metadata": {},
   "outputs": [
    {
     "data": {
      "image/png": "[encoded data removed]",
      "text/plain": [
       "<Figure size 1500x500 with 1 Axes>"
      ]
     },
     "metadata": {},
     "output_type": "display_data"
    }
   ],
   "source": [
    "word_counts = pd.DataFrame({\"counts\":log3.coef_[0]}, index=combined_train.columns).sort_values(\"counts\", ascending=False)\n",
    "word_counts.head(30).plot(kind=\"bar\", figsize=(15, 5), legend=False)\n",
    "plt.title(\"Top 30 most predictive features of a good review\")\n",
    "plt.ylabel(\"coeff\")\n",
    "plt.xticks(rotation=45)\n",
    "plt.show()"
   ]
  },
  {
   "cell_type": "code",
   "execution_count": 127,
   "id": "62778f55",
   "metadata": {
    "scrolled": true,
    "tags": []
   },
   "outputs": [
    {
     "data": {
      "image/png": "[encoded data removed]",
      "text/plain": [
       "<Figure size 1500x500 with 1 Axes>"
      ]
     },
     "metadata": {},
     "output_type": "display_data"
    }
   ],
   "source": [
    "word_counts = pd.DataFrame({\"counts\":log3.coef_[0]}, index=combined_train.columns).sort_values(\"counts\", ascending=True)\n",
    "word_counts.head(30).plot(kind=\"bar\", figsize=(15, 5), legend=False)\n",
    "plt.title(\"Top 30 most predictive features of a bad review\")\n",
    "plt.ylabel(\"Count\")\n",
    "plt.xticks(rotation=45)\n",
    "plt.show()"
   ]
  },
  {
   "cell_type": "markdown",
   "id": "ca7d139e-15fa-4753-9664-7d57ad289246",
   "metadata": {},
   "source": [
    "Now that manual hyperparameter optimization has been performed, gridsearch will be used to streamline the process for other parameters that aren't just C and solver."
   ]
  },
  {
   "cell_type": "code",
   "execution_count": 137,
   "id": "11148ed3-8c7d-40c3-8e7f-162a7d181ab5",
   "metadata": {
    "collapsed": true,
    "jupyter": {
     "outputs_hidden": true
    },
    "tags": []
   },
   "outputs": [
    {
     "name": "stdout",
     "output_type": "stream",
     "text": [
      "Fitting 5 folds for each of 30 candidates, totalling 150 fits\n",
      "[CV] END model=LogisticRegression(max_iter=10000), model__C=1e-05, model__penalty=l1, model__solver=lbfgs; total time=   0.1s\n",
      "[CV] END model=LogisticRegression(max_iter=10000), model__C=1e-05, model__penalty=l1, model__solver=lbfgs; total time=   0.1s\n",
      "[CV] END model=LogisticRegression(max_iter=10000), model__C=1e-05, model__penalty=l1, model__solver=lbfgs; total time=   0.1s\n",
      "[CV] END model=LogisticRegression(max_iter=10000), model__C=1e-05, model__penalty=l1, model__solver=lbfgs; total time=   0.1s\n",
      "[CV] END model=LogisticRegression(max_iter=10000), model__C=1e-05, model__penalty=l1, model__solver=lbfgs; total time=   0.1s\n",
      "[CV] END model=LogisticRegression(max_iter=10000), model__C=1e-05, model__penalty=l1, model__solver=liblinear; total time=   0.9s\n",
      "[CV] END model=LogisticRegression(max_iter=10000), model__C=1e-05, model__penalty=l1, model__solver=liblinear; total time=   0.8s\n",
      "[CV] END model=LogisticRegression(max_iter=10000), model__C=1e-05, model__penalty=l1, model__solver=liblinear; total time=   0.8s\n",
      "[CV] END model=LogisticRegression(max_iter=10000), model__C=1e-05, model__penalty=l1, model__solver=liblinear; total time=   0.8s\n",
      "[CV] END model=LogisticRegression(max_iter=10000), model__C=1e-05, model__penalty=l1, model__solver=liblinear; total time=   0.8s\n",
      "[CV] END model=LogisticRegression(max_iter=10000), model__C=1e-05, model__penalty=l2, model__solver=lbfgs; total time=   0.3s\n",
      "[CV] END model=LogisticRegression(max_iter=10000), model__C=1e-05, model__penalty=l2, model__solver=lbfgs; total time=   0.3s\n",
      "[CV] END model=LogisticRegression(max_iter=10000), model__C=1e-05, model__penalty=l2, model__solver=lbfgs; total time=   0.3s\n",
      "[CV] END model=LogisticRegression(max_iter=10000), model__C=1e-05, model__penalty=l2, model__solver=lbfgs; total time=   0.3s\n",
      "[CV] END model=LogisticRegression(max_iter=10000), model__C=1e-05, model__penalty=l2, model__solver=lbfgs; total time=   0.3s\n",
      "[CV] END model=LogisticRegression(max_iter=10000), model__C=1e-05, model__penalty=l2, model__solver=liblinear; total time=   1.2s\n",
      "[CV] END model=LogisticRegression(max_iter=10000), model__C=1e-05, model__penalty=l2, model__solver=liblinear; total time=   1.2s\n",
      "[CV] END model=LogisticRegression(max_iter=10000), model__C=1e-05, model__penalty=l2, model__solver=liblinear; total time=   1.2s\n",
      "[CV] END model=LogisticRegression(max_iter=10000), model__C=1e-05, model__penalty=l2, model__solver=liblinear; total time=   1.2s\n",
      "[CV] END model=LogisticRegression(max_iter=10000), model__C=1e-05, model__penalty=l2, model__solver=liblinear; total time=   1.2s\n"
     ]
    },
    {
     "name": "stderr",
     "output_type": "stream",
     "text": [
      "/opt/conda/lib/python3.10/site-packages/sklearn/linear_model/_logistic.py:1181: UserWarning: Setting penalty=None will ignore the C and l1_ratio parameters\n",
      "  warnings.warn(\n"
     ]
    },
    {
     "name": "stdout",
     "output_type": "stream",
     "text": [
      "[CV] END model=LogisticRegression(max_iter=10000), model__C=1e-05, model__penalty=None, model__solver=lbfgs; total time=   1.0s\n"
     ]
    },
    {
     "name": "stderr",
     "output_type": "stream",
     "text": [
      "/opt/conda/lib/python3.10/site-packages/sklearn/linear_model/_logistic.py:1181: UserWarning: Setting penalty=None will ignore the C and l1_ratio parameters\n",
      "  warnings.warn(\n"
     ]
    },
    {
     "name": "stdout",
     "output_type": "stream",
     "text": [
      "[CV] END model=LogisticRegression(max_iter=10000), model__C=1e-05, model__penalty=None, model__solver=lbfgs; total time=   0.7s\n"
     ]
    },
    {
     "name": "stderr",
     "output_type": "stream",
     "text": [
      "/opt/conda/lib/python3.10/site-packages/sklearn/linear_model/_logistic.py:1181: UserWarning: Setting penalty=None will ignore the C and l1_ratio parameters\n",
      "  warnings.warn(\n"
     ]
    },
    {
     "name": "stdout",
     "output_type": "stream",
     "text": [
      "[CV] END model=LogisticRegression(max_iter=10000), model__C=1e-05, model__penalty=None, model__solver=lbfgs; total time=   1.3s\n"
     ]
    },
    {
     "name": "stderr",
     "output_type": "stream",
     "text": [
      "/opt/conda/lib/python3.10/site-packages/sklearn/linear_model/_logistic.py:1181: UserWarning: Setting penalty=None will ignore the C and l1_ratio parameters\n",
      "  warnings.warn(\n"
     ]
    },
    {
     "name": "stdout",
     "output_type": "stream",
     "text": [
      "[CV] END model=LogisticRegression(max_iter=10000), model__C=1e-05, model__penalty=None, model__solver=lbfgs; total time=   0.6s\n"
     ]
    },
    {
     "name": "stderr",
     "output_type": "stream",
     "text": [
      "/opt/conda/lib/python3.10/site-packages/sklearn/linear_model/_logistic.py:1181: UserWarning: Setting penalty=None will ignore the C and l1_ratio parameters\n",
      "  warnings.warn(\n"
     ]
    },
    {
     "name": "stdout",
     "output_type": "stream",
     "text": [
      "[CV] END model=LogisticRegression(max_iter=10000), model__C=1e-05, model__penalty=None, model__solver=lbfgs; total time=   1.1s\n",
      "[CV] END model=LogisticRegression(max_iter=10000), model__C=1e-05, model__penalty=None, model__solver=liblinear; total time=   0.2s\n"
     ]
    },
    {
     "name": "stderr",
     "output_type": "stream",
     "text": [
      "/opt/conda/lib/python3.10/site-packages/sklearn/linear_model/_logistic.py:1181: UserWarning: Setting penalty=None will ignore the C and l1_ratio parameters\n",
      "  warnings.warn(\n",
      "/opt/conda/lib/python3.10/site-packages/sklearn/linear_model/_logistic.py:1181: UserWarning: Setting penalty=None will ignore the C and l1_ratio parameters\n",
      "  warnings.warn(\n"
     ]
    },
    {
     "name": "stdout",
     "output_type": "stream",
     "text": [
      "[CV] END model=LogisticRegression(max_iter=10000), model__C=1e-05, model__penalty=None, model__solver=liblinear; total time=   0.1s\n",
      "[CV] END model=LogisticRegression(max_iter=10000), model__C=1e-05, model__penalty=None, model__solver=liblinear; total time=   0.1s\n"
     ]
    },
    {
     "name": "stderr",
     "output_type": "stream",
     "text": [
      "/opt/conda/lib/python3.10/site-packages/sklearn/linear_model/_logistic.py:1181: UserWarning: Setting penalty=None will ignore the C and l1_ratio parameters\n",
      "  warnings.warn(\n",
      "/opt/conda/lib/python3.10/site-packages/sklearn/linear_model/_logistic.py:1181: UserWarning: Setting penalty=None will ignore the C and l1_ratio parameters\n",
      "  warnings.warn(\n"
     ]
    },
    {
     "name": "stdout",
     "output_type": "stream",
     "text": [
      "[CV] END model=LogisticRegression(max_iter=10000), model__C=1e-05, model__penalty=None, model__solver=liblinear; total time=   0.1s\n",
      "[CV] END model=LogisticRegression(max_iter=10000), model__C=1e-05, model__penalty=None, model__solver=liblinear; total time=   0.1s\n"
     ]
    },
    {
     "name": "stderr",
     "output_type": "stream",
     "text": [
      "/opt/conda/lib/python3.10/site-packages/sklearn/linear_model/_logistic.py:1181: UserWarning: Setting penalty=None will ignore the C and l1_ratio parameters\n",
      "  warnings.warn(\n"
     ]
    },
    {
     "name": "stdout",
     "output_type": "stream",
     "text": [
      "[CV] END model=LogisticRegression(max_iter=10000), model__C=0.0001, model__penalty=l1, model__solver=lbfgs; total time=   0.1s\n",
      "[CV] END model=LogisticRegression(max_iter=10000), model__C=0.0001, model__penalty=l1, model__solver=lbfgs; total time=   0.1s\n",
      "[CV] END model=LogisticRegression(max_iter=10000), model__C=0.0001, model__penalty=l1, model__solver=lbfgs; total time=   0.1s\n",
      "[CV] END model=LogisticRegression(max_iter=10000), model__C=0.0001, model__penalty=l1, model__solver=lbfgs; total time=   0.1s\n",
      "[CV] END model=LogisticRegression(max_iter=10000), model__C=0.0001, model__penalty=l1, model__solver=lbfgs; total time=   0.1s\n",
      "[CV] END model=LogisticRegression(max_iter=10000), model__C=0.0001, model__penalty=l1, model__solver=liblinear; total time=   0.8s\n",
      "[CV] END model=LogisticRegression(max_iter=10000), model__C=0.0001, model__penalty=l1, model__solver=liblinear; total time=   0.8s\n",
      "[CV] END model=LogisticRegression(max_iter=10000), model__C=0.0001, model__penalty=l1, model__solver=liblinear; total time=   0.8s\n",
      "[CV] END model=LogisticRegression(max_iter=10000), model__C=0.0001, model__penalty=l1, model__solver=liblinear; total time=   0.8s\n",
      "[CV] END model=LogisticRegression(max_iter=10000), model__C=0.0001, model__penalty=l1, model__solver=liblinear; total time=   0.8s\n",
      "[CV] END model=LogisticRegression(max_iter=10000), model__C=0.0001, model__penalty=l2, model__solver=lbfgs; total time=   0.3s\n",
      "[CV] END model=LogisticRegression(max_iter=10000), model__C=0.0001, model__penalty=l2, model__solver=lbfgs; total time=   0.3s\n",
      "[CV] END model=LogisticRegression(max_iter=10000), model__C=0.0001, model__penalty=l2, model__solver=lbfgs; total time=   0.3s\n",
      "[CV] END model=LogisticRegression(max_iter=10000), model__C=0.0001, model__penalty=l2, model__solver=lbfgs; total time=   0.3s\n",
      "[CV] END model=LogisticRegression(max_iter=10000), model__C=0.0001, model__penalty=l2, model__solver=lbfgs; total time=   0.3s\n",
      "[CV] END model=LogisticRegression(max_iter=10000), model__C=0.0001, model__penalty=l2, model__solver=liblinear; total time=   1.8s\n",
      "[CV] END model=LogisticRegression(max_iter=10000), model__C=0.0001, model__penalty=l2, model__solver=liblinear; total time=   1.9s\n",
      "[CV] END model=LogisticRegression(max_iter=10000), model__C=0.0001, model__penalty=l2, model__solver=liblinear; total time=   1.8s\n",
      "[CV] END model=LogisticRegression(max_iter=10000), model__C=0.0001, model__penalty=l2, model__solver=liblinear; total time=   1.9s\n",
      "[CV] END model=LogisticRegression(max_iter=10000), model__C=0.0001, model__penalty=l2, model__solver=liblinear; total time=   1.9s\n"
     ]
    },
    {
     "name": "stderr",
     "output_type": "stream",
     "text": [
      "/opt/conda/lib/python3.10/site-packages/sklearn/linear_model/_logistic.py:1181: UserWarning: Setting penalty=None will ignore the C and l1_ratio parameters\n",
      "  warnings.warn(\n"
     ]
    },
    {
     "name": "stdout",
     "output_type": "stream",
     "text": [
      "[CV] END model=LogisticRegression(max_iter=10000), model__C=0.0001, model__penalty=None, model__solver=lbfgs; total time=   1.3s\n"
     ]
    },
    {
     "name": "stderr",
     "output_type": "stream",
     "text": [
      "/opt/conda/lib/python3.10/site-packages/sklearn/linear_model/_logistic.py:1181: UserWarning: Setting penalty=None will ignore the C and l1_ratio parameters\n",
      "  warnings.warn(\n"
     ]
    },
    {
     "name": "stdout",
     "output_type": "stream",
     "text": [
      "[CV] END model=LogisticRegression(max_iter=10000), model__C=0.0001, model__penalty=None, model__solver=lbfgs; total time=   0.6s\n"
     ]
    },
    {
     "name": "stderr",
     "output_type": "stream",
     "text": [
      "/opt/conda/lib/python3.10/site-packages/sklearn/linear_model/_logistic.py:1181: UserWarning: Setting penalty=None will ignore the C and l1_ratio parameters\n",
      "  warnings.warn(\n"
     ]
    },
    {
     "name": "stdout",
     "output_type": "stream",
     "text": [
      "[CV] END model=LogisticRegression(max_iter=10000), model__C=0.0001, model__penalty=None, model__solver=lbfgs; total time=   1.3s\n"
     ]
    },
    {
     "name": "stderr",
     "output_type": "stream",
     "text": [
      "/opt/conda/lib/python3.10/site-packages/sklearn/linear_model/_logistic.py:1181: UserWarning: Setting penalty=None will ignore the C and l1_ratio parameters\n",
      "  warnings.warn(\n"
     ]
    },
    {
     "name": "stdout",
     "output_type": "stream",
     "text": [
      "[CV] END model=LogisticRegression(max_iter=10000), model__C=0.0001, model__penalty=None, model__solver=lbfgs; total time=   0.6s\n"
     ]
    },
    {
     "name": "stderr",
     "output_type": "stream",
     "text": [
      "/opt/conda/lib/python3.10/site-packages/sklearn/linear_model/_logistic.py:1181: UserWarning: Setting penalty=None will ignore the C and l1_ratio parameters\n",
      "  warnings.warn(\n"
     ]
    },
    {
     "name": "stdout",
     "output_type": "stream",
     "text": [
      "[CV] END model=LogisticRegression(max_iter=10000), model__C=0.0001, model__penalty=None, model__solver=lbfgs; total time=   1.1s\n",
      "[CV] END model=LogisticRegression(max_iter=10000), model__C=0.0001, model__penalty=None, model__solver=liblinear; total time=   0.2s\n"
     ]
    },
    {
     "name": "stderr",
     "output_type": "stream",
     "text": [
      "/opt/conda/lib/python3.10/site-packages/sklearn/linear_model/_logistic.py:1181: UserWarning: Setting penalty=None will ignore the C and l1_ratio parameters\n",
      "  warnings.warn(\n",
      "/opt/conda/lib/python3.10/site-packages/sklearn/linear_model/_logistic.py:1181: UserWarning: Setting penalty=None will ignore the C and l1_ratio parameters\n",
      "  warnings.warn(\n"
     ]
    },
    {
     "name": "stdout",
     "output_type": "stream",
     "text": [
      "[CV] END model=LogisticRegression(max_iter=10000), model__C=0.0001, model__penalty=None, model__solver=liblinear; total time=   0.1s\n",
      "[CV] END model=LogisticRegression(max_iter=10000), model__C=0.0001, model__penalty=None, model__solver=liblinear; total time=   0.1s\n"
     ]
    },
    {
     "name": "stderr",
     "output_type": "stream",
     "text": [
      "/opt/conda/lib/python3.10/site-packages/sklearn/linear_model/_logistic.py:1181: UserWarning: Setting penalty=None will ignore the C and l1_ratio parameters\n",
      "  warnings.warn(\n",
      "/opt/conda/lib/python3.10/site-packages/sklearn/linear_model/_logistic.py:1181: UserWarning: Setting penalty=None will ignore the C and l1_ratio parameters\n",
      "  warnings.warn(\n"
     ]
    },
    {
     "name": "stdout",
     "output_type": "stream",
     "text": [
      "[CV] END model=LogisticRegression(max_iter=10000), model__C=0.0001, model__penalty=None, model__solver=liblinear; total time=   0.1s\n",
      "[CV] END model=LogisticRegression(max_iter=10000), model__C=0.0001, model__penalty=None, model__solver=liblinear; total time=   0.1s\n"
     ]
    },
    {
     "name": "stderr",
     "output_type": "stream",
     "text": [
      "/opt/conda/lib/python3.10/site-packages/sklearn/linear_model/_logistic.py:1181: UserWarning: Setting penalty=None will ignore the C and l1_ratio parameters\n",
      "  warnings.warn(\n"
     ]
    },
    {
     "name": "stdout",
     "output_type": "stream",
     "text": [
      "[CV] END model=LogisticRegression(max_iter=10000), model__C=0.001, model__penalty=l1, model__solver=lbfgs; total time=   0.1s\n",
      "[CV] END model=LogisticRegression(max_iter=10000), model__C=0.001, model__penalty=l1, model__solver=lbfgs; total time=   0.1s\n",
      "[CV] END model=LogisticRegression(max_iter=10000), model__C=0.001, model__penalty=l1, model__solver=lbfgs; total time=   0.1s\n",
      "[CV] END model=LogisticRegression(max_iter=10000), model__C=0.001, model__penalty=l1, model__solver=lbfgs; total time=   0.1s\n",
      "[CV] END model=LogisticRegression(max_iter=10000), model__C=0.001, model__penalty=l1, model__solver=lbfgs; total time=   0.1s\n",
      "[CV] END model=LogisticRegression(max_iter=10000), model__C=0.001, model__penalty=l1, model__solver=liblinear; total time=   1.2s\n",
      "[CV] END model=LogisticRegression(max_iter=10000), model__C=0.001, model__penalty=l1, model__solver=liblinear; total time=   1.3s\n",
      "[CV] END model=LogisticRegression(max_iter=10000), model__C=0.001, model__penalty=l1, model__solver=liblinear; total time=   1.2s\n",
      "[CV] END model=LogisticRegression(max_iter=10000), model__C=0.001, model__penalty=l1, model__solver=liblinear; total time=   1.3s\n",
      "[CV] END model=LogisticRegression(max_iter=10000), model__C=0.001, model__penalty=l1, model__solver=liblinear; total time=   1.3s\n",
      "[CV] END model=LogisticRegression(max_iter=10000), model__C=0.001, model__penalty=l2, model__solver=lbfgs; total time=   0.4s\n",
      "[CV] END model=LogisticRegression(max_iter=10000), model__C=0.001, model__penalty=l2, model__solver=lbfgs; total time=   0.4s\n",
      "[CV] END model=LogisticRegression(max_iter=10000), model__C=0.001, model__penalty=l2, model__solver=lbfgs; total time=   0.4s\n",
      "[CV] END model=LogisticRegression(max_iter=10000), model__C=0.001, model__penalty=l2, model__solver=lbfgs; total time=   0.4s\n",
      "[CV] END model=LogisticRegression(max_iter=10000), model__C=0.001, model__penalty=l2, model__solver=lbfgs; total time=   0.5s\n",
      "[CV] END model=LogisticRegression(max_iter=10000), model__C=0.001, model__penalty=l2, model__solver=liblinear; total time=   2.9s\n",
      "[CV] END model=LogisticRegression(max_iter=10000), model__C=0.001, model__penalty=l2, model__solver=liblinear; total time=   2.9s\n",
      "[CV] END model=LogisticRegression(max_iter=10000), model__C=0.001, model__penalty=l2, model__solver=liblinear; total time=   2.9s\n",
      "[CV] END model=LogisticRegression(max_iter=10000), model__C=0.001, model__penalty=l2, model__solver=liblinear; total time=   2.9s\n",
      "[CV] END model=LogisticRegression(max_iter=10000), model__C=0.001, model__penalty=l2, model__solver=liblinear; total time=   2.9s\n"
     ]
    },
    {
     "name": "stderr",
     "output_type": "stream",
     "text": [
      "/opt/conda/lib/python3.10/site-packages/sklearn/linear_model/_logistic.py:1181: UserWarning: Setting penalty=None will ignore the C and l1_ratio parameters\n",
      "  warnings.warn(\n"
     ]
    },
    {
     "name": "stdout",
     "output_type": "stream",
     "text": [
      "[CV] END model=LogisticRegression(max_iter=10000), model__C=0.001, model__penalty=None, model__solver=lbfgs; total time=   1.0s\n"
     ]
    },
    {
     "name": "stderr",
     "output_type": "stream",
     "text": [
      "/opt/conda/lib/python3.10/site-packages/sklearn/linear_model/_logistic.py:1181: UserWarning: Setting penalty=None will ignore the C and l1_ratio parameters\n",
      "  warnings.warn(\n"
     ]
    },
    {
     "name": "stdout",
     "output_type": "stream",
     "text": [
      "[CV] END model=LogisticRegression(max_iter=10000), model__C=0.001, model__penalty=None, model__solver=lbfgs; total time=   0.7s\n"
     ]
    },
    {
     "name": "stderr",
     "output_type": "stream",
     "text": [
      "/opt/conda/lib/python3.10/site-packages/sklearn/linear_model/_logistic.py:1181: UserWarning: Setting penalty=None will ignore the C and l1_ratio parameters\n",
      "  warnings.warn(\n"
     ]
    },
    {
     "name": "stdout",
     "output_type": "stream",
     "text": [
      "[CV] END model=LogisticRegression(max_iter=10000), model__C=0.001, model__penalty=None, model__solver=lbfgs; total time=   1.3s\n"
     ]
    },
    {
     "name": "stderr",
     "output_type": "stream",
     "text": [
      "/opt/conda/lib/python3.10/site-packages/sklearn/linear_model/_logistic.py:1181: UserWarning: Setting penalty=None will ignore the C and l1_ratio parameters\n",
      "  warnings.warn(\n"
     ]
    },
    {
     "name": "stdout",
     "output_type": "stream",
     "text": [
      "[CV] END model=LogisticRegression(max_iter=10000), model__C=0.001, model__penalty=None, model__solver=lbfgs; total time=   0.6s\n"
     ]
    },
    {
     "name": "stderr",
     "output_type": "stream",
     "text": [
      "/opt/conda/lib/python3.10/site-packages/sklearn/linear_model/_logistic.py:1181: UserWarning: Setting penalty=None will ignore the C and l1_ratio parameters\n",
      "  warnings.warn(\n"
     ]
    },
    {
     "name": "stdout",
     "output_type": "stream",
     "text": [
      "[CV] END model=LogisticRegression(max_iter=10000), model__C=0.001, model__penalty=None, model__solver=lbfgs; total time=   1.1s\n",
      "[CV] END model=LogisticRegression(max_iter=10000), model__C=0.001, model__penalty=None, model__solver=liblinear; total time=   0.2s\n"
     ]
    },
    {
     "name": "stderr",
     "output_type": "stream",
     "text": [
      "/opt/conda/lib/python3.10/site-packages/sklearn/linear_model/_logistic.py:1181: UserWarning: Setting penalty=None will ignore the C and l1_ratio parameters\n",
      "  warnings.warn(\n",
      "/opt/conda/lib/python3.10/site-packages/sklearn/linear_model/_logistic.py:1181: UserWarning: Setting penalty=None will ignore the C and l1_ratio parameters\n",
      "  warnings.warn(\n"
     ]
    },
    {
     "name": "stdout",
     "output_type": "stream",
     "text": [
      "[CV] END model=LogisticRegression(max_iter=10000), model__C=0.001, model__penalty=None, model__solver=liblinear; total time=   0.1s\n",
      "[CV] END model=LogisticRegression(max_iter=10000), model__C=0.001, model__penalty=None, model__solver=liblinear; total time=   0.1s\n"
     ]
    },
    {
     "name": "stderr",
     "output_type": "stream",
     "text": [
      "/opt/conda/lib/python3.10/site-packages/sklearn/linear_model/_logistic.py:1181: UserWarning: Setting penalty=None will ignore the C and l1_ratio parameters\n",
      "  warnings.warn(\n",
      "/opt/conda/lib/python3.10/site-packages/sklearn/linear_model/_logistic.py:1181: UserWarning: Setting penalty=None will ignore the C and l1_ratio parameters\n",
      "  warnings.warn(\n"
     ]
    },
    {
     "name": "stdout",
     "output_type": "stream",
     "text": [
      "[CV] END model=LogisticRegression(max_iter=10000), model__C=0.001, model__penalty=None, model__solver=liblinear; total time=   0.1s\n",
      "[CV] END model=LogisticRegression(max_iter=10000), model__C=0.001, model__penalty=None, model__solver=liblinear; total time=   0.1s\n"
     ]
    },
    {
     "name": "stderr",
     "output_type": "stream",
     "text": [
      "/opt/conda/lib/python3.10/site-packages/sklearn/linear_model/_logistic.py:1181: UserWarning: Setting penalty=None will ignore the C and l1_ratio parameters\n",
      "  warnings.warn(\n"
     ]
    },
    {
     "name": "stdout",
     "output_type": "stream",
     "text": [
      "[CV] END model=LogisticRegression(max_iter=10000), model__C=0.01, model__penalty=l1, model__solver=lbfgs; total time=   0.1s\n",
      "[CV] END model=LogisticRegression(max_iter=10000), model__C=0.01, model__penalty=l1, model__solver=lbfgs; total time=   0.1s\n",
      "[CV] END model=LogisticRegression(max_iter=10000), model__C=0.01, model__penalty=l1, model__solver=lbfgs; total time=   0.1s\n",
      "[CV] END model=LogisticRegression(max_iter=10000), model__C=0.01, model__penalty=l1, model__solver=lbfgs; total time=   0.1s\n",
      "[CV] END model=LogisticRegression(max_iter=10000), model__C=0.01, model__penalty=l1, model__solver=lbfgs; total time=   0.1s\n",
      "[CV] END model=LogisticRegression(max_iter=10000), model__C=0.01, model__penalty=l1, model__solver=liblinear; total time=   1.8s\n",
      "[CV] END model=LogisticRegression(max_iter=10000), model__C=0.01, model__penalty=l1, model__solver=liblinear; total time=   1.8s\n",
      "[CV] END model=LogisticRegression(max_iter=10000), model__C=0.01, model__penalty=l1, model__solver=liblinear; total time=   1.8s\n",
      "[CV] END model=LogisticRegression(max_iter=10000), model__C=0.01, model__penalty=l1, model__solver=liblinear; total time=   1.8s\n",
      "[CV] END model=LogisticRegression(max_iter=10000), model__C=0.01, model__penalty=l1, model__solver=liblinear; total time=   1.8s\n",
      "[CV] END model=LogisticRegression(max_iter=10000), model__C=0.01, model__penalty=l2, model__solver=lbfgs; total time=   0.6s\n",
      "[CV] END model=LogisticRegression(max_iter=10000), model__C=0.01, model__penalty=l2, model__solver=lbfgs; total time=   0.5s\n",
      "[CV] END model=LogisticRegression(max_iter=10000), model__C=0.01, model__penalty=l2, model__solver=lbfgs; total time=   0.6s\n",
      "[CV] END model=LogisticRegression(max_iter=10000), model__C=0.01, model__penalty=l2, model__solver=lbfgs; total time=   0.5s\n",
      "[CV] END model=LogisticRegression(max_iter=10000), model__C=0.01, model__penalty=l2, model__solver=lbfgs; total time=   0.5s\n",
      "[CV] END model=LogisticRegression(max_iter=10000), model__C=0.01, model__penalty=l2, model__solver=liblinear; total time=   4.5s\n",
      "[CV] END model=LogisticRegression(max_iter=10000), model__C=0.01, model__penalty=l2, model__solver=liblinear; total time=   4.7s\n",
      "[CV] END model=LogisticRegression(max_iter=10000), model__C=0.01, model__penalty=l2, model__solver=liblinear; total time=   4.9s\n",
      "[CV] END model=LogisticRegression(max_iter=10000), model__C=0.01, model__penalty=l2, model__solver=liblinear; total time=   4.5s\n",
      "[CV] END model=LogisticRegression(max_iter=10000), model__C=0.01, model__penalty=l2, model__solver=liblinear; total time=   4.7s\n"
     ]
    },
    {
     "name": "stderr",
     "output_type": "stream",
     "text": [
      "/opt/conda/lib/python3.10/site-packages/sklearn/linear_model/_logistic.py:1181: UserWarning: Setting penalty=None will ignore the C and l1_ratio parameters\n",
      "  warnings.warn(\n"
     ]
    },
    {
     "name": "stdout",
     "output_type": "stream",
     "text": [
      "[CV] END model=LogisticRegression(max_iter=10000), model__C=0.01, model__penalty=None, model__solver=lbfgs; total time=   1.1s\n"
     ]
    },
    {
     "name": "stderr",
     "output_type": "stream",
     "text": [
      "/opt/conda/lib/python3.10/site-packages/sklearn/linear_model/_logistic.py:1181: UserWarning: Setting penalty=None will ignore the C and l1_ratio parameters\n",
      "  warnings.warn(\n"
     ]
    },
    {
     "name": "stdout",
     "output_type": "stream",
     "text": [
      "[CV] END model=LogisticRegression(max_iter=10000), model__C=0.01, model__penalty=None, model__solver=lbfgs; total time=   0.7s\n"
     ]
    },
    {
     "name": "stderr",
     "output_type": "stream",
     "text": [
      "/opt/conda/lib/python3.10/site-packages/sklearn/linear_model/_logistic.py:1181: UserWarning: Setting penalty=None will ignore the C and l1_ratio parameters\n",
      "  warnings.warn(\n"
     ]
    },
    {
     "name": "stdout",
     "output_type": "stream",
     "text": [
      "[CV] END model=LogisticRegression(max_iter=10000), model__C=0.01, model__penalty=None, model__solver=lbfgs; total time=   1.3s\n"
     ]
    },
    {
     "name": "stderr",
     "output_type": "stream",
     "text": [
      "/opt/conda/lib/python3.10/site-packages/sklearn/linear_model/_logistic.py:1181: UserWarning: Setting penalty=None will ignore the C and l1_ratio parameters\n",
      "  warnings.warn(\n"
     ]
    },
    {
     "name": "stdout",
     "output_type": "stream",
     "text": [
      "[CV] END model=LogisticRegression(max_iter=10000), model__C=0.01, model__penalty=None, model__solver=lbfgs; total time=   0.6s\n"
     ]
    },
    {
     "name": "stderr",
     "output_type": "stream",
     "text": [
      "/opt/conda/lib/python3.10/site-packages/sklearn/linear_model/_logistic.py:1181: UserWarning: Setting penalty=None will ignore the C and l1_ratio parameters\n",
      "  warnings.warn(\n"
     ]
    },
    {
     "name": "stdout",
     "output_type": "stream",
     "text": [
      "[CV] END model=LogisticRegression(max_iter=10000), model__C=0.01, model__penalty=None, model__solver=lbfgs; total time=   1.1s\n",
      "[CV] END model=LogisticRegression(max_iter=10000), model__C=0.01, model__penalty=None, model__solver=liblinear; total time=   0.2s\n"
     ]
    },
    {
     "name": "stderr",
     "output_type": "stream",
     "text": [
      "/opt/conda/lib/python3.10/site-packages/sklearn/linear_model/_logistic.py:1181: UserWarning: Setting penalty=None will ignore the C and l1_ratio parameters\n",
      "  warnings.warn(\n",
      "/opt/conda/lib/python3.10/site-packages/sklearn/linear_model/_logistic.py:1181: UserWarning: Setting penalty=None will ignore the C and l1_ratio parameters\n",
      "  warnings.warn(\n"
     ]
    },
    {
     "name": "stdout",
     "output_type": "stream",
     "text": [
      "[CV] END model=LogisticRegression(max_iter=10000), model__C=0.01, model__penalty=None, model__solver=liblinear; total time=   0.1s\n",
      "[CV] END model=LogisticRegression(max_iter=10000), model__C=0.01, model__penalty=None, model__solver=liblinear; total time=   0.1s\n"
     ]
    },
    {
     "name": "stderr",
     "output_type": "stream",
     "text": [
      "/opt/conda/lib/python3.10/site-packages/sklearn/linear_model/_logistic.py:1181: UserWarning: Setting penalty=None will ignore the C and l1_ratio parameters\n",
      "  warnings.warn(\n",
      "/opt/conda/lib/python3.10/site-packages/sklearn/linear_model/_logistic.py:1181: UserWarning: Setting penalty=None will ignore the C and l1_ratio parameters\n",
      "  warnings.warn(\n"
     ]
    },
    {
     "name": "stdout",
     "output_type": "stream",
     "text": [
      "[CV] END model=LogisticRegression(max_iter=10000), model__C=0.01, model__penalty=None, model__solver=liblinear; total time=   0.1s\n",
      "[CV] END model=LogisticRegression(max_iter=10000), model__C=0.01, model__penalty=None, model__solver=liblinear; total time=   0.1s\n"
     ]
    },
    {
     "name": "stderr",
     "output_type": "stream",
     "text": [
      "/opt/conda/lib/python3.10/site-packages/sklearn/linear_model/_logistic.py:1181: UserWarning: Setting penalty=None will ignore the C and l1_ratio parameters\n",
      "  warnings.warn(\n"
     ]
    },
    {
     "name": "stdout",
     "output_type": "stream",
     "text": [
      "[CV] END model=LogisticRegression(max_iter=10000), model__C=1, model__penalty=l1, model__solver=lbfgs; total time=   0.1s\n",
      "[CV] END model=LogisticRegression(max_iter=10000), model__C=1, model__penalty=l1, model__solver=lbfgs; total time=   0.1s\n",
      "[CV] END model=LogisticRegression(max_iter=10000), model__C=1, model__penalty=l1, model__solver=lbfgs; total time=   0.1s\n",
      "[CV] END model=LogisticRegression(max_iter=10000), model__C=1, model__penalty=l1, model__solver=lbfgs; total time=   0.1s\n",
      "[CV] END model=LogisticRegression(max_iter=10000), model__C=1, model__penalty=l1, model__solver=lbfgs; total time=   0.1s\n",
      "[CV] END model=LogisticRegression(max_iter=10000), model__C=1, model__penalty=l1, model__solver=liblinear; total time=   3.1s\n",
      "[CV] END model=LogisticRegression(max_iter=10000), model__C=1, model__penalty=l1, model__solver=liblinear; total time=   4.6s\n",
      "[CV] END model=LogisticRegression(max_iter=10000), model__C=1, model__penalty=l1, model__solver=liblinear; total time=   4.6s\n",
      "[CV] END model=LogisticRegression(max_iter=10000), model__C=1, model__penalty=l1, model__solver=liblinear; total time=   3.0s\n",
      "[CV] END model=LogisticRegression(max_iter=10000), model__C=1, model__penalty=l1, model__solver=liblinear; total time=   3.4s\n",
      "[CV] END model=LogisticRegression(max_iter=10000), model__C=1, model__penalty=l2, model__solver=lbfgs; total time=   0.9s\n",
      "[CV] END model=LogisticRegression(max_iter=10000), model__C=1, model__penalty=l2, model__solver=lbfgs; total time=   0.6s\n",
      "[CV] END model=LogisticRegression(max_iter=10000), model__C=1, model__penalty=l2, model__solver=lbfgs; total time=   0.9s\n",
      "[CV] END model=LogisticRegression(max_iter=10000), model__C=1, model__penalty=l2, model__solver=lbfgs; total time=   0.6s\n",
      "[CV] END model=LogisticRegression(max_iter=10000), model__C=1, model__penalty=l2, model__solver=lbfgs; total time=   0.8s\n",
      "[CV] END model=LogisticRegression(max_iter=10000), model__C=1, model__penalty=l2, model__solver=liblinear; total time=   7.4s\n",
      "[CV] END model=LogisticRegression(max_iter=10000), model__C=1, model__penalty=l2, model__solver=liblinear; total time=   5.4s\n",
      "[CV] END model=LogisticRegression(max_iter=10000), model__C=1, model__penalty=l2, model__solver=liblinear; total time=   8.2s\n",
      "[CV] END model=LogisticRegression(max_iter=10000), model__C=1, model__penalty=l2, model__solver=liblinear; total time=   5.5s\n",
      "[CV] END model=LogisticRegression(max_iter=10000), model__C=1, model__penalty=l2, model__solver=liblinear; total time=   7.8s\n",
      "[CV] END model=LogisticRegression(max_iter=10000), model__C=1, model__penalty=None, model__solver=lbfgs; total time=   1.1s\n",
      "[CV] END model=LogisticRegression(max_iter=10000), model__C=1, model__penalty=None, model__solver=lbfgs; total time=   0.6s\n",
      "[CV] END model=LogisticRegression(max_iter=10000), model__C=1, model__penalty=None, model__solver=lbfgs; total time=   1.3s\n",
      "[CV] END model=LogisticRegression(max_iter=10000), model__C=1, model__penalty=None, model__solver=lbfgs; total time=   0.6s\n",
      "[CV] END model=LogisticRegression(max_iter=10000), model__C=1, model__penalty=None, model__solver=lbfgs; total time=   1.1s\n",
      "[CV] END model=LogisticRegression(max_iter=10000), model__C=1, model__penalty=None, model__solver=liblinear; total time=   0.2s\n",
      "[CV] END model=LogisticRegression(max_iter=10000), model__C=1, model__penalty=None, model__solver=liblinear; total time=   0.1s\n",
      "[CV] END model=LogisticRegression(max_iter=10000), model__C=1, model__penalty=None, model__solver=liblinear; total time=   0.1s\n",
      "[CV] END model=LogisticRegression(max_iter=10000), model__C=1, model__penalty=None, model__solver=liblinear; total time=   0.1s\n",
      "[CV] END model=LogisticRegression(max_iter=10000), model__C=1, model__penalty=None, model__solver=liblinear; total time=   0.1s\n"
     ]
    },
    {
     "name": "stderr",
     "output_type": "stream",
     "text": [
      "/opt/conda/lib/python3.10/site-packages/sklearn/model_selection/_validation.py:378: FitFailedWarning: \n",
      "50 fits failed out of a total of 150.\n",
      "The score on these train-test partitions for these parameters will be set to nan.\n",
      "If these failures are not expected, you can try to debug them by setting error_score='raise'.\n",
      "\n",
      "Below are more details about the failures:\n",
      "--------------------------------------------------------------------------------\n",
      "25 fits failed with the following error:\n",
      "Traceback (most recent call last):\n",
      "  File \"/opt/conda/lib/python3.10/site-packages/sklearn/model_selection/_validation.py\", line 686, in _fit_and_score\n",
      "    estimator.fit(X_train, y_train, **fit_params)\n",
      "  File \"/opt/conda/lib/python3.10/site-packages/sklearn/pipeline.py\", line 405, in fit\n",
      "    self._final_estimator.fit(Xt, y, **fit_params_last_step)\n",
      "  File \"/opt/conda/lib/python3.10/site-packages/sklearn/linear_model/_logistic.py\", line 1162, in fit\n",
      "    solver = _check_solver(self.solver, self.penalty, self.dual)\n",
      "  File \"/opt/conda/lib/python3.10/site-packages/sklearn/linear_model/_logistic.py\", line 54, in _check_solver\n",
      "    raise ValueError(\n",
      "ValueError: Solver lbfgs supports only 'l2' or 'none' penalties, got l1 penalty.\n",
      "\n",
      "--------------------------------------------------------------------------------\n",
      "25 fits failed with the following error:\n",
      "Traceback (most recent call last):\n",
      "  File \"/opt/conda/lib/python3.10/site-packages/sklearn/model_selection/_validation.py\", line 686, in _fit_and_score\n",
      "    estimator.fit(X_train, y_train, **fit_params)\n",
      "  File \"/opt/conda/lib/python3.10/site-packages/sklearn/pipeline.py\", line 405, in fit\n",
      "    self._final_estimator.fit(Xt, y, **fit_params_last_step)\n",
      "  File \"/opt/conda/lib/python3.10/site-packages/sklearn/linear_model/_logistic.py\", line 1216, in fit\n",
      "    self.coef_, self.intercept_, self.n_iter_ = _fit_liblinear(\n",
      "  File \"/opt/conda/lib/python3.10/site-packages/sklearn/svm/_base.py\", line 1223, in _fit_liblinear\n",
      "    solver_type = _get_liblinear_solver_type(multi_class, penalty, loss, dual)\n",
      "  File \"/opt/conda/lib/python3.10/site-packages/sklearn/svm/_base.py\", line 1062, in _get_liblinear_solver_type\n",
      "    raise ValueError(\n",
      "ValueError: Unsupported set of arguments: The combination of penalty='None' and loss='logistic_regression' is not supported, Parameters: penalty=None, loss='logistic_regression', dual=False\n",
      "\n",
      "  warnings.warn(some_fits_failed_message, FitFailedWarning)\n",
      "/opt/conda/lib/python3.10/site-packages/sklearn/model_selection/_search.py:952: UserWarning: One or more of the test scores are non-finite: [     nan 0.39315  0.641675 0.773875 0.78825       nan      nan 0.39315\n",
      " 0.76905  0.787525 0.78825       nan      nan 0.707625 0.788875 0.7899\n",
      " 0.78825       nan      nan 0.78625  0.78875  0.788675 0.78825       nan\n",
      "      nan 0.788325 0.7882   0.788225 0.78825       nan]\n",
      "  warnings.warn(\n"
     ]
    },
    {
     "name": "stdout",
     "output_type": "stream",
     "text": [
      "CPU times: user 9min 35s, sys: 3min 5s, total: 12min 40s\n",
      "Wall time: 2min 56s\n"
     ]
    }
   ],
   "source": [
    "%%time\n",
    "estimators = [('model', LogisticRegression())]\n",
    "\n",
    "pipe = Pipeline(estimators)\n",
    "\n",
    "param_grid = {\n",
    "    'model': [LogisticRegression(max_iter=10000)],\n",
    "    'model__solver': ['lbfgs', 'liblinear'],\n",
    "    'model__penalty': [\"l1\", \"l2\", None],\n",
    "    'model__C': [0.00001, 0.0001, 0.001, 0.01, 1]\n",
    "}\n",
    "\n",
    "grid_LR = GridSearchCV(pipe, param_grid, cv=5, verbose=2)\n",
    "fittedgrid_LR = grid_LR.fit(X_remainder_scaled, y_remainder_sample)"
   ]
  },
  {
   "cell_type": "code",
   "execution_count": 138,
   "id": "84b8c1ce-f3d4-43d0-8b89-3f3aa4eca8f4",
   "metadata": {},
   "outputs": [
    {
     "data": {
      "text/plain": [
       "{'model': LogisticRegression(C=0.001, max_iter=10000, solver='liblinear'),\n",
       " 'model__C': 0.001,\n",
       " 'model__penalty': 'l2',\n",
       " 'model__solver': 'liblinear'}"
      ]
     },
     "execution_count": 138,
     "metadata": {},
     "output_type": "execute_result"
    }
   ],
   "source": [
    "fittedgrid_LR.best_params_"
   ]
  },
  {
   "cell_type": "code",
   "execution_count": 139,
   "id": "bb7c939a-d409-4b67-a772-1bdac4561348",
   "metadata": {},
   "outputs": [
    {
     "data": {
      "text/plain": [
       "0.7899"
      ]
     },
     "execution_count": 139,
     "metadata": {},
     "output_type": "execute_result"
    }
   ],
   "source": [
    "fittedgrid_LR.best_score_"
   ]
  },
  {
   "cell_type": "code",
   "execution_count": 140,
   "id": "e5bfda6f-8c68-44a4-ac1c-d1b41dc5f641",
   "metadata": {},
   "outputs": [
    {
     "data": {
      "text/plain": [
       "0.7785"
      ]
     },
     "execution_count": 140,
     "metadata": {},
     "output_type": "execute_result"
    }
   ],
   "source": [
    "log4 = LogisticRegression(solver='saga', C=0.001, penalty='l2', random_state=1)\n",
    "log4.fit(X_train_scaled, y_train_sample)\n",
    "log4.score(X_test_scaled, y_test_sample)"
   ]
  },
  {
   "cell_type": "markdown",
   "id": "e90839d7-b3d4-420a-baed-f0972dcf90a4",
   "metadata": {},
   "source": [
    "# SVM"
   ]
  },
  {
   "cell_type": "markdown",
   "id": "e4dd242d-ff01-457a-9c5d-df77061db58c",
   "metadata": {},
   "source": [
    "SVM takes a while to run"
   ]
  },
  {
   "cell_type": "code",
   "execution_count": 143,
   "id": "b464f3db",
   "metadata": {},
   "outputs": [
    {
     "name": "stdout",
     "output_type": "stream",
     "text": [
      "CPU times: user 11min 28s, sys: 386 ms, total: 11min 29s\n",
      "Wall time: 11min 34s\n"
     ]
    },
    {
     "data": {
      "text/plain": [
       "0.783"
      ]
     },
     "execution_count": 143,
     "metadata": {},
     "output_type": "execute_result"
    }
   ],
   "source": [
    "%%time\n",
    "SVM = svm.SVC()\n",
    "SVM.fit(X_train_scaled, y_train_sample)\n",
    "score = SVM.score(X_test_scaled, y_test_sample)\n",
    "score"
   ]
  },
  {
   "cell_type": "code",
   "execution_count": null,
   "id": "3561bebf-7148-4a09-a314-e2772d12ba4d",
   "metadata": {},
   "outputs": [],
   "source": [
    "%%time\n",
    "SVM2 = svm.SVC(kernel='linear')\n",
    "SVM2.fit(X_train_scaled, y_train_sample)\n",
    "score = SVM2.score(X_test_scaled, y_test_sample)\n",
    "score"
   ]
  },
  {
   "cell_type": "code",
   "execution_count": null,
   "id": "059768d7-db90-465a-9122-e7528c792696",
   "metadata": {},
   "outputs": [],
   "source": [
    "# Extract feature weights (coefficients) from the SVM model\n",
    "feature_weights = SVM2.coef_\n",
    "\n",
    "# Select top features based on weights\n",
    "top_features = feature_weights.argsort()[-10:]\n",
    "\n",
    "# Print top features\n",
    "for feature_index in top_features:\n",
    "    feature_name = bag_body.get_feature_names()[feature_index]\n",
    "    print(f'Top feature: {feature_name}')"
   ]
  },
  {
   "cell_type": "markdown",
   "id": "6b2c1736",
   "metadata": {
    "tags": []
   },
   "source": [
    "#### XGBoost"
   ]
  },
  {
   "cell_type": "code",
   "execution_count": null,
   "id": "bcd00c95",
   "metadata": {
    "tags": []
   },
   "outputs": [],
   "source": [
    "# X_train = scaler.fit_transform(X_train)\n",
    "# X_test = scaler.transform(X_test)\n",
    "\n",
    "estimators = [('model', XGBClassifier())]\n",
    "\n",
    "pipe = Pipeline(estimators)\n",
    "\n",
    "param_grid = {\n",
    "    'model': [XGBClassifier()],\n",
    "    'model__max_depth': [2, 3, 4, 5],\n",
    "    'model__learning_rate': [0.1, 0.01, 0.001],\n",
    "    'model__n_estimators': [100, 200, 300],\n",
    "}\n",
    "\n",
    "grid_XGB = GridSearchCV(pipe, param_grid, cv=5, verbose=2)\n",
    "fittedgrid_XGB = grid_XGB.fit(X_remainder_scaled, y_remainder_sample)"
   ]
  },
  {
   "cell_type": "code",
   "execution_count": null,
   "id": "5835bad6",
   "metadata": {},
   "outputs": [],
   "source": [
    "# Get the best parameters and score\n",
    "best_params = grid.best_params_\n",
    "best_score = grid.best_score_"
   ]
  },
  {
   "cell_type": "code",
   "execution_count": null,
   "id": "f8034ca8",
   "metadata": {},
   "outputs": [],
   "source": [
    "best_params"
   ]
  },
  {
   "cell_type": "markdown",
   "id": "209fca7d",
   "metadata": {},
   "source": [
    "The best hyper parameter for XGBoost is when `learning_rate` is 0.1, `max_depth` is 5, and `n_estimators` is 300.\n",
    "The model seems to improving still since the best hyper parameter were the highest max_depth and n_estimators allowed so the model might be able to improve if it is set higher."
   ]
  },
  {
   "cell_type": "code",
   "execution_count": null,
   "id": "ace90e43",
   "metadata": {
    "scrolled": true
   },
   "outputs": [],
   "source": [
    "y_pred = grid.predict(X_test_scaled2)\n",
    "print(classification_report(y_test_sample, y_pred))"
   ]
  },
  {
   "cell_type": "code",
   "execution_count": 61,
   "id": "f39f556c",
   "metadata": {},
   "outputs": [
    {
     "data": {
      "image/png": "[encoded data removed]",
      "text/plain": [
       "<Figure size 640x480 with 2 Axes>"
      ]
     },
     "metadata": {},
     "output_type": "display_data"
    }
   ],
   "source": [
    "ConfusionMatrixDisplay.from_estimator(grid, X_test_scaled2, y_test_sample);"
   ]
  },
  {
   "cell_type": "code",
   "execution_count": 70,
   "id": "02cbc4f6",
   "metadata": {},
   "outputs": [
    {
     "name": "stdout",
     "output_type": "stream",
     "text": [
      "Fitting 2 folds for each of 8 candidates, totalling 16 fits\n",
      "[CV] END model=XGBClassifier(base_score=None, booster=None, callbacks=None,\n",
      "              colsample_bylevel=None, colsample_bynode=None,\n",
      "              colsample_bytree=None, early_stopping_rounds=None,\n",
      "              enable_categorical=False, eval_metric=None, feature_types=None,\n",
      "              gamma=None, gpu_id=None, grow_policy=None, importance_type=None,\n",
      "              interaction_constraints=None, learning_rate=None, max_bin=None,\n",
      "              max_cat_threshold=None, max_cat_to_onehot=None,\n",
      "              max_delta_step=None, max_depth=None, max_leaves=None,\n",
      "              min_child_weight=None, missing=nan, monotone_constraints=None,\n",
      "              n_estimators=100, n_jobs=None, num_parallel_tree=None,\n",
      "              predictor=None, random_state=None, ...), model__learning_rate=1, model__max_depth=5, model__n_estimators=500; total time=  19.1s\n",
      "[CV] END model=XGBClassifier(base_score=None, booster=None, callbacks=None,\n",
      "              colsample_bylevel=None, colsample_bynode=None,\n",
      "              colsample_bytree=None, early_stopping_rounds=None,\n",
      "              enable_categorical=False, eval_metric=None, feature_types=None,\n",
      "              gamma=None, gpu_id=None, grow_policy=None, importance_type=None,\n",
      "              interaction_constraints=None, learning_rate=None, max_bin=None,\n",
      "              max_cat_threshold=None, max_cat_to_onehot=None,\n",
      "              max_delta_step=None, max_depth=None, max_leaves=None,\n",
      "              min_child_weight=None, missing=nan, monotone_constraints=None,\n",
      "              n_estimators=100, n_jobs=None, num_parallel_tree=None,\n",
      "              predictor=None, random_state=None, ...), model__learning_rate=1, model__max_depth=5, model__n_estimators=500; total time=  17.7s\n",
      "[CV] END model=XGBClassifier(base_score=None, booster=None, callbacks=None,\n",
      "              colsample_bylevel=None, colsample_bynode=None,\n",
      "              colsample_bytree=None, early_stopping_rounds=None,\n",
      "              enable_categorical=False, eval_metric=None, feature_types=None,\n",
      "              gamma=None, gpu_id=None, grow_policy=None, importance_type=None,\n",
      "              interaction_constraints=None, learning_rate=None, max_bin=None,\n",
      "              max_cat_threshold=None, max_cat_to_onehot=None,\n",
      "              max_delta_step=None, max_depth=None, max_leaves=None,\n",
      "              min_child_weight=None, missing=nan, monotone_constraints=None,\n",
      "              n_estimators=100, n_jobs=None, num_parallel_tree=None,\n",
      "              predictor=None, random_state=None, ...), model__learning_rate=1, model__max_depth=5, model__n_estimators=1000; total time=  34.1s\n",
      "[CV] END model=XGBClassifier(base_score=None, booster=None, callbacks=None,\n",
      "              colsample_bylevel=None, colsample_bynode=None,\n",
      "              colsample_bytree=None, early_stopping_rounds=None,\n",
      "              enable_categorical=False, eval_metric=None, feature_types=None,\n",
      "              gamma=None, gpu_id=None, grow_policy=None, importance_type=None,\n",
      "              interaction_constraints=None, learning_rate=None, max_bin=None,\n",
      "              max_cat_threshold=None, max_cat_to_onehot=None,\n",
      "              max_delta_step=None, max_depth=None, max_leaves=None,\n",
      "              min_child_weight=None, missing=nan, monotone_constraints=None,\n",
      "              n_estimators=100, n_jobs=None, num_parallel_tree=None,\n",
      "              predictor=None, random_state=None, ...), model__learning_rate=1, model__max_depth=5, model__n_estimators=1000; total time=  35.7s\n",
      "[CV] END model=XGBClassifier(base_score=None, booster=None, callbacks=None,\n",
      "              colsample_bylevel=None, colsample_bynode=None,\n",
      "              colsample_bytree=None, early_stopping_rounds=None,\n",
      "              enable_categorical=False, eval_metric=None, feature_types=None,\n",
      "              gamma=None, gpu_id=None, grow_policy=None, importance_type=None,\n",
      "              interaction_constraints=None, learning_rate=None, max_bin=None,\n",
      "              max_cat_threshold=None, max_cat_to_onehot=None,\n",
      "              max_delta_step=None, max_depth=None, max_leaves=None,\n",
      "              min_child_weight=None, missing=nan, monotone_constraints=None,\n",
      "              n_estimators=100, n_jobs=None, num_parallel_tree=None,\n",
      "              predictor=None, random_state=None, ...), model__learning_rate=1, model__max_depth=6, model__n_estimators=500; total time=  19.9s\n",
      "[CV] END model=XGBClassifier(base_score=None, booster=None, callbacks=None,\n",
      "              colsample_bylevel=None, colsample_bynode=None,\n",
      "              colsample_bytree=None, early_stopping_rounds=None,\n",
      "              enable_categorical=False, eval_metric=None, feature_types=None,\n",
      "              gamma=None, gpu_id=None, grow_policy=None, importance_type=None,\n",
      "              interaction_constraints=None, learning_rate=None, max_bin=None,\n",
      "              max_cat_threshold=None, max_cat_to_onehot=None,\n",
      "              max_delta_step=None, max_depth=None, max_leaves=None,\n",
      "              min_child_weight=None, missing=nan, monotone_constraints=None,\n",
      "              n_estimators=100, n_jobs=None, num_parallel_tree=None,\n",
      "              predictor=None, random_state=None, ...), model__learning_rate=1, model__max_depth=6, model__n_estimators=500; total time=  21.3s\n",
      "[CV] END model=XGBClassifier(base_score=None, booster=None, callbacks=None,\n",
      "              colsample_bylevel=None, colsample_bynode=None,\n",
      "              colsample_bytree=None, early_stopping_rounds=None,\n",
      "              enable_categorical=False, eval_metric=None, feature_types=None,\n",
      "              gamma=None, gpu_id=None, grow_policy=None, importance_type=None,\n",
      "              interaction_constraints=None, learning_rate=None, max_bin=None,\n",
      "              max_cat_threshold=None, max_cat_to_onehot=None,\n",
      "              max_delta_step=None, max_depth=None, max_leaves=None,\n",
      "              min_child_weight=None, missing=nan, monotone_constraints=None,\n",
      "              n_estimators=100, n_jobs=None, num_parallel_tree=None,\n",
      "              predictor=None, random_state=None, ...), model__learning_rate=1, model__max_depth=6, model__n_estimators=1000; total time=  40.3s\n",
      "[CV] END model=XGBClassifier(base_score=None, booster=None, callbacks=None,\n",
      "              colsample_bylevel=None, colsample_bynode=None,\n",
      "              colsample_bytree=None, early_stopping_rounds=None,\n",
      "              enable_categorical=False, eval_metric=None, feature_types=None,\n",
      "              gamma=None, gpu_id=None, grow_policy=None, importance_type=None,\n",
      "              interaction_constraints=None, learning_rate=None, max_bin=None,\n",
      "              max_cat_threshold=None, max_cat_to_onehot=None,\n",
      "              max_delta_step=None, max_depth=None, max_leaves=None,\n",
      "              min_child_weight=None, missing=nan, monotone_constraints=None,\n",
      "              n_estimators=100, n_jobs=None, num_parallel_tree=None,\n",
      "              predictor=None, random_state=None, ...), model__learning_rate=1, model__max_depth=6, model__n_estimators=1000; total time=  40.2s\n",
      "[CV] END model=XGBClassifier(base_score=None, booster=None, callbacks=None,\n",
      "              colsample_bylevel=None, colsample_bynode=None,\n",
      "              colsample_bytree=None, early_stopping_rounds=None,\n",
      "              enable_categorical=False, eval_metric=None, feature_types=None,\n",
      "              gamma=None, gpu_id=None, grow_policy=None, importance_type=None,\n",
      "              interaction_constraints=None, learning_rate=None, max_bin=None,\n",
      "              max_cat_threshold=None, max_cat_to_onehot=None,\n",
      "              max_delta_step=None, max_depth=None, max_leaves=None,\n",
      "              min_child_weight=None, missing=nan, monotone_constraints=None,\n",
      "              n_estimators=100, n_jobs=None, num_parallel_tree=None,\n",
      "              predictor=None, random_state=None, ...), model__learning_rate=0.5, model__max_depth=5, model__n_estimators=500; total time=  16.7s\n",
      "[CV] END model=XGBClassifier(base_score=None, booster=None, callbacks=None,\n",
      "              colsample_bylevel=None, colsample_bynode=None,\n",
      "              colsample_bytree=None, early_stopping_rounds=None,\n",
      "              enable_categorical=False, eval_metric=None, feature_types=None,\n",
      "              gamma=None, gpu_id=None, grow_policy=None, importance_type=None,\n",
      "              interaction_constraints=None, learning_rate=None, max_bin=None,\n",
      "              max_cat_threshold=None, max_cat_to_onehot=None,\n",
      "              max_delta_step=None, max_depth=None, max_leaves=None,\n",
      "              min_child_weight=None, missing=nan, monotone_constraints=None,\n",
      "              n_estimators=100, n_jobs=None, num_parallel_tree=None,\n",
      "              predictor=None, random_state=None, ...), model__learning_rate=0.5, model__max_depth=5, model__n_estimators=500; total time=  16.7s\n",
      "[CV] END model=XGBClassifier(base_score=None, booster=None, callbacks=None,\n",
      "              colsample_bylevel=None, colsample_bynode=None,\n",
      "              colsample_bytree=None, early_stopping_rounds=None,\n",
      "              enable_categorical=False, eval_metric=None, feature_types=None,\n",
      "              gamma=None, gpu_id=None, grow_policy=None, importance_type=None,\n",
      "              interaction_constraints=None, learning_rate=None, max_bin=None,\n",
      "              max_cat_threshold=None, max_cat_to_onehot=None,\n",
      "              max_delta_step=None, max_depth=None, max_leaves=None,\n",
      "              min_child_weight=None, missing=nan, monotone_constraints=None,\n",
      "              n_estimators=100, n_jobs=None, num_parallel_tree=None,\n",
      "              predictor=None, random_state=None, ...), model__learning_rate=0.5, model__max_depth=5, model__n_estimators=1000; total time=  35.1s\n",
      "[CV] END model=XGBClassifier(base_score=None, booster=None, callbacks=None,\n",
      "              colsample_bylevel=None, colsample_bynode=None,\n",
      "              colsample_bytree=None, early_stopping_rounds=None,\n",
      "              enable_categorical=False, eval_metric=None, feature_types=None,\n",
      "              gamma=None, gpu_id=None, grow_policy=None, importance_type=None,\n",
      "              interaction_constraints=None, learning_rate=None, max_bin=None,\n",
      "              max_cat_threshold=None, max_cat_to_onehot=None,\n",
      "              max_delta_step=None, max_depth=None, max_leaves=None,\n",
      "              min_child_weight=None, missing=nan, monotone_constraints=None,\n",
      "              n_estimators=100, n_jobs=None, num_parallel_tree=None,\n",
      "              predictor=None, random_state=None, ...), model__learning_rate=0.5, model__max_depth=5, model__n_estimators=1000; total time=  35.9s\n",
      "[CV] END model=XGBClassifier(base_score=None, booster=None, callbacks=None,\n",
      "              colsample_bylevel=None, colsample_bynode=None,\n",
      "              colsample_bytree=None, early_stopping_rounds=None,\n",
      "              enable_categorical=False, eval_metric=None, feature_types=None,\n",
      "              gamma=None, gpu_id=None, grow_policy=None, importance_type=None,\n",
      "              interaction_constraints=None, learning_rate=None, max_bin=None,\n",
      "              max_cat_threshold=None, max_cat_to_onehot=None,\n",
      "              max_delta_step=None, max_depth=None, max_leaves=None,\n",
      "              min_child_weight=None, missing=nan, monotone_constraints=None,\n",
      "              n_estimators=100, n_jobs=None, num_parallel_tree=None,\n",
      "              predictor=None, random_state=None, ...), model__learning_rate=0.5, model__max_depth=6, model__n_estimators=500; total time=  21.9s\n",
      "[CV] END model=XGBClassifier(base_score=None, booster=None, callbacks=None,\n",
      "              colsample_bylevel=None, colsample_bynode=None,\n",
      "              colsample_bytree=None, early_stopping_rounds=None,\n",
      "              enable_categorical=False, eval_metric=None, feature_types=None,\n",
      "              gamma=None, gpu_id=None, grow_policy=None, importance_type=None,\n",
      "              interaction_constraints=None, learning_rate=None, max_bin=None,\n",
      "              max_cat_threshold=None, max_cat_to_onehot=None,\n",
      "              max_delta_step=None, max_depth=None, max_leaves=None,\n",
      "              min_child_weight=None, missing=nan, monotone_constraints=None,\n",
      "              n_estimators=100, n_jobs=None, num_parallel_tree=None,\n",
      "              predictor=None, random_state=None, ...), model__learning_rate=0.5, model__max_depth=6, model__n_estimators=500; total time=  22.7s\n",
      "[CV] END model=XGBClassifier(base_score=None, booster=None, callbacks=None,\n",
      "              colsample_bylevel=None, colsample_bynode=None,\n",
      "              colsample_bytree=None, early_stopping_rounds=None,\n",
      "              enable_categorical=False, eval_metric=None, feature_types=None,\n",
      "              gamma=None, gpu_id=None, grow_policy=None, importance_type=None,\n",
      "              interaction_constraints=None, learning_rate=None, max_bin=None,\n",
      "              max_cat_threshold=None, max_cat_to_onehot=None,\n",
      "              max_delta_step=None, max_depth=None, max_leaves=None,\n",
      "              min_child_weight=None, missing=nan, monotone_constraints=None,\n",
      "              n_estimators=100, n_jobs=None, num_parallel_tree=None,\n",
      "              predictor=None, random_state=None, ...), model__learning_rate=0.5, model__max_depth=6, model__n_estimators=1000; total time=  45.2s\n",
      "[CV] END model=XGBClassifier(base_score=None, booster=None, callbacks=None,\n",
      "              colsample_bylevel=None, colsample_bynode=None,\n",
      "              colsample_bytree=None, early_stopping_rounds=None,\n",
      "              enable_categorical=False, eval_metric=None, feature_types=None,\n",
      "              gamma=None, gpu_id=None, grow_policy=None, importance_type=None,\n",
      "              interaction_constraints=None, learning_rate=None, max_bin=None,\n",
      "              max_cat_threshold=None, max_cat_to_onehot=None,\n",
      "              max_delta_step=None, max_depth=None, max_leaves=None,\n",
      "              min_child_weight=None, missing=nan, monotone_constraints=None,\n",
      "              n_estimators=100, n_jobs=None, num_parallel_tree=None,\n",
      "              predictor=None, random_state=None, ...), model__learning_rate=0.5, model__max_depth=6, model__n_estimators=1000; total time=  44.5s\n"
     ]
    }
   ],
   "source": [
    "estimators = [('model', XGBClassifier())]\n",
    "\n",
    "pipe = Pipeline(estimators)\n",
    "\n",
    "param_grid = {\n",
    "    'model': [XGBClassifier()],\n",
    "    'model__max_depth': [5, 6],\n",
    "    'model__learning_rate': [1, 0.5],\n",
    "    'model__n_estimators': [500, 1000],\n",
    "}\n",
    "\n",
    "grid2 = GridSearchCV(pipe, param_grid, cv=2, verbose=2)\n",
    "fittedgrid2 = grid2.fit(X_remainder_scaled, y_remainder_sample)"
   ]
  },
  {
   "cell_type": "code",
   "execution_count": 72,
   "id": "da14f47a",
   "metadata": {},
   "outputs": [],
   "source": [
    "# Get the best parameters and score\n",
    "best_params = grid2.best_params_\n",
    "best_score = grid2.best_score_"
   ]
  },
  {
   "cell_type": "code",
   "execution_count": 73,
   "id": "01b29e54",
   "metadata": {},
   "outputs": [
    {
     "data": {
      "text/plain": [
       "{'model': XGBClassifier(base_score=None, booster=None, callbacks=None,\n",
       "               colsample_bylevel=None, colsample_bynode=None,\n",
       "               colsample_bytree=None, early_stopping_rounds=None,\n",
       "               enable_categorical=False, eval_metric=None, feature_types=None,\n",
       "               gamma=None, gpu_id=None, grow_policy=None, importance_type=None,\n",
       "               interaction_constraints=None, learning_rate=0.5, max_bin=None,\n",
       "               max_cat_threshold=None, max_cat_to_onehot=None,\n",
       "               max_delta_step=None, max_depth=5, max_leaves=None,\n",
       "               min_child_weight=None, missing=nan, monotone_constraints=None,\n",
       "               n_estimators=500, n_jobs=None, num_parallel_tree=None,\n",
       "               predictor=None, random_state=None, ...),\n",
       " 'model__learning_rate': 0.5,\n",
       " 'model__max_depth': 5,\n",
       " 'model__n_estimators': 500}"
      ]
     },
     "execution_count": 73,
     "metadata": {},
     "output_type": "execute_result"
    }
   ],
   "source": [
    "best_params"
   ]
  },
  {
   "cell_type": "code",
   "execution_count": 74,
   "id": "049c683f",
   "metadata": {
    "scrolled": true
   },
   "outputs": [
    {
     "name": "stdout",
     "output_type": "stream",
     "text": [
      "              precision    recall  f1-score   support\n",
      "\n",
      "           0       0.76      0.67      0.71      3931\n",
      "           1       0.80      0.87      0.83      6069\n",
      "\n",
      "    accuracy                           0.79     10000\n",
      "   macro avg       0.78      0.77      0.77     10000\n",
      "weighted avg       0.79      0.79      0.78     10000\n",
      "\n"
     ]
    }
   ],
   "source": [
    "y_pred = grid2.predict(X_test_scaled2)\n",
    "print(classification_report(y_test_sample, y_pred))"
   ]
  },
  {
   "cell_type": "markdown",
   "id": "b8d41642",
   "metadata": {},
   "source": [
    "## 2nd model"
   ]
  },
  {
   "cell_type": "code",
   "execution_count": 63,
   "id": "be3de784",
   "metadata": {},
   "outputs": [],
   "source": [
    "X_train_review_sample = X_train_sample['review_body']\n",
    "X_valid_review_sample = X_valid_sample['review_body']\n",
    "X_test_review_sample = X_test_sample['review_body']\n",
    "\n",
    "# X_remainder will be needed for when cv is being done\n",
    "X_remainder_review_sample = X_remainder_sample['review_body']"
   ]
  },
  {
   "cell_type": "code",
   "execution_count": 64,
   "id": "76b84e4b",
   "metadata": {},
   "outputs": [],
   "source": [
    "# sampled_df = sampled_df.drop(columns=['product_title', 'review_headline', 'review_body'])"
   ]
  },
  {
   "cell_type": "code",
   "execution_count": 65,
   "id": "b2663419",
   "metadata": {
    "scrolled": true
   },
   "outputs": [
    {
     "name": "stdout",
     "output_type": "stream",
     "text": [
      "CPU times: total: 6.19 s\n",
      "Wall time: 8.55 s\n"
     ]
    }
   ],
   "source": [
    "%%time\n",
    "# Instantiate\n",
    "stemmer = PorterStemmer()\n",
    "\n",
    "bag_body = CountVectorizer(stop_words=\"english\", min_df=250, ngram_range=(1,2))\n",
    "\n",
    "# Fitting \n",
    "bag_body.fit(X_train_review_sample)\n",
    "\n",
    "\n",
    "# Transform\n",
    "train_bag_sample = bag_body.transform(X_train_review_sample)\n",
    "valid_bag_sample = bag_body.transform(X_valid_review_sample)\n",
    "test_bag_sample = bag_body.transform(X_test_review_sample)"
   ]
  },
  {
   "cell_type": "code",
   "execution_count": 66,
   "id": "1605fd20",
   "metadata": {},
   "outputs": [
    {
     "name": "stdout",
     "output_type": "stream",
     "text": [
      "CPU times: total: 6.91 s\n",
      "Wall time: 8.78 s\n"
     ]
    }
   ],
   "source": [
    "%%time\n",
    "# This one is for X_remainder when cv is not done \n",
    "\n",
    "### For X_remainder\n",
    "bag_body2 = CountVectorizer(stop_words=\"english\", min_df=250, ngram_range=(1,2))\n",
    "bag_body2.fit(X_remainder_review_sample)\n",
    "remainder_bag_sample = bag_body2.transform(X_remainder_review_sample)\n",
    "test_bag_sample2 = bag_body2.transform(X_test_review_sample)"
   ]
  },
  {
   "cell_type": "code",
   "execution_count": 67,
   "id": "eeaab7c8",
   "metadata": {},
   "outputs": [],
   "source": [
    "X_train_headline_sample = X_train_sample['review_headline']\n",
    "X_valid_headline_sample = X_valid_sample['review_headline']\n",
    "X_test_headline_sample = X_test_sample['review_headline']\n",
    "# X_remainder will be needed for when cv is being done\n",
    "X_remainder_headline_sample = X_remainder_sample['review_headline']"
   ]
  },
  {
   "cell_type": "code",
   "execution_count": 68,
   "id": "45be3d24",
   "metadata": {},
   "outputs": [
    {
     "name": "stdout",
     "output_type": "stream",
     "text": [
      "CPU times: total: 953 ms\n",
      "Wall time: 1.08 s\n"
     ]
    }
   ],
   "source": [
    "%%time\n",
    "# Instantiate\n",
    "bag_headline = CountVectorizer(stop_words=\"english\", min_df=50, ngram_range=(1,2))\n",
    "\n",
    "# Fitting \n",
    "bag_headline.fit(X_train_headline_sample)\n",
    "\n",
    "# Transform\n",
    "train_headline_sample = bag_headline.transform(X_train_headline_sample)\n",
    "valid_headline_sample = bag_headline.transform(X_valid_headline_sample)\n",
    "test_headline_sample = bag_headline.transform(X_test_headline_sample)"
   ]
  },
  {
   "cell_type": "code",
   "execution_count": 69,
   "id": "2fa023f5",
   "metadata": {},
   "outputs": [
    {
     "name": "stdout",
     "output_type": "stream",
     "text": [
      "CPU times: total: 844 ms\n",
      "Wall time: 1.13 s\n"
     ]
    }
   ],
   "source": [
    "%%time\n",
    "# For X_remainder\n",
    "bag_headline2 = CountVectorizer(stop_words=\"english\", min_df=50)\n",
    "bag_headline2.fit(X_remainder_headline_sample)\n",
    "remainder_headline_sample = bag_headline2.transform(X_remainder_headline_sample)\n",
    "test_headline_sample2 = bag_headline2.transform(X_test_headline_sample)"
   ]
  },
  {
   "cell_type": "code",
   "execution_count": 70,
   "id": "f345c8f0",
   "metadata": {},
   "outputs": [
    {
     "data": {
      "text/plain": [
       "array(['10', 'absolutely', 'adorable', 'amazing', 'amazon', 'arch',\n",
       "       'arch support', 'asics', 'awesome', 'awesome shoes', 'bad', 'bag',\n",
       "       'balance', 'beautiful', 'best', 'best shoes', 'better', 'big',\n",
       "       'bigger', 'bit', 'black', 'boot', 'boots', 'bought', 'box',\n",
       "       'brand', 'buy', 'casual', 'cheap', 'clarks', 'color', 'comfort',\n",
       "       'comfortable', 'comfortable shoe', 'comfortable shoes', 'comfy',\n",
       "       'cool', 'crocs', 'cute', 'cute comfortable', 'cute comfy',\n",
       "       'cute shoe', 'cute shoes', 'daughter', 'day', 'design', 'did',\n",
       "       'didn', 'disappointed', 'does', 'don', 'durable', 'easy', 'em',\n",
       "       'excellent', 'expected', 'extremely', 'fantastic', 'far', 'fast',\n",
       "       'favorite', 'feel', 'feet', 'fine', 'fit', 'fit great', 'fits',\n",
       "       'flat', 'flip', 'flip flop', 'flip flops', 'flop', 'flops', 'foot',\n",
       "       'fun', 'gift', 'good', 'good fit', 'good looking', 'good price',\n",
       "       'good quality', 'good shoe', 'good shoes', 'gorgeous', 'got',\n",
       "       'great', 'great boot', 'great boots', 'great buy', 'great fit',\n",
       "       'great looking', 'great price', 'great product', 'great quality',\n",
       "       'great shoe', 'great shoes', 'half', 'half size', 'happy', 'hard',\n",
       "       'heel', 'high', 'husband', 'just', 'large', 'larger', 'leather',\n",
       "       'light', 'like', 'little', 'long', 'look', 'look great', 'looking',\n",
       "       'looking shoe', 'looks', 'lot', 'love', 'love boots', 'love em',\n",
       "       'love love', 'love shoe', 'love shoes', 'loved', 'loves', 'men',\n",
       "       'money', 'narrow', 'need', 'new', 'new balance', 'nice',\n",
       "       'nice boots', 'nice looking', 'nice shoe', 'nice shoes', 'ok',\n",
       "       'okay', 'old', 'order', 'order size', 'ordered', 'owned', 'pair',\n",
       "       'perfect', 'perfect fit', 'pleased', 'poor', 'pretty', 'price',\n",
       "       'product', 'purchase', 'quality', 'really', 'recommend', 'return',\n",
       "       'review', 'right', 'run', 'running', 'running shoe',\n",
       "       'running shoes', 'runs', 'runs small', 'sandal', 'sandals',\n",
       "       'satisfied', 'second', 'sexy', 'shoe', 'shoes', 'shoes great',\n",
       "       'size', 'sizes', 'sizing', 'skechers', 'slip', 'slipper',\n",
       "       'slippers', 'small', 'smaller', 'sneaker', 'sneakers', 'soft',\n",
       "       'sole', 'son', 'star', 'stars', 'style', 'stylish', 'summer',\n",
       "       'super', 'super cute', 'support', 'tight', 'time', 'toe', 'true',\n",
       "       'true size', 'uncomfortable', 'use', 'value', 've', 'walk',\n",
       "       'walking', 'wanted', 'warm', 'way', 'wear', 'wearing', 'wide',\n",
       "       'width', 'wish', 'women', 'wonderful', 'work', 'worn', 'worth',\n",
       "       'wrong', 'year'], dtype=object)"
      ]
     },
     "execution_count": 70,
     "metadata": {},
     "output_type": "execute_result"
    }
   ],
   "source": [
    "bag_headline.get_feature_names_out()"
   ]
  },
  {
   "cell_type": "code",
   "execution_count": 71,
   "id": "5f885c5b",
   "metadata": {},
   "outputs": [],
   "source": [
    "# combining headline and bag counts\n",
    "train_count = sp.hstack([train_headline_sample, train_bag_sample])\n",
    "valid_count = sp.hstack([valid_headline_sample, valid_bag_sample])\n",
    "test_count = sp.hstack([test_headline_sample, test_bag_sample])"
   ]
  },
  {
   "cell_type": "code",
   "execution_count": 72,
   "id": "9bf3ca8d",
   "metadata": {},
   "outputs": [],
   "source": [
    "# combining headline and bag counts\n",
    "remainder_count = sp.hstack([remainder_headline_sample, remainder_bag_sample])\n",
    "test_count2 = sp.hstack([test_headline_sample2, test_bag_sample2])"
   ]
  },
  {
   "cell_type": "code",
   "execution_count": 73,
   "id": "661ed294",
   "metadata": {},
   "outputs": [
    {
     "data": {
      "text/plain": [
       "<28000x585 sparse matrix of type '<class 'numpy.int64'>'\n",
       "\twith 355197 stored elements in Compressed Sparse Row format>"
      ]
     },
     "execution_count": 73,
     "metadata": {},
     "output_type": "execute_result"
    }
   ],
   "source": [
    "train_count"
   ]
  },
  {
   "cell_type": "code",
   "execution_count": 74,
   "id": "529d03e7",
   "metadata": {},
   "outputs": [],
   "source": [
    "body_words = bag_body.get_feature_names_out()\n",
    "tagged_body_words = ['b_' + feature for feature in body_words]\n",
    "headline_words = bag_headline.get_feature_names_out()\n",
    "tagged_headline_words = ['h_' + feature for feature in headline_words]\n",
    "sample_vocab = tagged_headline_words + tagged_body_words"
   ]
  },
  {
   "cell_type": "code",
   "execution_count": 75,
   "id": "288afcd1",
   "metadata": {},
   "outputs": [],
   "source": [
    "# FOR X_REMAINDER\n",
    "body_words2 = bag_body2.get_feature_names_out()\n",
    "tagged_body_words2 = ['b_' + feature for feature in body_words2]\n",
    "headline_words2 = bag_headline2.get_feature_names_out()\n",
    "tagged_headline_words2 = ['h_' + feature for feature in headline_words2]\n",
    "sample_vocab2 = tagged_headline_words2 + tagged_body_words2"
   ]
  },
  {
   "cell_type": "code",
   "execution_count": 76,
   "id": "41e5d950",
   "metadata": {},
   "outputs": [
    {
     "data": {
      "text/plain": [
       "585"
      ]
     },
     "execution_count": 76,
     "metadata": {},
     "output_type": "execute_result"
    }
   ],
   "source": [
    "len(sample_vocab)"
   ]
  },
  {
   "cell_type": "code",
   "execution_count": 77,
   "id": "87fdb0db",
   "metadata": {},
   "outputs": [
    {
     "data": {
      "text/plain": [
       "<28000x585 sparse matrix of type '<class 'numpy.int64'>'\n",
       "\twith 355197 stored elements in Compressed Sparse Row format>"
      ]
     },
     "execution_count": 77,
     "metadata": {},
     "output_type": "execute_result"
    }
   ],
   "source": [
    "train_count"
   ]
  },
  {
   "cell_type": "code",
   "execution_count": 78,
   "id": "7f2cb834",
   "metadata": {},
   "outputs": [],
   "source": [
    "train_df = pd.DataFrame(train_count.toarray(), columns=sample_vocab)\n",
    "valid_df = pd.DataFrame(valid_count.toarray(), columns=sample_vocab)\n",
    "test_df = pd.DataFrame(test_count.toarray(), columns=sample_vocab)"
   ]
  },
  {
   "cell_type": "code",
   "execution_count": 79,
   "id": "2e5c9c6e",
   "metadata": {},
   "outputs": [],
   "source": [
    "# For X_remainder\n",
    "remainder_df = pd.DataFrame(remainder_count.toarray(), columns=sample_vocab2)\n",
    "test_df2 = pd.DataFrame(test_count2.toarray(), columns=sample_vocab2)"
   ]
  },
  {
   "cell_type": "code",
   "execution_count": 80,
   "id": "c999311b",
   "metadata": {},
   "outputs": [],
   "source": [
    "X_train_sample = X_train_sample.reset_index(drop=True).drop(columns=['product_title', 'review_headline', 'review_body'])\n",
    "X_valid_sample = X_valid_sample.reset_index(drop=True).drop(columns=['product_title', 'review_headline', 'review_body'])\n",
    "X_test_sample = X_test_sample.reset_index(drop=True).drop(columns=['product_title', 'review_headline', 'review_body'])"
   ]
  },
  {
   "cell_type": "code",
   "execution_count": 81,
   "id": "200e7379",
   "metadata": {},
   "outputs": [],
   "source": [
    "# For X_remainder\n",
    "X_remainder_sample = X_remainder_sample.reset_index(drop=True).drop(columns=['product_title', 'review_headline', 'review_body'])"
   ]
  },
  {
   "cell_type": "code",
   "execution_count": 82,
   "id": "ef7dd532",
   "metadata": {},
   "outputs": [],
   "source": [
    "combined_train = pd.concat([X_train_sample, train_df], axis=1)\n",
    "combined_valid = pd.concat([X_valid_sample, valid_df], axis=1)\n",
    "combined_test = pd.concat([X_test_sample, test_df], axis=1)"
   ]
  },
  {
   "cell_type": "code",
   "execution_count": 83,
   "id": "8fb12a2f",
   "metadata": {},
   "outputs": [],
   "source": [
    "# For X_remainder\n",
    "combined_remainder = pd.concat([X_remainder_sample, remainder_df], axis=1)\n",
    "combined_test2 = pd.concat([X_test_sample, test_df2], axis=1)"
   ]
  },
  {
   "cell_type": "code",
   "execution_count": 84,
   "id": "230bb231",
   "metadata": {},
   "outputs": [
    {
     "data": {
      "text/html": [
       "<div>\n",
       "<style scoped>\n",
       "    .dataframe tbody tr th:only-of-type {\n",
       "        vertical-align: middle;\n",
       "    }\n",
       "\n",
       "    .dataframe tbody tr th {\n",
       "        vertical-align: top;\n",
       "    }\n",
       "\n",
       "    .dataframe thead th {\n",
       "        text-align: right;\n",
       "    }\n",
       "</style>\n",
       "<table border=\"1\" class=\"dataframe\">\n",
       "  <thead>\n",
       "    <tr style=\"text-align: right;\">\n",
       "      <th></th>\n",
       "      <th>helpful_votes</th>\n",
       "      <th>verified_purchase</th>\n",
       "      <th>year</th>\n",
       "      <th>month</th>\n",
       "      <th>h_10</th>\n",
       "      <th>h_absolutely</th>\n",
       "      <th>h_adorable</th>\n",
       "      <th>h_amazing</th>\n",
       "      <th>h_amazon</th>\n",
       "      <th>h_ankle</th>\n",
       "      <th>...</th>\n",
       "      <th>b_working</th>\n",
       "      <th>b_works</th>\n",
       "      <th>b_worn</th>\n",
       "      <th>b_worth</th>\n",
       "      <th>b_wouldn</th>\n",
       "      <th>b_wrong</th>\n",
       "      <th>b_year</th>\n",
       "      <th>b_year old</th>\n",
       "      <th>b_years</th>\n",
       "      <th>b_zipper</th>\n",
       "    </tr>\n",
       "  </thead>\n",
       "  <tbody>\n",
       "    <tr>\n",
       "      <th>0</th>\n",
       "      <td>0</td>\n",
       "      <td>1</td>\n",
       "      <td>2010</td>\n",
       "      <td>8</td>\n",
       "      <td>0</td>\n",
       "      <td>0</td>\n",
       "      <td>0</td>\n",
       "      <td>0</td>\n",
       "      <td>0</td>\n",
       "      <td>0</td>\n",
       "      <td>...</td>\n",
       "      <td>0</td>\n",
       "      <td>0</td>\n",
       "      <td>0</td>\n",
       "      <td>2</td>\n",
       "      <td>0</td>\n",
       "      <td>0</td>\n",
       "      <td>0</td>\n",
       "      <td>0</td>\n",
       "      <td>0</td>\n",
       "      <td>0</td>\n",
       "    </tr>\n",
       "    <tr>\n",
       "      <th>1</th>\n",
       "      <td>0</td>\n",
       "      <td>1</td>\n",
       "      <td>2011</td>\n",
       "      <td>8</td>\n",
       "      <td>0</td>\n",
       "      <td>0</td>\n",
       "      <td>0</td>\n",
       "      <td>0</td>\n",
       "      <td>0</td>\n",
       "      <td>0</td>\n",
       "      <td>...</td>\n",
       "      <td>0</td>\n",
       "      <td>0</td>\n",
       "      <td>0</td>\n",
       "      <td>0</td>\n",
       "      <td>0</td>\n",
       "      <td>0</td>\n",
       "      <td>0</td>\n",
       "      <td>0</td>\n",
       "      <td>0</td>\n",
       "      <td>0</td>\n",
       "    </tr>\n",
       "    <tr>\n",
       "      <th>2</th>\n",
       "      <td>0</td>\n",
       "      <td>1</td>\n",
       "      <td>2013</td>\n",
       "      <td>5</td>\n",
       "      <td>0</td>\n",
       "      <td>0</td>\n",
       "      <td>0</td>\n",
       "      <td>0</td>\n",
       "      <td>0</td>\n",
       "      <td>0</td>\n",
       "      <td>...</td>\n",
       "      <td>0</td>\n",
       "      <td>0</td>\n",
       "      <td>0</td>\n",
       "      <td>0</td>\n",
       "      <td>0</td>\n",
       "      <td>0</td>\n",
       "      <td>0</td>\n",
       "      <td>0</td>\n",
       "      <td>0</td>\n",
       "      <td>0</td>\n",
       "    </tr>\n",
       "    <tr>\n",
       "      <th>3</th>\n",
       "      <td>0</td>\n",
       "      <td>1</td>\n",
       "      <td>2013</td>\n",
       "      <td>12</td>\n",
       "      <td>0</td>\n",
       "      <td>0</td>\n",
       "      <td>0</td>\n",
       "      <td>0</td>\n",
       "      <td>0</td>\n",
       "      <td>0</td>\n",
       "      <td>...</td>\n",
       "      <td>0</td>\n",
       "      <td>0</td>\n",
       "      <td>0</td>\n",
       "      <td>0</td>\n",
       "      <td>0</td>\n",
       "      <td>0</td>\n",
       "      <td>0</td>\n",
       "      <td>0</td>\n",
       "      <td>0</td>\n",
       "      <td>0</td>\n",
       "    </tr>\n",
       "    <tr>\n",
       "      <th>4</th>\n",
       "      <td>0</td>\n",
       "      <td>0</td>\n",
       "      <td>2015</td>\n",
       "      <td>8</td>\n",
       "      <td>0</td>\n",
       "      <td>0</td>\n",
       "      <td>0</td>\n",
       "      <td>0</td>\n",
       "      <td>0</td>\n",
       "      <td>0</td>\n",
       "      <td>...</td>\n",
       "      <td>0</td>\n",
       "      <td>0</td>\n",
       "      <td>0</td>\n",
       "      <td>0</td>\n",
       "      <td>0</td>\n",
       "      <td>0</td>\n",
       "      <td>1</td>\n",
       "      <td>0</td>\n",
       "      <td>0</td>\n",
       "      <td>0</td>\n",
       "    </tr>\n",
       "    <tr>\n",
       "      <th>...</th>\n",
       "      <td>...</td>\n",
       "      <td>...</td>\n",
       "      <td>...</td>\n",
       "      <td>...</td>\n",
       "      <td>...</td>\n",
       "      <td>...</td>\n",
       "      <td>...</td>\n",
       "      <td>...</td>\n",
       "      <td>...</td>\n",
       "      <td>...</td>\n",
       "      <td>...</td>\n",
       "      <td>...</td>\n",
       "      <td>...</td>\n",
       "      <td>...</td>\n",
       "      <td>...</td>\n",
       "      <td>...</td>\n",
       "      <td>...</td>\n",
       "      <td>...</td>\n",
       "      <td>...</td>\n",
       "      <td>...</td>\n",
       "      <td>...</td>\n",
       "    </tr>\n",
       "    <tr>\n",
       "      <th>9995</th>\n",
       "      <td>0</td>\n",
       "      <td>1</td>\n",
       "      <td>2014</td>\n",
       "      <td>12</td>\n",
       "      <td>0</td>\n",
       "      <td>0</td>\n",
       "      <td>0</td>\n",
       "      <td>0</td>\n",
       "      <td>0</td>\n",
       "      <td>0</td>\n",
       "      <td>...</td>\n",
       "      <td>0</td>\n",
       "      <td>0</td>\n",
       "      <td>0</td>\n",
       "      <td>0</td>\n",
       "      <td>0</td>\n",
       "      <td>0</td>\n",
       "      <td>0</td>\n",
       "      <td>0</td>\n",
       "      <td>0</td>\n",
       "      <td>0</td>\n",
       "    </tr>\n",
       "    <tr>\n",
       "      <th>9996</th>\n",
       "      <td>1</td>\n",
       "      <td>1</td>\n",
       "      <td>2015</td>\n",
       "      <td>2</td>\n",
       "      <td>0</td>\n",
       "      <td>0</td>\n",
       "      <td>0</td>\n",
       "      <td>0</td>\n",
       "      <td>0</td>\n",
       "      <td>0</td>\n",
       "      <td>...</td>\n",
       "      <td>0</td>\n",
       "      <td>0</td>\n",
       "      <td>0</td>\n",
       "      <td>0</td>\n",
       "      <td>0</td>\n",
       "      <td>0</td>\n",
       "      <td>0</td>\n",
       "      <td>0</td>\n",
       "      <td>0</td>\n",
       "      <td>1</td>\n",
       "    </tr>\n",
       "    <tr>\n",
       "      <th>9997</th>\n",
       "      <td>0</td>\n",
       "      <td>1</td>\n",
       "      <td>2015</td>\n",
       "      <td>6</td>\n",
       "      <td>0</td>\n",
       "      <td>0</td>\n",
       "      <td>0</td>\n",
       "      <td>0</td>\n",
       "      <td>0</td>\n",
       "      <td>0</td>\n",
       "      <td>...</td>\n",
       "      <td>0</td>\n",
       "      <td>0</td>\n",
       "      <td>0</td>\n",
       "      <td>0</td>\n",
       "      <td>0</td>\n",
       "      <td>0</td>\n",
       "      <td>0</td>\n",
       "      <td>0</td>\n",
       "      <td>0</td>\n",
       "      <td>0</td>\n",
       "    </tr>\n",
       "    <tr>\n",
       "      <th>9998</th>\n",
       "      <td>0</td>\n",
       "      <td>1</td>\n",
       "      <td>2008</td>\n",
       "      <td>8</td>\n",
       "      <td>0</td>\n",
       "      <td>0</td>\n",
       "      <td>0</td>\n",
       "      <td>0</td>\n",
       "      <td>0</td>\n",
       "      <td>0</td>\n",
       "      <td>...</td>\n",
       "      <td>0</td>\n",
       "      <td>0</td>\n",
       "      <td>0</td>\n",
       "      <td>0</td>\n",
       "      <td>0</td>\n",
       "      <td>0</td>\n",
       "      <td>0</td>\n",
       "      <td>0</td>\n",
       "      <td>0</td>\n",
       "      <td>0</td>\n",
       "    </tr>\n",
       "    <tr>\n",
       "      <th>9999</th>\n",
       "      <td>0</td>\n",
       "      <td>1</td>\n",
       "      <td>2015</td>\n",
       "      <td>5</td>\n",
       "      <td>0</td>\n",
       "      <td>0</td>\n",
       "      <td>0</td>\n",
       "      <td>0</td>\n",
       "      <td>0</td>\n",
       "      <td>0</td>\n",
       "      <td>...</td>\n",
       "      <td>0</td>\n",
       "      <td>0</td>\n",
       "      <td>1</td>\n",
       "      <td>0</td>\n",
       "      <td>0</td>\n",
       "      <td>0</td>\n",
       "      <td>0</td>\n",
       "      <td>0</td>\n",
       "      <td>0</td>\n",
       "      <td>0</td>\n",
       "    </tr>\n",
       "  </tbody>\n",
       "</table>\n",
       "<p>10000 rows × 736 columns</p>\n",
       "</div>"
      ],
      "text/plain": [
       "      helpful_votes  verified_purchase  year  month  h_10  h_absolutely  \\\n",
       "0                 0                  1  2010      8     0             0   \n",
       "1                 0                  1  2011      8     0             0   \n",
       "2                 0                  1  2013      5     0             0   \n",
       "3                 0                  1  2013     12     0             0   \n",
       "4                 0                  0  2015      8     0             0   \n",
       "...             ...                ...   ...    ...   ...           ...   \n",
       "9995              0                  1  2014     12     0             0   \n",
       "9996              1                  1  2015      2     0             0   \n",
       "9997              0                  1  2015      6     0             0   \n",
       "9998              0                  1  2008      8     0             0   \n",
       "9999              0                  1  2015      5     0             0   \n",
       "\n",
       "      h_adorable  h_amazing  h_amazon  h_ankle  ...  b_working  b_works  \\\n",
       "0              0          0         0        0  ...          0        0   \n",
       "1              0          0         0        0  ...          0        0   \n",
       "2              0          0         0        0  ...          0        0   \n",
       "3              0          0         0        0  ...          0        0   \n",
       "4              0          0         0        0  ...          0        0   \n",
       "...          ...        ...       ...      ...  ...        ...      ...   \n",
       "9995           0          0         0        0  ...          0        0   \n",
       "9996           0          0         0        0  ...          0        0   \n",
       "9997           0          0         0        0  ...          0        0   \n",
       "9998           0          0         0        0  ...          0        0   \n",
       "9999           0          0         0        0  ...          0        0   \n",
       "\n",
       "      b_worn  b_worth  b_wouldn  b_wrong  b_year  b_year old  b_years  \\\n",
       "0          0        2         0        0       0           0        0   \n",
       "1          0        0         0        0       0           0        0   \n",
       "2          0        0         0        0       0           0        0   \n",
       "3          0        0         0        0       0           0        0   \n",
       "4          0        0         0        0       1           0        0   \n",
       "...      ...      ...       ...      ...     ...         ...      ...   \n",
       "9995       0        0         0        0       0           0        0   \n",
       "9996       0        0         0        0       0           0        0   \n",
       "9997       0        0         0        0       0           0        0   \n",
       "9998       0        0         0        0       0           0        0   \n",
       "9999       1        0         0        0       0           0        0   \n",
       "\n",
       "      b_zipper  \n",
       "0            0  \n",
       "1            0  \n",
       "2            0  \n",
       "3            0  \n",
       "4            0  \n",
       "...        ...  \n",
       "9995         0  \n",
       "9996         1  \n",
       "9997         0  \n",
       "9998         0  \n",
       "9999         0  \n",
       "\n",
       "[10000 rows x 736 columns]"
      ]
     },
     "execution_count": 84,
     "metadata": {},
     "output_type": "execute_result"
    }
   ],
   "source": [
    "combined_test2"
   ]
  },
  {
   "cell_type": "code",
   "execution_count": 85,
   "id": "466e09ab",
   "metadata": {},
   "outputs": [],
   "source": [
    "# Instantiate\n",
    "ss = StandardScaler()\n",
    "\n",
    "# Fit and tranform\n",
    "X_train_scaled = ss.fit_transform(combined_train)\n",
    "X_valid_scaled = ss.transform(combined_valid)\n",
    "X_test_scaled = ss.transform(combined_test)"
   ]
  },
  {
   "cell_type": "code",
   "execution_count": 86,
   "id": "2ce2e9d2",
   "metadata": {},
   "outputs": [],
   "source": [
    "# For X_remainder\n",
    "ss2 = StandardScaler()\n",
    "X_remainder_scaled = ss.fit_transform(combined_remainder)\n",
    "X_test_scaled2 = ss.transform(combined_test2)"
   ]
  },
  {
   "cell_type": "markdown",
   "id": "6147e9fe",
   "metadata": {},
   "source": [
    "#### Logistic Regression"
   ]
  },
  {
   "cell_type": "code",
   "execution_count": 88,
   "id": "172638d7",
   "metadata": {},
   "outputs": [
    {
     "ename": "KeyboardInterrupt",
     "evalue": "",
     "output_type": "error",
     "traceback": [
      "\u001b[1;31m---------------------------------------------------------------------------\u001b[0m",
      "\u001b[1;31mKeyboardInterrupt\u001b[0m                         Traceback (most recent call last)",
      "Cell \u001b[1;32mIn[88], line 8\u001b[0m\n\u001b[0;32m      6\u001b[0m \u001b[38;5;28;01mfor\u001b[39;00m c \u001b[38;5;129;01min\u001b[39;00m C_range:\n\u001b[0;32m      7\u001b[0m     log \u001b[38;5;241m=\u001b[39m LogisticRegression(C\u001b[38;5;241m=\u001b[39mc,random_state\u001b[38;5;241m=\u001b[39m\u001b[38;5;241m1\u001b[39m, max_iter\u001b[38;5;241m=\u001b[39m\u001b[38;5;241m10000\u001b[39m)\n\u001b[1;32m----> 8\u001b[0m     \u001b[43mlog\u001b[49m\u001b[38;5;241;43m.\u001b[39;49m\u001b[43mfit\u001b[49m\u001b[43m(\u001b[49m\u001b[43mX_train_scaled\u001b[49m\u001b[43m,\u001b[49m\u001b[43m \u001b[49m\u001b[43my_train_sample\u001b[49m\u001b[43m)\u001b[49m\n\u001b[0;32m      9\u001b[0m     scores\u001b[38;5;241m.\u001b[39mappend(log\u001b[38;5;241m.\u001b[39mscore(X_valid_scaled, y_valid_sample))\n\u001b[0;32m     11\u001b[0m plt\u001b[38;5;241m.\u001b[39mfigure()\n",
      "File \u001b[1;32mB:\\Programs\\Anaconda\\lib\\site-packages\\sklearn\\linear_model\\_logistic.py:1291\u001b[0m, in \u001b[0;36mLogisticRegression.fit\u001b[1;34m(self, X, y, sample_weight)\u001b[0m\n\u001b[0;32m   1288\u001b[0m \u001b[38;5;28;01melse\u001b[39;00m:\n\u001b[0;32m   1289\u001b[0m     n_threads \u001b[38;5;241m=\u001b[39m \u001b[38;5;241m1\u001b[39m\n\u001b[1;32m-> 1291\u001b[0m fold_coefs_ \u001b[38;5;241m=\u001b[39m \u001b[43mParallel\u001b[49m\u001b[43m(\u001b[49m\u001b[43mn_jobs\u001b[49m\u001b[38;5;241;43m=\u001b[39;49m\u001b[38;5;28;43mself\u001b[39;49m\u001b[38;5;241;43m.\u001b[39;49m\u001b[43mn_jobs\u001b[49m\u001b[43m,\u001b[49m\u001b[43m \u001b[49m\u001b[43mverbose\u001b[49m\u001b[38;5;241;43m=\u001b[39;49m\u001b[38;5;28;43mself\u001b[39;49m\u001b[38;5;241;43m.\u001b[39;49m\u001b[43mverbose\u001b[49m\u001b[43m,\u001b[49m\u001b[43m \u001b[49m\u001b[43mprefer\u001b[49m\u001b[38;5;241;43m=\u001b[39;49m\u001b[43mprefer\u001b[49m\u001b[43m)\u001b[49m\u001b[43m(\u001b[49m\n\u001b[0;32m   1292\u001b[0m \u001b[43m    \u001b[49m\u001b[43mpath_func\u001b[49m\u001b[43m(\u001b[49m\n\u001b[0;32m   1293\u001b[0m \u001b[43m        \u001b[49m\u001b[43mX\u001b[49m\u001b[43m,\u001b[49m\n\u001b[0;32m   1294\u001b[0m \u001b[43m        \u001b[49m\u001b[43my\u001b[49m\u001b[43m,\u001b[49m\n\u001b[0;32m   1295\u001b[0m \u001b[43m        \u001b[49m\u001b[43mpos_class\u001b[49m\u001b[38;5;241;43m=\u001b[39;49m\u001b[43mclass_\u001b[49m\u001b[43m,\u001b[49m\n\u001b[0;32m   1296\u001b[0m \u001b[43m        \u001b[49m\u001b[43mCs\u001b[49m\u001b[38;5;241;43m=\u001b[39;49m\u001b[43m[\u001b[49m\u001b[43mC_\u001b[49m\u001b[43m]\u001b[49m\u001b[43m,\u001b[49m\n\u001b[0;32m   1297\u001b[0m \u001b[43m        \u001b[49m\u001b[43ml1_ratio\u001b[49m\u001b[38;5;241;43m=\u001b[39;49m\u001b[38;5;28;43mself\u001b[39;49m\u001b[38;5;241;43m.\u001b[39;49m\u001b[43ml1_ratio\u001b[49m\u001b[43m,\u001b[49m\n\u001b[0;32m   1298\u001b[0m \u001b[43m        \u001b[49m\u001b[43mfit_intercept\u001b[49m\u001b[38;5;241;43m=\u001b[39;49m\u001b[38;5;28;43mself\u001b[39;49m\u001b[38;5;241;43m.\u001b[39;49m\u001b[43mfit_intercept\u001b[49m\u001b[43m,\u001b[49m\n\u001b[0;32m   1299\u001b[0m \u001b[43m        \u001b[49m\u001b[43mtol\u001b[49m\u001b[38;5;241;43m=\u001b[39;49m\u001b[38;5;28;43mself\u001b[39;49m\u001b[38;5;241;43m.\u001b[39;49m\u001b[43mtol\u001b[49m\u001b[43m,\u001b[49m\n\u001b[0;32m   1300\u001b[0m \u001b[43m        \u001b[49m\u001b[43mverbose\u001b[49m\u001b[38;5;241;43m=\u001b[39;49m\u001b[38;5;28;43mself\u001b[39;49m\u001b[38;5;241;43m.\u001b[39;49m\u001b[43mverbose\u001b[49m\u001b[43m,\u001b[49m\n\u001b[0;32m   1301\u001b[0m \u001b[43m        \u001b[49m\u001b[43msolver\u001b[49m\u001b[38;5;241;43m=\u001b[39;49m\u001b[43msolver\u001b[49m\u001b[43m,\u001b[49m\n\u001b[0;32m   1302\u001b[0m \u001b[43m        \u001b[49m\u001b[43mmulti_class\u001b[49m\u001b[38;5;241;43m=\u001b[39;49m\u001b[43mmulti_class\u001b[49m\u001b[43m,\u001b[49m\n\u001b[0;32m   1303\u001b[0m \u001b[43m        \u001b[49m\u001b[43mmax_iter\u001b[49m\u001b[38;5;241;43m=\u001b[39;49m\u001b[38;5;28;43mself\u001b[39;49m\u001b[38;5;241;43m.\u001b[39;49m\u001b[43mmax_iter\u001b[49m\u001b[43m,\u001b[49m\n\u001b[0;32m   1304\u001b[0m \u001b[43m        \u001b[49m\u001b[43mclass_weight\u001b[49m\u001b[38;5;241;43m=\u001b[39;49m\u001b[38;5;28;43mself\u001b[39;49m\u001b[38;5;241;43m.\u001b[39;49m\u001b[43mclass_weight\u001b[49m\u001b[43m,\u001b[49m\n\u001b[0;32m   1305\u001b[0m \u001b[43m        \u001b[49m\u001b[43mcheck_input\u001b[49m\u001b[38;5;241;43m=\u001b[39;49m\u001b[38;5;28;43;01mFalse\u001b[39;49;00m\u001b[43m,\u001b[49m\n\u001b[0;32m   1306\u001b[0m \u001b[43m        \u001b[49m\u001b[43mrandom_state\u001b[49m\u001b[38;5;241;43m=\u001b[39;49m\u001b[38;5;28;43mself\u001b[39;49m\u001b[38;5;241;43m.\u001b[39;49m\u001b[43mrandom_state\u001b[49m\u001b[43m,\u001b[49m\n\u001b[0;32m   1307\u001b[0m \u001b[43m        \u001b[49m\u001b[43mcoef\u001b[49m\u001b[38;5;241;43m=\u001b[39;49m\u001b[43mwarm_start_coef_\u001b[49m\u001b[43m,\u001b[49m\n\u001b[0;32m   1308\u001b[0m \u001b[43m        \u001b[49m\u001b[43mpenalty\u001b[49m\u001b[38;5;241;43m=\u001b[39;49m\u001b[43mpenalty\u001b[49m\u001b[43m,\u001b[49m\n\u001b[0;32m   1309\u001b[0m \u001b[43m        \u001b[49m\u001b[43mmax_squared_sum\u001b[49m\u001b[38;5;241;43m=\u001b[39;49m\u001b[43mmax_squared_sum\u001b[49m\u001b[43m,\u001b[49m\n\u001b[0;32m   1310\u001b[0m \u001b[43m        \u001b[49m\u001b[43msample_weight\u001b[49m\u001b[38;5;241;43m=\u001b[39;49m\u001b[43msample_weight\u001b[49m\u001b[43m,\u001b[49m\n\u001b[0;32m   1311\u001b[0m \u001b[43m        \u001b[49m\u001b[43mn_threads\u001b[49m\u001b[38;5;241;43m=\u001b[39;49m\u001b[43mn_threads\u001b[49m\u001b[43m,\u001b[49m\n\u001b[0;32m   1312\u001b[0m \u001b[43m    \u001b[49m\u001b[43m)\u001b[49m\n\u001b[0;32m   1313\u001b[0m \u001b[43m    \u001b[49m\u001b[38;5;28;43;01mfor\u001b[39;49;00m\u001b[43m \u001b[49m\u001b[43mclass_\u001b[49m\u001b[43m,\u001b[49m\u001b[43m \u001b[49m\u001b[43mwarm_start_coef_\u001b[49m\u001b[43m \u001b[49m\u001b[38;5;129;43;01min\u001b[39;49;00m\u001b[43m \u001b[49m\u001b[38;5;28;43mzip\u001b[39;49m\u001b[43m(\u001b[49m\u001b[43mclasses_\u001b[49m\u001b[43m,\u001b[49m\u001b[43m \u001b[49m\u001b[43mwarm_start_coef\u001b[49m\u001b[43m)\u001b[49m\n\u001b[0;32m   1314\u001b[0m \u001b[43m\u001b[49m\u001b[43m)\u001b[49m\n\u001b[0;32m   1316\u001b[0m fold_coefs_, _, n_iter_ \u001b[38;5;241m=\u001b[39m \u001b[38;5;28mzip\u001b[39m(\u001b[38;5;241m*\u001b[39mfold_coefs_)\n\u001b[0;32m   1317\u001b[0m \u001b[38;5;28mself\u001b[39m\u001b[38;5;241m.\u001b[39mn_iter_ \u001b[38;5;241m=\u001b[39m np\u001b[38;5;241m.\u001b[39masarray(n_iter_, dtype\u001b[38;5;241m=\u001b[39mnp\u001b[38;5;241m.\u001b[39mint32)[:, \u001b[38;5;241m0\u001b[39m]\n",
      "File \u001b[1;32mB:\\Programs\\Anaconda\\lib\\site-packages\\sklearn\\utils\\parallel.py:63\u001b[0m, in \u001b[0;36mParallel.__call__\u001b[1;34m(self, iterable)\u001b[0m\n\u001b[0;32m     58\u001b[0m config \u001b[38;5;241m=\u001b[39m get_config()\n\u001b[0;32m     59\u001b[0m iterable_with_config \u001b[38;5;241m=\u001b[39m (\n\u001b[0;32m     60\u001b[0m     (_with_config(delayed_func, config), args, kwargs)\n\u001b[0;32m     61\u001b[0m     \u001b[38;5;28;01mfor\u001b[39;00m delayed_func, args, kwargs \u001b[38;5;129;01min\u001b[39;00m iterable\n\u001b[0;32m     62\u001b[0m )\n\u001b[1;32m---> 63\u001b[0m \u001b[38;5;28;01mreturn\u001b[39;00m \u001b[38;5;28;43msuper\u001b[39;49m\u001b[43m(\u001b[49m\u001b[43m)\u001b[49m\u001b[38;5;241;43m.\u001b[39;49m\u001b[38;5;21;43m__call__\u001b[39;49m\u001b[43m(\u001b[49m\u001b[43miterable_with_config\u001b[49m\u001b[43m)\u001b[49m\n",
      "File \u001b[1;32mB:\\Programs\\Anaconda\\lib\\site-packages\\joblib\\parallel.py:1048\u001b[0m, in \u001b[0;36mParallel.__call__\u001b[1;34m(self, iterable)\u001b[0m\n\u001b[0;32m   1039\u001b[0m \u001b[38;5;28;01mtry\u001b[39;00m:\n\u001b[0;32m   1040\u001b[0m     \u001b[38;5;66;03m# Only set self._iterating to True if at least a batch\u001b[39;00m\n\u001b[0;32m   1041\u001b[0m     \u001b[38;5;66;03m# was dispatched. In particular this covers the edge\u001b[39;00m\n\u001b[1;32m   (...)\u001b[0m\n\u001b[0;32m   1045\u001b[0m     \u001b[38;5;66;03m# was very quick and its callback already dispatched all the\u001b[39;00m\n\u001b[0;32m   1046\u001b[0m     \u001b[38;5;66;03m# remaining jobs.\u001b[39;00m\n\u001b[0;32m   1047\u001b[0m     \u001b[38;5;28mself\u001b[39m\u001b[38;5;241m.\u001b[39m_iterating \u001b[38;5;241m=\u001b[39m \u001b[38;5;28;01mFalse\u001b[39;00m\n\u001b[1;32m-> 1048\u001b[0m     \u001b[38;5;28;01mif\u001b[39;00m \u001b[38;5;28;43mself\u001b[39;49m\u001b[38;5;241;43m.\u001b[39;49m\u001b[43mdispatch_one_batch\u001b[49m\u001b[43m(\u001b[49m\u001b[43miterator\u001b[49m\u001b[43m)\u001b[49m:\n\u001b[0;32m   1049\u001b[0m         \u001b[38;5;28mself\u001b[39m\u001b[38;5;241m.\u001b[39m_iterating \u001b[38;5;241m=\u001b[39m \u001b[38;5;28mself\u001b[39m\u001b[38;5;241m.\u001b[39m_original_iterator \u001b[38;5;129;01mis\u001b[39;00m \u001b[38;5;129;01mnot\u001b[39;00m \u001b[38;5;28;01mNone\u001b[39;00m\n\u001b[0;32m   1051\u001b[0m     \u001b[38;5;28;01mwhile\u001b[39;00m \u001b[38;5;28mself\u001b[39m\u001b[38;5;241m.\u001b[39mdispatch_one_batch(iterator):\n",
      "File \u001b[1;32mB:\\Programs\\Anaconda\\lib\\site-packages\\joblib\\parallel.py:864\u001b[0m, in \u001b[0;36mParallel.dispatch_one_batch\u001b[1;34m(self, iterator)\u001b[0m\n\u001b[0;32m    862\u001b[0m     \u001b[38;5;28;01mreturn\u001b[39;00m \u001b[38;5;28;01mFalse\u001b[39;00m\n\u001b[0;32m    863\u001b[0m \u001b[38;5;28;01melse\u001b[39;00m:\n\u001b[1;32m--> 864\u001b[0m     \u001b[38;5;28;43mself\u001b[39;49m\u001b[38;5;241;43m.\u001b[39;49m\u001b[43m_dispatch\u001b[49m\u001b[43m(\u001b[49m\u001b[43mtasks\u001b[49m\u001b[43m)\u001b[49m\n\u001b[0;32m    865\u001b[0m     \u001b[38;5;28;01mreturn\u001b[39;00m \u001b[38;5;28;01mTrue\u001b[39;00m\n",
      "File \u001b[1;32mB:\\Programs\\Anaconda\\lib\\site-packages\\joblib\\parallel.py:782\u001b[0m, in \u001b[0;36mParallel._dispatch\u001b[1;34m(self, batch)\u001b[0m\n\u001b[0;32m    780\u001b[0m \u001b[38;5;28;01mwith\u001b[39;00m \u001b[38;5;28mself\u001b[39m\u001b[38;5;241m.\u001b[39m_lock:\n\u001b[0;32m    781\u001b[0m     job_idx \u001b[38;5;241m=\u001b[39m \u001b[38;5;28mlen\u001b[39m(\u001b[38;5;28mself\u001b[39m\u001b[38;5;241m.\u001b[39m_jobs)\n\u001b[1;32m--> 782\u001b[0m     job \u001b[38;5;241m=\u001b[39m \u001b[38;5;28;43mself\u001b[39;49m\u001b[38;5;241;43m.\u001b[39;49m\u001b[43m_backend\u001b[49m\u001b[38;5;241;43m.\u001b[39;49m\u001b[43mapply_async\u001b[49m\u001b[43m(\u001b[49m\u001b[43mbatch\u001b[49m\u001b[43m,\u001b[49m\u001b[43m \u001b[49m\u001b[43mcallback\u001b[49m\u001b[38;5;241;43m=\u001b[39;49m\u001b[43mcb\u001b[49m\u001b[43m)\u001b[49m\n\u001b[0;32m    783\u001b[0m     \u001b[38;5;66;03m# A job can complete so quickly than its callback is\u001b[39;00m\n\u001b[0;32m    784\u001b[0m     \u001b[38;5;66;03m# called before we get here, causing self._jobs to\u001b[39;00m\n\u001b[0;32m    785\u001b[0m     \u001b[38;5;66;03m# grow. To ensure correct results ordering, .insert is\u001b[39;00m\n\u001b[0;32m    786\u001b[0m     \u001b[38;5;66;03m# used (rather than .append) in the following line\u001b[39;00m\n\u001b[0;32m    787\u001b[0m     \u001b[38;5;28mself\u001b[39m\u001b[38;5;241m.\u001b[39m_jobs\u001b[38;5;241m.\u001b[39minsert(job_idx, job)\n",
      "File \u001b[1;32mB:\\Programs\\Anaconda\\lib\\site-packages\\joblib\\_parallel_backends.py:208\u001b[0m, in \u001b[0;36mSequentialBackend.apply_async\u001b[1;34m(self, func, callback)\u001b[0m\n\u001b[0;32m    206\u001b[0m \u001b[38;5;28;01mdef\u001b[39;00m \u001b[38;5;21mapply_async\u001b[39m(\u001b[38;5;28mself\u001b[39m, func, callback\u001b[38;5;241m=\u001b[39m\u001b[38;5;28;01mNone\u001b[39;00m):\n\u001b[0;32m    207\u001b[0m     \u001b[38;5;124;03m\"\"\"Schedule a func to be run\"\"\"\u001b[39;00m\n\u001b[1;32m--> 208\u001b[0m     result \u001b[38;5;241m=\u001b[39m \u001b[43mImmediateResult\u001b[49m\u001b[43m(\u001b[49m\u001b[43mfunc\u001b[49m\u001b[43m)\u001b[49m\n\u001b[0;32m    209\u001b[0m     \u001b[38;5;28;01mif\u001b[39;00m callback:\n\u001b[0;32m    210\u001b[0m         callback(result)\n",
      "File \u001b[1;32mB:\\Programs\\Anaconda\\lib\\site-packages\\joblib\\_parallel_backends.py:572\u001b[0m, in \u001b[0;36mImmediateResult.__init__\u001b[1;34m(self, batch)\u001b[0m\n\u001b[0;32m    569\u001b[0m \u001b[38;5;28;01mdef\u001b[39;00m \u001b[38;5;21m__init__\u001b[39m(\u001b[38;5;28mself\u001b[39m, batch):\n\u001b[0;32m    570\u001b[0m     \u001b[38;5;66;03m# Don't delay the application, to avoid keeping the input\u001b[39;00m\n\u001b[0;32m    571\u001b[0m     \u001b[38;5;66;03m# arguments in memory\u001b[39;00m\n\u001b[1;32m--> 572\u001b[0m     \u001b[38;5;28mself\u001b[39m\u001b[38;5;241m.\u001b[39mresults \u001b[38;5;241m=\u001b[39m \u001b[43mbatch\u001b[49m\u001b[43m(\u001b[49m\u001b[43m)\u001b[49m\n",
      "File \u001b[1;32mB:\\Programs\\Anaconda\\lib\\site-packages\\joblib\\parallel.py:263\u001b[0m, in \u001b[0;36mBatchedCalls.__call__\u001b[1;34m(self)\u001b[0m\n\u001b[0;32m    259\u001b[0m \u001b[38;5;28;01mdef\u001b[39;00m \u001b[38;5;21m__call__\u001b[39m(\u001b[38;5;28mself\u001b[39m):\n\u001b[0;32m    260\u001b[0m     \u001b[38;5;66;03m# Set the default nested backend to self._backend but do not set the\u001b[39;00m\n\u001b[0;32m    261\u001b[0m     \u001b[38;5;66;03m# change the default number of processes to -1\u001b[39;00m\n\u001b[0;32m    262\u001b[0m     \u001b[38;5;28;01mwith\u001b[39;00m parallel_backend(\u001b[38;5;28mself\u001b[39m\u001b[38;5;241m.\u001b[39m_backend, n_jobs\u001b[38;5;241m=\u001b[39m\u001b[38;5;28mself\u001b[39m\u001b[38;5;241m.\u001b[39m_n_jobs):\n\u001b[1;32m--> 263\u001b[0m         \u001b[38;5;28;01mreturn\u001b[39;00m [func(\u001b[38;5;241m*\u001b[39margs, \u001b[38;5;241m*\u001b[39m\u001b[38;5;241m*\u001b[39mkwargs)\n\u001b[0;32m    264\u001b[0m                 \u001b[38;5;28;01mfor\u001b[39;00m func, args, kwargs \u001b[38;5;129;01min\u001b[39;00m \u001b[38;5;28mself\u001b[39m\u001b[38;5;241m.\u001b[39mitems]\n",
      "File \u001b[1;32mB:\\Programs\\Anaconda\\lib\\site-packages\\joblib\\parallel.py:263\u001b[0m, in \u001b[0;36m<listcomp>\u001b[1;34m(.0)\u001b[0m\n\u001b[0;32m    259\u001b[0m \u001b[38;5;28;01mdef\u001b[39;00m \u001b[38;5;21m__call__\u001b[39m(\u001b[38;5;28mself\u001b[39m):\n\u001b[0;32m    260\u001b[0m     \u001b[38;5;66;03m# Set the default nested backend to self._backend but do not set the\u001b[39;00m\n\u001b[0;32m    261\u001b[0m     \u001b[38;5;66;03m# change the default number of processes to -1\u001b[39;00m\n\u001b[0;32m    262\u001b[0m     \u001b[38;5;28;01mwith\u001b[39;00m parallel_backend(\u001b[38;5;28mself\u001b[39m\u001b[38;5;241m.\u001b[39m_backend, n_jobs\u001b[38;5;241m=\u001b[39m\u001b[38;5;28mself\u001b[39m\u001b[38;5;241m.\u001b[39m_n_jobs):\n\u001b[1;32m--> 263\u001b[0m         \u001b[38;5;28;01mreturn\u001b[39;00m [func(\u001b[38;5;241m*\u001b[39margs, \u001b[38;5;241m*\u001b[39m\u001b[38;5;241m*\u001b[39mkwargs)\n\u001b[0;32m    264\u001b[0m                 \u001b[38;5;28;01mfor\u001b[39;00m func, args, kwargs \u001b[38;5;129;01min\u001b[39;00m \u001b[38;5;28mself\u001b[39m\u001b[38;5;241m.\u001b[39mitems]\n",
      "File \u001b[1;32mB:\\Programs\\Anaconda\\lib\\site-packages\\sklearn\\utils\\parallel.py:123\u001b[0m, in \u001b[0;36m_FuncWrapper.__call__\u001b[1;34m(self, *args, **kwargs)\u001b[0m\n\u001b[0;32m    121\u001b[0m     config \u001b[38;5;241m=\u001b[39m {}\n\u001b[0;32m    122\u001b[0m \u001b[38;5;28;01mwith\u001b[39;00m config_context(\u001b[38;5;241m*\u001b[39m\u001b[38;5;241m*\u001b[39mconfig):\n\u001b[1;32m--> 123\u001b[0m     \u001b[38;5;28;01mreturn\u001b[39;00m \u001b[38;5;28mself\u001b[39m\u001b[38;5;241m.\u001b[39mfunction(\u001b[38;5;241m*\u001b[39margs, \u001b[38;5;241m*\u001b[39m\u001b[38;5;241m*\u001b[39mkwargs)\n",
      "File \u001b[1;32mB:\\Programs\\Anaconda\\lib\\site-packages\\sklearn\\linear_model\\_logistic.py:450\u001b[0m, in \u001b[0;36m_logistic_regression_path\u001b[1;34m(X, y, pos_class, Cs, fit_intercept, max_iter, tol, verbose, solver, coef, class_weight, dual, penalty, intercept_scaling, multi_class, random_state, check_input, max_squared_sum, sample_weight, l1_ratio, n_threads)\u001b[0m\n\u001b[0;32m    446\u001b[0m l2_reg_strength \u001b[38;5;241m=\u001b[39m \u001b[38;5;241m1.0\u001b[39m \u001b[38;5;241m/\u001b[39m C\n\u001b[0;32m    447\u001b[0m iprint \u001b[38;5;241m=\u001b[39m [\u001b[38;5;241m-\u001b[39m\u001b[38;5;241m1\u001b[39m, \u001b[38;5;241m50\u001b[39m, \u001b[38;5;241m1\u001b[39m, \u001b[38;5;241m100\u001b[39m, \u001b[38;5;241m101\u001b[39m][\n\u001b[0;32m    448\u001b[0m     np\u001b[38;5;241m.\u001b[39msearchsorted(np\u001b[38;5;241m.\u001b[39marray([\u001b[38;5;241m0\u001b[39m, \u001b[38;5;241m1\u001b[39m, \u001b[38;5;241m2\u001b[39m, \u001b[38;5;241m3\u001b[39m]), verbose)\n\u001b[0;32m    449\u001b[0m ]\n\u001b[1;32m--> 450\u001b[0m opt_res \u001b[38;5;241m=\u001b[39m \u001b[43moptimize\u001b[49m\u001b[38;5;241;43m.\u001b[39;49m\u001b[43mminimize\u001b[49m\u001b[43m(\u001b[49m\n\u001b[0;32m    451\u001b[0m \u001b[43m    \u001b[49m\u001b[43mfunc\u001b[49m\u001b[43m,\u001b[49m\n\u001b[0;32m    452\u001b[0m \u001b[43m    \u001b[49m\u001b[43mw0\u001b[49m\u001b[43m,\u001b[49m\n\u001b[0;32m    453\u001b[0m \u001b[43m    \u001b[49m\u001b[43mmethod\u001b[49m\u001b[38;5;241;43m=\u001b[39;49m\u001b[38;5;124;43m\"\u001b[39;49m\u001b[38;5;124;43mL-BFGS-B\u001b[39;49m\u001b[38;5;124;43m\"\u001b[39;49m\u001b[43m,\u001b[49m\n\u001b[0;32m    454\u001b[0m \u001b[43m    \u001b[49m\u001b[43mjac\u001b[49m\u001b[38;5;241;43m=\u001b[39;49m\u001b[38;5;28;43;01mTrue\u001b[39;49;00m\u001b[43m,\u001b[49m\n\u001b[0;32m    455\u001b[0m \u001b[43m    \u001b[49m\u001b[43margs\u001b[49m\u001b[38;5;241;43m=\u001b[39;49m\u001b[43m(\u001b[49m\u001b[43mX\u001b[49m\u001b[43m,\u001b[49m\u001b[43m \u001b[49m\u001b[43mtarget\u001b[49m\u001b[43m,\u001b[49m\u001b[43m \u001b[49m\u001b[43msample_weight\u001b[49m\u001b[43m,\u001b[49m\u001b[43m \u001b[49m\u001b[43ml2_reg_strength\u001b[49m\u001b[43m,\u001b[49m\u001b[43m \u001b[49m\u001b[43mn_threads\u001b[49m\u001b[43m)\u001b[49m\u001b[43m,\u001b[49m\n\u001b[0;32m    456\u001b[0m \u001b[43m    \u001b[49m\u001b[43moptions\u001b[49m\u001b[38;5;241;43m=\u001b[39;49m\u001b[43m{\u001b[49m\u001b[38;5;124;43m\"\u001b[39;49m\u001b[38;5;124;43miprint\u001b[39;49m\u001b[38;5;124;43m\"\u001b[39;49m\u001b[43m:\u001b[49m\u001b[43m \u001b[49m\u001b[43miprint\u001b[49m\u001b[43m,\u001b[49m\u001b[43m \u001b[49m\u001b[38;5;124;43m\"\u001b[39;49m\u001b[38;5;124;43mgtol\u001b[39;49m\u001b[38;5;124;43m\"\u001b[39;49m\u001b[43m:\u001b[49m\u001b[43m \u001b[49m\u001b[43mtol\u001b[49m\u001b[43m,\u001b[49m\u001b[43m \u001b[49m\u001b[38;5;124;43m\"\u001b[39;49m\u001b[38;5;124;43mmaxiter\u001b[39;49m\u001b[38;5;124;43m\"\u001b[39;49m\u001b[43m:\u001b[49m\u001b[43m \u001b[49m\u001b[43mmax_iter\u001b[49m\u001b[43m}\u001b[49m\u001b[43m,\u001b[49m\n\u001b[0;32m    457\u001b[0m \u001b[43m\u001b[49m\u001b[43m)\u001b[49m\n\u001b[0;32m    458\u001b[0m n_iter_i \u001b[38;5;241m=\u001b[39m _check_optimize_result(\n\u001b[0;32m    459\u001b[0m     solver,\n\u001b[0;32m    460\u001b[0m     opt_res,\n\u001b[0;32m    461\u001b[0m     max_iter,\n\u001b[0;32m    462\u001b[0m     extra_warning_msg\u001b[38;5;241m=\u001b[39m_LOGISTIC_SOLVER_CONVERGENCE_MSG,\n\u001b[0;32m    463\u001b[0m )\n\u001b[0;32m    464\u001b[0m w0, loss \u001b[38;5;241m=\u001b[39m opt_res\u001b[38;5;241m.\u001b[39mx, opt_res\u001b[38;5;241m.\u001b[39mfun\n",
      "File \u001b[1;32mB:\\Programs\\Anaconda\\lib\\site-packages\\scipy\\optimize\\_minimize.py:696\u001b[0m, in \u001b[0;36mminimize\u001b[1;34m(fun, x0, args, method, jac, hess, hessp, bounds, constraints, tol, callback, options)\u001b[0m\n\u001b[0;32m    693\u001b[0m     res \u001b[38;5;241m=\u001b[39m _minimize_newtoncg(fun, x0, args, jac, hess, hessp, callback,\n\u001b[0;32m    694\u001b[0m                              \u001b[38;5;241m*\u001b[39m\u001b[38;5;241m*\u001b[39moptions)\n\u001b[0;32m    695\u001b[0m \u001b[38;5;28;01melif\u001b[39;00m meth \u001b[38;5;241m==\u001b[39m \u001b[38;5;124m'\u001b[39m\u001b[38;5;124ml-bfgs-b\u001b[39m\u001b[38;5;124m'\u001b[39m:\n\u001b[1;32m--> 696\u001b[0m     res \u001b[38;5;241m=\u001b[39m _minimize_lbfgsb(fun, x0, args, jac, bounds,\n\u001b[0;32m    697\u001b[0m                            callback\u001b[38;5;241m=\u001b[39mcallback, \u001b[38;5;241m*\u001b[39m\u001b[38;5;241m*\u001b[39moptions)\n\u001b[0;32m    698\u001b[0m \u001b[38;5;28;01melif\u001b[39;00m meth \u001b[38;5;241m==\u001b[39m \u001b[38;5;124m'\u001b[39m\u001b[38;5;124mtnc\u001b[39m\u001b[38;5;124m'\u001b[39m:\n\u001b[0;32m    699\u001b[0m     res \u001b[38;5;241m=\u001b[39m _minimize_tnc(fun, x0, args, jac, bounds, callback\u001b[38;5;241m=\u001b[39mcallback,\n\u001b[0;32m    700\u001b[0m                         \u001b[38;5;241m*\u001b[39m\u001b[38;5;241m*\u001b[39moptions)\n",
      "File \u001b[1;32mB:\\Programs\\Anaconda\\lib\\site-packages\\scipy\\optimize\\_lbfgsb_py.py:359\u001b[0m, in \u001b[0;36m_minimize_lbfgsb\u001b[1;34m(fun, x0, args, jac, bounds, disp, maxcor, ftol, gtol, eps, maxfun, maxiter, iprint, callback, maxls, finite_diff_rel_step, **unknown_options)\u001b[0m\n\u001b[0;32m    353\u001b[0m task_str \u001b[38;5;241m=\u001b[39m task\u001b[38;5;241m.\u001b[39mtobytes()\n\u001b[0;32m    354\u001b[0m \u001b[38;5;28;01mif\u001b[39;00m task_str\u001b[38;5;241m.\u001b[39mstartswith(\u001b[38;5;124mb\u001b[39m\u001b[38;5;124m'\u001b[39m\u001b[38;5;124mFG\u001b[39m\u001b[38;5;124m'\u001b[39m):\n\u001b[0;32m    355\u001b[0m     \u001b[38;5;66;03m# The minimization routine wants f and g at the current x.\u001b[39;00m\n\u001b[0;32m    356\u001b[0m     \u001b[38;5;66;03m# Note that interruptions due to maxfun are postponed\u001b[39;00m\n\u001b[0;32m    357\u001b[0m     \u001b[38;5;66;03m# until the completion of the current minimization iteration.\u001b[39;00m\n\u001b[0;32m    358\u001b[0m     \u001b[38;5;66;03m# Overwrite f and g:\u001b[39;00m\n\u001b[1;32m--> 359\u001b[0m     f, g \u001b[38;5;241m=\u001b[39m \u001b[43mfunc_and_grad\u001b[49m\u001b[43m(\u001b[49m\u001b[43mx\u001b[49m\u001b[43m)\u001b[49m\n\u001b[0;32m    360\u001b[0m \u001b[38;5;28;01melif\u001b[39;00m task_str\u001b[38;5;241m.\u001b[39mstartswith(\u001b[38;5;124mb\u001b[39m\u001b[38;5;124m'\u001b[39m\u001b[38;5;124mNEW_X\u001b[39m\u001b[38;5;124m'\u001b[39m):\n\u001b[0;32m    361\u001b[0m     \u001b[38;5;66;03m# new iteration\u001b[39;00m\n\u001b[0;32m    362\u001b[0m     n_iterations \u001b[38;5;241m+\u001b[39m\u001b[38;5;241m=\u001b[39m \u001b[38;5;241m1\u001b[39m\n",
      "File \u001b[1;32mB:\\Programs\\Anaconda\\lib\\site-packages\\scipy\\optimize\\_differentiable_functions.py:285\u001b[0m, in \u001b[0;36mScalarFunction.fun_and_grad\u001b[1;34m(self, x)\u001b[0m\n\u001b[0;32m    283\u001b[0m \u001b[38;5;28;01mif\u001b[39;00m \u001b[38;5;129;01mnot\u001b[39;00m np\u001b[38;5;241m.\u001b[39marray_equal(x, \u001b[38;5;28mself\u001b[39m\u001b[38;5;241m.\u001b[39mx):\n\u001b[0;32m    284\u001b[0m     \u001b[38;5;28mself\u001b[39m\u001b[38;5;241m.\u001b[39m_update_x_impl(x)\n\u001b[1;32m--> 285\u001b[0m \u001b[38;5;28;43mself\u001b[39;49m\u001b[38;5;241;43m.\u001b[39;49m\u001b[43m_update_fun\u001b[49m\u001b[43m(\u001b[49m\u001b[43m)\u001b[49m\n\u001b[0;32m    286\u001b[0m \u001b[38;5;28mself\u001b[39m\u001b[38;5;241m.\u001b[39m_update_grad()\n\u001b[0;32m    287\u001b[0m \u001b[38;5;28;01mreturn\u001b[39;00m \u001b[38;5;28mself\u001b[39m\u001b[38;5;241m.\u001b[39mf, \u001b[38;5;28mself\u001b[39m\u001b[38;5;241m.\u001b[39mg\n",
      "File \u001b[1;32mB:\\Programs\\Anaconda\\lib\\site-packages\\scipy\\optimize\\_differentiable_functions.py:251\u001b[0m, in \u001b[0;36mScalarFunction._update_fun\u001b[1;34m(self)\u001b[0m\n\u001b[0;32m    249\u001b[0m \u001b[38;5;28;01mdef\u001b[39;00m \u001b[38;5;21m_update_fun\u001b[39m(\u001b[38;5;28mself\u001b[39m):\n\u001b[0;32m    250\u001b[0m     \u001b[38;5;28;01mif\u001b[39;00m \u001b[38;5;129;01mnot\u001b[39;00m \u001b[38;5;28mself\u001b[39m\u001b[38;5;241m.\u001b[39mf_updated:\n\u001b[1;32m--> 251\u001b[0m         \u001b[38;5;28;43mself\u001b[39;49m\u001b[38;5;241;43m.\u001b[39;49m\u001b[43m_update_fun_impl\u001b[49m\u001b[43m(\u001b[49m\u001b[43m)\u001b[49m\n\u001b[0;32m    252\u001b[0m         \u001b[38;5;28mself\u001b[39m\u001b[38;5;241m.\u001b[39mf_updated \u001b[38;5;241m=\u001b[39m \u001b[38;5;28;01mTrue\u001b[39;00m\n",
      "File \u001b[1;32mB:\\Programs\\Anaconda\\lib\\site-packages\\scipy\\optimize\\_differentiable_functions.py:155\u001b[0m, in \u001b[0;36mScalarFunction.__init__.<locals>.update_fun\u001b[1;34m()\u001b[0m\n\u001b[0;32m    154\u001b[0m \u001b[38;5;28;01mdef\u001b[39;00m \u001b[38;5;21mupdate_fun\u001b[39m():\n\u001b[1;32m--> 155\u001b[0m     \u001b[38;5;28mself\u001b[39m\u001b[38;5;241m.\u001b[39mf \u001b[38;5;241m=\u001b[39m \u001b[43mfun_wrapped\u001b[49m\u001b[43m(\u001b[49m\u001b[38;5;28;43mself\u001b[39;49m\u001b[38;5;241;43m.\u001b[39;49m\u001b[43mx\u001b[49m\u001b[43m)\u001b[49m\n",
      "File \u001b[1;32mB:\\Programs\\Anaconda\\lib\\site-packages\\scipy\\optimize\\_differentiable_functions.py:137\u001b[0m, in \u001b[0;36mScalarFunction.__init__.<locals>.fun_wrapped\u001b[1;34m(x)\u001b[0m\n\u001b[0;32m    133\u001b[0m \u001b[38;5;28mself\u001b[39m\u001b[38;5;241m.\u001b[39mnfev \u001b[38;5;241m+\u001b[39m\u001b[38;5;241m=\u001b[39m \u001b[38;5;241m1\u001b[39m\n\u001b[0;32m    134\u001b[0m \u001b[38;5;66;03m# Send a copy because the user may overwrite it.\u001b[39;00m\n\u001b[0;32m    135\u001b[0m \u001b[38;5;66;03m# Overwriting results in undefined behaviour because\u001b[39;00m\n\u001b[0;32m    136\u001b[0m \u001b[38;5;66;03m# fun(self.x) will change self.x, with the two no longer linked.\u001b[39;00m\n\u001b[1;32m--> 137\u001b[0m fx \u001b[38;5;241m=\u001b[39m \u001b[43mfun\u001b[49m\u001b[43m(\u001b[49m\u001b[43mnp\u001b[49m\u001b[38;5;241;43m.\u001b[39;49m\u001b[43mcopy\u001b[49m\u001b[43m(\u001b[49m\u001b[43mx\u001b[49m\u001b[43m)\u001b[49m\u001b[43m,\u001b[49m\u001b[43m \u001b[49m\u001b[38;5;241;43m*\u001b[39;49m\u001b[43margs\u001b[49m\u001b[43m)\u001b[49m\n\u001b[0;32m    138\u001b[0m \u001b[38;5;66;03m# Make sure the function returns a true scalar\u001b[39;00m\n\u001b[0;32m    139\u001b[0m \u001b[38;5;28;01mif\u001b[39;00m \u001b[38;5;129;01mnot\u001b[39;00m np\u001b[38;5;241m.\u001b[39misscalar(fx):\n",
      "File \u001b[1;32mB:\\Programs\\Anaconda\\lib\\site-packages\\scipy\\optimize\\_optimize.py:76\u001b[0m, in \u001b[0;36mMemoizeJac.__call__\u001b[1;34m(self, x, *args)\u001b[0m\n\u001b[0;32m     74\u001b[0m \u001b[38;5;28;01mdef\u001b[39;00m \u001b[38;5;21m__call__\u001b[39m(\u001b[38;5;28mself\u001b[39m, x, \u001b[38;5;241m*\u001b[39margs):\n\u001b[0;32m     75\u001b[0m     \u001b[38;5;124;03m\"\"\" returns the function value \"\"\"\u001b[39;00m\n\u001b[1;32m---> 76\u001b[0m     \u001b[38;5;28;43mself\u001b[39;49m\u001b[38;5;241;43m.\u001b[39;49m\u001b[43m_compute_if_needed\u001b[49m\u001b[43m(\u001b[49m\u001b[43mx\u001b[49m\u001b[43m,\u001b[49m\u001b[43m \u001b[49m\u001b[38;5;241;43m*\u001b[39;49m\u001b[43margs\u001b[49m\u001b[43m)\u001b[49m\n\u001b[0;32m     77\u001b[0m     \u001b[38;5;28;01mreturn\u001b[39;00m \u001b[38;5;28mself\u001b[39m\u001b[38;5;241m.\u001b[39m_value\n",
      "File \u001b[1;32mB:\\Programs\\Anaconda\\lib\\site-packages\\scipy\\optimize\\_optimize.py:70\u001b[0m, in \u001b[0;36mMemoizeJac._compute_if_needed\u001b[1;34m(self, x, *args)\u001b[0m\n\u001b[0;32m     68\u001b[0m \u001b[38;5;28;01mif\u001b[39;00m \u001b[38;5;129;01mnot\u001b[39;00m np\u001b[38;5;241m.\u001b[39mall(x \u001b[38;5;241m==\u001b[39m \u001b[38;5;28mself\u001b[39m\u001b[38;5;241m.\u001b[39mx) \u001b[38;5;129;01mor\u001b[39;00m \u001b[38;5;28mself\u001b[39m\u001b[38;5;241m.\u001b[39m_value \u001b[38;5;129;01mis\u001b[39;00m \u001b[38;5;28;01mNone\u001b[39;00m \u001b[38;5;129;01mor\u001b[39;00m \u001b[38;5;28mself\u001b[39m\u001b[38;5;241m.\u001b[39mjac \u001b[38;5;129;01mis\u001b[39;00m \u001b[38;5;28;01mNone\u001b[39;00m:\n\u001b[0;32m     69\u001b[0m     \u001b[38;5;28mself\u001b[39m\u001b[38;5;241m.\u001b[39mx \u001b[38;5;241m=\u001b[39m np\u001b[38;5;241m.\u001b[39masarray(x)\u001b[38;5;241m.\u001b[39mcopy()\n\u001b[1;32m---> 70\u001b[0m     fg \u001b[38;5;241m=\u001b[39m \u001b[38;5;28;43mself\u001b[39;49m\u001b[38;5;241;43m.\u001b[39;49m\u001b[43mfun\u001b[49m\u001b[43m(\u001b[49m\u001b[43mx\u001b[49m\u001b[43m,\u001b[49m\u001b[43m \u001b[49m\u001b[38;5;241;43m*\u001b[39;49m\u001b[43margs\u001b[49m\u001b[43m)\u001b[49m\n\u001b[0;32m     71\u001b[0m     \u001b[38;5;28mself\u001b[39m\u001b[38;5;241m.\u001b[39mjac \u001b[38;5;241m=\u001b[39m fg[\u001b[38;5;241m1\u001b[39m]\n\u001b[0;32m     72\u001b[0m     \u001b[38;5;28mself\u001b[39m\u001b[38;5;241m.\u001b[39m_value \u001b[38;5;241m=\u001b[39m fg[\u001b[38;5;241m0\u001b[39m]\n",
      "File \u001b[1;32mB:\\Programs\\Anaconda\\lib\\site-packages\\sklearn\\linear_model\\_linear_loss.py:291\u001b[0m, in \u001b[0;36mLinearModelLoss.loss_gradient\u001b[1;34m(self, coef, X, y, sample_weight, l2_reg_strength, n_threads, raw_prediction)\u001b[0m\n\u001b[0;32m    289\u001b[0m     grad[:n_features] \u001b[38;5;241m=\u001b[39m X\u001b[38;5;241m.\u001b[39mT \u001b[38;5;241m@\u001b[39m grad_pointwise \u001b[38;5;241m+\u001b[39m l2_reg_strength \u001b[38;5;241m*\u001b[39m weights\n\u001b[0;32m    290\u001b[0m     \u001b[38;5;28;01mif\u001b[39;00m \u001b[38;5;28mself\u001b[39m\u001b[38;5;241m.\u001b[39mfit_intercept:\n\u001b[1;32m--> 291\u001b[0m         grad[\u001b[38;5;241m-\u001b[39m\u001b[38;5;241m1\u001b[39m] \u001b[38;5;241m=\u001b[39m \u001b[43mgrad_pointwise\u001b[49m\u001b[38;5;241;43m.\u001b[39;49m\u001b[43msum\u001b[49m\u001b[43m(\u001b[49m\u001b[43m)\u001b[49m\n\u001b[0;32m    292\u001b[0m \u001b[38;5;28;01melse\u001b[39;00m:\n\u001b[0;32m    293\u001b[0m     grad \u001b[38;5;241m=\u001b[39m np\u001b[38;5;241m.\u001b[39mempty((n_classes, n_dof), dtype\u001b[38;5;241m=\u001b[39mweights\u001b[38;5;241m.\u001b[39mdtype, order\u001b[38;5;241m=\u001b[39m\u001b[38;5;124m\"\u001b[39m\u001b[38;5;124mF\u001b[39m\u001b[38;5;124m\"\u001b[39m)\n",
      "File \u001b[1;32mB:\\Programs\\Anaconda\\lib\\site-packages\\numpy\\core\\_methods.py:46\u001b[0m, in \u001b[0;36m_sum\u001b[1;34m(a, axis, dtype, out, keepdims, initial, where)\u001b[0m\n\u001b[0;32m     42\u001b[0m \u001b[38;5;28;01mdef\u001b[39;00m \u001b[38;5;21m_amin\u001b[39m(a, axis\u001b[38;5;241m=\u001b[39m\u001b[38;5;28;01mNone\u001b[39;00m, out\u001b[38;5;241m=\u001b[39m\u001b[38;5;28;01mNone\u001b[39;00m, keepdims\u001b[38;5;241m=\u001b[39m\u001b[38;5;28;01mFalse\u001b[39;00m,\n\u001b[0;32m     43\u001b[0m           initial\u001b[38;5;241m=\u001b[39m_NoValue, where\u001b[38;5;241m=\u001b[39m\u001b[38;5;28;01mTrue\u001b[39;00m):\n\u001b[0;32m     44\u001b[0m     \u001b[38;5;28;01mreturn\u001b[39;00m umr_minimum(a, axis, \u001b[38;5;28;01mNone\u001b[39;00m, out, keepdims, initial, where)\n\u001b[1;32m---> 46\u001b[0m \u001b[38;5;28;01mdef\u001b[39;00m \u001b[38;5;21m_sum\u001b[39m(a, axis\u001b[38;5;241m=\u001b[39m\u001b[38;5;28;01mNone\u001b[39;00m, dtype\u001b[38;5;241m=\u001b[39m\u001b[38;5;28;01mNone\u001b[39;00m, out\u001b[38;5;241m=\u001b[39m\u001b[38;5;28;01mNone\u001b[39;00m, keepdims\u001b[38;5;241m=\u001b[39m\u001b[38;5;28;01mFalse\u001b[39;00m,\n\u001b[0;32m     47\u001b[0m          initial\u001b[38;5;241m=\u001b[39m_NoValue, where\u001b[38;5;241m=\u001b[39m\u001b[38;5;28;01mTrue\u001b[39;00m):\n\u001b[0;32m     48\u001b[0m     \u001b[38;5;28;01mreturn\u001b[39;00m umr_sum(a, axis, dtype, out, keepdims, initial, where)\n\u001b[0;32m     50\u001b[0m \u001b[38;5;28;01mdef\u001b[39;00m \u001b[38;5;21m_prod\u001b[39m(a, axis\u001b[38;5;241m=\u001b[39m\u001b[38;5;28;01mNone\u001b[39;00m, dtype\u001b[38;5;241m=\u001b[39m\u001b[38;5;28;01mNone\u001b[39;00m, out\u001b[38;5;241m=\u001b[39m\u001b[38;5;28;01mNone\u001b[39;00m, keepdims\u001b[38;5;241m=\u001b[39m\u001b[38;5;28;01mFalse\u001b[39;00m,\n\u001b[0;32m     51\u001b[0m           initial\u001b[38;5;241m=\u001b[39m_NoValue, where\u001b[38;5;241m=\u001b[39m\u001b[38;5;28;01mTrue\u001b[39;00m):\n",
      "\u001b[1;31mKeyboardInterrupt\u001b[0m: "
     ]
    }
   ],
   "source": [
    "scores = []\n",
    "C_range = np.array([.00000001,.0000001,.000001,.00001,.0001,.001,.1,\n",
    "                1,10,100,1000])\n",
    "\n",
    "#Do some cross validation\n",
    "for c in C_range:\n",
    "    log = LogisticRegression(C=c,random_state=1, max_iter=10000)\n",
    "    log.fit(X_train_scaled, y_train_sample)\n",
    "    scores.append(log.score(X_valid_scaled, y_valid_sample))\n",
    "    \n",
    "plt.figure()\n",
    "plt.plot(C_range, scores, label=\"Cross Validation Score\",marker='.')\n",
    "plt.legend()\n",
    "plt.xscale(\"log\")\n",
    "plt.xlabel('Regularization Parameter: C')\n",
    "plt.ylabel('Cross Validation Score')\n",
    "plt.grid()\n",
    "plt.show();\n",
    "\n",
    "which_max = np.array(scores).argmax()\n",
    "\n",
    "print(\"The best model has C = \",C_range[which_max])"
   ]
  },
  {
   "cell_type": "code",
   "execution_count": 89,
   "id": "c63222a7",
   "metadata": {},
   "outputs": [
    {
     "data": {
      "text/plain": [
       "0.7819"
      ]
     },
     "execution_count": 89,
     "metadata": {},
     "output_type": "execute_result"
    }
   ],
   "source": [
    "log = LogisticRegression(C=1,random_state=1)\n",
    "log.fit(X_train_scaled, y_train_sample)\n",
    "log.score(X_test_scaled, y_test_sample)"
   ]
  },
  {
   "cell_type": "markdown",
   "id": "7a605766",
   "metadata": {},
   "source": [
    "Test accuracy with best hyperparameters is 77.92%. Confusion matrix and classification report should be looked at next to see other metrics.  "
   ]
  },
  {
   "cell_type": "code",
   "execution_count": 90,
   "id": "07e4b769",
   "metadata": {},
   "outputs": [
    {
     "data": {
      "image/png": "[encoded data removed]",
      "text/plain": [
       "<Figure size 640x480 with 2 Axes>"
      ]
     },
     "metadata": {},
     "output_type": "display_data"
    }
   ],
   "source": [
    "ConfusionMatrixDisplay.from_estimator(log, X_test_scaled, y_test_sample);"
   ]
  },
  {
   "cell_type": "code",
   "execution_count": 91,
   "id": "556db829",
   "metadata": {},
   "outputs": [
    {
     "data": {
      "text/html": [
       "<div>\n",
       "<style scoped>\n",
       "    .dataframe tbody tr th:only-of-type {\n",
       "        vertical-align: middle;\n",
       "    }\n",
       "\n",
       "    .dataframe tbody tr th {\n",
       "        vertical-align: top;\n",
       "    }\n",
       "\n",
       "    .dataframe thead th {\n",
       "        text-align: right;\n",
       "    }\n",
       "</style>\n",
       "<table border=\"1\" class=\"dataframe\">\n",
       "  <thead>\n",
       "    <tr style=\"text-align: right;\">\n",
       "      <th></th>\n",
       "      <th>Predicted 0</th>\n",
       "      <th>Predicted 1</th>\n",
       "    </tr>\n",
       "  </thead>\n",
       "  <tbody>\n",
       "    <tr>\n",
       "      <th>True 0</th>\n",
       "      <td>2468</td>\n",
       "      <td>1463</td>\n",
       "    </tr>\n",
       "    <tr>\n",
       "      <th>True 1</th>\n",
       "      <td>718</td>\n",
       "      <td>5351</td>\n",
       "    </tr>\n",
       "  </tbody>\n",
       "</table>\n",
       "</div>"
      ],
      "text/plain": [
       "        Predicted 0  Predicted 1\n",
       "True 0         2468         1463\n",
       "True 1          718         5351"
      ]
     },
     "metadata": {},
     "output_type": "display_data"
    },
    {
     "name": "stdout",
     "output_type": "stream",
     "text": [
      "              precision    recall  f1-score   support\n",
      "\n",
      "           0       0.77      0.63      0.69      3931\n",
      "           1       0.79      0.88      0.83      6069\n",
      "\n",
      "    accuracy                           0.78     10000\n",
      "   macro avg       0.78      0.75      0.76     10000\n",
      "weighted avg       0.78      0.78      0.78     10000\n",
      "\n"
     ]
    }
   ],
   "source": [
    "# Get rating predictions\n",
    "y_pred = log.predict(X_test_scaled)\n",
    "\n",
    "# Generate confusion matrix\n",
    "cf_matrix = confusion_matrix(y_test_sample, y_pred)\n",
    "\n",
    "# label rows and columns\n",
    "cf_df = pd.DataFrame(\n",
    "    cf_matrix, \n",
    "    columns=[\"Predicted 0\", \"Predicted 1\"],\n",
    "    index=[\"True 0\", \"True 1\"]\n",
    ")\n",
    "display(cf_df)\n",
    "\n",
    "print(classification_report(y_test_sample, y_pred))"
   ]
  },
  {
   "cell_type": "markdown",
   "id": "93877eb0",
   "metadata": {},
   "source": [
    "Looking at the classification report, the class imbalance seems to affecting the predictions since recall is 62% so 38% of actual review is being predicted as 1 whereas the recall for 1 is 88%. A difference of 16%."
   ]
  },
  {
   "cell_type": "markdown",
   "id": "71ffd1e9",
   "metadata": {},
   "source": [
    "Looks like the best parameter for C for `lbfgs` was with C=1, with a test score accuracy of 77.92%."
   ]
  },
  {
   "cell_type": "code",
   "execution_count": null,
   "id": "6cffe06f",
   "metadata": {},
   "outputs": [],
   "source": [
    "scores = []\n",
    "C_range = np.array([.00000001,.0000001,.000001,.00001,.0001,.001,.1,\n",
    "                1,10,100,1000,10000,100000,1000000,10000000,100000000,1000000000])\n",
    "\n",
    "#Do some cross validation\n",
    "for c in C_range:\n",
    "    log = LogisticRegression(solver='liblinear', C=c, random_state=1)\n",
    "    log.fit(X_train_scaled, y_train_sample)\n",
    "    scores.append(log.score(X_valid_scaled, y_valid_sample))\n",
    "    \n",
    "plt.figure()\n",
    "plt.plot(C_range, scores, label=\"Cross Validation Score\",marker='.')\n",
    "plt.legend()\n",
    "plt.xscale(\"log\")\n",
    "plt.xlabel('Regularization Parameter: C')\n",
    "plt.ylabel('Cross Validation Score')\n",
    "plt.grid()\n",
    "plt.show();\n",
    "\n",
    "which_max = np.array(scores).argmax()\n",
    "\n",
    "print(\"The best model has C = \",C_range[which_max])"
   ]
  },
  {
   "cell_type": "code",
   "execution_count": 93,
   "id": "e0ca1d30",
   "metadata": {},
   "outputs": [
    {
     "data": {
      "text/plain": [
       "0.766"
      ]
     },
     "execution_count": 93,
     "metadata": {},
     "output_type": "execute_result"
    }
   ],
   "source": [
    "log2 = LogisticRegression(solver='liblinear', C=0.00001, random_state=1)\n",
    "log2.fit(X_train_scaled, y_train_sample)\n",
    "log2.score(X_test_scaled, y_test_sample)"
   ]
  },
  {
   "cell_type": "code",
   "execution_count": 94,
   "id": "b0915ec2",
   "metadata": {},
   "outputs": [
    {
     "data": {
      "image/png": "[encoded data removed]",
      "text/plain": [
       "<Figure size 1500x500 with 1 Axes>"
      ]
     },
     "metadata": {},
     "output_type": "display_data"
    }
   ],
   "source": [
    "word_counts = pd.DataFrame({\"counts\":log2.coef_[0]}, index=combined_train.columns).sort_values(\"counts\", ascending=False)\n",
    "word_counts.head(30).plot(kind=\"bar\", figsize=(15, 5), legend=False)\n",
    "plt.title(\"Top 30 most predictive features of a good review\")\n",
    "plt.ylabel(\"coeff\")\n",
    "plt.xticks(rotation=45)\n",
    "plt.show()"
   ]
  },
  {
   "cell_type": "code",
   "execution_count": 95,
   "id": "f9a30e64",
   "metadata": {},
   "outputs": [
    {
     "data": {
      "image/png": "[encoded data removed]",
      "text/plain": [
       "<Figure size 1500x500 with 1 Axes>"
      ]
     },
     "metadata": {},
     "output_type": "display_data"
    }
   ],
   "source": [
    "word_counts = pd.DataFrame({\"counts\":log2.coef_[0]}, index=combined_train.columns).sort_values(\"counts\", ascending=True)\n",
    "word_counts.head(30).plot(kind=\"bar\", figsize=(15, 5), legend=False)\n",
    "plt.title(\"Top 30 most predictive features of a bad review\")\n",
    "plt.ylabel(\"Count\")\n",
    "plt.xticks(rotation=45)\n",
    "plt.show()"
   ]
  },
  {
   "cell_type": "markdown",
   "id": "efd7d90e",
   "metadata": {},
   "source": [
    "#### GRIDSEARCH countvectorizer"
   ]
  },
  {
   "cell_type": "code",
   "execution_count": 97,
   "id": "3a5f9db9",
   "metadata": {},
   "outputs": [
    {
     "data": {
      "text/html": [
       "<div>\n",
       "<style scoped>\n",
       "    .dataframe tbody tr th:only-of-type {\n",
       "        vertical-align: middle;\n",
       "    }\n",
       "\n",
       "    .dataframe tbody tr th {\n",
       "        vertical-align: top;\n",
       "    }\n",
       "\n",
       "    .dataframe thead th {\n",
       "        text-align: right;\n",
       "    }\n",
       "</style>\n",
       "<table border=\"1\" class=\"dataframe\">\n",
       "  <thead>\n",
       "    <tr style=\"text-align: right;\">\n",
       "      <th></th>\n",
       "      <th>product_title</th>\n",
       "      <th>star_rating</th>\n",
       "      <th>helpful_votes</th>\n",
       "      <th>verified_purchase</th>\n",
       "      <th>review_headline</th>\n",
       "      <th>review_body</th>\n",
       "      <th>year</th>\n",
       "      <th>month</th>\n",
       "    </tr>\n",
       "  </thead>\n",
       "  <tbody>\n",
       "    <tr>\n",
       "      <th>0</th>\n",
       "      <td>Kickers Men's Jojo Lace-Up Sneaker</td>\n",
       "      <td>1</td>\n",
       "      <td>0</td>\n",
       "      <td>1</td>\n",
       "      <td>amazing and so nice one i like kickers but thi...</td>\n",
       "      <td>amazing and so nice one br   i like kickers bu...</td>\n",
       "      <td>2014</td>\n",
       "      <td>8</td>\n",
       "    </tr>\n",
       "    <tr>\n",
       "      <th>1</th>\n",
       "      <td>Madden Men's M-Gamer Boat Shoe</td>\n",
       "      <td>0</td>\n",
       "      <td>1</td>\n",
       "      <td>1</td>\n",
       "      <td>nice shoes</td>\n",
       "      <td>i always buy steve madden  always fits perfect...</td>\n",
       "      <td>2013</td>\n",
       "      <td>10</td>\n",
       "    </tr>\n",
       "    <tr>\n",
       "      <th>2</th>\n",
       "      <td>Teva Women's Kiru Outdoor Clog</td>\n",
       "      <td>1</td>\n",
       "      <td>0</td>\n",
       "      <td>1</td>\n",
       "      <td>my favorite shoes</td>\n",
       "      <td>i love the deep moss green color as it matches...</td>\n",
       "      <td>2014</td>\n",
       "      <td>1</td>\n",
       "    </tr>\n",
       "    <tr>\n",
       "      <th>3</th>\n",
       "      <td>Lamo Men's Moc Moccasin</td>\n",
       "      <td>0</td>\n",
       "      <td>10</td>\n",
       "      <td>1</td>\n",
       "      <td>quality not so sure</td>\n",
       "      <td>at first they were great  comfortable  soft  k...</td>\n",
       "      <td>2011</td>\n",
       "      <td>3</td>\n",
       "    </tr>\n",
       "    <tr>\n",
       "      <th>4</th>\n",
       "      <td>ECCO Men's Track IV Top Stitch High (Rust Leat...</td>\n",
       "      <td>1</td>\n",
       "      <td>0</td>\n",
       "      <td>1</td>\n",
       "      <td>outstanding</td>\n",
       "      <td>very comfortable right out of the box   good s...</td>\n",
       "      <td>2008</td>\n",
       "      <td>10</td>\n",
       "    </tr>\n",
       "    <tr>\n",
       "      <th>...</th>\n",
       "      <td>...</td>\n",
       "      <td>...</td>\n",
       "      <td>...</td>\n",
       "      <td>...</td>\n",
       "      <td>...</td>\n",
       "      <td>...</td>\n",
       "      <td>...</td>\n",
       "      <td>...</td>\n",
       "    </tr>\n",
       "    <tr>\n",
       "      <th>49995</th>\n",
       "      <td>Easy Spirit Women's Traveltime Mule</td>\n",
       "      <td>1</td>\n",
       "      <td>4</td>\n",
       "      <td>0</td>\n",
       "      <td>easy spirit mule</td>\n",
       "      <td>love my easy spirit mules  so comfortable and ...</td>\n",
       "      <td>2011</td>\n",
       "      <td>9</td>\n",
       "    </tr>\n",
       "    <tr>\n",
       "      <th>49996</th>\n",
       "      <td>Women's Clarks, Pause Majesty Ankle Boot</td>\n",
       "      <td>0</td>\n",
       "      <td>2</td>\n",
       "      <td>1</td>\n",
       "      <td>color lies</td>\n",
       "      <td>this is not the color that i received  the col...</td>\n",
       "      <td>2014</td>\n",
       "      <td>8</td>\n",
       "    </tr>\n",
       "    <tr>\n",
       "      <th>49997</th>\n",
       "      <td>adidas Men's Kanadia Trail 2 Trail Running Shoe</td>\n",
       "      <td>0</td>\n",
       "      <td>1</td>\n",
       "      <td>1</td>\n",
       "      <td>great shoes  but not as good as the 1st gen ka...</td>\n",
       "      <td>i love the kanadias by adidas  i have owned th...</td>\n",
       "      <td>2010</td>\n",
       "      <td>7</td>\n",
       "    </tr>\n",
       "    <tr>\n",
       "      <th>49998</th>\n",
       "      <td>Vasque Women's Inhaler Hiking Boot</td>\n",
       "      <td>1</td>\n",
       "      <td>2</td>\n",
       "      <td>1</td>\n",
       "      <td>great boots but order a half size up</td>\n",
       "      <td>had to exchange for a half size up from my usu...</td>\n",
       "      <td>2015</td>\n",
       "      <td>7</td>\n",
       "    </tr>\n",
       "    <tr>\n",
       "      <th>49999</th>\n",
       "      <td>Taryn Rose Women's Oma Dress Sandal</td>\n",
       "      <td>1</td>\n",
       "      <td>0</td>\n",
       "      <td>1</td>\n",
       "      <td>wonderful shoes   i love them</td>\n",
       "      <td>fit like a glove   so soft and straps fall exa...</td>\n",
       "      <td>2014</td>\n",
       "      <td>7</td>\n",
       "    </tr>\n",
       "  </tbody>\n",
       "</table>\n",
       "<p>50000 rows × 8 columns</p>\n",
       "</div>"
      ],
      "text/plain": [
       "                                           product_title  star_rating  \\\n",
       "0                     Kickers Men's Jojo Lace-Up Sneaker            1   \n",
       "1                         Madden Men's M-Gamer Boat Shoe            0   \n",
       "2                         Teva Women's Kiru Outdoor Clog            1   \n",
       "3                                Lamo Men's Moc Moccasin            0   \n",
       "4      ECCO Men's Track IV Top Stitch High (Rust Leat...            1   \n",
       "...                                                  ...          ...   \n",
       "49995                Easy Spirit Women's Traveltime Mule            1   \n",
       "49996           Women's Clarks, Pause Majesty Ankle Boot            0   \n",
       "49997    adidas Men's Kanadia Trail 2 Trail Running Shoe            0   \n",
       "49998                 Vasque Women's Inhaler Hiking Boot            1   \n",
       "49999                Taryn Rose Women's Oma Dress Sandal            1   \n",
       "\n",
       "       helpful_votes  verified_purchase  \\\n",
       "0                  0                  1   \n",
       "1                  1                  1   \n",
       "2                  0                  1   \n",
       "3                 10                  1   \n",
       "4                  0                  1   \n",
       "...              ...                ...   \n",
       "49995              4                  0   \n",
       "49996              2                  1   \n",
       "49997              1                  1   \n",
       "49998              2                  1   \n",
       "49999              0                  1   \n",
       "\n",
       "                                         review_headline  \\\n",
       "0      amazing and so nice one i like kickers but thi...   \n",
       "1                                             nice shoes   \n",
       "2                                      my favorite shoes   \n",
       "3                                    quality not so sure   \n",
       "4                                            outstanding   \n",
       "...                                                  ...   \n",
       "49995                                   easy spirit mule   \n",
       "49996                                         color lies   \n",
       "49997  great shoes  but not as good as the 1st gen ka...   \n",
       "49998               great boots but order a half size up   \n",
       "49999                     wonderful shoes   i love them    \n",
       "\n",
       "                                             review_body  year  month  \n",
       "0      amazing and so nice one br   i like kickers bu...  2014      8  \n",
       "1      i always buy steve madden  always fits perfect...  2013     10  \n",
       "2      i love the deep moss green color as it matches...  2014      1  \n",
       "3      at first they were great  comfortable  soft  k...  2011      3  \n",
       "4      very comfortable right out of the box   good s...  2008     10  \n",
       "...                                                  ...   ...    ...  \n",
       "49995  love my easy spirit mules  so comfortable and ...  2011      9  \n",
       "49996  this is not the color that i received  the col...  2014      8  \n",
       "49997  i love the kanadias by adidas  i have owned th...  2010      7  \n",
       "49998  had to exchange for a half size up from my usu...  2015      7  \n",
       "49999  fit like a glove   so soft and straps fall exa...  2014      7  \n",
       "\n",
       "[50000 rows x 8 columns]"
      ]
     },
     "execution_count": 97,
     "metadata": {},
     "output_type": "execute_result"
    }
   ],
   "source": [
    "sampled_df"
   ]
  },
  {
   "cell_type": "code",
   "execution_count": null,
   "id": "e758f3c8",
   "metadata": {
    "scrolled": true
   },
   "outputs": [
    {
     "name": "stdout",
     "output_type": "stream",
     "text": [
      "Fitting 5 folds for each of 30 candidates, totalling 150 fits\n",
      "[CV] END model=LogisticRegression(max_iter=10000, random_state=1, solver='saga'), model__C=0.001, model__penalty=l1, vectorizer__min_df=10; total time=  24.4s\n",
      "[CV] END model=LogisticRegression(max_iter=10000, random_state=1, solver='saga'), model__C=0.001, model__penalty=l1, vectorizer__min_df=10; total time=  23.4s\n",
      "[CV] END model=LogisticRegression(max_iter=10000, random_state=1, solver='saga'), model__C=0.001, model__penalty=l1, vectorizer__min_df=10; total time=  24.1s\n",
      "[CV] END model=LogisticRegression(max_iter=10000, random_state=1, solver='saga'), model__C=0.001, model__penalty=l1, vectorizer__min_df=10; total time=  23.8s\n",
      "[CV] END model=LogisticRegression(max_iter=10000, random_state=1, solver='saga'), model__C=0.001, model__penalty=l1, vectorizer__min_df=10; total time=  15.1s\n",
      "[CV] END model=LogisticRegression(max_iter=10000, random_state=1, solver='saga'), model__C=0.001, model__penalty=l1, vectorizer__min_df=50; total time=  22.6s\n",
      "[CV] END model=LogisticRegression(max_iter=10000, random_state=1, solver='saga'), model__C=0.001, model__penalty=l1, vectorizer__min_df=50; total time=  21.6s\n",
      "[CV] END model=LogisticRegression(max_iter=10000, random_state=1, solver='saga'), model__C=0.001, model__penalty=l1, vectorizer__min_df=50; total time=  22.3s\n",
      "[CV] END model=LogisticRegression(max_iter=10000, random_state=1, solver='saga'), model__C=0.001, model__penalty=l1, vectorizer__min_df=50; total time=  21.9s\n",
      "[CV] END model=LogisticRegression(max_iter=10000, random_state=1, solver='saga'), model__C=0.001, model__penalty=l1, vectorizer__min_df=50; total time=  13.8s\n",
      "[CV] END model=LogisticRegression(max_iter=10000, random_state=1, solver='saga'), model__C=0.001, model__penalty=l1, vectorizer__min_df=100; total time=  21.7s\n",
      "[CV] END model=LogisticRegression(max_iter=10000, random_state=1, solver='saga'), model__C=0.001, model__penalty=l1, vectorizer__min_df=100; total time=  20.8s\n",
      "[CV] END model=LogisticRegression(max_iter=10000, random_state=1, solver='saga'), model__C=0.001, model__penalty=l1, vectorizer__min_df=100; total time=  21.6s\n",
      "[CV] END model=LogisticRegression(max_iter=10000, random_state=1, solver='saga'), model__C=0.001, model__penalty=l1, vectorizer__min_df=100; total time=  21.5s\n",
      "[CV] END model=LogisticRegression(max_iter=10000, random_state=1, solver='saga'), model__C=0.001, model__penalty=l1, vectorizer__min_df=100; total time=  13.3s\n",
      "[CV] END model=LogisticRegression(max_iter=10000, random_state=1, solver='saga'), model__C=0.001, model__penalty=l2, vectorizer__min_df=10; total time=   5.8s\n",
      "[CV] END model=LogisticRegression(max_iter=10000, random_state=1, solver='saga'), model__C=0.001, model__penalty=l2, vectorizer__min_df=10; total time=   5.5s\n",
      "[CV] END model=LogisticRegression(max_iter=10000, random_state=1, solver='saga'), model__C=0.001, model__penalty=l2, vectorizer__min_df=10; total time=   5.1s\n",
      "[CV] END model=LogisticRegression(max_iter=10000, random_state=1, solver='saga'), model__C=0.001, model__penalty=l2, vectorizer__min_df=10; total time=   5.3s\n",
      "[CV] END model=LogisticRegression(max_iter=10000, random_state=1, solver='saga'), model__C=0.001, model__penalty=l2, vectorizer__min_df=10; total time=   6.3s\n",
      "[CV] END model=LogisticRegression(max_iter=10000, random_state=1, solver='saga'), model__C=0.001, model__penalty=l2, vectorizer__min_df=50; total time=   5.4s\n",
      "[CV] END model=LogisticRegression(max_iter=10000, random_state=1, solver='saga'), model__C=0.001, model__penalty=l2, vectorizer__min_df=50; total time=   5.3s\n",
      "[CV] END model=LogisticRegression(max_iter=10000, random_state=1, solver='saga'), model__C=0.001, model__penalty=l2, vectorizer__min_df=50; total time=   4.9s\n",
      "[CV] END model=LogisticRegression(max_iter=10000, random_state=1, solver='saga'), model__C=0.001, model__penalty=l2, vectorizer__min_df=50; total time=   5.1s\n",
      "[CV] END model=LogisticRegression(max_iter=10000, random_state=1, solver='saga'), model__C=0.001, model__penalty=l2, vectorizer__min_df=50; total time=   6.0s\n",
      "[CV] END model=LogisticRegression(max_iter=10000, random_state=1, solver='saga'), model__C=0.001, model__penalty=l2, vectorizer__min_df=100; total time=   5.3s\n",
      "[CV] END model=LogisticRegression(max_iter=10000, random_state=1, solver='saga'), model__C=0.001, model__penalty=l2, vectorizer__min_df=100; total time=   5.1s\n",
      "[CV] END model=LogisticRegression(max_iter=10000, random_state=1, solver='saga'), model__C=0.001, model__penalty=l2, vectorizer__min_df=100; total time=   4.8s\n",
      "[CV] END model=LogisticRegression(max_iter=10000, random_state=1, solver='saga'), model__C=0.001, model__penalty=l2, vectorizer__min_df=100; total time=   4.9s\n",
      "[CV] END model=LogisticRegression(max_iter=10000, random_state=1, solver='saga'), model__C=0.001, model__penalty=l2, vectorizer__min_df=100; total time=   5.8s\n",
      "[CV] END model=LogisticRegression(max_iter=10000, random_state=1, solver='saga'), model__C=0.1, model__penalty=l1, vectorizer__min_df=10; total time= 2.0min\n",
      "[CV] END model=LogisticRegression(max_iter=10000, random_state=1, solver='saga'), model__C=0.1, model__penalty=l1, vectorizer__min_df=10; total time= 2.6min\n",
      "[CV] END model=LogisticRegression(max_iter=10000, random_state=1, solver='saga'), model__C=0.1, model__penalty=l1, vectorizer__min_df=10; total time= 1.8min\n",
      "[CV] END model=LogisticRegression(max_iter=10000, random_state=1, solver='saga'), model__C=0.1, model__penalty=l1, vectorizer__min_df=10; total time= 2.1min\n",
      "[CV] END model=LogisticRegression(max_iter=10000, random_state=1, solver='saga'), model__C=0.1, model__penalty=l1, vectorizer__min_df=10; total time= 1.7min\n",
      "[CV] END model=LogisticRegression(max_iter=10000, random_state=1, solver='saga'), model__C=0.1, model__penalty=l1, vectorizer__min_df=50; total time= 1.9min\n",
      "[CV] END model=LogisticRegression(max_iter=10000, random_state=1, solver='saga'), model__C=0.1, model__penalty=l1, vectorizer__min_df=50; total time= 2.5min\n",
      "[CV] END model=LogisticRegression(max_iter=10000, random_state=1, solver='saga'), model__C=0.1, model__penalty=l1, vectorizer__min_df=50; total time= 1.8min\n",
      "[CV] END model=LogisticRegression(max_iter=10000, random_state=1, solver='saga'), model__C=0.1, model__penalty=l1, vectorizer__min_df=50; total time= 2.0min\n",
      "[CV] END model=LogisticRegression(max_iter=10000, random_state=1, solver='saga'), model__C=0.1, model__penalty=l1, vectorizer__min_df=50; total time= 1.6min\n",
      "[CV] END model=LogisticRegression(max_iter=10000, random_state=1, solver='saga'), model__C=0.1, model__penalty=l1, vectorizer__min_df=100; total time= 1.9min\n",
      "[CV] END model=LogisticRegression(max_iter=10000, random_state=1, solver='saga'), model__C=0.1, model__penalty=l1, vectorizer__min_df=100; total time= 2.1min\n",
      "[CV] END model=LogisticRegression(max_iter=10000, random_state=1, solver='saga'), model__C=0.1, model__penalty=l1, vectorizer__min_df=100; total time= 1.5min\n",
      "[CV] END model=LogisticRegression(max_iter=10000, random_state=1, solver='saga'), model__C=0.1, model__penalty=l1, vectorizer__min_df=100; total time= 1.7min\n",
      "[CV] END model=LogisticRegression(max_iter=10000, random_state=1, solver='saga'), model__C=0.1, model__penalty=l1, vectorizer__min_df=100; total time= 1.4min\n",
      "[CV] END model=LogisticRegression(max_iter=10000, random_state=1, solver='saga'), model__C=0.1, model__penalty=l2, vectorizer__min_df=10; total time=  23.0s\n",
      "[CV] END model=LogisticRegression(max_iter=10000, random_state=1, solver='saga'), model__C=0.1, model__penalty=l2, vectorizer__min_df=10; total time=  24.5s\n",
      "[CV] END model=LogisticRegression(max_iter=10000, random_state=1, solver='saga'), model__C=0.1, model__penalty=l2, vectorizer__min_df=10; total time=  23.1s\n",
      "[CV] END model=LogisticRegression(max_iter=10000, random_state=1, solver='saga'), model__C=0.1, model__penalty=l2, vectorizer__min_df=10; total time=  23.2s\n",
      "[CV] END model=LogisticRegression(max_iter=10000, random_state=1, solver='saga'), model__C=0.1, model__penalty=l2, vectorizer__min_df=10; total time=  15.5s\n",
      "[CV] END model=LogisticRegression(max_iter=10000, random_state=1, solver='saga'), model__C=0.1, model__penalty=l2, vectorizer__min_df=50; total time=  20.0s\n",
      "[CV] END model=LogisticRegression(max_iter=10000, random_state=1, solver='saga'), model__C=0.1, model__penalty=l2, vectorizer__min_df=50; total time=  23.8s\n",
      "[CV] END model=LogisticRegression(max_iter=10000, random_state=1, solver='saga'), model__C=0.1, model__penalty=l2, vectorizer__min_df=50; total time=  22.4s\n",
      "[CV] END model=LogisticRegression(max_iter=10000, random_state=1, solver='saga'), model__C=0.1, model__penalty=l2, vectorizer__min_df=50; total time=  21.6s\n",
      "[CV] END model=LogisticRegression(max_iter=10000, random_state=1, solver='saga'), model__C=0.1, model__penalty=l2, vectorizer__min_df=50; total time=  14.4s\n",
      "[CV] END model=LogisticRegression(max_iter=10000, random_state=1, solver='saga'), model__C=0.1, model__penalty=l2, vectorizer__min_df=100; total time=  20.1s\n",
      "[CV] END model=LogisticRegression(max_iter=10000, random_state=1, solver='saga'), model__C=0.1, model__penalty=l2, vectorizer__min_df=100; total time=  20.2s\n",
      "[CV] END model=LogisticRegression(max_iter=10000, random_state=1, solver='saga'), model__C=0.1, model__penalty=l2, vectorizer__min_df=100; total time=  17.5s\n",
      "[CV] END model=LogisticRegression(max_iter=10000, random_state=1, solver='saga'), model__C=0.1, model__penalty=l2, vectorizer__min_df=100; total time=  18.4s\n",
      "[CV] END model=LogisticRegression(max_iter=10000, random_state=1, solver='saga'), model__C=0.1, model__penalty=l2, vectorizer__min_df=100; total time=  12.5s\n",
      "[CV] END model=LogisticRegression(max_iter=10000, random_state=1, solver='saga'), model__C=1, model__penalty=l1, vectorizer__min_df=10; total time=17.5min\n",
      "[CV] END model=LogisticRegression(max_iter=10000, random_state=1, solver='saga'), model__C=1, model__penalty=l1, vectorizer__min_df=10; total time=19.1min\n",
      "[CV] END model=LogisticRegression(max_iter=10000, random_state=1, solver='saga'), model__C=1, model__penalty=l1, vectorizer__min_df=10; total time=18.6min\n",
      "[CV] END model=LogisticRegression(max_iter=10000, random_state=1, solver='saga'), model__C=1, model__penalty=l1, vectorizer__min_df=10; total time=18.0min\n",
      "[CV] END model=LogisticRegression(max_iter=10000, random_state=1, solver='saga'), model__C=1, model__penalty=l1, vectorizer__min_df=10; total time=14.2min\n",
      "[CV] END model=LogisticRegression(max_iter=10000, random_state=1, solver='saga'), model__C=1, model__penalty=l1, vectorizer__min_df=50; total time= 8.1min\n",
      "[CV] END model=LogisticRegression(max_iter=10000, random_state=1, solver='saga'), model__C=1, model__penalty=l1, vectorizer__min_df=50; total time= 9.3min\n"
     ]
    }
   ],
   "source": [
    "# assigning Reviewer_Score as target variable and everything else as X \n",
    "X_sample = sampled_df.drop(columns=['star_rating'])\n",
    "y_sample = sampled_df['star_rating']\n",
    "\n",
    "# splitting the data \n",
    "X_remainder_sample, X_test_sample, y_remainder_sample, y_test_sample = train_test_split(X_sample, y_sample, test_size=0.2, random_state=1, stratify=y_sample)\n",
    "\n",
    "estimators = [\n",
    "    ('vectorizer', CountVectorizer()),\n",
    "#     ('scaler', StandardScaler()),\n",
    "#     ('dim_reducer', PCA()), # Cannot use TSNE as it doesn't have a .transform method\n",
    "    ('model', LogisticRegression())\n",
    "]\n",
    "\n",
    "pipe = Pipeline(estimators)\n",
    "\n",
    "param_grid = {\n",
    "    'vectorizer__min_df': [10, 50, 100],\n",
    "#     'vectorizer__max_df': [0.5, 0.75, 1.0], \n",
    "#     'scaler': [StandardScaler(with_mean=False), MaxAbsScaler(), None],\n",
    "#     'dim_reducer': [PCA(), KernelPCA()],\n",
    "#     'dim_reducer__n_components': [1,100,1000],\n",
    "    'model': [LogisticRegression(solver='saga', random_state=1, max_iter=10000)],\n",
    "    'model__C': [0.001, 0.1, 1, 10, 100],\n",
    "    'model__penalty': ['l1', 'l2'],\n",
    "}\n",
    "\n",
    "grid_logistic = GridSearchCV(pipe, param_grid, cv=5, verbose=2)\n",
    "fittedgrid_logistic = grid_logistic.fit(X_remainder_sample['review_body'], y_remainder_sample)"
   ]
  },
  {
   "cell_type": "code",
   "execution_count": null,
   "id": "d7c6abf5",
   "metadata": {},
   "outputs": [],
   "source": [
    "grid_logistic.best_score_"
   ]
  },
  {
   "cell_type": "code",
   "execution_count": null,
   "id": "1b429d5b",
   "metadata": {},
   "outputs": [],
   "source": [
    "grid_logistic.best_params_"
   ]
  },
  {
   "cell_type": "code",
   "execution_count": null,
   "id": "bad97b90",
   "metadata": {},
   "outputs": [],
   "source": []
  }
 ],
 "metadata": {
  "environment": {
   "kernel": "python3",
   "name": "tf2-gpu.2-11.m108",
   "type": "gcloud",
   "uri": "gcr.io/deeplearning-platform-release/tf2-gpu.2-11:m108"
  },
  "kernelspec": {
   "display_name": "Python 3 (ipykernel)",
   "language": "python",
   "name": "python3"
  },
  "language_info": {
   "codemirror_mode": {
    "name": "ipython",
    "version": 3
   },
   "file_extension": ".py",
   "mimetype": "text/x-python",
   "name": "python",
   "nbconvert_exporter": "python",
   "pygments_lexer": "ipython3",
   "version": "3.10.10"
  }
 },
 "nbformat": 4,
 "nbformat_minor": 5
}
